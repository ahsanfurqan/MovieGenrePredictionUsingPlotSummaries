{
  "nbformat": 4,
  "nbformat_minor": 0,
  "metadata": {
    "kernelspec": {
      "display_name": "Python 3",
      "language": "python",
      "name": "python3"
    },
    "language_info": {
      "codemirror_mode": {
        "name": "ipython",
        "version": 3
      },
      "file_extension": ".py",
      "mimetype": "text/x-python",
      "name": "python",
      "nbconvert_exporter": "python",
      "pygments_lexer": "ipython3",
      "version": "3.8.5"
    },
    "colab": {
      "name": "MovieGenrePredictorUsingPlotSummariesExp2.ipynb",
      "provenance": [],
      "collapsed_sections": [
        "1OMqcbFvM3LN"
      ]
    },
    "accelerator": "GPU"
  },
  "cells": [
    {
      "cell_type": "markdown",
      "metadata": {
        "id": "1OMqcbFvM3LN"
      },
      "source": [
        "# Movie Genre Predictor"
      ]
    },
    {
      "cell_type": "markdown",
      "metadata": {
        "id": "6Om_yV9fM3LR"
      },
      "source": [
        "Importing Libraries"
      ]
    },
    {
      "cell_type": "code",
      "metadata": {
        "id": "v_HYqf1QM3LS"
      },
      "source": [
        "import tensorflow as tf\n",
        "import pandas as pd\n",
        "import numpy as np\n",
        "import nltk\n",
        "# from nltk.tokenize import word_tokenize \n",
        "from nltk.stem.porter import PorterStemmer\n",
        "from nltk.stem import WordNetLemmatizer\n",
        "from nltk.corpus import stopwords\n",
        "import re\n",
        "import matplotlib.pyplot as plt\n",
        "from sklearn.model_selection import train_test_split\n",
        "from tensorflow.keras.preprocessing.text import Tokenizer\n",
        "from tensorflow.keras.preprocessing.sequence import pad_sequences\n",
        "from tensorflow.keras.utils import to_categorical\n",
        "from tensorflow.keras.layers import LSTM,Dropout,Activation,Bidirectional,Embedding,Dense,Flatten,GlobalMaxPooling1D\n",
        "from tensorflow.keras.models import Sequential\n",
        "from tensorflow.keras import optimizers\n",
        "from tensorflow.keras.callbacks import ModelCheckpoint\n",
        "import os\n",
        "from tensorflow.keras.callbacks import EarlyStopping\n",
        "from keras.regularizers import l2"
      ],
      "execution_count": 64,
      "outputs": []
    },
    {
      "cell_type": "markdown",
      "metadata": {
        "id": "OqiJIFlsM3LV"
      },
      "source": [
        "Tensorflow Version is 2.3"
      ]
    },
    {
      "cell_type": "code",
      "metadata": {
        "colab": {
          "base_uri": "https://localhost:8080/",
          "height": 54
        },
        "id": "SL8W81JJM3LW",
        "outputId": "2ec4e600-7e7f-4e4c-b6c6-42715a9c25d2"
      },
      "source": [
        "from google.colab import drive\n",
        "drive.mount('/content/gdrive')\n",
        "tf.__version__"
      ],
      "execution_count": 65,
      "outputs": [
        {
          "output_type": "stream",
          "text": [
            "Drive already mounted at /content/gdrive; to attempt to forcibly remount, call drive.mount(\"/content/gdrive\", force_remount=True).\n"
          ],
          "name": "stdout"
        },
        {
          "output_type": "execute_result",
          "data": {
            "application/vnd.google.colaboratory.intrinsic+json": {
              "type": "string"
            },
            "text/plain": [
              "'2.5.0'"
            ]
          },
          "metadata": {
            "tags": []
          },
          "execution_count": 65
        }
      ]
    },
    {
      "cell_type": "markdown",
      "metadata": {
        "id": "j1RIpmKDM3Lc"
      },
      "source": [
        "Now Reading the data in CSV format through Pandas"
      ]
    },
    {
      "cell_type": "code",
      "metadata": {
        "colab": {
          "base_uri": "https://localhost:8080/",
          "height": 310
        },
        "id": "UJzfNZLnM3Le",
        "outputId": "c4762e60-9020-4a52-ddcb-bc290a9036c4"
      },
      "source": [
        "movies=pd.read_csv('/content/gdrive/MyDrive/wiki_movie_plots_deduped.csv')\n",
        "movies.head()"
      ],
      "execution_count": 66,
      "outputs": [
        {
          "output_type": "execute_result",
          "data": {
            "text/html": [
              "<div>\n",
              "<style scoped>\n",
              "    .dataframe tbody tr th:only-of-type {\n",
              "        vertical-align: middle;\n",
              "    }\n",
              "\n",
              "    .dataframe tbody tr th {\n",
              "        vertical-align: top;\n",
              "    }\n",
              "\n",
              "    .dataframe thead th {\n",
              "        text-align: right;\n",
              "    }\n",
              "</style>\n",
              "<table border=\"1\" class=\"dataframe\">\n",
              "  <thead>\n",
              "    <tr style=\"text-align: right;\">\n",
              "      <th></th>\n",
              "      <th>Release Year</th>\n",
              "      <th>Title</th>\n",
              "      <th>Origin/Ethnicity</th>\n",
              "      <th>Director</th>\n",
              "      <th>Cast</th>\n",
              "      <th>Genre</th>\n",
              "      <th>Wiki Page</th>\n",
              "      <th>Plot</th>\n",
              "    </tr>\n",
              "  </thead>\n",
              "  <tbody>\n",
              "    <tr>\n",
              "      <th>0</th>\n",
              "      <td>1901</td>\n",
              "      <td>Kansas Saloon Smashers</td>\n",
              "      <td>American</td>\n",
              "      <td>Unknown</td>\n",
              "      <td>NaN</td>\n",
              "      <td>unknown</td>\n",
              "      <td>https://en.wikipedia.org/wiki/Kansas_Saloon_Sm...</td>\n",
              "      <td>A bartender is working at a saloon, serving dr...</td>\n",
              "    </tr>\n",
              "    <tr>\n",
              "      <th>1</th>\n",
              "      <td>1901</td>\n",
              "      <td>Love by the Light of the Moon</td>\n",
              "      <td>American</td>\n",
              "      <td>Unknown</td>\n",
              "      <td>NaN</td>\n",
              "      <td>unknown</td>\n",
              "      <td>https://en.wikipedia.org/wiki/Love_by_the_Ligh...</td>\n",
              "      <td>The moon, painted with a smiling face hangs ov...</td>\n",
              "    </tr>\n",
              "    <tr>\n",
              "      <th>2</th>\n",
              "      <td>1901</td>\n",
              "      <td>The Martyred Presidents</td>\n",
              "      <td>American</td>\n",
              "      <td>Unknown</td>\n",
              "      <td>NaN</td>\n",
              "      <td>unknown</td>\n",
              "      <td>https://en.wikipedia.org/wiki/The_Martyred_Pre...</td>\n",
              "      <td>The film, just over a minute long, is composed...</td>\n",
              "    </tr>\n",
              "    <tr>\n",
              "      <th>3</th>\n",
              "      <td>1901</td>\n",
              "      <td>Terrible Teddy, the Grizzly King</td>\n",
              "      <td>American</td>\n",
              "      <td>Unknown</td>\n",
              "      <td>NaN</td>\n",
              "      <td>unknown</td>\n",
              "      <td>https://en.wikipedia.org/wiki/Terrible_Teddy,_...</td>\n",
              "      <td>Lasting just 61 seconds and consisting of two ...</td>\n",
              "    </tr>\n",
              "    <tr>\n",
              "      <th>4</th>\n",
              "      <td>1902</td>\n",
              "      <td>Jack and the Beanstalk</td>\n",
              "      <td>American</td>\n",
              "      <td>George S. Fleming, Edwin S. Porter</td>\n",
              "      <td>NaN</td>\n",
              "      <td>unknown</td>\n",
              "      <td>https://en.wikipedia.org/wiki/Jack_and_the_Bea...</td>\n",
              "      <td>The earliest known adaptation of the classic f...</td>\n",
              "    </tr>\n",
              "  </tbody>\n",
              "</table>\n",
              "</div>"
            ],
            "text/plain": [
              "   Release Year  ...                                               Plot\n",
              "0          1901  ...  A bartender is working at a saloon, serving dr...\n",
              "1          1901  ...  The moon, painted with a smiling face hangs ov...\n",
              "2          1901  ...  The film, just over a minute long, is composed...\n",
              "3          1901  ...  Lasting just 61 seconds and consisting of two ...\n",
              "4          1902  ...  The earliest known adaptation of the classic f...\n",
              "\n",
              "[5 rows x 8 columns]"
            ]
          },
          "metadata": {
            "tags": []
          },
          "execution_count": 66
        }
      ]
    },
    {
      "cell_type": "markdown",
      "metadata": {
        "id": "ihNa-0RxM3Le"
      },
      "source": [
        "# Organizing Genre colunm for target Values\n"
      ]
    },
    {
      "cell_type": "markdown",
      "metadata": {
        "id": "4oV7-kmiM3Le"
      },
      "source": [
        "First of all removing ambugity like(bio-pic,biography or biopic have same name)"
      ]
    },
    {
      "cell_type": "code",
      "metadata": {
        "id": "B0z9W-dZM3Lf"
      },
      "source": [
        "movies['GenreCorrected'] =movies['Genre']\n",
        "movies['GenreCorrected']=movies['GenreCorrected'].str.strip()\n",
        "movies['GenreCorrected']=movies['GenreCorrected'].str.replace(' - ', '|')\n",
        "movies['GenreCorrected']=movies['GenreCorrected'].str.replace(' / ', '|')\n",
        "movies['GenreCorrected']=movies['GenreCorrected'].str.replace('/', '|')\n",
        "movies['GenreCorrected']=movies['GenreCorrected'].str.replace(' & ', '|')\n",
        "movies['GenreCorrected']=movies['GenreCorrected'].str.replace(', ', '|')\n",
        "movies['GenreCorrected']=movies['GenreCorrected'].str.replace('; ', '|')\n",
        "movies['GenreCorrected']=movies['GenreCorrected'].str.replace('bio-pic', 'biography')\n",
        "movies['GenreCorrected']=movies['GenreCorrected'].str.replace('biopic', 'biography')\n",
        "movies['GenreCorrected']=movies['GenreCorrected'].str.replace('biographical', 'biography')\n",
        "movies['GenreCorrected']=movies['GenreCorrected'].str.replace('biodrama', 'biography')\n",
        "movies['GenreCorrected']=movies['GenreCorrected'].str.replace('bio-drama', 'biography')\n",
        "movies['GenreCorrected']=movies['GenreCorrected'].str.replace('biographic', 'biography')\n",
        "movies['GenreCorrected']=movies['GenreCorrected'].str.replace(' \\(film genre\\)', '')\n",
        "movies['GenreCorrected']=movies['GenreCorrected'].str.replace('animated','animation')\n",
        "movies['GenreCorrected']=movies['GenreCorrected'].str.replace('anime','animation')\n",
        "movies['GenreCorrected']=movies['GenreCorrected'].str.replace('children\\'s','children')\n",
        "movies['GenreCorrected']=movies['GenreCorrected'].str.replace('comedey','comedy')\n",
        "movies['GenreCorrected']=movies['GenreCorrected'].str.replace('\\[not in citation given\\]','')\n",
        "movies['GenreCorrected']=movies['GenreCorrected'].str.replace(' set 4,000 years ago in the canadian arctic','')\n",
        "movies['GenreCorrected']=movies['GenreCorrected'].str.replace('historical','history')\n",
        "movies['GenreCorrected']=movies['GenreCorrected'].str.replace('romantic','romance')\n",
        "movies['GenreCorrected']=movies['GenreCorrected'].str.replace('3-d','animation')\n",
        "movies['GenreCorrected']=movies['GenreCorrected'].str.replace('3d','animation')\n",
        "movies['GenreCorrected']=movies['GenreCorrected'].str.replace('viacom 18 motion pictures','')\n",
        "movies['GenreCorrected']=movies['GenreCorrected'].str.replace('sci-fi','science_fiction')\n",
        "movies['GenreCorrected']=movies['GenreCorrected'].str.replace('ttriller','thriller')\n",
        "movies['GenreCorrected']=movies['GenreCorrected'].str.replace('.','')\n",
        "movies['GenreCorrected']=movies['GenreCorrected'].str.replace('based on radio serial','')\n",
        "movies['GenreCorrected']=movies['GenreCorrected'].str.replace(' on the early years of hitler','')\n",
        "movies['GenreCorrected']=movies['GenreCorrected'].str.replace('sci fi','science_fiction')\n",
        "movies['GenreCorrected']=movies['GenreCorrected'].str.replace('science fiction','science_fiction')\n",
        "movies['GenreCorrected']=movies['GenreCorrected'].str.replace(' (30min)','')\n",
        "movies['GenreCorrected']=movies['GenreCorrected'].str.replace('16 mm film','short')\n",
        "movies['GenreCorrected']=movies['GenreCorrected'].str.replace('\\[140\\]','drama')\n",
        "movies['GenreCorrected']=movies['GenreCorrected'].str.replace('\\[144\\]','')\n",
        "movies['GenreCorrected']=movies['GenreCorrected'].str.replace(' for ','')\n",
        "movies['GenreCorrected']=movies['GenreCorrected'].str.replace('adventures','adventure')\n",
        "movies['GenreCorrected']=movies['GenreCorrected'].str.replace('kung fu','martial_arts')\n",
        "movies['GenreCorrected']=movies['GenreCorrected'].str.replace('kung-fu','martial_arts')\n",
        "movies['GenreCorrected']=movies['GenreCorrected'].str.replace('martial arts','martial_arts')\n",
        "movies['GenreCorrected']=movies['GenreCorrected'].str.replace('world war ii','war')\n",
        "movies['GenreCorrected']=movies['GenreCorrected'].str.replace('world war i','war')\n",
        "movies['GenreCorrected']=movies['GenreCorrected'].str.replace('biography about montreal canadiens star|maurice richard','biography')\n",
        "movies['GenreCorrected']=movies['GenreCorrected'].str.replace('bholenath movies|cinekorn entertainment','')\n",
        "movies['GenreCorrected']=movies['GenreCorrected'].str.replace(' \\(volleyball\\)','')\n",
        "movies['GenreCorrected']=movies['GenreCorrected'].str.replace('spy film','spy')\n",
        "movies['GenreCorrected']=movies['GenreCorrected'].str.replace('anthology film','anthology')\n",
        "movies['GenreCorrected']=movies['GenreCorrected'].str.replace('biography fim','biography')\n",
        "movies['GenreCorrected']=movies['GenreCorrected'].str.replace('avant-garde','avant_garde')\n",
        "movies['GenreCorrected']=movies['GenreCorrected'].str.replace('biker film','biker')\n",
        "movies['GenreCorrected']=movies['GenreCorrected'].str.replace('buddy cop','buddy')\n",
        "movies['GenreCorrected']=movies['GenreCorrected'].str.replace('buddy film','buddy')\n",
        "movies['GenreCorrected']=movies['GenreCorrected'].str.replace('comedy 2-reeler','comedy')\n",
        "movies['GenreCorrected']=movies['GenreCorrected'].str.replace('films','')\n",
        "movies['GenreCorrected']=movies['GenreCorrected'].str.replace('film','')\n",
        "movies['GenreCorrected']=movies['GenreCorrected'].str.replace('biography of pioneering american photographer eadweard muybridge','biography')\n",
        "movies['GenreCorrected']=movies['GenreCorrected'].str.replace('british-german co-production','')\n",
        "movies['GenreCorrected']=movies['GenreCorrected'].str.replace('bruceploitation','martial_arts')\n",
        "movies['GenreCorrected']=movies['GenreCorrected'].str.replace('comedy-drama adaptation of the mordecai richler novel','comedy-drama')\n",
        "movies['GenreCorrected']=movies['GenreCorrected'].str.replace('movies by the mob\\|knkspl','')\n",
        "movies['GenreCorrected']=movies['GenreCorrected'].str.replace('movies','')\n",
        "movies['GenreCorrected']=movies['GenreCorrected'].str.replace('movie','')\n",
        "movies['GenreCorrected']=movies['GenreCorrected'].str.replace('coming of age','coming_of_age')\n",
        "movies['GenreCorrected']=movies['GenreCorrected'].str.replace('coming-of-age','coming_of_age')\n",
        "movies['GenreCorrected']=movies['GenreCorrected'].str.replace('drama about child soldiers','drama')\n",
        "movies['GenreCorrected']=movies['GenreCorrected'].str.replace('(( based).+)','')\n",
        "movies['GenreCorrected']=movies['GenreCorrected'].str.replace('(( co-produced).+)','')\n",
        "movies['GenreCorrected']=movies['GenreCorrected'].str.replace('(( adapted).+)','')\n",
        "movies['GenreCorrected']=movies['GenreCorrected'].str.replace('(( about).+)','')\n",
        "movies['GenreCorrected']=movies['GenreCorrected'].str.replace('musical b','musical')\n",
        "movies['GenreCorrected']=movies['GenreCorrected'].str.replace('animationchildren','animation|children')\n",
        "movies['GenreCorrected']=movies['GenreCorrected'].str.replace(' period','period')\n",
        "movies['GenreCorrected']=movies['GenreCorrected'].str.replace('drama loosely','drama')\n",
        "movies['GenreCorrected']=movies['GenreCorrected'].str.replace(' \\(aquatics|swimming\\)','')\n",
        "movies['GenreCorrected']=movies['GenreCorrected'].str.replace(' \\(aquatics|swimming\\)','')\n",
        "movies['GenreCorrected']=movies['GenreCorrected'].str.replace(\"yogesh dattatraya gosavi's directorial debut \\[9\\]\",'')\n",
        "movies['GenreCorrected']=movies['GenreCorrected'].str.replace(\"war-time\",\"war\")\n",
        "movies['GenreCorrected']=movies['GenreCorrected'].str.replace(\"wartime\",\"war\")\n",
        "movies['GenreCorrected']=movies['GenreCorrected'].str.replace(\"ww1\",\"war\")\n",
        "movies['GenreCorrected']=movies['GenreCorrected'].str.replace('unknown','')\n",
        "movies['GenreCorrected']=movies['GenreCorrected'].str.replace(\"wwii\",\"war\")\n",
        "movies['GenreCorrected']=movies['GenreCorrected'].str.replace('psychological','psycho')\n",
        "movies['GenreCorrected']=movies['GenreCorrected'].str.replace('rom-coms','romance')\n",
        "movies['GenreCorrected']=movies['GenreCorrected'].str.replace('true crime','crime')\n",
        "movies['GenreCorrected']=movies['GenreCorrected'].str.replace('\\|007','')\n",
        "movies['GenreCorrected']=movies['GenreCorrected'].str.replace('slice of life','slice_of_life')\n",
        "movies['GenreCorrected']=movies['GenreCorrected'].str.replace('computer animation','animation')\n",
        "movies['GenreCorrected']=movies['GenreCorrected'].str.replace('gun fu','martial_arts')\n",
        "movies['GenreCorrected']=movies['GenreCorrected'].str.replace('j-horror','horror')\n",
        "movies['GenreCorrected']=movies['GenreCorrected'].str.replace(' \\(shogi|chess\\)','')\n",
        "movies['GenreCorrected']=movies['GenreCorrected'].str.replace('afghan war drama','war drama')\n",
        "movies['GenreCorrected']=movies['GenreCorrected'].str.replace('\\|6 separate stories','')\n",
        "movies['GenreCorrected']=movies['GenreCorrected'].str.replace(' \\(30min\\)','')\n",
        "movies['GenreCorrected']=movies['GenreCorrected'].str.replace(' (road bicycle racing)','')\n",
        "movies['GenreCorrected']=movies['GenreCorrected'].str.replace(' v-cinema','')\n",
        "movies['GenreCorrected']=movies['GenreCorrected'].str.replace('tv miniseries','tv_miniseries')\n",
        "movies['GenreCorrected']=movies['GenreCorrected'].str.replace('\\|docudrama','\\|documentary|drama')\n",
        "movies['GenreCorrected']=movies['GenreCorrected'].str.replace(' in animation','|animation')\n",
        "movies['GenreCorrected']=movies['GenreCorrected'].str.replace('((adaptation).+)','')\n",
        "movies['GenreCorrected']=movies['GenreCorrected'].str.replace('((adaptated).+)','')\n",
        "movies['GenreCorrected']=movies['GenreCorrected'].str.replace('((adapted).+)','')\n",
        "movies['GenreCorrected']=movies['GenreCorrected'].str.replace('(( on ).+)','')\n",
        "movies['GenreCorrected']=movies['GenreCorrected'].str.replace('american football','sports')\n",
        "movies['GenreCorrected']=movies['GenreCorrected'].str.replace('dev\\|nusrat jahan','sports')\n",
        "movies['GenreCorrected']=movies['GenreCorrected'].str.replace('television miniseries','tv_miniseries')\n",
        "movies['GenreCorrected']=movies['GenreCorrected'].str.replace(' \\(artistic\\)','')\n",
        "movies['GenreCorrected']=movies['GenreCorrected'].str.replace(' \\|direct-to-dvd','')\n",
        "movies['GenreCorrected']=movies['GenreCorrected'].str.replace('history dram','history drama')\n",
        "movies['GenreCorrected']=movies['GenreCorrected'].str.replace('martial art','martial_arts')\n",
        "movies['GenreCorrected']=movies['GenreCorrected'].str.replace('psycho thriller,','psycho thriller')\n",
        "movies['GenreCorrected']=movies['GenreCorrected'].str.replace('\\|1 girl\\|3 suitors','')\n",
        "movies['GenreCorrected']=movies['GenreCorrected'].str.replace(' \\(road bicycle racing\\)','')\n",
        "filterE = movies['GenreCorrected']==\"ero\"\n",
        "movies.loc[filterE,'GenreCorrected']=\"adult\"\n",
        "filterE = movies['GenreCorrected']==\"music\"\n",
        "movies.loc[filterE,'GenreCorrected']=\"musical\"\n",
        "filterE = movies['GenreCorrected']==\"-\"\n",
        "movies.loc[filterE,'GenreCorrected']=''\n",
        "filterE = movies['GenreCorrected']==\"comedy–drama\"\n",
        "movies.loc[filterE,'GenreCorrected'] = \"comedy|drama\"\n",
        "filterE = movies['GenreCorrected']==\"comedy–horror\"\n",
        "movies.loc[filterE,'GenreCorrected'] = \"comedy|horror\"\n",
        "movies['GenreCorrected']=movies['GenreCorrected'].str.replace(' ','|')\n",
        "movies['GenreCorrected']=movies['GenreCorrected'].str.replace(',','|')\n",
        "movies['GenreCorrected']=movies['GenreCorrected'].str.replace('-','')\n",
        "movies['GenreCorrected']=movies['GenreCorrected'].str.replace('actionadventure','action|adventure')\n",
        "movies['GenreCorrected']=movies['GenreCorrected'].str.replace('actioncomedy','action|comedy')\n",
        "movies['GenreCorrected']=movies['GenreCorrected'].str.replace('actiondrama','action|drama')\n",
        "movies['GenreCorrected']=movies['GenreCorrected'].str.replace('actionlove','action|love')\n",
        "movies['GenreCorrected']=movies['GenreCorrected'].str.replace('actionmasala','action|masala')\n",
        "movies['GenreCorrected']=movies['GenreCorrected'].str.replace('actionchildren','action|children')\n",
        "\n",
        "movies['GenreCorrected']=movies['GenreCorrected'].str.replace('fantasychildren\\|','fantasy|children')\n",
        "movies['GenreCorrected']=movies['GenreCorrected'].str.replace('fantasycomedy','fantasy|comedy')\n",
        "movies['GenreCorrected']=movies['GenreCorrected'].str.replace('fantasyperiod','fantasy|period')\n",
        "movies['GenreCorrected']=movies['GenreCorrected'].str.replace('cbctv_miniseries','tv_miniseries')\n",
        "movies['GenreCorrected']=movies['GenreCorrected'].str.replace('dramacomedy','drama|comedy')\n",
        "movies['GenreCorrected']=movies['GenreCorrected'].str.replace('dramacomedysocial','drama|comedy|social')\n",
        "movies['GenreCorrected']=movies['GenreCorrected'].str.replace('dramathriller','drama|thriller')\n",
        "movies['GenreCorrected']=movies['GenreCorrected'].str.replace('comedydrama','comedy|drama')\n",
        "movies['GenreCorrected']=movies['GenreCorrected'].str.replace('dramathriller','drama|thriller')\n",
        "movies['GenreCorrected']=movies['GenreCorrected'].str.replace('comedyhorror','comedy|horror')\n",
        "movies['GenreCorrected']=movies['GenreCorrected'].str.replace('sciencefiction','science_fiction')\n",
        "movies['GenreCorrected']=movies['GenreCorrected'].str.replace('adventurecomedy','adventure|comedy')\n",
        "movies['GenreCorrected']=movies['GenreCorrected'].str.replace('animationdrama','animation|drama')\n",
        "movies['GenreCorrected']=movies['GenreCorrected'].str.replace('\\|\\|','|')\n",
        "movies['GenreCorrected']=movies['GenreCorrected'].str.replace('muslim','religious')\n",
        "movies['GenreCorrected']=movies['GenreCorrected'].str.replace('thriler','thriller')\n",
        "movies['GenreCorrected']=movies['GenreCorrected'].str.replace('crimethriller','crime|thriller')\n",
        "movies['GenreCorrected']=movies['GenreCorrected'].str.replace('fantay','fantasy')\n",
        "movies['GenreCorrected']=movies['GenreCorrected'].str.replace('actionthriller','action|thriller')\n",
        "movies['GenreCorrected']=movies['GenreCorrected'].str.replace('comedysocial','comedy|social')\n",
        "movies['GenreCorrected']=movies['GenreCorrected'].str.replace('martialarts','martial_arts')\n",
        "movies['GenreCorrected']=movies['GenreCorrected'].str.replace('\\|\\(children\\|poker\\|karuta\\)','')\n",
        "movies['GenreCorrected']=movies['GenreCorrected'].str.replace('epichistory','epic|history')\n",
        "\n",
        "movies['GenreCorrected']=movies['GenreCorrected'].str.replace('erotica','adult')\n",
        "movies['GenreCorrected']=movies['GenreCorrected'].str.replace('erotic','adult')\n",
        "\n",
        "movies['GenreCorrected']=movies['GenreCorrected'].str.replace('((\\|produced\\|).+)','')\n",
        "movies['GenreCorrected']=movies['GenreCorrected'].str.replace('chanbara','chambara')\n",
        "movies['GenreCorrected']=movies['GenreCorrected'].str.replace('comedythriller','comedy|thriller')\n",
        "movies['GenreCorrected']=movies['GenreCorrected'].str.replace('biblical','religious')\n",
        "movies['GenreCorrected']=movies['GenreCorrected'].str.replace('biblical','religious')\n",
        "movies['GenreCorrected']=movies['GenreCorrected'].str.replace('colour\\|yellow\\|productions\\|eros\\|international','')\n",
        "movies['GenreCorrected']=movies['GenreCorrected'].str.replace('\\|directtodvd','')\n",
        "movies['GenreCorrected']=movies['GenreCorrected'].str.replace('liveaction','live|action')\n",
        "movies['GenreCorrected']=movies['GenreCorrected'].str.replace('melodrama','drama')\n",
        "movies['GenreCorrected']=movies['GenreCorrected'].str.replace('superheroes','superheroe')\n",
        "movies['GenreCorrected']=movies['GenreCorrected'].str.replace('gangsterthriller','gangster|thriller')\n",
        "\n",
        "movies['GenreCorrected']=movies['GenreCorrected'].str.replace('heistcomedy','comedy')\n",
        "movies['GenreCorrected']=movies['GenreCorrected'].str.replace('heist','action')\n",
        "movies['GenreCorrected']=movies['GenreCorrected'].str.replace('historic','history')\n",
        "movies['GenreCorrected']=movies['GenreCorrected'].str.replace('historydisaster','history|disaster')\n",
        "movies['GenreCorrected']=movies['GenreCorrected'].str.replace('warcomedy','war|comedy')\n",
        "movies['GenreCorrected']=movies['GenreCorrected'].str.replace('westerncomedy','western|comedy')\n",
        "movies['GenreCorrected']=movies['GenreCorrected'].str.replace('ancientcostume','costume')\n",
        "movies['GenreCorrected']=movies['GenreCorrected'].str.replace('computeranimation','animation')\n",
        "movies['GenreCorrected']=movies['GenreCorrected'].str.replace('dramatic','drama')\n",
        "movies['GenreCorrected']=movies['GenreCorrected'].str.replace('familya','family')\n",
        "movies['GenreCorrected']=movies['GenreCorrected'].str.replace('familya','family')\n",
        "movies['GenreCorrected']=movies['GenreCorrected'].str.replace('dramedy','drama|comedy')\n",
        "movies['GenreCorrected']=movies['GenreCorrected'].str.replace('dramaa','drama')\n",
        "movies['GenreCorrected']=movies['GenreCorrected'].str.replace('famil\\|','family')\n",
        "\n",
        "movies['GenreCorrected']=movies['GenreCorrected'].str.replace('superheroe','superhero')\n",
        "movies['GenreCorrected']=movies['GenreCorrected'].str.replace('biogtaphy','biography')\n",
        "movies['GenreCorrected']=movies['GenreCorrected'].str.replace('devotionalbiography','devotional|biography')\n",
        "movies['GenreCorrected']=movies['GenreCorrected'].str.replace('docufiction','documentary|fiction')\n",
        "\n",
        "movies['GenreCorrected']=movies['GenreCorrected'].str.replace('familydrama','family|drama')\n",
        "\n",
        "movies['GenreCorrected']=movies['GenreCorrected'].str.replace('espionage','spy')\n",
        "movies['GenreCorrected']=movies['GenreCorrected'].str.replace('supeheroes','superhero')\n",
        "movies['GenreCorrected']=movies['GenreCorrected'].str.replace('romancefiction','romance|fiction')\n",
        "movies['GenreCorrected']=movies['GenreCorrected'].str.replace('horrorthriller','horror|thriller')\n",
        "\n",
        "movies['GenreCorrected']=movies['GenreCorrected'].str.replace('suspensethriller','suspense|thriller')\n",
        "movies['GenreCorrected']=movies['GenreCorrected'].str.replace('musicaliography','musical|biography')\n",
        "movies['GenreCorrected']=movies['GenreCorrected'].str.replace('triller','thriller')\n",
        "\n",
        "movies['GenreCorrected']=movies['GenreCorrected'].str.replace('\\|\\(fiction\\)','|fiction')\n",
        "\n",
        "movies['GenreCorrected']=movies['GenreCorrected'].str.replace('romanceaction','romance|action')\n",
        "movies['GenreCorrected']=movies['GenreCorrected'].str.replace('romancecomedy','romance|comedy')\n",
        "movies['GenreCorrected']=movies['GenreCorrected'].str.replace('romancehorror','romance|horror')\n",
        "\n",
        "movies['GenreCorrected']=movies['GenreCorrected'].str.replace('romcom','romance|comedy')\n",
        "movies['GenreCorrected']=movies['GenreCorrected'].str.replace('rom\\|com','romance|comedy')\n",
        "movies['GenreCorrected']=movies['GenreCorrected'].str.replace('satirical','satire')\n",
        "\n",
        "movies['GenreCorrected']=movies['GenreCorrected'].str.replace('science_fictionchildren','science_fiction|children')\n",
        "movies['GenreCorrected']=movies['GenreCorrected'].str.replace('homosexual','adult')\n",
        "movies['GenreCorrected']=movies['GenreCorrected'].str.replace('sexual','adult')\n",
        "\n",
        "movies['GenreCorrected']=movies['GenreCorrected'].str.replace('mockumentary','documentary')\n",
        "movies['GenreCorrected']=movies['GenreCorrected'].str.replace('periodic','period')\n",
        "movies['GenreCorrected']=movies['GenreCorrected'].str.replace('romanctic','romantic')\n",
        "movies['GenreCorrected']=movies['GenreCorrected'].str.replace('politics','political')\n",
        "movies['GenreCorrected']=movies['GenreCorrected'].str.replace('samurai','martial_arts')\n",
        "movies['GenreCorrected']=movies['GenreCorrected'].str.replace('tv_miniseries','series')\n",
        "movies['GenreCorrected']=movies['GenreCorrected'].str.replace('serial','series')\n",
        "\n",
        "filterE = movies['GenreCorrected']==\"musical–comedy\"\n",
        "movies.loc[filterE,'GenreCorrected'] = \"musical|comedy\"\n",
        "\n",
        "filterE = movies['GenreCorrected']==\"roman|porno\"\n",
        "movies.loc[filterE,'GenreCorrected'] = \"adult\"\n",
        "\n",
        "\n",
        "filterE = movies['GenreCorrected']==\"action—masala\"\n",
        "movies.loc[filterE,'GenreCorrected'] = \"action|masala\"\n",
        "\n",
        "\n",
        "filterE = movies['GenreCorrected']==\"horror–thriller\"\n",
        "movies.loc[filterE,'GenreCorrected'] = \"horror|thriller\"\n",
        "\n",
        "movies['GenreCorrected']=movies['GenreCorrected'].str.replace('family','children')\n",
        "movies['GenreCorrected']=movies['GenreCorrected'].str.replace('martial_arts','action')\n",
        "movies['GenreCorrected']=movies['GenreCorrected'].str.replace('horror','thriller')\n",
        "movies['GenreCorrected']=movies['GenreCorrected'].str.replace('war','action')\n",
        "movies['GenreCorrected']=movies['GenreCorrected'].str.replace('adventure','action')\n",
        "movies['GenreCorrected']=movies['GenreCorrected'].str.replace('science_fiction','action')\n",
        "movies['GenreCorrected']=movies['GenreCorrected'].str.replace('western','action')\n",
        "movies['GenreCorrected']=movies['GenreCorrected'].str.replace('western','action')\n",
        "movies['GenreCorrected']=movies['GenreCorrected'].str.replace('noir','black')\n",
        "movies['GenreCorrected']=movies['GenreCorrected'].str.replace('spy','action')\n",
        "movies['GenreCorrected']=movies['GenreCorrected'].str.replace('superhero','action')\n",
        "movies['GenreCorrected']=movies['GenreCorrected'].str.replace('social','')\n",
        "movies['GenreCorrected']=movies['GenreCorrected'].str.replace('suspense','action')\n",
        "\n",
        "\n",
        "filterE = movies['GenreCorrected']==\"drama|romance|adult|children\"\n",
        "movies.loc[filterE,'GenreCorrected'] = \"drama|romance|adult\"\n",
        "\n",
        "movies['GenreCorrected']=movies['GenreCorrected'].str.replace('\\|–\\|','|')\n",
        "movies['GenreCorrected']=movies['GenreCorrected'].str.strip(to_strip='\\|')\n",
        "movies['GenreCorrected']=movies['GenreCorrected'].str.replace('actionner','action')\n",
        "movies['GenreCorrected']=movies['GenreCorrected'].str.strip()"
      ],
      "execution_count": 67,
      "outputs": []
    },
    {
      "cell_type": "markdown",
      "metadata": {
        "id": "Rotrk2FCM3Lj"
      },
      "source": [
        "Now we are only predicting horror,drama,comedy and action so filtering them out"
      ]
    },
    {
      "cell_type": "code",
      "metadata": {
        "colab": {
          "base_uri": "https://localhost:8080/",
          "height": 649
        },
        "id": "v45CMYvnM3Lj",
        "outputId": "9100579e-657c-4b3a-b663-e2587f16a306"
      },
      "source": [
        "MainGenres=['drama','comedy','action','horror']\n",
        "movies=movies[movies['GenreCorrected'].isin(MainGenres)]\n",
        "movies"
      ],
      "execution_count": 68,
      "outputs": [
        {
          "output_type": "execute_result",
          "data": {
            "text/html": [
              "<div>\n",
              "<style scoped>\n",
              "    .dataframe tbody tr th:only-of-type {\n",
              "        vertical-align: middle;\n",
              "    }\n",
              "\n",
              "    .dataframe tbody tr th {\n",
              "        vertical-align: top;\n",
              "    }\n",
              "\n",
              "    .dataframe thead th {\n",
              "        text-align: right;\n",
              "    }\n",
              "</style>\n",
              "<table border=\"1\" class=\"dataframe\">\n",
              "  <thead>\n",
              "    <tr style=\"text-align: right;\">\n",
              "      <th></th>\n",
              "      <th>Release Year</th>\n",
              "      <th>Title</th>\n",
              "      <th>Origin/Ethnicity</th>\n",
              "      <th>Director</th>\n",
              "      <th>Cast</th>\n",
              "      <th>Genre</th>\n",
              "      <th>Wiki Page</th>\n",
              "      <th>Plot</th>\n",
              "      <th>GenreCorrected</th>\n",
              "    </tr>\n",
              "  </thead>\n",
              "  <tbody>\n",
              "    <tr>\n",
              "      <th>6</th>\n",
              "      <td>1903</td>\n",
              "      <td>The Great Train Robbery</td>\n",
              "      <td>American</td>\n",
              "      <td>Edwin S. Porter</td>\n",
              "      <td>NaN</td>\n",
              "      <td>western</td>\n",
              "      <td>https://en.wikipedia.org/wiki/The_Great_Train_...</td>\n",
              "      <td>The film opens with two bandits breaking into ...</td>\n",
              "      <td>action</td>\n",
              "    </tr>\n",
              "    <tr>\n",
              "      <th>7</th>\n",
              "      <td>1904</td>\n",
              "      <td>The Suburbanite</td>\n",
              "      <td>American</td>\n",
              "      <td>Wallace McCutcheon</td>\n",
              "      <td>NaN</td>\n",
              "      <td>comedy</td>\n",
              "      <td>https://en.wikipedia.org/wiki/The_Suburbanite</td>\n",
              "      <td>The film is about a family who move to the sub...</td>\n",
              "      <td>comedy</td>\n",
              "    </tr>\n",
              "    <tr>\n",
              "      <th>14</th>\n",
              "      <td>1907</td>\n",
              "      <td>How Brown Saw the Baseball Game</td>\n",
              "      <td>American</td>\n",
              "      <td>Unknown</td>\n",
              "      <td>Unknown</td>\n",
              "      <td>comedy</td>\n",
              "      <td>https://en.wikipedia.org/wiki/How_Brown_Saw_th...</td>\n",
              "      <td>Before heading out to a baseball game at a nea...</td>\n",
              "      <td>comedy</td>\n",
              "    </tr>\n",
              "    <tr>\n",
              "      <th>15</th>\n",
              "      <td>1907</td>\n",
              "      <td>Laughing Gas</td>\n",
              "      <td>American</td>\n",
              "      <td>Edwin Stanton Porter</td>\n",
              "      <td>Bertha Regustus, Edward Boulden</td>\n",
              "      <td>comedy</td>\n",
              "      <td>https://en.wikipedia.org/wiki/Laughing_Gas_(fi...</td>\n",
              "      <td>The plot is that of a black woman going to the...</td>\n",
              "      <td>comedy</td>\n",
              "    </tr>\n",
              "    <tr>\n",
              "      <th>16</th>\n",
              "      <td>1908</td>\n",
              "      <td>The Adventures of Dollie</td>\n",
              "      <td>American</td>\n",
              "      <td>D. W. Griffith</td>\n",
              "      <td>Arthur V. Johnson, Linda Arvidson</td>\n",
              "      <td>drama</td>\n",
              "      <td>https://en.wikipedia.org/wiki/The_Adventures_o...</td>\n",
              "      <td>On a beautiful summer day a father and mother ...</td>\n",
              "      <td>drama</td>\n",
              "    </tr>\n",
              "    <tr>\n",
              "      <th>...</th>\n",
              "      <td>...</td>\n",
              "      <td>...</td>\n",
              "      <td>...</td>\n",
              "      <td>...</td>\n",
              "      <td>...</td>\n",
              "      <td>...</td>\n",
              "      <td>...</td>\n",
              "      <td>...</td>\n",
              "      <td>...</td>\n",
              "    </tr>\n",
              "    <tr>\n",
              "      <th>34875</th>\n",
              "      <td>2011</td>\n",
              "      <td>Once Upon a Time in Anatolia</td>\n",
              "      <td>Turkish</td>\n",
              "      <td>Nuri Bilge Ceylan</td>\n",
              "      <td>Yılmaz Erdoğan, Taner Birsel &amp; Ufuk Karaali</td>\n",
              "      <td>drama</td>\n",
              "      <td>https://en.wikipedia.org/wiki/Once_Upon_a_Time...</td>\n",
              "      <td>Through the night, three cars carry a small gr...</td>\n",
              "      <td>drama</td>\n",
              "    </tr>\n",
              "    <tr>\n",
              "      <th>34876</th>\n",
              "      <td>2013</td>\n",
              "      <td>Selam</td>\n",
              "      <td>Turkish</td>\n",
              "      <td>Levent Demirkale</td>\n",
              "      <td>Bucin Abdullah, Selma Alispahic, Tina Cvitanov...</td>\n",
              "      <td>drama</td>\n",
              "      <td>https://en.wikipedia.org/wiki/Selam_(film)</td>\n",
              "      <td>The film opens with a Senegalese boy named Kha...</td>\n",
              "      <td>drama</td>\n",
              "    </tr>\n",
              "    <tr>\n",
              "      <th>34877</th>\n",
              "      <td>2013</td>\n",
              "      <td>Particle (film)</td>\n",
              "      <td>Turkish</td>\n",
              "      <td>Erdem Tepegöz</td>\n",
              "      <td>Jale Arıkan, Rüçhan Caliskur, Özay Fecht, Remz...</td>\n",
              "      <td>drama film</td>\n",
              "      <td>https://en.wikipedia.org/wiki/Particle_(film)</td>\n",
              "      <td>Zeynep lost her job at weaving factory, and he...</td>\n",
              "      <td>drama</td>\n",
              "    </tr>\n",
              "    <tr>\n",
              "      <th>34882</th>\n",
              "      <td>2017</td>\n",
              "      <td>Çalgı Çengi İkimiz</td>\n",
              "      <td>Turkish</td>\n",
              "      <td>Selçuk Aydemir</td>\n",
              "      <td>Ahmet Kural, Murat Cemcir</td>\n",
              "      <td>comedy</td>\n",
              "      <td>https://en.wikipedia.org/wiki/%C3%87alg%C4%B1_...</td>\n",
              "      <td>Two musicians, Salih and Gürkan, described the...</td>\n",
              "      <td>comedy</td>\n",
              "    </tr>\n",
              "    <tr>\n",
              "      <th>34883</th>\n",
              "      <td>2017</td>\n",
              "      <td>Olanlar Oldu</td>\n",
              "      <td>Turkish</td>\n",
              "      <td>Hakan Algül</td>\n",
              "      <td>Ata Demirer, Tuvana Türkay, Ülkü Duru</td>\n",
              "      <td>comedy</td>\n",
              "      <td>https://en.wikipedia.org/wiki/Olanlar_Oldu</td>\n",
              "      <td>Zafer, a sailor living with his mother Döndü i...</td>\n",
              "      <td>comedy</td>\n",
              "    </tr>\n",
              "  </tbody>\n",
              "</table>\n",
              "<p>14308 rows × 9 columns</p>\n",
              "</div>"
            ],
            "text/plain": [
              "       Release Year  ... GenreCorrected\n",
              "6              1903  ...         action\n",
              "7              1904  ...         comedy\n",
              "14             1907  ...         comedy\n",
              "15             1907  ...         comedy\n",
              "16             1908  ...          drama\n",
              "...             ...  ...            ...\n",
              "34875          2011  ...          drama\n",
              "34876          2013  ...          drama\n",
              "34877          2013  ...          drama\n",
              "34882          2017  ...         comedy\n",
              "34883          2017  ...         comedy\n",
              "\n",
              "[14308 rows x 9 columns]"
            ]
          },
          "metadata": {
            "tags": []
          },
          "execution_count": 68
        }
      ]
    },
    {
      "cell_type": "code",
      "metadata": {
        "colab": {
          "base_uri": "https://localhost:8080/",
          "height": 310
        },
        "id": "qSpfQ69AM3Lk",
        "outputId": "b6982816-c18b-4e31-f98b-a4ff53dc1ec3"
      },
      "source": [
        "movies=movies.reset_index()\n",
        "movies.head(5)"
      ],
      "execution_count": 69,
      "outputs": [
        {
          "output_type": "execute_result",
          "data": {
            "text/html": [
              "<div>\n",
              "<style scoped>\n",
              "    .dataframe tbody tr th:only-of-type {\n",
              "        vertical-align: middle;\n",
              "    }\n",
              "\n",
              "    .dataframe tbody tr th {\n",
              "        vertical-align: top;\n",
              "    }\n",
              "\n",
              "    .dataframe thead th {\n",
              "        text-align: right;\n",
              "    }\n",
              "</style>\n",
              "<table border=\"1\" class=\"dataframe\">\n",
              "  <thead>\n",
              "    <tr style=\"text-align: right;\">\n",
              "      <th></th>\n",
              "      <th>index</th>\n",
              "      <th>Release Year</th>\n",
              "      <th>Title</th>\n",
              "      <th>Origin/Ethnicity</th>\n",
              "      <th>Director</th>\n",
              "      <th>Cast</th>\n",
              "      <th>Genre</th>\n",
              "      <th>Wiki Page</th>\n",
              "      <th>Plot</th>\n",
              "      <th>GenreCorrected</th>\n",
              "    </tr>\n",
              "  </thead>\n",
              "  <tbody>\n",
              "    <tr>\n",
              "      <th>0</th>\n",
              "      <td>6</td>\n",
              "      <td>1903</td>\n",
              "      <td>The Great Train Robbery</td>\n",
              "      <td>American</td>\n",
              "      <td>Edwin S. Porter</td>\n",
              "      <td>NaN</td>\n",
              "      <td>western</td>\n",
              "      <td>https://en.wikipedia.org/wiki/The_Great_Train_...</td>\n",
              "      <td>The film opens with two bandits breaking into ...</td>\n",
              "      <td>action</td>\n",
              "    </tr>\n",
              "    <tr>\n",
              "      <th>1</th>\n",
              "      <td>7</td>\n",
              "      <td>1904</td>\n",
              "      <td>The Suburbanite</td>\n",
              "      <td>American</td>\n",
              "      <td>Wallace McCutcheon</td>\n",
              "      <td>NaN</td>\n",
              "      <td>comedy</td>\n",
              "      <td>https://en.wikipedia.org/wiki/The_Suburbanite</td>\n",
              "      <td>The film is about a family who move to the sub...</td>\n",
              "      <td>comedy</td>\n",
              "    </tr>\n",
              "    <tr>\n",
              "      <th>2</th>\n",
              "      <td>14</td>\n",
              "      <td>1907</td>\n",
              "      <td>How Brown Saw the Baseball Game</td>\n",
              "      <td>American</td>\n",
              "      <td>Unknown</td>\n",
              "      <td>Unknown</td>\n",
              "      <td>comedy</td>\n",
              "      <td>https://en.wikipedia.org/wiki/How_Brown_Saw_th...</td>\n",
              "      <td>Before heading out to a baseball game at a nea...</td>\n",
              "      <td>comedy</td>\n",
              "    </tr>\n",
              "    <tr>\n",
              "      <th>3</th>\n",
              "      <td>15</td>\n",
              "      <td>1907</td>\n",
              "      <td>Laughing Gas</td>\n",
              "      <td>American</td>\n",
              "      <td>Edwin Stanton Porter</td>\n",
              "      <td>Bertha Regustus, Edward Boulden</td>\n",
              "      <td>comedy</td>\n",
              "      <td>https://en.wikipedia.org/wiki/Laughing_Gas_(fi...</td>\n",
              "      <td>The plot is that of a black woman going to the...</td>\n",
              "      <td>comedy</td>\n",
              "    </tr>\n",
              "    <tr>\n",
              "      <th>4</th>\n",
              "      <td>16</td>\n",
              "      <td>1908</td>\n",
              "      <td>The Adventures of Dollie</td>\n",
              "      <td>American</td>\n",
              "      <td>D. W. Griffith</td>\n",
              "      <td>Arthur V. Johnson, Linda Arvidson</td>\n",
              "      <td>drama</td>\n",
              "      <td>https://en.wikipedia.org/wiki/The_Adventures_o...</td>\n",
              "      <td>On a beautiful summer day a father and mother ...</td>\n",
              "      <td>drama</td>\n",
              "    </tr>\n",
              "  </tbody>\n",
              "</table>\n",
              "</div>"
            ],
            "text/plain": [
              "   index  ...  GenreCorrected\n",
              "0      6  ...          action\n",
              "1      7  ...          comedy\n",
              "2     14  ...          comedy\n",
              "3     15  ...          comedy\n",
              "4     16  ...           drama\n",
              "\n",
              "[5 rows x 10 columns]"
            ]
          },
          "metadata": {
            "tags": []
          },
          "execution_count": 69
        }
      ]
    },
    {
      "cell_type": "markdown",
      "metadata": {
        "id": "uY_W-8DNM3Lm"
      },
      "source": [
        "Now assigning id's to our genres according to GenreCoreected colunm"
      ]
    },
    {
      "cell_type": "code",
      "metadata": {
        "colab": {
          "base_uri": "https://localhost:8080/",
          "height": 571
        },
        "id": "1VPj2ROGM3Lm",
        "outputId": "891bee38-28c3-4cc5-ba99-abe9918ff72d"
      },
      "source": [
        "movies['GenreID']=movies['GenreCorrected'].apply(lambda x:MainGenres.index(x))\n",
        "movies.head(10)"
      ],
      "execution_count": 70,
      "outputs": [
        {
          "output_type": "execute_result",
          "data": {
            "text/html": [
              "<div>\n",
              "<style scoped>\n",
              "    .dataframe tbody tr th:only-of-type {\n",
              "        vertical-align: middle;\n",
              "    }\n",
              "\n",
              "    .dataframe tbody tr th {\n",
              "        vertical-align: top;\n",
              "    }\n",
              "\n",
              "    .dataframe thead th {\n",
              "        text-align: right;\n",
              "    }\n",
              "</style>\n",
              "<table border=\"1\" class=\"dataframe\">\n",
              "  <thead>\n",
              "    <tr style=\"text-align: right;\">\n",
              "      <th></th>\n",
              "      <th>index</th>\n",
              "      <th>Release Year</th>\n",
              "      <th>Title</th>\n",
              "      <th>Origin/Ethnicity</th>\n",
              "      <th>Director</th>\n",
              "      <th>Cast</th>\n",
              "      <th>Genre</th>\n",
              "      <th>Wiki Page</th>\n",
              "      <th>Plot</th>\n",
              "      <th>GenreCorrected</th>\n",
              "      <th>GenreID</th>\n",
              "    </tr>\n",
              "  </thead>\n",
              "  <tbody>\n",
              "    <tr>\n",
              "      <th>0</th>\n",
              "      <td>6</td>\n",
              "      <td>1903</td>\n",
              "      <td>The Great Train Robbery</td>\n",
              "      <td>American</td>\n",
              "      <td>Edwin S. Porter</td>\n",
              "      <td>NaN</td>\n",
              "      <td>western</td>\n",
              "      <td>https://en.wikipedia.org/wiki/The_Great_Train_...</td>\n",
              "      <td>The film opens with two bandits breaking into ...</td>\n",
              "      <td>action</td>\n",
              "      <td>2</td>\n",
              "    </tr>\n",
              "    <tr>\n",
              "      <th>1</th>\n",
              "      <td>7</td>\n",
              "      <td>1904</td>\n",
              "      <td>The Suburbanite</td>\n",
              "      <td>American</td>\n",
              "      <td>Wallace McCutcheon</td>\n",
              "      <td>NaN</td>\n",
              "      <td>comedy</td>\n",
              "      <td>https://en.wikipedia.org/wiki/The_Suburbanite</td>\n",
              "      <td>The film is about a family who move to the sub...</td>\n",
              "      <td>comedy</td>\n",
              "      <td>1</td>\n",
              "    </tr>\n",
              "    <tr>\n",
              "      <th>2</th>\n",
              "      <td>14</td>\n",
              "      <td>1907</td>\n",
              "      <td>How Brown Saw the Baseball Game</td>\n",
              "      <td>American</td>\n",
              "      <td>Unknown</td>\n",
              "      <td>Unknown</td>\n",
              "      <td>comedy</td>\n",
              "      <td>https://en.wikipedia.org/wiki/How_Brown_Saw_th...</td>\n",
              "      <td>Before heading out to a baseball game at a nea...</td>\n",
              "      <td>comedy</td>\n",
              "      <td>1</td>\n",
              "    </tr>\n",
              "    <tr>\n",
              "      <th>3</th>\n",
              "      <td>15</td>\n",
              "      <td>1907</td>\n",
              "      <td>Laughing Gas</td>\n",
              "      <td>American</td>\n",
              "      <td>Edwin Stanton Porter</td>\n",
              "      <td>Bertha Regustus, Edward Boulden</td>\n",
              "      <td>comedy</td>\n",
              "      <td>https://en.wikipedia.org/wiki/Laughing_Gas_(fi...</td>\n",
              "      <td>The plot is that of a black woman going to the...</td>\n",
              "      <td>comedy</td>\n",
              "      <td>1</td>\n",
              "    </tr>\n",
              "    <tr>\n",
              "      <th>4</th>\n",
              "      <td>16</td>\n",
              "      <td>1908</td>\n",
              "      <td>The Adventures of Dollie</td>\n",
              "      <td>American</td>\n",
              "      <td>D. W. Griffith</td>\n",
              "      <td>Arthur V. Johnson, Linda Arvidson</td>\n",
              "      <td>drama</td>\n",
              "      <td>https://en.wikipedia.org/wiki/The_Adventures_o...</td>\n",
              "      <td>On a beautiful summer day a father and mother ...</td>\n",
              "      <td>drama</td>\n",
              "      <td>0</td>\n",
              "    </tr>\n",
              "    <tr>\n",
              "      <th>5</th>\n",
              "      <td>17</td>\n",
              "      <td>1908</td>\n",
              "      <td>The Black Viper</td>\n",
              "      <td>American</td>\n",
              "      <td>D. W. Griffith</td>\n",
              "      <td>D. W. Griffith</td>\n",
              "      <td>drama</td>\n",
              "      <td>https://en.wikipedia.org/wiki/The_Black_Viper</td>\n",
              "      <td>A thug accosts a girl as she leaves her workpl...</td>\n",
              "      <td>drama</td>\n",
              "      <td>0</td>\n",
              "    </tr>\n",
              "    <tr>\n",
              "      <th>6</th>\n",
              "      <td>18</td>\n",
              "      <td>1908</td>\n",
              "      <td>A Calamitous Elopement</td>\n",
              "      <td>American</td>\n",
              "      <td>D.W. Griffith</td>\n",
              "      <td>Harry Solter, Linda Arvidson</td>\n",
              "      <td>comedy</td>\n",
              "      <td>https://en.wikipedia.org/wiki/A_Calamitous_Elo...</td>\n",
              "      <td>A young couple decides to elope after being ca...</td>\n",
              "      <td>comedy</td>\n",
              "      <td>1</td>\n",
              "    </tr>\n",
              "    <tr>\n",
              "      <th>7</th>\n",
              "      <td>19</td>\n",
              "      <td>1908</td>\n",
              "      <td>The Call of the Wild</td>\n",
              "      <td>American</td>\n",
              "      <td>D. W. Griffith</td>\n",
              "      <td>Charles Inslee</td>\n",
              "      <td>adventure</td>\n",
              "      <td>https://en.wikipedia.org/wiki/The_Call_of_the_...</td>\n",
              "      <td>A white girl (Florence Lawrence) rejects a pro...</td>\n",
              "      <td>action</td>\n",
              "      <td>2</td>\n",
              "    </tr>\n",
              "    <tr>\n",
              "      <th>8</th>\n",
              "      <td>20</td>\n",
              "      <td>1908</td>\n",
              "      <td>A Christmas Carol</td>\n",
              "      <td>American</td>\n",
              "      <td>Unknown</td>\n",
              "      <td>Tom Ricketts</td>\n",
              "      <td>drama</td>\n",
              "      <td>https://en.wikipedia.org/wiki/A_Christmas_Caro...</td>\n",
              "      <td>No prints of the first American film adaptatio...</td>\n",
              "      <td>drama</td>\n",
              "      <td>0</td>\n",
              "    </tr>\n",
              "    <tr>\n",
              "      <th>9</th>\n",
              "      <td>21</td>\n",
              "      <td>1908</td>\n",
              "      <td>The Fight for Freedom</td>\n",
              "      <td>American</td>\n",
              "      <td>D. W. Griffith</td>\n",
              "      <td>Florence Auer, John G. Adolfi</td>\n",
              "      <td>western</td>\n",
              "      <td>https://en.wikipedia.org/wiki/The_Fight_for_Fr...</td>\n",
              "      <td>The film opens in a town on the Mexican border...</td>\n",
              "      <td>action</td>\n",
              "      <td>2</td>\n",
              "    </tr>\n",
              "  </tbody>\n",
              "</table>\n",
              "</div>"
            ],
            "text/plain": [
              "   index  Release Year  ... GenreCorrected GenreID\n",
              "0      6          1903  ...         action       2\n",
              "1      7          1904  ...         comedy       1\n",
              "2     14          1907  ...         comedy       1\n",
              "3     15          1907  ...         comedy       1\n",
              "4     16          1908  ...          drama       0\n",
              "5     17          1908  ...          drama       0\n",
              "6     18          1908  ...         comedy       1\n",
              "7     19          1908  ...         action       2\n",
              "8     20          1908  ...          drama       0\n",
              "9     21          1908  ...         action       2\n",
              "\n",
              "[10 rows x 11 columns]"
            ]
          },
          "metadata": {
            "tags": []
          },
          "execution_count": 70
        }
      ]
    },
    {
      "cell_type": "markdown",
      "metadata": {
        "id": "oJBErSyVM3Lm"
      },
      "source": [
        "Now Checking Individual Genre Record"
      ]
    },
    {
      "cell_type": "code",
      "metadata": {
        "colab": {
          "base_uri": "https://localhost:8080/"
        },
        "id": "BLf1Bc4yM3Ln",
        "outputId": "d3bf1587-daa2-4ecd-fdee-556461098bd2"
      },
      "source": [
        "no_drama=movies['GenreCorrected'].str.contains('drama').sum()\n",
        "no_comedy=movies['GenreCorrected'].str.contains('comedy').sum()\n",
        "no_horror=movies['GenreCorrected'].str.contains('horror').sum()\n",
        "no_action=movies['GenreCorrected'].str.contains('action').sum()\n",
        "print(\"Number of Drama movies:\",no_drama)\n",
        "print(\"Number of Comedy movies:\",no_comedy)\n",
        "print(\"Number of Horror movies:\",no_horror)\n",
        "print(\"Number of Action movies:\",no_action)"
      ],
      "execution_count": 71,
      "outputs": [
        {
          "output_type": "stream",
          "text": [
            "Number of Drama movies: 6107\n",
            "Number of Comedy movies: 4411\n",
            "Number of Horror movies: 0\n",
            "Number of Action movies: 3790\n"
          ],
          "name": "stdout"
        }
      ]
    },
    {
      "cell_type": "markdown",
      "metadata": {
        "id": "WK_nw9rvM3Lo"
      },
      "source": [
        "Showing Values in Bar chart"
      ]
    },
    {
      "cell_type": "code",
      "metadata": {
        "colab": {
          "base_uri": "https://localhost:8080/",
          "height": 319
        },
        "id": "zAAOs9ZJM3Lp",
        "outputId": "3258a481-a873-4d5e-9cb0-55cba9efa963"
      },
      "source": [
        "import seaborn as sns\n",
        "sns.set(style='whitegrid')\n",
        "figsize=(18, 6)\n",
        "ax=sns.countplot(x=movies['GenreCorrected'], data=movies)\n",
        "ax.set(xlabel='Genre',title=\"Genre Counnt\")"
      ],
      "execution_count": 72,
      "outputs": [
        {
          "output_type": "execute_result",
          "data": {
            "text/plain": [
              "[Text(0.5, 0, 'Genre'), Text(0.5, 1.0, 'Genre Counnt')]"
            ]
          },
          "metadata": {
            "tags": []
          },
          "execution_count": 72
        },
        {
          "output_type": "display_data",
          "data": {
            "image/png": "[encoded data removed]",
            "text/plain": [
              "<Figure size 432x288 with 1 Axes>"
            ]
          },
          "metadata": {
            "tags": []
          }
        }
      ]
    },
    {
      "cell_type": "markdown",
      "metadata": {
        "id": "WbdkSb_XM3Lr"
      },
      "source": [
        "# Plot Summaries Pre-Processing"
      ]
    },
    {
      "cell_type": "code",
      "metadata": {
        "id": "JGiktVrKM3Ls"
      },
      "source": [
        "import string,unicodedata\n",
        "def removeurl(text):\n",
        "  url=re.compile(r\"https?://\\S+|www\\.\\S+\")\n",
        "  return url.sub(r\"\",text)\n",
        "def removepun(text):\n",
        "  table=str.maketrans(\"\",\"\",string.punctuation)\n",
        "  return text.translate(table)\n",
        "def removehtml(text):\n",
        "  html=re.compile(r\"<.*>\")\n",
        "  return html.sub(r\"\",text)\n",
        "def remove_accented_chars(text):\n",
        "    new_text = unicodedata.normalize('NFKD', text).encode('ascii', 'ignore').decode('utf-8', 'ignore')\n",
        "    return new_text"
      ],
      "execution_count": 139,
      "outputs": []
    },
    {
      "cell_type": "code",
      "metadata": {
        "id": "LkS4l8QKM3Lu"
      },
      "source": [
        "movies['Plot']=movies['Plot'].apply(lambda x:removeurl(x))\n",
        "movies['Plot']=movies['Plot'].apply(lambda x:removehtml(x))\n",
        "movies['Plot']=movies['Plot'].apply(lambda x:removepun(x))\n",
        "movies['Plot']=movies['Plot'].apply(lambda x:remove_accented_chars(x))"
      ],
      "execution_count": 140,
      "outputs": []
    },
    {
      "cell_type": "code",
      "metadata": {
        "colab": {
          "base_uri": "https://localhost:8080/",
          "height": 145
        },
        "id": "Jyi0wfuqM3Lu",
        "outputId": "406516dd-864b-4293-c7d2-78becc61574c"
      },
      "source": [
        "movies['Plot'][0]"
      ],
      "execution_count": 141,
      "outputs": [
        {
          "output_type": "execute_result",
          "data": {
            "application/vnd.google.colaboratory.intrinsic+json": {
              "type": "string"
            },
            "text/plain": [
              "'The film opens with two bandits breaking into a railroad telegraph office where they force the operator at gunpoint to have a train stopped and to transmit orders for the engineer to fill the locomotives tender at the stations water tank They then knock the operator out and tie him up As the train stops it is boarded by the banditsnow four Two bandits enter an express car kill a messenger and open a box of valuables with dynamite the others kill the fireman and force the engineer to halt the train and disconnect the locomotive The bandits then force the passengers off the train and rifle them for their belongings One passenger tries to escape but is instantly shot down Carrying their loot the bandits escape in the locomotive later stopping in a valley where their horses had been left\\r\\nMeanwhile back in the telegraph office the bound operator awakens but he collapses again His daughter arrives bringing him his meal and cuts him free and restores him to consciousness by dousing him with water\\r\\nThere is some comic relief at a dance hall where an Eastern stranger is forced to dance while the locals fire at his feet The door suddenly opens and the telegraph operator rushes in to tell them of the robbery The men quickly form a posse which overtakes the bandits and in a final shootout kills them all and recovers the stolen mail'"
            ]
          },
          "metadata": {
            "tags": []
          },
          "execution_count": 141
        }
      ]
    },
    {
      "cell_type": "code",
      "metadata": {
        "colab": {
          "base_uri": "https://localhost:8080/"
        },
        "id": "GSlfHXdEM3Lw",
        "outputId": "af6fc2b3-02c2-4d50-c0c2-f927c7043a4e"
      },
      "source": [
        "nltk.download('stopwords')\n",
        "stop = stopwords.words('english')"
      ],
      "execution_count": 142,
      "outputs": [
        {
          "output_type": "stream",
          "text": [
            "[nltk_data] Downloading package stopwords to /root/nltk_data...\n",
            "[nltk_data]   Package stopwords is already up-to-date!\n"
          ],
          "name": "stdout"
        }
      ]
    },
    {
      "cell_type": "code",
      "metadata": {
        "id": "SpyUGhjxM3Lw"
      },
      "source": [
        "movies['Plot_clean'] = movies['Plot'].str.lower().apply(lambda x: ' '.join([word for word in x.split() if word not in (stop)]))\n"
      ],
      "execution_count": 143,
      "outputs": []
    },
    {
      "cell_type": "code",
      "metadata": {
        "colab": {
          "base_uri": "https://localhost:8080/",
          "height": 108
        },
        "id": "4R2w42MKM3Lx",
        "outputId": "00afbbf2-b4d6-43cb-985a-12d079860076"
      },
      "source": [
        "stemmer = PorterStemmer()\n",
        "def stem_words(text):\n",
        "    return \" \".join([stemmer.stem(word) for word in text.split()])\n",
        "\n",
        "movies[\"Plot_clean\"] = movies[\"Plot_clean\"].apply(lambda text: stem_words(text))\n",
        "movies[\"Plot_clean\"][0]"
      ],
      "execution_count": 145,
      "outputs": [
        {
          "output_type": "execute_result",
          "data": {
            "application/vnd.google.colaboratory.intrinsic+json": {
              "type": "string"
            },
            "text/plain": [
              "'film open two bandit break railroad telegraph offic forc oper gunpoint train stop transmit order engin fill locomot tender station water tank knock oper tie train stop board banditsnow four two bandit enter express car kill messeng open box valuabl dynamit other kill fireman forc engin halt train disconnect locomot bandit forc passeng train rifl belong one passeng tri escap instantli shot carri loot bandit escap locomot later stop valley hors left meanwhil back telegraph offic bound oper awaken collaps daughter arriv bring meal cut free restor conscious dous water comic relief danc hall eastern stranger forc danc local fire feet door suddenli open telegraph oper rush tell robberi men quickli form poss overtak bandit final shootout kill recov stolen mail'"
            ]
          },
          "metadata": {
            "tags": []
          },
          "execution_count": 145
        }
      ]
    },
    {
      "cell_type": "code",
      "metadata": {
        "id": "IeCKIZC7jclt"
      },
      "source": [
        "# lemmatizer = WordNetLemmatizer()\n",
        "# def lemmatize_text(text):\n",
        "#     return \" \".join([lemmatizer.lemmatize(w) for w in text.split()])"
      ],
      "execution_count": 121,
      "outputs": []
    },
    {
      "cell_type": "code",
      "metadata": {
        "id": "K5HhJtxrjcdZ"
      },
      "source": [
        "# nltk.download('wordnet')\n",
        "# movies[\"Plot_clean\"] = movies\"Plot_clean\"].apply(lambda text: lemmatize_text(text))"
      ],
      "execution_count": 122,
      "outputs": []
    },
    {
      "cell_type": "code",
      "metadata": {
        "colab": {
          "base_uri": "https://localhost:8080/",
          "height": 127
        },
        "id": "13_Iv1AelUev",
        "outputId": "f98b0506-cff4-47b7-8dec-a23ed131d739"
      },
      "source": [
        "movies['Plot_clean'][0]"
      ],
      "execution_count": 144,
      "outputs": [
        {
          "output_type": "execute_result",
          "data": {
            "application/vnd.google.colaboratory.intrinsic+json": {
              "type": "string"
            },
            "text/plain": [
              "'film opens two bandits breaking railroad telegraph office force operator gunpoint train stopped transmit orders engineer fill locomotives tender stations water tank knock operator tie train stops boarded banditsnow four two bandits enter express car kill messenger open box valuables dynamite others kill fireman force engineer halt train disconnect locomotive bandits force passengers train rifle belongings one passenger tries escape instantly shot carrying loot bandits escape locomotive later stopping valley horses left meanwhile back telegraph office bound operator awakens collapses daughter arrives bringing meal cuts free restores consciousness dousing water comic relief dance hall eastern stranger forced dance locals fire feet door suddenly opens telegraph operator rushes tell robbery men quickly form posse overtakes bandits final shootout kills recovers stolen mail'"
            ]
          },
          "metadata": {
            "tags": []
          },
          "execution_count": 144
        }
      ]
    },
    {
      "cell_type": "markdown",
      "metadata": {
        "id": "qrcaJTfZM3Ly"
      },
      "source": [
        "Tokenizing and creating and padding the sequences"
      ]
    },
    {
      "cell_type": "code",
      "metadata": {
        "colab": {
          "base_uri": "https://localhost:8080/"
        },
        "id": "5Hd1XdMxM3Ly",
        "outputId": "7cc259c9-f17c-4a7c-ac11-37d4b683669b"
      },
      "source": [
        "# The maximum number of words to be used. (most frequent)\n",
        "MAX_NB_WORDS = 75000\n",
        "# This is fixed.\n",
        "tokenizer = Tokenizer( num_words=MAX_NB_WORDS)\n",
        "tokenizer.fit_on_texts((list(movies['Plot_clean'])))\n",
        "sequences=tokenizer.texts_to_sequences((list(movies['Plot_clean'])))\n",
        "word_index=tokenizer.word_index\n",
        "print(\"unique tokens:\",len(word_index))\n",
        "# max_len=np.max([len(sequence) for sequence in sequences])\n",
        "max_len=400\n",
        "print(\"Max length:\",max_len)\n",
        "data = pad_sequences(sequences, maxlen=max_len,padding=\"post\",truncating=\"post\")\n",
        "print(\"Shape of data tensor:\",data.shape)"
      ],
      "execution_count": 154,
      "outputs": [
        {
          "output_type": "stream",
          "text": [
            "unique tokens: 75282\n",
            "Max length: 400\n",
            "Shape of data tensor: (14308, 400)\n"
          ],
          "name": "stdout"
        }
      ]
    },
    {
      "cell_type": "markdown",
      "metadata": {
        "id": "nX8F9B0sM3Ly"
      },
      "source": [
        "Making Target labels to Categorical"
      ]
    },
    {
      "cell_type": "code",
      "metadata": {
        "colab": {
          "base_uri": "https://localhost:8080/"
        },
        "id": "vpyQXLRqM3Ly",
        "outputId": "d782f634-e9f6-4df1-bff7-dd1a9e919e6a"
      },
      "source": [
        "labels=np.asarray(movies['GenreID'])\n",
        "labels=to_categorical(labels,num_classes=4)\n",
        "print('Label:',labels.shape)\n",
        "labels"
      ],
      "execution_count": 155,
      "outputs": [
        {
          "output_type": "stream",
          "text": [
            "Label: (14308, 4)\n"
          ],
          "name": "stdout"
        },
        {
          "output_type": "execute_result",
          "data": {
            "text/plain": [
              "array([[0., 0., 1., 0.],\n",
              "       [0., 1., 0., 0.],\n",
              "       [0., 1., 0., 0.],\n",
              "       ...,\n",
              "       [1., 0., 0., 0.],\n",
              "       [0., 1., 0., 0.],\n",
              "       [0., 1., 0., 0.]], dtype=float32)"
            ]
          },
          "metadata": {
            "tags": []
          },
          "execution_count": 155
        }
      ]
    },
    {
      "cell_type": "markdown",
      "metadata": {
        "id": "OmxqG9zQM3Lz"
      },
      "source": [
        "# Creating a Model"
      ]
    },
    {
      "cell_type": "code",
      "metadata": {
        "colab": {
          "base_uri": "https://localhost:8080/"
        },
        "id": "jCyxYnyWM3Lz",
        "outputId": "6c66b2e7-a6e1-410e-8c3d-a0eb4c7bb308"
      },
      "source": [
        "#splitting the data for training testing and validation\n",
        "training_samples=12000\n",
        "validation_samples=len(list(movies['Plot_clean']))\n",
        "X_train=data[:training_samples]\n",
        "y_train=labels[:training_samples]\n",
        "X_val=data[training_samples:training_samples+validation_samples]\n",
        "y_val=labels[training_samples:training_samples+validation_samples]\n",
        "# X_train,X_val,y_train,y_val=train_test_split(data,labels,test_size=0.25,random_state=42)\n",
        "len(X_train)"
      ],
      "execution_count": 156,
      "outputs": [
        {
          "output_type": "execute_result",
          "data": {
            "text/plain": [
              "12000"
            ]
          },
          "metadata": {
            "tags": []
          },
          "execution_count": 156
        }
      ]
    },
    {
      "cell_type": "code",
      "metadata": {
        "colab": {
          "base_uri": "https://localhost:8080/"
        },
        "id": "rIFLZwdasASP",
        "outputId": "3dc04b61-3c8c-4333-91b6-ee407dfd38e0"
      },
      "source": [
        "X_train[0]"
      ],
      "execution_count": 157,
      "outputs": [
        {
          "output_type": "execute_result",
          "data": {
            "text/plain": [
              "array([   36,   178,    14,  1544,   124,  2274,  6761,    81,    66,\n",
              "         333,  2281,   115,   129,  5689,    74,   644,  1272,  7938,\n",
              "        6246,   266,   403,  1203,   488,   333,  1045,   115,   129,\n",
              "         353, 44808,   419,    14,  1544,   237,   793,    73,     4,\n",
              "        4950,   178,   743,  2457,  3216,   320,     4,  9407,    66,\n",
              "         644,  3806,   115,  5864,  7938,  1544,    66,   833,   115,\n",
              "        1406,   974,     5,   833,    11,    56,  2412,   202,   376,\n",
              "        2661,  1544,    56,  7938,    30,   129,  2135,   343,   164,\n",
              "         104,     9,  6761,    81,  2559,   333,  1448,  1084,    64,\n",
              "          33,   153,  2892,   548,   367,  1392,  2525,  9645,   403,\n",
              "        2251,  3489,   352,  1042,  4041,  1427,    66,   352,   113,\n",
              "         131,  1950,   477,   577,   178,  6761,   333,   622,     6,\n",
              "         822,    53,   405,   490,  1816,  8266,  1544,    61,  2157,\n",
              "           4,   522,   585,  2560,     0,     0,     0,     0,     0,\n",
              "           0,     0,     0,     0,     0,     0,     0,     0,     0,\n",
              "           0,     0,     0,     0,     0,     0,     0,     0,     0,\n",
              "           0,     0,     0,     0,     0,     0,     0,     0,     0,\n",
              "           0,     0,     0,     0,     0,     0,     0,     0,     0,\n",
              "           0,     0,     0,     0,     0,     0,     0,     0,     0,\n",
              "           0,     0,     0,     0,     0,     0,     0,     0,     0,\n",
              "           0,     0,     0,     0,     0,     0,     0,     0,     0,\n",
              "           0,     0,     0,     0,     0,     0,     0,     0,     0,\n",
              "           0,     0,     0,     0,     0,     0,     0,     0,     0,\n",
              "           0,     0,     0,     0,     0,     0,     0,     0,     0,\n",
              "           0,     0,     0,     0,     0,     0,     0,     0,     0,\n",
              "           0,     0,     0,     0,     0,     0,     0,     0,     0,\n",
              "           0,     0,     0,     0,     0,     0,     0,     0,     0,\n",
              "           0,     0,     0,     0,     0,     0,     0,     0,     0,\n",
              "           0,     0,     0,     0,     0,     0,     0,     0,     0,\n",
              "           0,     0,     0,     0,     0,     0,     0,     0,     0,\n",
              "           0,     0,     0,     0,     0,     0,     0,     0,     0,\n",
              "           0,     0,     0,     0,     0,     0,     0,     0,     0,\n",
              "           0,     0,     0,     0,     0,     0,     0,     0,     0,\n",
              "           0,     0,     0,     0,     0,     0,     0,     0,     0,\n",
              "           0,     0,     0,     0,     0,     0,     0,     0,     0,\n",
              "           0,     0,     0,     0,     0,     0,     0,     0,     0,\n",
              "           0,     0,     0,     0,     0,     0,     0,     0,     0,\n",
              "           0,     0,     0,     0,     0,     0,     0,     0,     0,\n",
              "           0,     0,     0,     0,     0,     0,     0,     0,     0,\n",
              "           0,     0,     0,     0,     0,     0,     0,     0,     0,\n",
              "           0,     0,     0,     0,     0,     0,     0,     0,     0,\n",
              "           0,     0,     0,     0,     0,     0,     0,     0,     0,\n",
              "           0,     0,     0,     0,     0,     0,     0,     0,     0,\n",
              "           0,     0,     0,     0,     0,     0,     0,     0,     0,\n",
              "           0,     0,     0,     0], dtype=int32)"
            ]
          },
          "metadata": {
            "tags": []
          },
          "execution_count": 157
        }
      ]
    },
    {
      "cell_type": "code",
      "metadata": {
        "colab": {
          "base_uri": "https://localhost:8080/"
        },
        "id": "c1u3bJjBAplw",
        "outputId": "f2ee7f66-97df-442c-a5ec-932046fc11d7"
      },
      "source": [
        "embedding_dim=100\n",
        "model=Sequential()\n",
        "model.add(Embedding(MAX_NB_WORDS,embedding_dim,input_length=max_len))\n",
        "model.add(LSTM(128,return_sequences=True))\n",
        "model.add(Dropout(0.2))\n",
        "model.add(Flatten())\n",
        "model.add(Dense(4, activation='softmax'))\n",
        "model.compile(loss='categorical_crossentropy',optimizer=optimizers.Adam(learning_rate=1e-4),metrics=['categorical_accuracy'])\n",
        "model.summary()"
      ],
      "execution_count": 170,
      "outputs": [
        {
          "output_type": "stream",
          "text": [
            "Model: \"sequential_19\"\n",
            "_________________________________________________________________\n",
            "Layer (type)                 Output Shape              Param #   \n",
            "=================================================================\n",
            "embedding_19 (Embedding)     (None, 400, 100)          7500000   \n",
            "_________________________________________________________________\n",
            "lstm_18 (LSTM)               (None, 400, 128)          117248    \n",
            "_________________________________________________________________\n",
            "dropout_18 (Dropout)         (None, 400, 128)          0         \n",
            "_________________________________________________________________\n",
            "flatten_5 (Flatten)          (None, 51200)             0         \n",
            "_________________________________________________________________\n",
            "dense_17 (Dense)             (None, 4)                 204804    \n",
            "=================================================================\n",
            "Total params: 7,822,052\n",
            "Trainable params: 7,822,052\n",
            "Non-trainable params: 0\n",
            "_________________________________________________________________\n"
          ],
          "name": "stdout"
        }
      ]
    },
    {
      "cell_type": "code",
      "metadata": {
        "id": "86nOqiSFM3L0",
        "colab": {
          "base_uri": "https://localhost:8080/"
        },
        "outputId": "b1378648-0e27-49f9-a86b-3e88b4ae411f"
      },
      "source": [
        "filepath=\"MovieGenrePredictionUsingPlotSummariesmodel1exp2.h5\"\n",
        "checkpoint = ModelCheckpoint(filepath, save_best_only=True)\n",
        "callbacks_list = [checkpoint]\n",
        "len(X_train)"
      ],
      "execution_count": 166,
      "outputs": [
        {
          "output_type": "execute_result",
          "data": {
            "text/plain": [
              "12000"
            ]
          },
          "metadata": {
            "tags": []
          },
          "execution_count": 166
        }
      ]
    },
    {
      "cell_type": "code",
      "metadata": {
        "colab": {
          "base_uri": "https://localhost:8080/"
        },
        "id": "reqs5wevM3L0",
        "outputId": "0ed0df84-eb92-4764-a73b-973f27292924"
      },
      "source": [
        "history=model.fit(X_train,y_train, epochs=50, callbacks=callbacks_list, batch_size=32, validation_data=(X_val,y_val))"
      ],
      "execution_count": 171,
      "outputs": [
        {
          "output_type": "stream",
          "text": [
            "Epoch 1/50\n",
            "375/375 [==============================] - 38s 99ms/step - loss: 1.0431 - categorical_accuracy: 0.4386 - val_loss: 1.0117 - val_categorical_accuracy: 0.5429\n",
            "Epoch 2/50\n",
            "375/375 [==============================] - 37s 100ms/step - loss: 0.7448 - categorical_accuracy: 0.6212 - val_loss: 1.0544 - val_categorical_accuracy: 0.5234\n",
            "Epoch 3/50\n",
            "375/375 [==============================] - 37s 98ms/step - loss: 0.5232 - categorical_accuracy: 0.7717 - val_loss: 0.9846 - val_categorical_accuracy: 0.5988\n",
            "Epoch 4/50\n",
            "375/375 [==============================] - 37s 99ms/step - loss: 0.2932 - categorical_accuracy: 0.8869 - val_loss: 1.3004 - val_categorical_accuracy: 0.5728\n",
            "Epoch 5/50\n",
            "375/375 [==============================] - 37s 98ms/step - loss: 0.1458 - categorical_accuracy: 0.9488 - val_loss: 1.9486 - val_categorical_accuracy: 0.5719\n",
            "Epoch 6/50\n",
            "375/375 [==============================] - 37s 98ms/step - loss: 0.0764 - categorical_accuracy: 0.9760 - val_loss: 2.3732 - val_categorical_accuracy: 0.5468\n",
            "Epoch 7/50\n",
            "375/375 [==============================] - 37s 98ms/step - loss: 0.0433 - categorical_accuracy: 0.9879 - val_loss: 2.7590 - val_categorical_accuracy: 0.5693\n",
            "Epoch 8/50\n",
            "375/375 [==============================] - 37s 99ms/step - loss: 0.0294 - categorical_accuracy: 0.9931 - val_loss: 3.0414 - val_categorical_accuracy: 0.5264\n",
            "Epoch 9/50\n",
            "375/375 [==============================] - 36s 97ms/step - loss: 0.0236 - categorical_accuracy: 0.9942 - val_loss: 2.4904 - val_categorical_accuracy: 0.5589\n",
            "Epoch 10/50\n",
            "375/375 [==============================] - 37s 99ms/step - loss: 0.0193 - categorical_accuracy: 0.9958 - val_loss: 3.1626 - val_categorical_accuracy: 0.5468\n",
            "Epoch 11/50\n",
            "375/375 [==============================] - 37s 98ms/step - loss: 0.0212 - categorical_accuracy: 0.9943 - val_loss: 2.5566 - val_categorical_accuracy: 0.5472\n",
            "Epoch 12/50\n",
            "375/375 [==============================] - 37s 99ms/step - loss: 0.0151 - categorical_accuracy: 0.9962 - val_loss: 3.3157 - val_categorical_accuracy: 0.5689\n",
            "Epoch 13/50\n",
            "375/375 [==============================] - 37s 98ms/step - loss: 0.0143 - categorical_accuracy: 0.9967 - val_loss: 2.7617 - val_categorical_accuracy: 0.5689\n",
            "Epoch 14/50\n",
            "375/375 [==============================] - 37s 99ms/step - loss: 0.0118 - categorical_accuracy: 0.9976 - val_loss: 3.2884 - val_categorical_accuracy: 0.5546\n",
            "Epoch 15/50\n",
            "375/375 [==============================] - 37s 100ms/step - loss: 0.0104 - categorical_accuracy: 0.9980 - val_loss: 3.3952 - val_categorical_accuracy: 0.5416\n",
            "Epoch 16/50\n",
            "375/375 [==============================] - 37s 100ms/step - loss: 0.0097 - categorical_accuracy: 0.9980 - val_loss: 3.8071 - val_categorical_accuracy: 0.5368\n",
            "Epoch 17/50\n",
            "375/375 [==============================] - 37s 99ms/step - loss: 0.0094 - categorical_accuracy: 0.9981 - val_loss: 2.5963 - val_categorical_accuracy: 0.5659\n",
            "Epoch 18/50\n",
            "375/375 [==============================] - 37s 99ms/step - loss: 0.0084 - categorical_accuracy: 0.9980 - val_loss: 3.2136 - val_categorical_accuracy: 0.5425\n",
            "Epoch 19/50\n",
            "375/375 [==============================] - 36s 97ms/step - loss: 0.0111 - categorical_accuracy: 0.9979 - val_loss: 3.5309 - val_categorical_accuracy: 0.5329\n",
            "Epoch 20/50\n",
            "375/375 [==============================] - 37s 99ms/step - loss: 0.0134 - categorical_accuracy: 0.9960 - val_loss: 3.1995 - val_categorical_accuracy: 0.5425\n",
            "Epoch 21/50\n",
            "375/375 [==============================] - 37s 98ms/step - loss: 0.0098 - categorical_accuracy: 0.9982 - val_loss: 2.7117 - val_categorical_accuracy: 0.5412\n",
            "Epoch 22/50\n",
            "375/375 [==============================] - 37s 98ms/step - loss: 0.0078 - categorical_accuracy: 0.9984 - val_loss: 3.7168 - val_categorical_accuracy: 0.5325\n",
            "Epoch 23/50\n",
            "375/375 [==============================] - 37s 99ms/step - loss: 0.0063 - categorical_accuracy: 0.9987 - val_loss: 2.8204 - val_categorical_accuracy: 0.5377\n",
            "Epoch 24/50\n",
            "375/375 [==============================] - 37s 100ms/step - loss: 0.0114 - categorical_accuracy: 0.9973 - val_loss: 3.0155 - val_categorical_accuracy: 0.5282\n",
            "Epoch 25/50\n",
            "375/375 [==============================] - 37s 100ms/step - loss: 0.0071 - categorical_accuracy: 0.9987 - val_loss: 3.2037 - val_categorical_accuracy: 0.5494\n",
            "Epoch 26/50\n",
            "375/375 [==============================] - 37s 99ms/step - loss: 0.0055 - categorical_accuracy: 0.9985 - val_loss: 2.7119 - val_categorical_accuracy: 0.5355\n",
            "Epoch 27/50\n",
            "375/375 [==============================] - 37s 98ms/step - loss: 0.0062 - categorical_accuracy: 0.9982 - val_loss: 4.4252 - val_categorical_accuracy: 0.5594\n",
            "Epoch 28/50\n",
            "375/375 [==============================] - 37s 99ms/step - loss: 0.0188 - categorical_accuracy: 0.9963 - val_loss: 3.3824 - val_categorical_accuracy: 0.4723\n",
            "Epoch 29/50\n",
            "375/375 [==============================] - 37s 98ms/step - loss: 0.0089 - categorical_accuracy: 0.9978 - val_loss: 4.5063 - val_categorical_accuracy: 0.5269\n",
            "Epoch 30/50\n",
            "375/375 [==============================] - 37s 99ms/step - loss: 0.0072 - categorical_accuracy: 0.9983 - val_loss: 7.1767 - val_categorical_accuracy: 0.5529\n",
            "Epoch 31/50\n",
            "375/375 [==============================] - 37s 99ms/step - loss: 0.0081 - categorical_accuracy: 0.9976 - val_loss: 3.5120 - val_categorical_accuracy: 0.5290\n",
            "Epoch 32/50\n",
            "375/375 [==============================] - 37s 98ms/step - loss: 0.0052 - categorical_accuracy: 0.9987 - val_loss: 3.4902 - val_categorical_accuracy: 0.5459\n",
            "Epoch 33/50\n",
            "375/375 [==============================] - 37s 99ms/step - loss: 0.0058 - categorical_accuracy: 0.9986 - val_loss: 3.3202 - val_categorical_accuracy: 0.5494\n",
            "Epoch 34/50\n",
            "375/375 [==============================] - 37s 98ms/step - loss: 0.0055 - categorical_accuracy: 0.9986 - val_loss: 2.8285 - val_categorical_accuracy: 0.5433\n",
            "Epoch 35/50\n",
            "375/375 [==============================] - 37s 99ms/step - loss: 0.0096 - categorical_accuracy: 0.9977 - val_loss: 4.5350 - val_categorical_accuracy: 0.5568\n",
            "Epoch 36/50\n",
            "375/375 [==============================] - 37s 99ms/step - loss: 0.0063 - categorical_accuracy: 0.9986 - val_loss: 3.1602 - val_categorical_accuracy: 0.5511\n",
            "Epoch 37/50\n",
            "375/375 [==============================] - 37s 98ms/step - loss: 0.0051 - categorical_accuracy: 0.9985 - val_loss: 3.0696 - val_categorical_accuracy: 0.5520\n",
            "Epoch 38/50\n",
            "375/375 [==============================] - 37s 99ms/step - loss: 0.0047 - categorical_accuracy: 0.9987 - val_loss: 3.2102 - val_categorical_accuracy: 0.5468\n",
            "Epoch 39/50\n",
            "375/375 [==============================] - 37s 99ms/step - loss: 0.0050 - categorical_accuracy: 0.9985 - val_loss: 2.3236 - val_categorical_accuracy: 0.5364\n",
            "Epoch 40/50\n",
            "375/375 [==============================] - 37s 99ms/step - loss: 0.0047 - categorical_accuracy: 0.9985 - val_loss: 2.8541 - val_categorical_accuracy: 0.5325\n",
            "Epoch 41/50\n",
            "375/375 [==============================] - 37s 98ms/step - loss: 0.0055 - categorical_accuracy: 0.9983 - val_loss: 2.7780 - val_categorical_accuracy: 0.5412\n",
            "Epoch 42/50\n",
            "375/375 [==============================] - 36s 97ms/step - loss: 0.0041 - categorical_accuracy: 0.9986 - val_loss: 2.6969 - val_categorical_accuracy: 0.5299\n",
            "Epoch 43/50\n",
            "375/375 [==============================] - 38s 100ms/step - loss: 0.0039 - categorical_accuracy: 0.9988 - val_loss: 2.7681 - val_categorical_accuracy: 0.5481\n",
            "Epoch 44/50\n",
            "375/375 [==============================] - 37s 100ms/step - loss: 0.0049 - categorical_accuracy: 0.9987 - val_loss: 2.8984 - val_categorical_accuracy: 0.5407\n",
            "Epoch 45/50\n",
            "375/375 [==============================] - 37s 98ms/step - loss: 0.0049 - categorical_accuracy: 0.9987 - val_loss: 2.4737 - val_categorical_accuracy: 0.5425\n",
            "Epoch 46/50\n",
            "375/375 [==============================] - 37s 99ms/step - loss: 0.0051 - categorical_accuracy: 0.9985 - val_loss: 2.6088 - val_categorical_accuracy: 0.5537\n",
            "Epoch 47/50\n",
            "375/375 [==============================] - 37s 99ms/step - loss: 0.0045 - categorical_accuracy: 0.9985 - val_loss: 2.5636 - val_categorical_accuracy: 0.5282\n",
            "Epoch 48/50\n",
            "375/375 [==============================] - 37s 98ms/step - loss: 0.0051 - categorical_accuracy: 0.9983 - val_loss: 2.8254 - val_categorical_accuracy: 0.5186\n",
            "Epoch 49/50\n",
            "375/375 [==============================] - 37s 98ms/step - loss: 0.0039 - categorical_accuracy: 0.9986 - val_loss: 2.8054 - val_categorical_accuracy: 0.5498\n",
            "Epoch 50/50\n",
            "375/375 [==============================] - 36s 97ms/step - loss: 0.0045 - categorical_accuracy: 0.9985 - val_loss: 2.7319 - val_categorical_accuracy: 0.5563\n"
          ],
          "name": "stdout"
        }
      ]
    },
    {
      "cell_type": "code",
      "metadata": {
        "colab": {
          "base_uri": "https://localhost:8080/",
          "height": 585
        },
        "id": "kmel8imKDsHF",
        "outputId": "10f795db-26ae-418e-975a-1aa2fa24802d"
      },
      "source": [
        " \n",
        "acc=history.history['categorical_accuracy']\n",
        "val_acc=history.history['val_categorical_accuracy']\n",
        "loss=history.history['loss']\n",
        "val_loss=history.history['val_loss']\n",
        "epochs=range(1,len(acc)+1)\n",
        "plt.xlabel('Epochs')\n",
        "plt.ylabel('Accuracy')\n",
        "plt.plot(epochs, acc, 'bo', label='Training acc')\n",
        "plt.plot(epochs, val_acc, 'b', label='Validation acc')\n",
        "plt.title('Training and validation accuracy')\n",
        "plt.legend()\n",
        "plt.figure()\n",
        "\n",
        "plt.plot(epochs, loss, 'bo', label='Training loss')\n",
        "plt.plot(epochs, val_loss, 'b', label='Validation loss')\n",
        "plt.title('Training and validation loss')\n",
        "plt.xlabel('Epochs')\n",
        "plt.ylabel('Loss')\n",
        "plt.legend()\n",
        "plt.show()"
      ],
      "execution_count": 172,
      "outputs": [
        {
          "output_type": "display_data",
          "data": {
            "image/png": "[encoded data removed]",
            "text/plain": [
              "<Figure size 432x288 with 1 Axes>"
            ]
          },
          "metadata": {
            "tags": [],
            "needs_background": "light"
          }
        },
        {
          "output_type": "display_data",
          "data": {
            "image/png": "[encoded data removed]",
            "text/plain": [
              "<Figure size 432x288 with 1 Axes>"
            ]
          },
          "metadata": {
            "tags": [],
            "needs_background": "light"
          }
        }
      ]
    },
    {
      "cell_type": "code",
      "metadata": {
        "colab": {
          "base_uri": "https://localhost:8080/"
        },
        "id": "1Be85gqtJGr7",
        "outputId": "96c01804-f96b-4c3c-b28b-16eaf673d414"
      },
      "source": [
        "from sklearn.metrics import accuracy_score\n",
        "\n",
        "pred = model.predict(X_val)\n",
        "predict_classes = np.argmax(pred,axis=1)\n",
        "expected_classes = np.argmax(y_val,axis=1)\n",
        "correct = accuracy_score(expected_classes,predict_classes)\n",
        "print(f\"Accuracy: {correct}\")"
      ],
      "execution_count": 173,
      "outputs": [
        {
          "output_type": "stream",
          "text": [
            "Accuracy: 0.5563258232235702\n"
          ],
          "name": "stdout"
        }
      ]
    },
    {
      "cell_type": "code",
      "metadata": {
        "id": "rYhf2MYyGZiR"
      },
      "source": [
        "from tensorflow.python.keras.models import load_model\n",
        "\n",
        "best_model = load_model('MovieGenrePredictionUsingPlotSummariesmodel1exp2.h5')"
      ],
      "execution_count": 174,
      "outputs": []
    },
    {
      "cell_type": "code",
      "metadata": {
        "colab": {
          "base_uri": "https://localhost:8080/"
        },
        "id": "lB3Xa5rYGe_I",
        "outputId": "12078ac0-175a-4750-c44c-6781190959de"
      },
      "source": [
        "\n",
        "\n",
        "batch_size=32\n",
        "steps_test=int(len(X_val)/batch_size)\n",
        "result = best_model.evaluate(X_val, y_val, steps=steps_test,verbose=1)\n",
        "print(\"Validation-set accuracy: {0:.2%}\".format(result[1]))\n",
        "\n"
      ],
      "execution_count": 175,
      "outputs": [
        {
          "output_type": "stream",
          "text": [
            "65/72 [==========================>...] - ETA: 0s - loss: 1.0040 - categorical_accuracy: 0.5907WARNING:tensorflow:Your input ran out of data; interrupting training. Make sure that your dataset or generator can generate at least `steps_per_epoch * epochs` batches (in this case, 72 batches). You may need to use the repeat() function when building your dataset.\n"
          ],
          "name": "stdout"
        },
        {
          "output_type": "stream",
          "text": [
            "WARNING:tensorflow:Your input ran out of data; interrupting training. Make sure that your dataset or generator can generate at least `steps_per_epoch * epochs` batches (in this case, 72 batches). You may need to use the repeat() function when building your dataset.\n"
          ],
          "name": "stderr"
        },
        {
          "output_type": "stream",
          "text": [
            "\b\b\b\b\b\b\b\b\b\b\b\b\b\b\b\b\b\b\b\b\b\b\b\b\b\b\b\b\b\b\b\b\b\b\b\b\b\b\b\b\b\b\b\b\b\b\b\b\b\b\b\b\b\b\b\b\b\b\b\b\b\b\b\b\b\b\b\b\b\b\b\b\b\b\b\b\b\b\b\b\b\b\b\b\b\b\b\b\b\b\b\b\b\b\r72/72 [==============================] - 1s 10ms/step - loss: 0.9846 - categorical_accuracy: 0.5988\n",
            "Validation-set accuracy: 59.88%\n"
          ],
          "name": "stdout"
        }
      ]
    },
    {
      "cell_type": "code",
      "metadata": {
        "id": "y1z-anh4Zw1h",
        "colab": {
          "base_uri": "https://localhost:8080/"
        },
        "outputId": "954a3857-d83b-45bf-fc99-5db9fe0a246c"
      },
      "source": [
        "best_model.save('fypmodel{:.2%}.h5'.format(result[1]))\n",
        "name='fypmodel{:.2%}.tflite'.format(result[1])\n",
        "converter = tf.lite.TFLiteConverter.from_keras_model(best_model) # path to the SavedModel directory\n",
        "tflite_model = converter.convert()\n",
        "\n",
        "# Save the model.\n",
        "with open(name, 'wb') as f:\n",
        "    f.write(tflite_model)"
      ],
      "execution_count": 176,
      "outputs": [
        {
          "output_type": "stream",
          "text": [
            "WARNING:absl:Found untraced functions such as lstm_cell_24_layer_call_and_return_conditional_losses, lstm_cell_24_layer_call_fn, lstm_cell_24_layer_call_fn, lstm_cell_24_layer_call_and_return_conditional_losses, lstm_cell_24_layer_call_and_return_conditional_losses while saving (showing 5 of 5). These functions will not be directly callable after loading.\n"
          ],
          "name": "stderr"
        },
        {
          "output_type": "stream",
          "text": [
            "INFO:tensorflow:Assets written to: /tmp/tmpl97iqo0h/assets\n"
          ],
          "name": "stdout"
        },
        {
          "output_type": "stream",
          "text": [
            "INFO:tensorflow:Assets written to: /tmp/tmpl97iqo0h/assets\n"
          ],
          "name": "stderr"
        }
      ]
    },
    {
      "cell_type": "code",
      "metadata": {
        "colab": {
          "base_uri": "https://localhost:8080/"
        },
        "id": "RBDQQefxG-Cr",
        "outputId": "e471dcb5-4c8f-4f62-9c65-a9aa5fb68e36"
      },
      "source": [
        "preds = best_model.predict(X_val, batch_size=16,verbose=1)\n",
        "preds=np.around(preds)\n",
        "\n",
        "orig_val_labels=np.argmax(y_val,axis=1)\n",
        "predicted_labels=np.argmax(preds,axis=1)\n",
        "\n",
        "orig_val_labels=np.reshape(orig_val_labels,(2308,1))\n",
        "predicted_labels=np.reshape(predicted_labels,(2308,1))\n",
        "\n",
        "print(predicted_labels.shape)\n",
        "print(orig_val_labels.shape)"
      ],
      "execution_count": 178,
      "outputs": [
        {
          "output_type": "stream",
          "text": [
            "145/145 [==============================] - 1s 8ms/step\n",
            "(2308, 1)\n",
            "(2308, 1)\n"
          ],
          "name": "stdout"
        }
      ]
    },
    {
      "cell_type": "code",
      "metadata": {
        "colab": {
          "base_uri": "https://localhost:8080/",
          "height": 525
        },
        "id": "qQzozgcxHN2v",
        "outputId": "fc2fcd7b-22c5-4708-d40c-705084a7a6a8"
      },
      "source": [
        "%matplotlib inline\n",
        "# Get the confusion matrix\n",
        "from sklearn.metrics import confusion_matrix\n",
        "from mlxtend.plotting import plot_confusion_matrix\n",
        "\n",
        "cm  = confusion_matrix(orig_val_labels, predicted_labels)\n",
        "plt.figure()\n",
        "plot_confusion_matrix(cm,figsize=(12,8), hide_ticks=True,cmap=plt.cm.Blues)\n",
        "plt.xticks(range(4), ['drama','comedy','action'], fontsize=16)\n",
        "plt.yticks(range(4), ['drama','comedy','action'], fontsize=16)\n",
        "plt.show()"
      ],
      "execution_count": 179,
      "outputs": [
        {
          "output_type": "display_data",
          "data": {
            "text/plain": [
              "<Figure size 432x288 with 0 Axes>"
            ]
          },
          "metadata": {
            "tags": []
          }
        },
        {
          "output_type": "display_data",
          "data": {
            "image/png": "[encoded data removed]",
            "text/plain": [
              "<Figure size 864x576 with 1 Axes>"
            ]
          },
          "metadata": {
            "tags": [],
            "needs_background": "light"
          }
        }
      ]
    },
    {
      "cell_type": "code",
      "metadata": {
        "id": "4mWJYvkR5fvs"
      },
      "source": [
        ""
      ],
      "execution_count": null,
      "outputs": []
    }
  ]
}