{
  "nbformat": 4,
  "nbformat_minor": 0,
  "metadata": {
    "colab": {
      "name": "MovieGenrePredictorUsingPlotSummariesExp13.ipynb",
      "provenance": [],
      "collapsed_sections": []
    },
    "kernelspec": {
      "name": "python3",
      "display_name": "Python 3"
    },
    "language_info": {
      "name": "python"
    },
    "accelerator": "GPU"
  },
  "cells": [
    {
      "cell_type": "code",
      "metadata": {
        "id": "1WQ3WnBE__pe"
      },
      "source": [
        "import tensorflow as tf\n",
        "import pandas as pd\n",
        "import numpy as np\n",
        "import nltk\n",
        "from nltk.tokenize import word_tokenize \n",
        "from nltk.stem.porter import PorterStemmer\n",
        "from nltk.stem import WordNetLemmatizer\n",
        "from nltk.corpus import stopwords\n",
        "import re\n",
        "import matplotlib.pyplot as plt\n",
        "from sklearn.model_selection import train_test_split\n",
        "from sklearn.metrics import classification_report\n",
        "from tensorflow.keras.preprocessing.text import Tokenizer\n",
        "from tensorflow.keras.preprocessing.sequence import pad_sequences\n",
        "from tensorflow.keras.utils import to_categorical\n",
        "from tensorflow.keras.layers import LSTM,Dropout,Activation,Bidirectional,Embedding,Dense,Flatten,GlobalMaxPooling1D,SpatialDropout1D\n",
        "from tensorflow.keras.layers import Conv1D,BatchNormalization\n",
        "from tensorflow.keras.models import Sequential\n",
        "from tensorflow.keras import optimizers\n",
        "from tensorflow.keras.callbacks import ModelCheckpoint\n",
        "import os\n",
        "from gensim.models import Word2Vec, KeyedVectors\n",
        "import tensorflow_hub as hub\n",
        "from tensorflow.keras.regularizers import l2"
      ],
      "execution_count": 27,
      "outputs": []
    },
    {
      "cell_type": "code",
      "metadata": {
        "colab": {
          "base_uri": "https://localhost:8080/",
          "height": 54
        },
        "id": "QzI7XcetAGM7",
        "outputId": "3142024c-9964-493e-f880-e662f2359700"
      },
      "source": [
        "from google.colab import drive\n",
        "drive.mount('/content/gdrive')\n",
        "tf.__version__"
      ],
      "execution_count": 6,
      "outputs": [
        {
          "output_type": "stream",
          "name": "stdout",
          "text": [
            "Mounted at /content/gdrive\n"
          ]
        },
        {
          "output_type": "execute_result",
          "data": {
            "application/vnd.google.colaboratory.intrinsic+json": {
              "type": "string"
            },
            "text/plain": [
              "'2.6.0'"
            ]
          },
          "metadata": {},
          "execution_count": 6
        }
      ]
    },
    {
      "cell_type": "code",
      "metadata": {
        "id": "DvtK5S_lAIZq"
      },
      "source": [
        "data_clean=pd.read_csv('/content/gdrive/MyDrive/clean_data.csv')"
      ],
      "execution_count": 7,
      "outputs": []
    },
    {
      "cell_type": "code",
      "metadata": {
        "id": "pj9ZFjS4AlR9"
      },
      "source": [
        "lemmatizer = WordNetLemmatizer()\n",
        "def lemmatize_text(text):\n",
        "    return \" \".join([lemmatizer.lemmatize(w) for w in text.split()])"
      ],
      "execution_count": 8,
      "outputs": []
    },
    {
      "cell_type": "code",
      "metadata": {
        "colab": {
          "base_uri": "https://localhost:8080/"
        },
        "id": "89A3DmK4Apd9",
        "outputId": "f8c10f87-3e6e-439f-811e-b105a97c1fc0"
      },
      "source": [
        "nltk.download('wordnet')\n",
        "data_clean[\"Plot_clean\"] = data_clean[\"Plot_clean\"].apply(lambda text: lemmatize_text(text))\n",
        "data_clean.head()\n",
        "nltk.download('stopwords')\n",
        "nltk.download('punkt')\n",
        "stop = stopwords.words('english')"
      ],
      "execution_count": 9,
      "outputs": [
        {
          "output_type": "stream",
          "name": "stdout",
          "text": [
            "[nltk_data] Downloading package wordnet to /root/nltk_data...\n",
            "[nltk_data]   Unzipping corpora/wordnet.zip.\n",
            "[nltk_data] Downloading package stopwords to /root/nltk_data...\n",
            "[nltk_data]   Unzipping corpora/stopwords.zip.\n",
            "[nltk_data] Downloading package punkt to /root/nltk_data...\n",
            "[nltk_data]   Unzipping tokenizers/punkt.zip.\n"
          ]
        }
      ]
    },
    {
      "cell_type": "code",
      "metadata": {
        "colab": {
          "base_uri": "https://localhost:8080/",
          "height": 397
        },
        "id": "6F1XsNXtAq2K",
        "outputId": "bb237bbc-b329-4328-dd31-fff63ce24791"
      },
      "source": [
        "data_clean['Plot_clean'] = data_clean['Plot_clean'].apply(lambda x: ' '.join([word for word in x.split() if word not in (stop)]))\n",
        "data_clean.head()"
      ],
      "execution_count": 10,
      "outputs": [
        {
          "output_type": "execute_result",
          "data": {
            "text/html": [
              "<div>\n",
              "<style scoped>\n",
              "    .dataframe tbody tr th:only-of-type {\n",
              "        vertical-align: middle;\n",
              "    }\n",
              "\n",
              "    .dataframe tbody tr th {\n",
              "        vertical-align: top;\n",
              "    }\n",
              "\n",
              "    .dataframe thead th {\n",
              "        text-align: right;\n",
              "    }\n",
              "</style>\n",
              "<table border=\"1\" class=\"dataframe\">\n",
              "  <thead>\n",
              "    <tr style=\"text-align: right;\">\n",
              "      <th></th>\n",
              "      <th>Unnamed: 0</th>\n",
              "      <th>index</th>\n",
              "      <th>Release Year</th>\n",
              "      <th>Title</th>\n",
              "      <th>Origin/Ethnicity</th>\n",
              "      <th>Director</th>\n",
              "      <th>Cast</th>\n",
              "      <th>Genre</th>\n",
              "      <th>Wiki Page</th>\n",
              "      <th>Plot</th>\n",
              "      <th>GenreID</th>\n",
              "      <th>Plot_clean</th>\n",
              "    </tr>\n",
              "  </thead>\n",
              "  <tbody>\n",
              "    <tr>\n",
              "      <th>0</th>\n",
              "      <td>0</td>\n",
              "      <td>32501</td>\n",
              "      <td>2011</td>\n",
              "      <td>Vasthad</td>\n",
              "      <td>Telugu</td>\n",
              "      <td>Rajamithran</td>\n",
              "      <td>Aadhi, Meera Nandan</td>\n",
              "      <td>drama</td>\n",
              "      <td>https://en.wikipedia.org/wiki/Ayyanar_(film)</td>\n",
              "      <td>Prabha (Aadhi Pinisetty) is the eldest son of ...</td>\n",
              "      <td>0</td>\n",
              "      <td>prabha aadhi pinisetty eldest son family doe n...</td>\n",
              "    </tr>\n",
              "    <tr>\n",
              "      <th>1</th>\n",
              "      <td>1</td>\n",
              "      <td>48</td>\n",
              "      <td>1912</td>\n",
              "      <td>Petticoat Camp</td>\n",
              "      <td>American</td>\n",
              "      <td>Unknown</td>\n",
              "      <td>William Garwood, Florence La Badie</td>\n",
              "      <td>comedy</td>\n",
              "      <td>https://en.wikipedia.org/wiki/Petticoat_Camp</td>\n",
              "      <td>Only lasting 15 minutes, it is a light-hearted...</td>\n",
              "      <td>1</td>\n",
              "      <td>lasting minute lighthearted comedy battle sex ...</td>\n",
              "    </tr>\n",
              "    <tr>\n",
              "      <th>2</th>\n",
              "      <td>2</td>\n",
              "      <td>15091</td>\n",
              "      <td>2006</td>\n",
              "      <td>Talladega Nights: The Ballad of Ricky Bobby</td>\n",
              "      <td>American</td>\n",
              "      <td>Adam McKay</td>\n",
              "      <td>Will Ferrell, John C. Reilly, Sacha Baron Cohen</td>\n",
              "      <td>comedy</td>\n",
              "      <td>https://en.wikipedia.org/wiki/Talladega_Nights...</td>\n",
              "      <td>Ricky Bobby is a man who grew up dreaming of g...</td>\n",
              "      <td>1</td>\n",
              "      <td>ricky bobby man grew dreaming going fast worki...</td>\n",
              "    </tr>\n",
              "    <tr>\n",
              "      <th>3</th>\n",
              "      <td>3</td>\n",
              "      <td>12831</td>\n",
              "      <td>1996</td>\n",
              "      <td>Skin &amp; Bone</td>\n",
              "      <td>American</td>\n",
              "      <td>Everett Lewis</td>\n",
              "      <td>J. Wyatt</td>\n",
              "      <td>drama</td>\n",
              "      <td>https://en.wikipedia.org/wiki/Skin_%26_Bone_(f...</td>\n",
              "      <td>Skin &amp; Bone is an episodic account of three Lo...</td>\n",
              "      <td>0</td>\n",
              "      <td>skin bone episodic account three los angelesar...</td>\n",
              "    </tr>\n",
              "    <tr>\n",
              "      <th>4</th>\n",
              "      <td>4</td>\n",
              "      <td>2870</td>\n",
              "      <td>1940</td>\n",
              "      <td>The Man I Married</td>\n",
              "      <td>American</td>\n",
              "      <td>Irving Pichel</td>\n",
              "      <td>Joan Bennett, Francis Lederer</td>\n",
              "      <td>drama</td>\n",
              "      <td>https://en.wikipedia.org/wiki/The_Man_I_Married</td>\n",
              "      <td>A successful American woman, art critic Carol ...</td>\n",
              "      <td>0</td>\n",
              "      <td>successful american woman art critic carol cab...</td>\n",
              "    </tr>\n",
              "  </tbody>\n",
              "</table>\n",
              "</div>"
            ],
            "text/plain": [
              "   Unnamed: 0  ...                                         Plot_clean\n",
              "0           0  ...  prabha aadhi pinisetty eldest son family doe n...\n",
              "1           1  ...  lasting minute lighthearted comedy battle sex ...\n",
              "2           2  ...  ricky bobby man grew dreaming going fast worki...\n",
              "3           3  ...  skin bone episodic account three los angelesar...\n",
              "4           4  ...  successful american woman art critic carol cab...\n",
              "\n",
              "[5 rows x 12 columns]"
            ]
          },
          "metadata": {},
          "execution_count": 10
        }
      ]
    },
    {
      "cell_type": "code",
      "metadata": {
        "colab": {
          "base_uri": "https://localhost:8080/"
        },
        "id": "kAFO5JFQAuLQ",
        "outputId": "8111f93d-cc40-4018-aa48-32b6d426f06b"
      },
      "source": [
        "max_num_words=50000\n",
        "max_seq_len=1000\n",
        "tokenizer = Tokenizer(num_words=max_num_words,filters='!\"#$&%()*+-./:;<=>?@[\\]^_`{|}~',lower=True)\n",
        "tokenizer.fit_on_texts((data_clean['Plot_clean'].values))\n",
        "sequences=tokenizer.texts_to_sequences((data_clean['Plot_clean'].values))\n",
        "word_index=tokenizer.word_index\n",
        "print(\"unique tokens:\",len(word_index))\n",
        "# max_len=np.max([len(sequence) for sequence in sequences])\n",
        "print(\"Max length:\",max_seq_len)\n",
        "data = pad_sequences(sequences, maxlen=max_seq_len)\n",
        "print(\"Shape of data tensor:\",data.shape)"
      ],
      "execution_count": 21,
      "outputs": [
        {
          "output_type": "stream",
          "name": "stdout",
          "text": [
            "unique tokens: 114645\n",
            "Max length: 1000\n",
            "Shape of data tensor: (12608, 1000)\n"
          ]
        }
      ]
    },
    {
      "cell_type": "code",
      "metadata": {
        "colab": {
          "base_uri": "https://localhost:8080/"
        },
        "id": "kUFdA3iABFts",
        "outputId": "66b4a42e-f131-4c4c-f10b-0cecf48816a5"
      },
      "source": [
        "labels=np.asarray(data_clean['GenreID'])\n",
        "labels=to_categorical(labels,num_classes=4)\n",
        "print('Label:',labels.shape)\n",
        "labels"
      ],
      "execution_count": 22,
      "outputs": [
        {
          "output_type": "stream",
          "name": "stdout",
          "text": [
            "Label: (12608, 4)\n"
          ]
        },
        {
          "output_type": "execute_result",
          "data": {
            "text/plain": [
              "array([[1., 0., 0., 0.],\n",
              "       [0., 1., 0., 0.],\n",
              "       [0., 1., 0., 0.],\n",
              "       ...,\n",
              "       [0., 1., 0., 0.],\n",
              "       [0., 0., 0., 1.],\n",
              "       [0., 1., 0., 0.]], dtype=float32)"
            ]
          },
          "metadata": {},
          "execution_count": 22
        }
      ]
    },
    {
      "cell_type": "code",
      "metadata": {
        "id": "9hsYwDz2BHf2"
      },
      "source": [
        "X_train,X_val,y_train,y_val=train_test_split(data,labels,test_size=0.10,random_state=42)"
      ],
      "execution_count": 23,
      "outputs": []
    },
    {
      "cell_type": "code",
      "metadata": {
        "colab": {
          "base_uri": "https://localhost:8080/"
        },
        "id": "jG3exed3BN26",
        "outputId": "e138f4f0-01dd-4d65-c67d-a3f5d81243dc"
      },
      "source": [
        "embedding_dim=200\n",
        "model=Sequential()\n",
        "model.add(Embedding(input_dim=max_num_words,output_dim=embedding_dim,input_length=data.shape[1]))\n",
        "model.add(SpatialDropout1D(0.2))\n",
        "# model.add(Conv1D(filters=64, kernel_size=3, padding='same', activation='relu'))\n",
        "# model.add(Dropout(0.3))\n",
        "model.add(LSTM(64,return_sequences=True))\n",
        "model.add(Dropout(0.2))\n",
        "model.add(BatchNormalization())\n",
        "model.add(LSTM(64))\n",
        "model.add(Dropout(0.2))\n",
        "model.add(BatchNormalization())\n",
        "# model.add(Dense(64, activation='relu'))\n",
        "# model.add(Dropout(0.6))\n",
        "# model.add(Dense(32, activation='relu'))\n",
        "# model.add(Dropout(0.6))\n",
        "model.add(Dense(4, activation='softmax'))\n",
        "model.compile(loss='categorical_crossentropy',optimizer=optimizers.Adam(learning_rate=1e-3,decay=1e-6),metrics=['categorical_accuracy'])\n",
        "model.summary()\n",
        "# 32,kernel_regularizer=l2(0.001),input_shape=(X_train.shape[1:]),activation='tanh'"
      ],
      "execution_count": 31,
      "outputs": [
        {
          "output_type": "stream",
          "name": "stdout",
          "text": [
            "Model: \"sequential_6\"\n",
            "_________________________________________________________________\n",
            "Layer (type)                 Output Shape              Param #   \n",
            "=================================================================\n",
            "embedding_6 (Embedding)      (None, 1000, 200)         10000000  \n",
            "_________________________________________________________________\n",
            "spatial_dropout1d_4 (Spatial (None, 1000, 200)         0         \n",
            "_________________________________________________________________\n",
            "lstm_4 (LSTM)                (None, 1000, 64)          67840     \n",
            "_________________________________________________________________\n",
            "dropout_2 (Dropout)          (None, 1000, 64)          0         \n",
            "_________________________________________________________________\n",
            "batch_normalization_1 (Batch (None, 1000, 64)          256       \n",
            "_________________________________________________________________\n",
            "lstm_5 (LSTM)                (None, 64)                33024     \n",
            "_________________________________________________________________\n",
            "dropout_3 (Dropout)          (None, 64)                0         \n",
            "_________________________________________________________________\n",
            "batch_normalization_2 (Batch (None, 64)                256       \n",
            "_________________________________________________________________\n",
            "dense_3 (Dense)              (None, 4)                 260       \n",
            "=================================================================\n",
            "Total params: 10,101,636\n",
            "Trainable params: 10,101,380\n",
            "Non-trainable params: 256\n",
            "_________________________________________________________________\n"
          ]
        }
      ]
    },
    {
      "cell_type": "code",
      "metadata": {
        "colab": {
          "base_uri": "https://localhost:8080/"
        },
        "id": "ji2g0RrpBkLM",
        "outputId": "dea6e4b8-2f96-4d0c-a1f3-0f9911207651"
      },
      "source": [
        "filepath=\"MovieGenrePredictionUsingPlotSummariesmodel1.h5\"\n",
        "checkpoint = ModelCheckpoint(filepath, save_best_only=True)\n",
        "callbacks_list = [checkpoint]\n",
        "len(X_train),len(X_val)"
      ],
      "execution_count": 33,
      "outputs": [
        {
          "output_type": "execute_result",
          "data": {
            "text/plain": [
              "(11347, 1261)"
            ]
          },
          "metadata": {},
          "execution_count": 33
        }
      ]
    },
    {
      "cell_type": "code",
      "metadata": {
        "colab": {
          "base_uri": "https://localhost:8080/"
        },
        "id": "TyE29PkVBmmJ",
        "outputId": "77113aa2-5f18-4e32-9af0-932a8f09f185"
      },
      "source": [
        "history=model.fit(X_train,y_train, epochs=5, callbacks=callbacks_list, batch_size=128, validation_data=(X_val,y_val))"
      ],
      "execution_count": 34,
      "outputs": [
        {
          "output_type": "stream",
          "name": "stdout",
          "text": [
            "Epoch 1/5\n",
            "89/89 [==============================] - 32s 311ms/step - loss: 1.4646 - categorical_accuracy: 0.3880 - val_loss: 1.1933 - val_categorical_accuracy: 0.4703\n",
            "Epoch 2/5\n",
            "89/89 [==============================] - 27s 300ms/step - loss: 0.5882 - categorical_accuracy: 0.7982 - val_loss: 1.0941 - val_categorical_accuracy: 0.5210\n",
            "Epoch 3/5\n",
            "89/89 [==============================] - 27s 300ms/step - loss: 0.1839 - categorical_accuracy: 0.9448 - val_loss: 0.9749 - val_categorical_accuracy: 0.5868\n",
            "Epoch 4/5\n",
            "89/89 [==============================] - 27s 300ms/step - loss: 0.0709 - categorical_accuracy: 0.9806 - val_loss: 1.0511 - val_categorical_accuracy: 0.6408\n",
            "Epoch 5/5\n",
            "89/89 [==============================] - 27s 300ms/step - loss: 0.0357 - categorical_accuracy: 0.9901 - val_loss: 1.2061 - val_categorical_accuracy: 0.6289\n"
          ]
        }
      ]
    },
    {
      "cell_type": "code",
      "metadata": {
        "colab": {
          "base_uri": "https://localhost:8080/",
          "height": 573
        },
        "id": "T-hiZGg2BpAO",
        "outputId": "d892959f-fe05-4e33-90ca-0e252b91cbe1"
      },
      "source": [
        "acc=history.history['categorical_accuracy']\n",
        "val_acc=history.history['val_categorical_accuracy']\n",
        "loss=history.history['loss']\n",
        "val_loss=history.history['val_loss']\n",
        "epochs=range(1,len(acc)+1)\n",
        "plt.xlabel('Epochs')\n",
        "plt.ylabel('Accuracy')\n",
        "plt.plot(epochs, acc, 'bo', label='Training acc')\n",
        "plt.plot(epochs, val_acc, 'b', label='Validation acc')\n",
        "plt.title('Training and validation accuracy')\n",
        "plt.legend()\n",
        "plt.figure()\n",
        "\n",
        "plt.plot(epochs, loss, 'bo', label='Training loss')\n",
        "plt.plot(epochs, val_loss, 'b', label='Validation loss')\n",
        "plt.title('Training and validation loss')\n",
        "plt.xlabel('Epochs')\n",
        "plt.ylabel('Loss')\n",
        "plt.legend()\n",
        "plt.show()"
      ],
      "execution_count": 35,
      "outputs": [
        {
          "output_type": "display_data",
          "data": {
            "image/png": "[encoded data removed]",
            "text/plain": [
              "<Figure size 432x288 with 1 Axes>"
            ]
          },
          "metadata": {
            "needs_background": "light"
          }
        },
        {
          "output_type": "display_data",
          "data": {
            "image/png": "[encoded data removed]",
            "text/plain": [
              "<Figure size 432x288 with 1 Axes>"
            ]
          },
          "metadata": {
            "needs_background": "light"
          }
        }
      ]
    },
    {
      "cell_type": "code",
      "metadata": {
        "id": "TxuUkqx6B3u3"
      },
      "source": [
        "from tensorflow.python.keras.models import load_model\n",
        "\n",
        "best_model = load_model('MovieGenrePredictionUsingPlotSummariesmodel1.h5')"
      ],
      "execution_count": 36,
      "outputs": []
    },
    {
      "cell_type": "code",
      "metadata": {
        "colab": {
          "base_uri": "https://localhost:8080/"
        },
        "id": "Ks-tcIWqB7A0",
        "outputId": "8fc32ac3-5e35-43c5-a938-c231eab6ce3a"
      },
      "source": [
        "batch_size=64\n",
        "steps_test=int(len(X_val)/batch_size)\n",
        "result = best_model.evaluate(X_val, y_val, steps=steps_test,verbose=1)\n",
        "print(\"Validation-set accuracy: {0:.2%}\".format(result[1]))"
      ],
      "execution_count": 37,
      "outputs": [
        {
          "output_type": "stream",
          "name": "stdout",
          "text": [
            "19/19 [==============================] - 3s 115ms/step - loss: 0.9749 - categorical_accuracy: 0.5868\n",
            "Validation-set accuracy: 58.68%\n"
          ]
        }
      ]
    },
    {
      "cell_type": "code",
      "metadata": {
        "colab": {
          "base_uri": "https://localhost:8080/"
        },
        "id": "NY2aEtafB8jY",
        "outputId": "882a1c95-e165-4fe5-bf31-346f75e98b20"
      },
      "source": [
        "best_model.save('fypmodel{:.2%}.h5'.format(result[1]))\n",
        "name='fypmodel{:.2%}.tflite'.format(result[1])\n",
        "converter = tf.lite.TFLiteConverter.from_keras_model(best_model) # path to the SavedModel directory\n",
        "tflite_model = converter.convert()\n",
        "\n",
        "# Save the model.\n",
        "with open(name, 'wb') as f:\n",
        "    f.write(tflite_model)"
      ],
      "execution_count": 38,
      "outputs": [
        {
          "output_type": "stream",
          "name": "stderr",
          "text": [
            "WARNING:absl:Found untraced functions such as lstm_cell_layer_call_fn, lstm_cell_layer_call_and_return_conditional_losses, lstm_cell_1_layer_call_fn, lstm_cell_1_layer_call_and_return_conditional_losses, lstm_cell_layer_call_fn while saving (showing 5 of 10). These functions will not be directly callable after loading.\n"
          ]
        },
        {
          "output_type": "stream",
          "name": "stdout",
          "text": [
            "INFO:tensorflow:Assets written to: /tmp/tmpj4c1y9tx/assets\n"
          ]
        },
        {
          "output_type": "stream",
          "name": "stderr",
          "text": [
            "INFO:tensorflow:Assets written to: /tmp/tmpj4c1y9tx/assets\n"
          ]
        }
      ]
    },
    {
      "cell_type": "code",
      "metadata": {
        "colab": {
          "base_uri": "https://localhost:8080/"
        },
        "id": "RaCOMXHVB_yN",
        "outputId": "561e6d1c-1cc2-4c3e-905d-9c4d7a067a90"
      },
      "source": [
        "preds = best_model.predict(X_val, batch_size=128,verbose=1)\n",
        "preds=np.around(preds)\n",
        "\n",
        "orig_val_labels=np.argmax(y_val,axis=1)\n",
        "predicted_labels=np.argmax(preds,axis=1)\n",
        "\n",
        "orig_val_labels=np.reshape(orig_val_labels,(len(X_val),1))\n",
        "predicted_labels=np.reshape(predicted_labels,(len(X_val),1))\n",
        "\n",
        "print(predicted_labels.shape)\n",
        "print(orig_val_labels.shape)"
      ],
      "execution_count": 39,
      "outputs": [
        {
          "output_type": "stream",
          "name": "stdout",
          "text": [
            "10/10 [==============================] - 2s 93ms/step\n",
            "(1261, 1)\n",
            "(1261, 1)\n"
          ]
        }
      ]
    },
    {
      "cell_type": "code",
      "metadata": {
        "colab": {
          "base_uri": "https://localhost:8080/",
          "height": 629
        },
        "id": "S_pNwa1oCCAJ",
        "outputId": "e3dae3a1-267a-466d-fa7b-a050ea670e31"
      },
      "source": [
        "%matplotlib inline\n",
        "# Get the confusion matrix\n",
        "from sklearn.metrics import confusion_matrix\n",
        "from mlxtend.plotting import plot_confusion_matrix\n",
        "\n",
        "cm  = confusion_matrix(orig_val_labels, predicted_labels)\n",
        "plt.figure()\n",
        "plot_confusion_matrix(cm,figsize=(15,10), hide_ticks=True,cmap=plt.cm.Blues)\n",
        "plt.xticks(range(4), ['drama','comedy','action','horror'], fontsize=16)\n",
        "plt.yticks(range(4), ['drama','comedy','action','horror'], fontsize=16)\n",
        "plt.show()"
      ],
      "execution_count": 40,
      "outputs": [
        {
          "output_type": "display_data",
          "data": {
            "text/plain": [
              "<Figure size 432x288 with 0 Axes>"
            ]
          },
          "metadata": {}
        },
        {
          "output_type": "display_data",
          "data": {
            "image/png": "[encoded data removed]",
            "text/plain": [
              "<Figure size 1080x720 with 1 Axes>"
            ]
          },
          "metadata": {
            "needs_background": "light"
          }
        }
      ]
    },
    {
      "cell_type": "code",
      "metadata": {
        "colab": {
          "base_uri": "https://localhost:8080/"
        },
        "id": "Fff7OwkhCEfl",
        "outputId": "e80a5921-83d5-441f-ddf6-b912fb482514"
      },
      "source": [
        "MainGenres=['drama','comedy','action','horror']\n",
        "print(classification_report(orig_val_labels,predicted_labels,target_names=MainGenres))"
      ],
      "execution_count": 41,
      "outputs": [
        {
          "output_type": "stream",
          "name": "stdout",
          "text": [
            "              precision    recall  f1-score   support\n",
            "\n",
            "       drama       0.55      0.86      0.67       593\n",
            "      comedy       0.69      0.54      0.61       421\n",
            "      action       0.80      0.04      0.07       113\n",
            "      horror       1.00      0.02      0.04       134\n",
            "\n",
            "    accuracy                           0.59      1261\n",
            "   macro avg       0.76      0.36      0.35      1261\n",
            "weighted avg       0.67      0.59      0.53      1261\n",
            "\n"
          ]
        }
      ]
    },
    {
      "cell_type": "code",
      "metadata": {
        "id": "sE5zKLikSotT"
      },
      "source": [
        ""
      ],
      "execution_count": 41,
      "outputs": []
    }
  ]
}