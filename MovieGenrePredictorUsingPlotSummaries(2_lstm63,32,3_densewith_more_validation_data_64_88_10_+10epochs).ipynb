{
  "nbformat": 4,
  "nbformat_minor": 0,
  "metadata": {
    "accelerator": "GPU",
    "colab": {
      "name": "MovieGenrePredictorUsingPlotSummaries(2-lstm63,32,3-densewith more validation data 64.88 10 +10epochs).ipynb",
      "provenance": [],
      "collapsed_sections": []
    },
    "kernelspec": {
      "display_name": "Python 3",
      "name": "python3"
    },
    "language_info": {
      "name": "python"
    }
  },
  "cells": [
    {
      "cell_type": "code",
      "metadata": {
        "id": "1WQ3WnBE__pe"
      },
      "source": [
        "import tensorflow as tf\n",
        "import pandas as pd\n",
        "import numpy as np\n",
        "import nltk\n",
        "from nltk.tokenize import word_tokenize \n",
        "from nltk.stem.porter import PorterStemmer\n",
        "from nltk.stem import WordNetLemmatizer\n",
        "from nltk.corpus import stopwords\n",
        "import re\n",
        "import matplotlib.pyplot as plt\n",
        "from sklearn.model_selection import train_test_split\n",
        "from sklearn.metrics import classification_report\n",
        "from tensorflow.keras.preprocessing.text import Tokenizer\n",
        "from tensorflow.keras.preprocessing.sequence import pad_sequences\n",
        "from tensorflow.keras.utils import to_categorical\n",
        "from tensorflow.keras.layers import LSTM,Dropout,Activation,Bidirectional,Embedding,Dense,Flatten,GlobalMaxPooling1D,SpatialDropout1D\n",
        "from tensorflow.keras.layers import Conv1D,BatchNormalization\n",
        "from tensorflow.keras.models import Sequential\n",
        "from tensorflow.keras import optimizers\n",
        "from tensorflow.keras.callbacks import ModelCheckpoint\n",
        "import os\n",
        "from gensim.models import Word2Vec, KeyedVectors\n",
        "import tensorflow_hub as hub\n",
        "from tensorflow.keras.regularizers import l2"
      ],
      "execution_count": 1,
      "outputs": []
    },
    {
      "cell_type": "code",
      "metadata": {
        "colab": {
          "base_uri": "https://localhost:8080/",
          "height": 52
        },
        "id": "QzI7XcetAGM7",
        "outputId": "89ae0079-8501-4931-8cea-73fffc425dbf"
      },
      "source": [
        "from google.colab import drive\n",
        "drive.mount('/content/gdrive')\n",
        "tf.__version__"
      ],
      "execution_count": 2,
      "outputs": [
        {
          "output_type": "stream",
          "name": "stdout",
          "text": [
            "Mounted at /content/gdrive\n"
          ]
        },
        {
          "output_type": "execute_result",
          "data": {
            "application/vnd.google.colaboratory.intrinsic+json": {
              "type": "string"
            },
            "text/plain": [
              "'2.6.0'"
            ]
          },
          "metadata": {},
          "execution_count": 2
        }
      ]
    },
    {
      "cell_type": "code",
      "metadata": {
        "id": "DvtK5S_lAIZq"
      },
      "source": [
        "data_clean=pd.read_csv('/content/gdrive/MyDrive/clean_data.csv')"
      ],
      "execution_count": 3,
      "outputs": []
    },
    {
      "cell_type": "code",
      "metadata": {
        "colab": {
          "base_uri": "https://localhost:8080/"
        },
        "id": "fhs92ahPlaT7",
        "outputId": "bfc8f2c1-d8a4-4c3b-dca6-df9dda57a284"
      },
      "source": [
        "no_drama=data_clean['Genre'].str.contains('drama').sum()\n",
        "no_comedy=data_clean['Genre'].str.contains('comedy').sum()\n",
        "no_horror=data_clean['Genre'].str.contains('horror').sum()\n",
        "no_action=data_clean['Genre'].str.contains('action').sum()\n",
        "print(\"Number of Drama movies:\",no_drama)\n",
        "print(\"Number of Comedy movies:\",no_comedy)\n",
        "print(\"Number of Horror movies:\",no_horror)\n",
        "print(\"Number of Action movies:\",no_action)"
      ],
      "execution_count": 4,
      "outputs": [
        {
          "output_type": "stream",
          "name": "stdout",
          "text": [
            "Number of Drama movies: 5964\n",
            "Number of Comedy movies: 4379\n",
            "Number of Horror movies: 1167\n",
            "Number of Action movies: 1098\n"
          ]
        }
      ]
    },
    {
      "cell_type": "code",
      "metadata": {
        "id": "pj9ZFjS4AlR9"
      },
      "source": [
        "lemmatizer = WordNetLemmatizer()\n",
        "def lemmatize_text(text):\n",
        "    return \" \".join([lemmatizer.lemmatize(w) for w in text.split()])"
      ],
      "execution_count": 5,
      "outputs": []
    },
    {
      "cell_type": "code",
      "metadata": {
        "id": "ODZvv--KlVZC"
      },
      "source": [
        ""
      ],
      "execution_count": 5,
      "outputs": []
    },
    {
      "cell_type": "code",
      "metadata": {
        "colab": {
          "base_uri": "https://localhost:8080/"
        },
        "id": "89A3DmK4Apd9",
        "outputId": "e3fddf16-96e9-4d8d-de98-dc1ee23ff216"
      },
      "source": [
        "nltk.download('wordnet')\n",
        "data_clean[\"Plot_clean\"] = data_clean[\"Plot_clean\"].apply(lambda text: lemmatize_text(text))\n",
        "data_clean.head()\n",
        "nltk.download('stopwords')\n",
        "nltk.download('punkt')\n",
        "stop = stopwords.words('english')"
      ],
      "execution_count": 6,
      "outputs": [
        {
          "output_type": "stream",
          "name": "stdout",
          "text": [
            "[nltk_data] Downloading package wordnet to /root/nltk_data...\n",
            "[nltk_data]   Unzipping corpora/wordnet.zip.\n",
            "[nltk_data] Downloading package stopwords to /root/nltk_data...\n",
            "[nltk_data]   Unzipping corpora/stopwords.zip.\n",
            "[nltk_data] Downloading package punkt to /root/nltk_data...\n",
            "[nltk_data]   Unzipping tokenizers/punkt.zip.\n"
          ]
        }
      ]
    },
    {
      "cell_type": "code",
      "metadata": {
        "colab": {
          "base_uri": "https://localhost:8080/",
          "height": 391
        },
        "id": "6F1XsNXtAq2K",
        "outputId": "0cfabef9-a8ab-4045-bbd4-5cd9aa642796"
      },
      "source": [
        "data_clean['Plot_clean'] = data_clean['Plot_clean'].apply(lambda x: ' '.join([word for word in x.split() if word not in (stop)]))\n",
        "data_clean.head()"
      ],
      "execution_count": 7,
      "outputs": [
        {
          "output_type": "execute_result",
          "data": {
            "text/html": [
              "<div>\n",
              "<style scoped>\n",
              "    .dataframe tbody tr th:only-of-type {\n",
              "        vertical-align: middle;\n",
              "    }\n",
              "\n",
              "    .dataframe tbody tr th {\n",
              "        vertical-align: top;\n",
              "    }\n",
              "\n",
              "    .dataframe thead th {\n",
              "        text-align: right;\n",
              "    }\n",
              "</style>\n",
              "<table border=\"1\" class=\"dataframe\">\n",
              "  <thead>\n",
              "    <tr style=\"text-align: right;\">\n",
              "      <th></th>\n",
              "      <th>Unnamed: 0</th>\n",
              "      <th>index</th>\n",
              "      <th>Release Year</th>\n",
              "      <th>Title</th>\n",
              "      <th>Origin/Ethnicity</th>\n",
              "      <th>Director</th>\n",
              "      <th>Cast</th>\n",
              "      <th>Genre</th>\n",
              "      <th>Wiki Page</th>\n",
              "      <th>Plot</th>\n",
              "      <th>GenreID</th>\n",
              "      <th>Plot_clean</th>\n",
              "    </tr>\n",
              "  </thead>\n",
              "  <tbody>\n",
              "    <tr>\n",
              "      <th>0</th>\n",
              "      <td>0</td>\n",
              "      <td>32501</td>\n",
              "      <td>2011</td>\n",
              "      <td>Vasthad</td>\n",
              "      <td>Telugu</td>\n",
              "      <td>Rajamithran</td>\n",
              "      <td>Aadhi, Meera Nandan</td>\n",
              "      <td>drama</td>\n",
              "      <td>https://en.wikipedia.org/wiki/Ayyanar_(film)</td>\n",
              "      <td>Prabha (Aadhi Pinisetty) is the eldest son of ...</td>\n",
              "      <td>0</td>\n",
              "      <td>prabha aadhi pinisetty eldest son family doe n...</td>\n",
              "    </tr>\n",
              "    <tr>\n",
              "      <th>1</th>\n",
              "      <td>1</td>\n",
              "      <td>48</td>\n",
              "      <td>1912</td>\n",
              "      <td>Petticoat Camp</td>\n",
              "      <td>American</td>\n",
              "      <td>Unknown</td>\n",
              "      <td>William Garwood, Florence La Badie</td>\n",
              "      <td>comedy</td>\n",
              "      <td>https://en.wikipedia.org/wiki/Petticoat_Camp</td>\n",
              "      <td>Only lasting 15 minutes, it is a light-hearted...</td>\n",
              "      <td>1</td>\n",
              "      <td>lasting minute lighthearted comedy battle sex ...</td>\n",
              "    </tr>\n",
              "    <tr>\n",
              "      <th>2</th>\n",
              "      <td>2</td>\n",
              "      <td>15091</td>\n",
              "      <td>2006</td>\n",
              "      <td>Talladega Nights: The Ballad of Ricky Bobby</td>\n",
              "      <td>American</td>\n",
              "      <td>Adam McKay</td>\n",
              "      <td>Will Ferrell, John C. Reilly, Sacha Baron Cohen</td>\n",
              "      <td>comedy</td>\n",
              "      <td>https://en.wikipedia.org/wiki/Talladega_Nights...</td>\n",
              "      <td>Ricky Bobby is a man who grew up dreaming of g...</td>\n",
              "      <td>1</td>\n",
              "      <td>ricky bobby man grew dreaming going fast worki...</td>\n",
              "    </tr>\n",
              "    <tr>\n",
              "      <th>3</th>\n",
              "      <td>3</td>\n",
              "      <td>12831</td>\n",
              "      <td>1996</td>\n",
              "      <td>Skin &amp; Bone</td>\n",
              "      <td>American</td>\n",
              "      <td>Everett Lewis</td>\n",
              "      <td>J. Wyatt</td>\n",
              "      <td>drama</td>\n",
              "      <td>https://en.wikipedia.org/wiki/Skin_%26_Bone_(f...</td>\n",
              "      <td>Skin &amp; Bone is an episodic account of three Lo...</td>\n",
              "      <td>0</td>\n",
              "      <td>skin bone episodic account three los angelesar...</td>\n",
              "    </tr>\n",
              "    <tr>\n",
              "      <th>4</th>\n",
              "      <td>4</td>\n",
              "      <td>2870</td>\n",
              "      <td>1940</td>\n",
              "      <td>The Man I Married</td>\n",
              "      <td>American</td>\n",
              "      <td>Irving Pichel</td>\n",
              "      <td>Joan Bennett, Francis Lederer</td>\n",
              "      <td>drama</td>\n",
              "      <td>https://en.wikipedia.org/wiki/The_Man_I_Married</td>\n",
              "      <td>A successful American woman, art critic Carol ...</td>\n",
              "      <td>0</td>\n",
              "      <td>successful american woman art critic carol cab...</td>\n",
              "    </tr>\n",
              "  </tbody>\n",
              "</table>\n",
              "</div>"
            ],
            "text/plain": [
              "   Unnamed: 0  ...                                         Plot_clean\n",
              "0           0  ...  prabha aadhi pinisetty eldest son family doe n...\n",
              "1           1  ...  lasting minute lighthearted comedy battle sex ...\n",
              "2           2  ...  ricky bobby man grew dreaming going fast worki...\n",
              "3           3  ...  skin bone episodic account three los angelesar...\n",
              "4           4  ...  successful american woman art critic carol cab...\n",
              "\n",
              "[5 rows x 12 columns]"
            ]
          },
          "metadata": {},
          "execution_count": 7
        }
      ]
    },
    {
      "cell_type": "code",
      "metadata": {
        "id": "SbatxctmJFYZ"
      },
      "source": [
        ""
      ],
      "execution_count": 7,
      "outputs": []
    },
    {
      "cell_type": "code",
      "metadata": {
        "colab": {
          "base_uri": "https://localhost:8080/"
        },
        "id": "kAFO5JFQAuLQ",
        "outputId": "36ebcc73-22dc-4351-9895-4dc3221e4db2"
      },
      "source": [
        "max_num_words=5000\n",
        "max_seq_len=600\n",
        "tokenizer = Tokenizer(num_words=max_num_words,filters='!\"#$&%()*+-./:;<=>?@[\\]^_`{|}~',lower=True)\n",
        "tokenizer.fit_on_texts((data_clean['Plot_clean'].values))\n",
        "sequences=tokenizer.texts_to_sequences((data_clean['Plot_clean'].values))\n",
        "word_index=tokenizer.word_index\n",
        "print(\"unique tokens:\",len(word_index))\n",
        "# max_len=np.max([len(sequence) for sequence in sequences])\n",
        "print(\"Max length:\",max_seq_len)\n",
        "data = pad_sequences(sequences, maxlen=max_seq_len)\n",
        "print(\"Shape of data tensor:\",data.shape)"
      ],
      "execution_count": 8,
      "outputs": [
        {
          "output_type": "stream",
          "name": "stdout",
          "text": [
            "unique tokens: 114645\n",
            "Max length: 600\n",
            "Shape of data tensor: (12608, 600)\n"
          ]
        }
      ]
    },
    {
      "cell_type": "code",
      "metadata": {
        "colab": {
          "base_uri": "https://localhost:8080/"
        },
        "id": "eWa2ayUrkWTT",
        "outputId": "8b1d9d20-ab85-4f41-ea52-6186c00fc855"
      },
      "source": [
        "data[1]"
      ],
      "execution_count": 9,
      "outputs": [
        {
          "output_type": "execute_result",
          "data": {
            "text/plain": [
              "array([   0,    0,    0,    0,    0,    0,    0,    0,    0,    0,    0,\n",
              "          0,    0,    0,    0,    0,    0,    0,    0,    0,    0,    0,\n",
              "          0,    0,    0,    0,    0,    0,    0,    0,    0,    0,    0,\n",
              "          0,    0,    0,    0,    0,    0,    0,    0,    0,    0,    0,\n",
              "          0,    0,    0,    0,    0,    0,    0,    0,    0,    0,    0,\n",
              "          0,    0,    0,    0,    0,    0,    0,    0,    0,    0,    0,\n",
              "          0,    0,    0,    0,    0,    0,    0,    0,    0,    0,    0,\n",
              "          0,    0,    0,    0,    0,    0,    0,    0,    0,    0,    0,\n",
              "          0,    0,    0,    0,    0,    0,    0,    0,    0,    0,    0,\n",
              "          0,    0,    0,    0,    0,    0,    0,    0,    0,    0,    0,\n",
              "          0,    0,    0,    0,    0,    0,    0,    0,    0,    0,    0,\n",
              "          0,    0,    0,    0,    0,    0,    0,    0,    0,    0,    0,\n",
              "          0,    0,    0,    0,    0,    0,    0,    0,    0,    0,    0,\n",
              "          0,    0,    0,    0,    0,    0,    0,    0,    0,    0,    0,\n",
              "          0,    0,    0,    0,    0,    0,    0,    0,    0,    0,    0,\n",
              "          0,    0,    0,    0,    0,    0,    0,    0,    0,    0,    0,\n",
              "          0,    0,    0,    0,    0,    0,    0,    0,    0,    0,    0,\n",
              "          0,    0,    0,    0,    0,    0,    0,    0,    0,    0,    0,\n",
              "          0,    0,    0,    0,    0,    0,    0,    0,    0,    0,    0,\n",
              "          0,    0,    0,    0,    0,    0,    0,    0,    0,    0,    0,\n",
              "          0,    0,    0,    0,    0,    0,    0,    0,    0,    0,    0,\n",
              "          0,    0,    0,    0,    0,    0,    0,    0,    0,    0,    0,\n",
              "          0,    0,    0,    0,    0,    0,    0,    0,    0,    0,    0,\n",
              "          0,    0,    0,    0,    0,    0,    0,    0,    0,    0,    0,\n",
              "          0,    0,    0,    0,    0,    0,    0,    0,    0,    0,    0,\n",
              "          0,    0,    0,    0,    0,    0,    0,    0,    0,    0,    0,\n",
              "          0,    0,    0,    0,    0,    0,    0,    0,    0,    0,    0,\n",
              "          0,    0,    0,    0,    0,    0,    0,    0,    0,    0,    0,\n",
              "          0,    0,    0,    0,    0,    0,    0,    0,    0,    0,    0,\n",
              "          0,    0,    0,    0,    0,    0,    0,    0,    0,    0,    0,\n",
              "          0,    0,    0,    0,    0,    0,    0,    0,    0,    0,    0,\n",
              "          0,    0,    0,    0,    0,    0,    0,    0,    0,    0,    0,\n",
              "          0,    0,    0,    0,    0,    0,    0,    0,    0,    0,    0,\n",
              "          0,    0,    0,    0,    0,    0,    0,    0,    0,    0,    0,\n",
              "          0,    0,    0,    0,    0,    0,    0,    0,    0,    0,    0,\n",
              "          0,    0,    0,    0,    0,    0,    0,    0,    0,    0,    0,\n",
              "          0,    0,    0,    0,    0,    0,    0,    0,    0,    0,    0,\n",
              "          0,    0,    0,    0,    0,    0,    0,    0,    0,    0,    0,\n",
              "          0,    0,    0,    0,    0,    0,    0,    0,    0,    0,    0,\n",
              "          0,    0,    0,    0,    0,    0,    0,    0,    0,    0,    0,\n",
              "          0,    0,    0,    0,    0,    0,    0,    0,    0,    0,    0,\n",
              "          0,    0,    0,    0,    0,    0,    0,    0,    0,    0,    0,\n",
              "          0,    0,    0,    0,    0,    0,    0,    0,    0,    0,    0,\n",
              "          0,    0,    0,    0,    0,    0,    0,    0,    0,    0,    0,\n",
              "          0,    0,    0,    0,    0,    0,    0,    0,    0,    0,    0,\n",
              "          0,    0,    0,    0,    0,    0,    0,    0,    0,    0,    0,\n",
              "          0,    0,    0,    0,    0,    0,    0,    0,    0,    0,    0,\n",
              "          0,    0,    0,    0,    0,    0,    0,    0,    0,    0,    0,\n",
              "          0,    0,    0,    0,    0,    0,    0,    0,    0,    0,    0,\n",
              "          0,    0,    0,    0,    0,    0,    0,    0,    0,    0,    0,\n",
              "          0,    0,    0,    0,    0,    0,    0,    0,    0,    0,    0,\n",
              "          0,    0,    0,    0,    0,    0,    0,    0,    0,    0,    0,\n",
              "          0,    0,    0,    0,    0,    0,    0,    0,    0,    0, 1136,\n",
              "       2481,  634,  235,  183,  115,  163,    5,  102,   36,   86,  587,\n",
              "         77,  953,   45,  556,  183,  389], dtype=int32)"
            ]
          },
          "metadata": {},
          "execution_count": 9
        }
      ]
    },
    {
      "cell_type": "code",
      "metadata": {
        "colab": {
          "base_uri": "https://localhost:8080/"
        },
        "id": "kUFdA3iABFts",
        "outputId": "9c5c243c-20c4-450e-c473-fb16e04b7f09"
      },
      "source": [
        "labels=np.asarray(data_clean['GenreID'].values)\n",
        "labels=to_categorical(labels,num_classes=4)\n",
        "print('Label:',labels.shape)\n",
        "labels[50]"
      ],
      "execution_count": 10,
      "outputs": [
        {
          "output_type": "stream",
          "name": "stdout",
          "text": [
            "Label: (12608, 4)\n"
          ]
        },
        {
          "output_type": "execute_result",
          "data": {
            "text/plain": [
              "array([0., 1., 0., 0.], dtype=float32)"
            ]
          },
          "metadata": {},
          "execution_count": 10
        }
      ]
    },
    {
      "cell_type": "code",
      "metadata": {
        "id": "9hsYwDz2BHf2"
      },
      "source": [
        "X_train,X_val,y_train,y_val=train_test_split(data,labels,test_size=0.10,random_state=42,shuffle=True)"
      ],
      "execution_count": 15,
      "outputs": []
    },
    {
      "cell_type": "code",
      "metadata": {
        "colab": {
          "base_uri": "https://localhost:8080/"
        },
        "id": "jG3exed3BN26",
        "outputId": "a314c5e0-e0bf-4969-948c-978313fdb8ae"
      },
      "source": [
        "embedding_dim=100\n",
        "model=Sequential()\n",
        "model.add(Embedding(input_dim=max_num_words,output_dim=embedding_dim,input_length=data.shape[1]))\n",
        "model.add(SpatialDropout1D(0.3))\n",
        "# model.add(Conv1D(filters=64, kernel_size=3, padding='same', activation='relu'))\n",
        "# model.add(Dropout(0.3))\n",
        "model.add(LSTM(64,return_sequences=True))\n",
        "model.add(Dropout(0.3))\n",
        "model.add(BatchNormalization())\n",
        "# model.add(LSTM(8))\n",
        "# model.add(Dropout(0.4))\n",
        "# model.add(BatchNormalization())\n",
        "# model.add(LSTM(64,return_sequences=True))\n",
        "# model.add(Dropout(0.1))\n",
        "# model.add(BatchNormalization())\n",
        "# model.add(LSTM(64,return_sequences=True))\n",
        "# model.add(Dropout(0.2))\n",
        "# model.add(BatchNormalization())\n",
        "model.add(LSTM(32))\n",
        "model.add(Dropout(0.2))\n",
        "model.add(BatchNormalization())\n",
        "model.add(Dense(64, activation='relu'))\n",
        "model.add(Dropout(0.2))\n",
        "model.add(Dense(32, activation='relu'))\n",
        "model.add(Dropout(0.3))\n",
        "# model.add(Dense(8, activation='relu'))\n",
        "# model.add(Dropout(0.5))\n",
        "# model.add(Dense(8, activation='relu'))\n",
        "# model.add(Dropout(0.3))\n",
        "# model.add(BatchNormalization())\n",
        "model.add(Dense(4, activation='softmax'))\n",
        "model.compile(loss='categorical_crossentropy',optimizer=optimizers.Adam(learning_rate=1e-4,decay=1e-6),metrics=['categorical_accuracy'])\n",
        "model.summary()\n",
        "# 32,kernel_regularizer=l2(0.001),input_shape=(X_train.shape[1:]),activation='tanh'"
      ],
      "execution_count": 31,
      "outputs": [
        {
          "output_type": "stream",
          "name": "stdout",
          "text": [
            "Model: \"sequential_6\"\n",
            "_________________________________________________________________\n",
            "Layer (type)                 Output Shape              Param #   \n",
            "=================================================================\n",
            "embedding_6 (Embedding)      (None, 600, 100)          500000    \n",
            "_________________________________________________________________\n",
            "spatial_dropout1d_6 (Spatial (None, 600, 100)          0         \n",
            "_________________________________________________________________\n",
            "lstm_9 (LSTM)                (None, 600, 64)           42240     \n",
            "_________________________________________________________________\n",
            "dropout_15 (Dropout)         (None, 600, 64)           0         \n",
            "_________________________________________________________________\n",
            "batch_normalization_9 (Batch (None, 600, 64)           256       \n",
            "_________________________________________________________________\n",
            "lstm_10 (LSTM)               (None, 32)                12416     \n",
            "_________________________________________________________________\n",
            "dropout_16 (Dropout)         (None, 32)                0         \n",
            "_________________________________________________________________\n",
            "batch_normalization_10 (Batc (None, 32)                128       \n",
            "_________________________________________________________________\n",
            "dense_12 (Dense)             (None, 64)                2112      \n",
            "_________________________________________________________________\n",
            "dropout_17 (Dropout)         (None, 64)                0         \n",
            "_________________________________________________________________\n",
            "dense_13 (Dense)             (None, 32)                2080      \n",
            "_________________________________________________________________\n",
            "dropout_18 (Dropout)         (None, 32)                0         \n",
            "_________________________________________________________________\n",
            "dense_14 (Dense)             (None, 4)                 132       \n",
            "=================================================================\n",
            "Total params: 559,364\n",
            "Trainable params: 559,172\n",
            "Non-trainable params: 192\n",
            "_________________________________________________________________\n"
          ]
        }
      ]
    },
    {
      "cell_type": "code",
      "metadata": {
        "colab": {
          "base_uri": "https://localhost:8080/"
        },
        "id": "ji2g0RrpBkLM",
        "outputId": "afe07bd3-8532-4607-e077-26c2a1a18b09"
      },
      "source": [
        "filepath=\"MovieGenrePredictionUsingPlotSummariesmodel1.h5\"\n",
        "checkpoint = ModelCheckpoint(filepath, save_best_only=True)\n",
        "callbacks_list = [checkpoint]\n",
        "len(X_train),len(X_val)"
      ],
      "execution_count": 32,
      "outputs": [
        {
          "output_type": "execute_result",
          "data": {
            "text/plain": [
              "(11347, 1261)"
            ]
          },
          "metadata": {},
          "execution_count": 32
        }
      ]
    },
    {
      "cell_type": "code",
      "metadata": {
        "colab": {
          "base_uri": "https://localhost:8080/"
        },
        "id": "TyE29PkVBmmJ",
        "outputId": "ca11e7bb-27c9-4914-b547-d5429bbea22b"
      },
      "source": [
        "history=model.fit(X_train,y_train, epochs=10, callbacks=callbacks_list, batch_size=32, validation_data=(X_val,y_val))"
      ],
      "execution_count": 42,
      "outputs": [
        {
          "output_type": "stream",
          "name": "stdout",
          "text": [
            "Epoch 1/10\n",
            "355/355 [==============================] - 77s 218ms/step - loss: 0.6721 - categorical_accuracy: 0.7368 - val_loss: 0.8656 - val_categorical_accuracy: 0.6471\n",
            "Epoch 2/10\n",
            "355/355 [==============================] - 77s 218ms/step - loss: 0.6184 - categorical_accuracy: 0.7650 - val_loss: 0.9196 - val_categorical_accuracy: 0.6630\n",
            "Epoch 3/10\n",
            "355/355 [==============================] - 77s 218ms/step - loss: 0.5784 - categorical_accuracy: 0.7790 - val_loss: 0.9101 - val_categorical_accuracy: 0.6741\n",
            "Epoch 4/10\n",
            "355/355 [==============================] - 77s 218ms/step - loss: 0.5464 - categorical_accuracy: 0.7931 - val_loss: 0.9163 - val_categorical_accuracy: 0.6646\n",
            "Epoch 5/10\n",
            "355/355 [==============================] - 77s 218ms/step - loss: 0.5125 - categorical_accuracy: 0.8120 - val_loss: 0.9523 - val_categorical_accuracy: 0.6582\n",
            "Epoch 6/10\n",
            "355/355 [==============================] - 77s 218ms/step - loss: 0.4855 - categorical_accuracy: 0.8255 - val_loss: 0.9812 - val_categorical_accuracy: 0.6725\n",
            "Epoch 7/10\n",
            "355/355 [==============================] - 77s 217ms/step - loss: 0.4458 - categorical_accuracy: 0.8374 - val_loss: 1.0027 - val_categorical_accuracy: 0.6638\n",
            "Epoch 8/10\n",
            "355/355 [==============================] - 77s 218ms/step - loss: 0.4392 - categorical_accuracy: 0.8444 - val_loss: 1.0701 - val_categorical_accuracy: 0.6384\n",
            "Epoch 9/10\n",
            "355/355 [==============================] - 77s 218ms/step - loss: 0.4344 - categorical_accuracy: 0.8403 - val_loss: 1.0334 - val_categorical_accuracy: 0.6693\n",
            "Epoch 10/10\n",
            "355/355 [==============================] - 77s 218ms/step - loss: 0.3914 - categorical_accuracy: 0.8606 - val_loss: 1.0781 - val_categorical_accuracy: 0.6764\n"
          ]
        }
      ]
    },
    {
      "cell_type": "code",
      "metadata": {
        "colab": {
          "base_uri": "https://localhost:8080/",
          "height": 573
        },
        "id": "T-hiZGg2BpAO",
        "outputId": "5966ae51-9f6f-4bc5-d28e-bcb0f5136ca2"
      },
      "source": [
        "acc=history.history['categorical_accuracy']\n",
        "val_acc=history.history['val_categorical_accuracy']\n",
        "loss=history.history['loss']\n",
        "val_loss=history.history['val_loss']\n",
        "epochs=range(1,len(acc)+1)\n",
        "plt.xlabel('Epochs')\n",
        "plt.ylabel('Accuracy')\n",
        "plt.plot(epochs, acc, 'bo', label='Training acc')\n",
        "plt.plot(epochs, val_acc, 'b', label='Validation acc')\n",
        "plt.title('Training and validation accuracy')\n",
        "plt.legend()\n",
        "plt.figure()\n",
        "\n",
        "plt.plot(epochs, loss, 'bo', label='Training loss')\n",
        "plt.plot(epochs, val_loss, 'b', label='Validation loss')\n",
        "plt.title('Training and validation loss')\n",
        "plt.xlabel('Epochs')\n",
        "plt.ylabel('Loss')\n",
        "plt.legend()\n",
        "plt.show()"
      ],
      "execution_count": 43,
      "outputs": [
        {
          "output_type": "display_data",
          "data": {
            "image/png": "[encoded data removed]",
            "text/plain": [
              "<Figure size 432x288 with 1 Axes>"
            ]
          },
          "metadata": {
            "needs_background": "light"
          }
        },
        {
          "output_type": "display_data",
          "data": {
            "image/png": "[encoded data removed]",
            "text/plain": [
              "<Figure size 432x288 with 1 Axes>"
            ]
          },
          "metadata": {
            "needs_background": "light"
          }
        }
      ]
    },
    {
      "cell_type": "code",
      "metadata": {
        "id": "TxuUkqx6B3u3"
      },
      "source": [
        "from tensorflow.python.keras.models import load_model\n",
        "\n",
        "best_model = load_model('MovieGenrePredictionUsingPlotSummariesmodel1.h5')"
      ],
      "execution_count": 44,
      "outputs": []
    },
    {
      "cell_type": "code",
      "metadata": {
        "colab": {
          "base_uri": "https://localhost:8080/"
        },
        "id": "Ks-tcIWqB7A0",
        "outputId": "9eb92693-904f-403a-9fb3-8e92597c0c30"
      },
      "source": [
        "batch_size=32\n",
        "steps_test=int(len(X_val)/batch_size)\n",
        "result = best_model.evaluate(X_val, y_val, steps=steps_test,verbose=1)\n",
        "print(\"Validation-set accuracy: {0:.2%}\".format(result[1]))"
      ],
      "execution_count": 45,
      "outputs": [
        {
          "output_type": "stream",
          "name": "stdout",
          "text": [
            "39/39 [==============================] - 4s 76ms/step - loss: 0.8656 - categorical_accuracy: 0.6471\n",
            "Validation-set accuracy: 64.71%\n"
          ]
        }
      ]
    },
    {
      "cell_type": "code",
      "metadata": {
        "colab": {
          "base_uri": "https://localhost:8080/"
        },
        "id": "NY2aEtafB8jY",
        "outputId": "b56d7630-6543-4986-dffa-b48fc1ac6365"
      },
      "source": [
        "best_model.save('fypmodel{:.2%}.h5'.format(result[1]))\n",
        "name='fypmodel{:.2%}.tflite'.format(result[1])\n",
        "converter = tf.lite.TFLiteConverter.from_keras_model(best_model) # path to the SavedModel directory\n",
        "tflite_model = converter.convert()\n",
        "\n",
        "# Save the model.\n",
        "with open(name, 'wb') as f:\n",
        "    f.write(tflite_model)"
      ],
      "execution_count": 46,
      "outputs": [
        {
          "output_type": "stream",
          "name": "stderr",
          "text": [
            "WARNING:absl:Found untraced functions such as lstm_cell_2_layer_call_fn, lstm_cell_2_layer_call_and_return_conditional_losses, lstm_cell_3_layer_call_fn, lstm_cell_3_layer_call_and_return_conditional_losses, lstm_cell_2_layer_call_fn while saving (showing 5 of 10). These functions will not be directly callable after loading.\n"
          ]
        },
        {
          "output_type": "stream",
          "name": "stdout",
          "text": [
            "INFO:tensorflow:Assets written to: /tmp/tmp8s5c8jtj/assets\n"
          ]
        },
        {
          "output_type": "stream",
          "name": "stderr",
          "text": [
            "INFO:tensorflow:Assets written to: /tmp/tmp8s5c8jtj/assets\n"
          ]
        }
      ]
    },
    {
      "cell_type": "code",
      "metadata": {
        "colab": {
          "base_uri": "https://localhost:8080/"
        },
        "id": "RaCOMXHVB_yN",
        "outputId": "60867c40-147d-4111-d83f-b5fc39521b7d"
      },
      "source": [
        "preds = best_model.predict(X_val, batch_size=128,verbose=1)\n",
        "preds=np.around(preds)\n",
        "\n",
        "orig_val_labels=np.argmax(y_val,axis=1)\n",
        "predicted_labels=np.argmax(preds,axis=1)\n",
        "\n",
        "orig_val_labels=np.reshape(orig_val_labels,(len(X_val),1))\n",
        "predicted_labels=np.reshape(predicted_labels,(len(X_val),1))\n",
        "\n",
        "print(predicted_labels.shape)\n",
        "print(orig_val_labels.shape)"
      ],
      "execution_count": 47,
      "outputs": [
        {
          "output_type": "stream",
          "name": "stdout",
          "text": [
            "10/10 [==============================] - 1s 68ms/step\n",
            "(1261, 1)\n",
            "(1261, 1)\n"
          ]
        }
      ]
    },
    {
      "cell_type": "code",
      "metadata": {
        "colab": {
          "base_uri": "https://localhost:8080/",
          "height": 628
        },
        "id": "S_pNwa1oCCAJ",
        "outputId": "dafbbf36-5389-4184-b43b-f44629e10c34"
      },
      "source": [
        "%matplotlib inline\n",
        "# Get the confusion matrix\n",
        "from sklearn.metrics import confusion_matrix\n",
        "from mlxtend.plotting import plot_confusion_matrix\n",
        "\n",
        "cm  = confusion_matrix(orig_val_labels, predicted_labels)\n",
        "plt.figure()\n",
        "plot_confusion_matrix(cm,figsize=(10,10), hide_ticks=True,cmap=plt.cm.Blues)\n",
        "plt.xticks(range(4), ['drama','comedy','action','horror'], fontsize=16)\n",
        "plt.yticks(range(4), ['drama','comedy','action','horror'], fontsize=16)\n",
        "plt.show()"
      ],
      "execution_count": 48,
      "outputs": [
        {
          "output_type": "display_data",
          "data": {
            "text/plain": [
              "<Figure size 432x288 with 0 Axes>"
            ]
          },
          "metadata": {}
        },
        {
          "output_type": "display_data",
          "data": {
            "image/png": "[encoded data removed]",
            "text/plain": [
              "<Figure size 720x720 with 1 Axes>"
            ]
          },
          "metadata": {
            "needs_background": "light"
          }
        }
      ]
    },
    {
      "cell_type": "code",
      "metadata": {
        "colab": {
          "base_uri": "https://localhost:8080/"
        },
        "id": "Fff7OwkhCEfl",
        "outputId": "fa28bbe7-468d-41c1-bf82-c81d9a63a440"
      },
      "source": [
        "MainGenres=['drama','comedy','action','horror']\n",
        "print(classification_report(orig_val_labels,predicted_labels,target_names=MainGenres))"
      ],
      "execution_count": 49,
      "outputs": [
        {
          "output_type": "stream",
          "name": "stdout",
          "text": [
            "              precision    recall  f1-score   support\n",
            "\n",
            "       drama       0.69      0.71      0.70       593\n",
            "      comedy       0.64      0.69      0.67       421\n",
            "      action       0.51      0.33      0.40       113\n",
            "      horror       0.74      0.71      0.72       134\n",
            "\n",
            "    accuracy                           0.67      1261\n",
            "   macro avg       0.64      0.61      0.62      1261\n",
            "weighted avg       0.66      0.67      0.66      1261\n",
            "\n"
          ]
        }
      ]
    },
    {
      "cell_type": "code",
      "metadata": {
        "id": "sE5zKLikSotT"
      },
      "source": [
        ""
      ],
      "execution_count": null,
      "outputs": []
    },
    {
      "cell_type": "code",
      "metadata": {
        "id": "QNeYD5hybnCb"
      },
      "source": [
        ""
      ],
      "execution_count": null,
      "outputs": []
    }
  ]
}