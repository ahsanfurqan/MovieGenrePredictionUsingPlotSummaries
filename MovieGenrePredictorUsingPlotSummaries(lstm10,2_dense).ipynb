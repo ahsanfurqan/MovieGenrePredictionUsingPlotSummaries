{
 "cells": [
  {
   "cell_type": "code",
   "execution_count": 1,
   "metadata": {
    "id": "1WQ3WnBE__pe"
   },
   "outputs": [],
   "source": [
    "import tensorflow as tf\n",
    "import pandas as pd\n",
    "import numpy as np\n",
    "import nltk\n",
    "from nltk.tokenize import word_tokenize \n",
    "from nltk.stem.porter import PorterStemmer\n",
    "from nltk.stem import WordNetLemmatizer\n",
    "from nltk.corpus import stopwords\n",
    "import re\n",
    "import matplotlib.pyplot as plt\n",
    "from sklearn.model_selection import train_test_split\n",
    "from sklearn.metrics import classification_report\n",
    "from tensorflow.keras.preprocessing.text import Tokenizer\n",
    "from tensorflow.keras.preprocessing.sequence import pad_sequences\n",
    "from tensorflow.keras.utils import to_categorical\n",
    "from tensorflow.keras.layers import LSTM,Dropout,Activation,Bidirectional,Embedding,Dense,Flatten,GlobalMaxPooling1D,SpatialDropout1D\n",
    "from tensorflow.keras.layers import Conv1D,BatchNormalization\n",
    "from tensorflow.keras.models import Sequential\n",
    "from tensorflow.keras import optimizers\n",
    "from tensorflow.keras.callbacks import ModelCheckpoint\n",
    "import os\n",
    "from gensim.models import Word2Vec, KeyedVectors\n",
    "import tensorflow_hub as hub\n",
    "from tensorflow.keras.regularizers import l2"
   ]
  },
  {
   "cell_type": "code",
   "execution_count": 2,
   "metadata": {
    "colab": {
     "base_uri": "https://localhost:8080/",
     "height": 54
    },
    "id": "QzI7XcetAGM7",
    "outputId": "a35929f4-14cb-40d8-9b86-b8a09dac842b"
   },
   "outputs": [
    {
     "name": "stdout",
     "output_type": "stream",
     "text": [
      "Mounted at /content/gdrive\n"
     ]
    },
    {
     "data": {
      "application/vnd.google.colaboratory.intrinsic+json": {
       "type": "string"
      },
      "text/plain": [
       "'2.6.0'"
      ]
     },
     "execution_count": 2,
     "metadata": {},
     "output_type": "execute_result"
    }
   ],
   "source": [
    "from google.colab import drive\n",
    "drive.mount('/content/gdrive')\n",
    "tf.__version__"
   ]
  },
  {
   "cell_type": "code",
   "execution_count": 3,
   "metadata": {
    "id": "DvtK5S_lAIZq"
   },
   "outputs": [],
   "source": [
    "data_clean=pd.read_csv('/content/gdrive/MyDrive/clean_data.csv')"
   ]
  },
  {
   "cell_type": "code",
   "execution_count": 5,
   "metadata": {
    "id": "pj9ZFjS4AlR9"
   },
   "outputs": [],
   "source": [
    "lemmatizer = WordNetLemmatizer()\n",
    "def lemmatize_text(text):\n",
    "    return \" \".join([lemmatizer.lemmatize(w) for w in text.split()])"
   ]
  },
  {
   "cell_type": "code",
   "execution_count": 6,
   "metadata": {
    "colab": {
     "base_uri": "https://localhost:8080/"
    },
    "id": "89A3DmK4Apd9",
    "outputId": "4bb24e41-8897-471f-f362-3e17c2ae0db7"
   },
   "outputs": [
    {
     "name": "stdout",
     "output_type": "stream",
     "text": [
      "[nltk_data] Downloading package wordnet to /root/nltk_data...\n",
      "[nltk_data]   Package wordnet is already up-to-date!\n",
      "[nltk_data] Downloading package stopwords to /root/nltk_data...\n",
      "[nltk_data]   Unzipping corpora/stopwords.zip.\n",
      "[nltk_data] Downloading package punkt to /root/nltk_data...\n",
      "[nltk_data]   Unzipping tokenizers/punkt.zip.\n"
     ]
    }
   ],
   "source": [
    "nltk.download('wordnet')\n",
    "data_clean[\"Plot_clean\"] = data_clean[\"Plot_clean\"].apply(lambda text: lemmatize_text(text))\n",
    "data_clean.head()\n",
    "nltk.download('stopwords')\n",
    "nltk.download('punkt')\n",
    "stop = stopwords.words('english')"
   ]
  },
  {
   "cell_type": "code",
   "execution_count": 7,
   "metadata": {
    "colab": {
     "base_uri": "https://localhost:8080/",
     "height": 397
    },
    "id": "6F1XsNXtAq2K",
    "outputId": "c9ef162e-977e-4ed8-d5ca-18b9f76ddc8e"
   },
   "outputs": [
    {
     "data": {
      "text/html": [
       "<div>\n",
       "<style scoped>\n",
       "    .dataframe tbody tr th:only-of-type {\n",
       "        vertical-align: middle;\n",
       "    }\n",
       "\n",
       "    .dataframe tbody tr th {\n",
       "        vertical-align: top;\n",
       "    }\n",
       "\n",
       "    .dataframe thead th {\n",
       "        text-align: right;\n",
       "    }\n",
       "</style>\n",
       "<table border=\"1\" class=\"dataframe\">\n",
       "  <thead>\n",
       "    <tr style=\"text-align: right;\">\n",
       "      <th></th>\n",
       "      <th>Unnamed: 0</th>\n",
       "      <th>index</th>\n",
       "      <th>Release Year</th>\n",
       "      <th>Title</th>\n",
       "      <th>Origin/Ethnicity</th>\n",
       "      <th>Director</th>\n",
       "      <th>Cast</th>\n",
       "      <th>Genre</th>\n",
       "      <th>Wiki Page</th>\n",
       "      <th>Plot</th>\n",
       "      <th>GenreID</th>\n",
       "      <th>Plot_clean</th>\n",
       "    </tr>\n",
       "  </thead>\n",
       "  <tbody>\n",
       "    <tr>\n",
       "      <th>0</th>\n",
       "      <td>0</td>\n",
       "      <td>32501</td>\n",
       "      <td>2011</td>\n",
       "      <td>Vasthad</td>\n",
       "      <td>Telugu</td>\n",
       "      <td>Rajamithran</td>\n",
       "      <td>Aadhi, Meera Nandan</td>\n",
       "      <td>drama</td>\n",
       "      <td>https://en.wikipedia.org/wiki/Ayyanar_(film)</td>\n",
       "      <td>Prabha (Aadhi Pinisetty) is the eldest son of ...</td>\n",
       "      <td>0</td>\n",
       "      <td>prabha aadhi pinisetty eldest son family doe n...</td>\n",
       "    </tr>\n",
       "    <tr>\n",
       "      <th>1</th>\n",
       "      <td>1</td>\n",
       "      <td>48</td>\n",
       "      <td>1912</td>\n",
       "      <td>Petticoat Camp</td>\n",
       "      <td>American</td>\n",
       "      <td>Unknown</td>\n",
       "      <td>William Garwood, Florence La Badie</td>\n",
       "      <td>comedy</td>\n",
       "      <td>https://en.wikipedia.org/wiki/Petticoat_Camp</td>\n",
       "      <td>Only lasting 15 minutes, it is a light-hearted...</td>\n",
       "      <td>1</td>\n",
       "      <td>lasting minute lighthearted comedy battle sex ...</td>\n",
       "    </tr>\n",
       "    <tr>\n",
       "      <th>2</th>\n",
       "      <td>2</td>\n",
       "      <td>15091</td>\n",
       "      <td>2006</td>\n",
       "      <td>Talladega Nights: The Ballad of Ricky Bobby</td>\n",
       "      <td>American</td>\n",
       "      <td>Adam McKay</td>\n",
       "      <td>Will Ferrell, John C. Reilly, Sacha Baron Cohen</td>\n",
       "      <td>comedy</td>\n",
       "      <td>https://en.wikipedia.org/wiki/Talladega_Nights...</td>\n",
       "      <td>Ricky Bobby is a man who grew up dreaming of g...</td>\n",
       "      <td>1</td>\n",
       "      <td>ricky bobby man grew dreaming going fast worki...</td>\n",
       "    </tr>\n",
       "    <tr>\n",
       "      <th>3</th>\n",
       "      <td>3</td>\n",
       "      <td>12831</td>\n",
       "      <td>1996</td>\n",
       "      <td>Skin &amp; Bone</td>\n",
       "      <td>American</td>\n",
       "      <td>Everett Lewis</td>\n",
       "      <td>J. Wyatt</td>\n",
       "      <td>drama</td>\n",
       "      <td>https://en.wikipedia.org/wiki/Skin_%26_Bone_(f...</td>\n",
       "      <td>Skin &amp; Bone is an episodic account of three Lo...</td>\n",
       "      <td>0</td>\n",
       "      <td>skin bone episodic account three los angelesar...</td>\n",
       "    </tr>\n",
       "    <tr>\n",
       "      <th>4</th>\n",
       "      <td>4</td>\n",
       "      <td>2870</td>\n",
       "      <td>1940</td>\n",
       "      <td>The Man I Married</td>\n",
       "      <td>American</td>\n",
       "      <td>Irving Pichel</td>\n",
       "      <td>Joan Bennett, Francis Lederer</td>\n",
       "      <td>drama</td>\n",
       "      <td>https://en.wikipedia.org/wiki/The_Man_I_Married</td>\n",
       "      <td>A successful American woman, art critic Carol ...</td>\n",
       "      <td>0</td>\n",
       "      <td>successful american woman art critic carol cab...</td>\n",
       "    </tr>\n",
       "  </tbody>\n",
       "</table>\n",
       "</div>"
      ],
      "text/plain": [
       "   Unnamed: 0  ...                                         Plot_clean\n",
       "0           0  ...  prabha aadhi pinisetty eldest son family doe n...\n",
       "1           1  ...  lasting minute lighthearted comedy battle sex ...\n",
       "2           2  ...  ricky bobby man grew dreaming going fast worki...\n",
       "3           3  ...  skin bone episodic account three los angelesar...\n",
       "4           4  ...  successful american woman art critic carol cab...\n",
       "\n",
       "[5 rows x 12 columns]"
      ]
     },
     "execution_count": 7,
     "metadata": {},
     "output_type": "execute_result"
    }
   ],
   "source": [
    "data_clean['Plot_clean'] = data_clean['Plot_clean'].apply(lambda x: ' '.join([word for word in x.split() if word not in (stop)]))\n",
    "data_clean.head()"
   ]
  },
  {
   "cell_type": "code",
   "execution_count": 8,
   "metadata": {
    "colab": {
     "base_uri": "https://localhost:8080/"
    },
    "id": "kAFO5JFQAuLQ",
    "outputId": "9a832f67-5185-462f-e1f8-ad278fc139b5"
   },
   "outputs": [
    {
     "name": "stdout",
     "output_type": "stream",
     "text": [
      "unique tokens: 114645\n",
      "Max length: 1000\n",
      "Shape of data tensor: (12608, 1000)\n"
     ]
    }
   ],
   "source": [
    "max_num_words=5000\n",
    "max_seq_len=1000\n",
    "tokenizer = Tokenizer(num_words=max_num_words,filters='!\"#$&%()*+-./:;<=>?@[\\]^_`{|}~',lower=True)\n",
    "tokenizer.fit_on_texts((data_clean['Plot_clean'].values))\n",
    "sequences=tokenizer.texts_to_sequences((data_clean['Plot_clean'].values))\n",
    "word_index=tokenizer.word_index\n",
    "print(\"unique tokens:\",len(word_index))\n",
    "# max_len=np.max([len(sequence) for sequence in sequences])\n",
    "print(\"Max length:\",max_seq_len)\n",
    "data = pad_sequences(sequences, maxlen=max_seq_len)\n",
    "print(\"Shape of data tensor:\",data.shape)"
   ]
  },
  {
   "cell_type": "code",
   "execution_count": 11,
   "metadata": {
    "colab": {
     "base_uri": "https://localhost:8080/"
    },
    "id": "eWa2ayUrkWTT",
    "outputId": "32fc893c-93e4-42c7-cc92-cdf77f47e06d"
   },
   "outputs": [
    {
     "data": {
      "text/plain": [
       "array([   0,    0,    0,    0,    0,    0,    0,    0,    0,    0,    0,\n",
       "          0,    0,    0,    0,    0,    0,    0,    0,    0,    0,    0,\n",
       "          0,    0,    0,    0,    0,    0,    0,    0,    0,    0,    0,\n",
       "          0,    0,    0,    0,    0,    0,    0,    0,    0,    0,    0,\n",
       "          0,    0,    0,    0,    0,    0,    0,    0,    0,    0,    0,\n",
       "          0,    0,    0,    0,    0,    0,    0,    0,    0,    0,    0,\n",
       "          0,    0,    0,    0,    0,    0,    0,    0,    0,    0,    0,\n",
       "          0,    0,    0,    0,    0,    0,    0,    0,    0,    0,    0,\n",
       "          0,    0,    0,    0,    0,    0,    0,    0,    0,    0,    0,\n",
       "          0,    0,    0,    0,    0,    0,    0,    0,    0,    0,    0,\n",
       "          0,    0,    0,    0,    0,    0,    0,    0,    0,    0,    0,\n",
       "          0,    0,    0,    0,    0,    0,    0,    0,    0,    0,    0,\n",
       "          0,    0,    0,    0,    0,    0,    0,    0,    0,    0,    0,\n",
       "          0,    0,    0,    0,    0,    0,    0,    0,    0,    0,    0,\n",
       "          0,    0,    0,    0,    0,    0,    0,    0,    0,    0,    0,\n",
       "          0,    0,    0,    0,    0,    0,    0,    0,    0,    0,    0,\n",
       "          0,    0,    0,    0,    0,    0,    0,    0,    0,    0,    0,\n",
       "          0,    0,    0,    0,    0,    0,    0,    0,    0,    0,    0,\n",
       "          0,    0,    0,    0,    0,    0,    0,    0,    0,    0,    0,\n",
       "          0,    0,    0,    0,    0,    0,    0,    0,    0,    0,    0,\n",
       "          0,    0,    0,    0,    0,    0,    0,    0,    0,    0,    0,\n",
       "          0,    0,    0,    0,    0,    0,    0,    0,    0,    0,    0,\n",
       "          0,    0,    0,    0,    0,    0,    0,    0,    0,    0,    0,\n",
       "          0,    0,    0,    0,    0,    0,    0,    0,    0,    0,    0,\n",
       "          0,    0,    0,    0,    0,    0,    0,    0,    0,    0,    0,\n",
       "          0,    0,    0,    0,    0,    0,    0,    0,    0,    0,    0,\n",
       "          0,    0,    0,    0,    0,    0,    0,    0,    0,    0,    0,\n",
       "          0,    0,    0,    0,    0,    0,    0,    0,    0,    0,    0,\n",
       "          0,    0,    0,    0,    0,    0,    0,    0,    0,    0,    0,\n",
       "          0,    0,    0,    0,    0,    0,    0,    0,    0,    0,    0,\n",
       "          0,    0,    0,    0,    0,    0,    0,    0,    0,    0,    0,\n",
       "          0,    0,    0,    0,    0,    0,    0,    0,    0,    0,    0,\n",
       "          0,    0,    0,    0,    0,    0,    0,    0,    0,    0,    0,\n",
       "          0,    0,    0,    0,    0,    0,    0,    0,    0,    0,    0,\n",
       "          0,    0,    0,    0,    0,    0,    0,    0,    0,    0,    0,\n",
       "          0,    0,    0,    0,    0,    0,    0,    0,    0,    0,    0,\n",
       "          0,    0,    0,    0,    0,    0,    0,    0,    0,    0,    0,\n",
       "          0,    0,    0,    0,    0,    0,    0,    0,    0,    0,    0,\n",
       "          0,    0,    0,    0,    0,    0,    0,    0,    0,    0,    0,\n",
       "          0,    0,    0,    0,    0,    0,    0,    0,    0,    0,    0,\n",
       "          0,    0,    0,    0,    0,    0,    0,    0,    0,    0,    0,\n",
       "          0,    0,    0,    0,    0,    0,    0,    0,    0,    0,    0,\n",
       "          0,    0,    0,    0,    0,    0,    0,    0,    0,    0,    0,\n",
       "          0,    0,    0,    0,    0,    0,    0,    0,    0,    0,    0,\n",
       "          0,    0,    0,    0,    0,    0,    0,    0,    0,    0,    0,\n",
       "          0,    0,    0,    0,    0,    0,    0,    0,    0,    0,    0,\n",
       "          0,    0,    0,    0,    0,    0,    0,    0,    0,    0,    0,\n",
       "          0,    0,    0,    0,    0,    0,    0,    0,    0,    0,    0,\n",
       "          0,    0,    0,    0,    0,    0,    0,    0,    0,    0,    0,\n",
       "          0,    0,    0,    0,    0,    0,    0,    0,    0,    0,    0,\n",
       "          0,    0,    0,    0,    0,    0,    0,    0,    0,    0,    0,\n",
       "          0,    0,    0,    0,    0,    0,    0,    0,    0,    0,    0,\n",
       "          0,    0,    0,    0,    0,    0,    0,    0,    0,    0,    0,\n",
       "          0,    0,    0,    0,    0,    0,    0,    0,    0,    0,    0,\n",
       "          0,    0,    0,    0,    0,    0,    0,    0,    0,    0,    0,\n",
       "          0,    0,    0,    0,    0,    0,    0,    0,    0,    0,    0,\n",
       "          0,    0,    0,    0,    0,    0,    0,    0,    0,    0,    0,\n",
       "          0,    0,    0,    0,    0,    0,    0,    0,    0,    0,    0,\n",
       "          0,    0,    0,    0,    0,    0,    0,    0,    0,    0,    0,\n",
       "          0,    0,    0,    0,    0,    0,    0,    0,    0,    0,    0,\n",
       "          0,    0,    0,    0,    0,    0,    0,    0,    0,    0,    0,\n",
       "          0,    0,    0,    0,    0,    0,    0,    0,    0,    0,    0,\n",
       "          0,    0,    0,    0,    0,    0,    0,    0,    0,    0,    0,\n",
       "          0,    0,    0,    0,    0,    0,    0,    0,    0,    0,    0,\n",
       "          0,    0,    0,    0,    0,    0,    0,    0,    0,    0,    0,\n",
       "          0,    0,    0,    0,    0,    0,    0,    0,    0,    0,    0,\n",
       "          0,    0,    0,    0,    0,    0,    0,    0,    0,    0,    0,\n",
       "          0,    0,    0,    0,    0,    0,    0,    0,    0,    0,    0,\n",
       "          0,    0,    0,    0,    0,    0,    0,    0,    0,    0,    0,\n",
       "          0,    0,    0,    0,    0,    0,    0,    0,    0,    0,    0,\n",
       "          0,    0,    0,    0,    0,    0,    0,    0,    0,    0,    0,\n",
       "          0,    0,    0,    0,    0,    0,    0,    0,    0,    0,    0,\n",
       "          0,    0,    0,    0,    0,    0,    0,    0,    0,    0,    0,\n",
       "          0,    0,    0,    0,    0,    0,    0,    0,    0,    0,    0,\n",
       "          0,    0,    0,    0,    0,    0,    0,    0,    0,    0,    0,\n",
       "          0,    0,    0,    0,    0,    0,    0,    0,    0,    0,    0,\n",
       "          0,    0,    0,    0,    0,    0,    0,    0,    0,    0,    0,\n",
       "          0,    0,    0,    0,    0,    0,    0,    0,    0,    0,    0,\n",
       "          0,    0,    0,    0,    0,    0,    0,    0,    0,    0,    0,\n",
       "          0,    0,    0,    0,    0,    0,    0,    0,    0,    0,    0,\n",
       "          0,    0,    0,    0,    0,    0,    0,    0,    0,    0,    0,\n",
       "          0,    0,    0,    0,    0,    0,    0,    0,    0,    0,    0,\n",
       "          0,    0,    0,    0,    0,    0,    0,    0,    0,    0,    0,\n",
       "          0,    0,    0,    0,    0,    0,    0,    0,    0,    0,    0,\n",
       "          0,    0,    0,    0,    0,    0,    0,    0,    0,    0,    0,\n",
       "          0,    0,    0,    0,    0,    0,    0,    0,    0,    0,    0,\n",
       "          0, 3635,   38,   17,   67,  491, 1441,   22,   12,    9,  631,\n",
       "         26,  295,    2,   81,  982,   36,  475,   62,   45,  841, 3096,\n",
       "       1277,   17, 4573, 2635,  900, 2167,    6,   20,  475,   62,   69,\n",
       "        956,   64,   58,   86,  220,  215,  744, 1832,    5,  176, 4757,\n",
       "        176,    6,    6,  173,   94,  860,  108,  662,   62,   54],\n",
       "      dtype=int32)"
      ]
     },
     "execution_count": 11,
     "metadata": {},
     "output_type": "execute_result"
    }
   ],
   "source": [
    "data[0]"
   ]
  },
  {
   "cell_type": "code",
   "execution_count": 9,
   "metadata": {
    "colab": {
     "base_uri": "https://localhost:8080/"
    },
    "id": "kUFdA3iABFts",
    "outputId": "0809e2e2-853d-44c3-81d4-c98e9b6fac77"
   },
   "outputs": [
    {
     "name": "stdout",
     "output_type": "stream",
     "text": [
      "Label: (12608, 4)\n"
     ]
    },
    {
     "data": {
      "text/plain": [
       "array([[1., 0., 0., 0.],\n",
       "       [0., 1., 0., 0.],\n",
       "       [0., 1., 0., 0.],\n",
       "       ...,\n",
       "       [0., 1., 0., 0.],\n",
       "       [0., 0., 0., 1.],\n",
       "       [0., 1., 0., 0.]], dtype=float32)"
      ]
     },
     "execution_count": 9,
     "metadata": {},
     "output_type": "execute_result"
    }
   ],
   "source": [
    "labels=np.asarray(data_clean['GenreID'])\n",
    "labels=to_categorical(labels,num_classes=4)\n",
    "print('Label:',labels.shape)\n",
    "labels"
   ]
  },
  {
   "cell_type": "code",
   "execution_count": 12,
   "metadata": {
    "id": "9hsYwDz2BHf2"
   },
   "outputs": [],
   "source": [
    "X_train,X_val,y_train,y_val=train_test_split(data,labels,test_size=0.10,random_state=42)"
   ]
  },
  {
   "cell_type": "code",
   "execution_count": 23,
   "metadata": {
    "colab": {
     "base_uri": "https://localhost:8080/"
    },
    "id": "jG3exed3BN26",
    "outputId": "12b67509-47a7-4f94-c239-927d48a5bdd1"
   },
   "outputs": [
    {
     "name": "stdout",
     "output_type": "stream",
     "text": [
      "Model: \"sequential_1\"\n",
      "_________________________________________________________________\n",
      "Layer (type)                 Output Shape              Param #   \n",
      "=================================================================\n",
      "embedding_1 (Embedding)      (None, 1000, 100)         500000    \n",
      "_________________________________________________________________\n",
      "spatial_dropout1d_1 (Spatial (None, 1000, 100)         0         \n",
      "_________________________________________________________________\n",
      "lstm_1 (LSTM)                (None, 10)                4440      \n",
      "_________________________________________________________________\n",
      "dropout_2 (Dropout)          (None, 10)                0         \n",
      "_________________________________________________________________\n",
      "batch_normalization_1 (Batch (None, 10)                40        \n",
      "_________________________________________________________________\n",
      "dense_2 (Dense)              (None, 32)                352       \n",
      "_________________________________________________________________\n",
      "dropout_3 (Dropout)          (None, 32)                0         \n",
      "_________________________________________________________________\n",
      "dense_3 (Dense)              (None, 4)                 132       \n",
      "=================================================================\n",
      "Total params: 504,964\n",
      "Trainable params: 504,944\n",
      "Non-trainable params: 20\n",
      "_________________________________________________________________\n"
     ]
    }
   ],
   "source": [
    "embedding_dim=100\n",
    "model=Sequential()\n",
    "model.add(Embedding(input_dim=max_num_words,output_dim=embedding_dim,input_length=data.shape[1]))\n",
    "model.add(SpatialDropout1D(0.2))\n",
    "# model.add(Conv1D(filters=64, kernel_size=3, padding='same', activation='relu'))\n",
    "# model.add(Dropout(0.3))\n",
    "model.add(LSTM(10))\n",
    "model.add(Dropout(0.4))\n",
    "model.add(BatchNormalization())\n",
    "# model.add(LSTM(64,return_sequences=True))\n",
    "# model.add(Dropout(0.1))\n",
    "# model.add(BatchNormalization())\n",
    "# model.add(LSTM(64,return_sequences=True))\n",
    "# model.add(Dropout(0.2))\n",
    "# model.add(BatchNormalization())\n",
    "# model.add(LSTM(32))\n",
    "# model.add(Dropout(0.2))\n",
    "# model.add(BatchNormalization())\n",
    "# model.add(Dense(64, activation='relu'))\n",
    "# model.add(Dropout(0.2))\n",
    "# model.add(Dense(32, activation='relu'))\n",
    "# model.add(Dropout(0.6))\n",
    "model.add(Dense(32, activation='relu'))\n",
    "model.add(Dropout(0.2))\n",
    "model.add(Dense(4, activation='softmax'))\n",
    "model.compile(loss='categorical_crossentropy',optimizer=optimizers.Adam(learning_rate=1e-3,decay=1e-6),metrics=['categorical_accuracy'])\n",
    "model.summary()\n",
    "# 32,kernel_regularizer=l2(0.001),input_shape=(X_train.shape[1:]),activation='tanh'"
   ]
  },
  {
   "cell_type": "code",
   "execution_count": 24,
   "metadata": {
    "colab": {
     "base_uri": "https://localhost:8080/"
    },
    "id": "ji2g0RrpBkLM",
    "outputId": "9460d1b4-4f78-49d9-975a-30f88e116a65"
   },
   "outputs": [
    {
     "data": {
      "text/plain": [
       "(11347, 1261)"
      ]
     },
     "execution_count": 24,
     "metadata": {},
     "output_type": "execute_result"
    }
   ],
   "source": [
    "filepath=\"MovieGenrePredictionUsingPlotSummariesmodel1.h5\"\n",
    "checkpoint = ModelCheckpoint(filepath, save_best_only=True)\n",
    "callbacks_list = [checkpoint]\n",
    "len(X_train),len(X_val)"
   ]
  },
  {
   "cell_type": "code",
   "execution_count": 25,
   "metadata": {
    "colab": {
     "base_uri": "https://localhost:8080/"
    },
    "id": "TyE29PkVBmmJ",
    "outputId": "c9827b91-27bf-442c-a0f7-af097665a027"
   },
   "outputs": [
    {
     "name": "stdout",
     "output_type": "stream",
     "text": [
      "Epoch 1/10\n",
      "178/178 [==============================] - 25s 129ms/step - loss: 1.1641 - categorical_accuracy: 0.4805 - val_loss: 1.1685 - val_categorical_accuracy: 0.5789\n",
      "Epoch 2/10\n",
      "178/178 [==============================] - 19s 109ms/step - loss: 0.9308 - categorical_accuracy: 0.6175 - val_loss: 0.9342 - val_categorical_accuracy: 0.6297\n",
      "Epoch 3/10\n",
      "178/178 [==============================] - 19s 108ms/step - loss: 0.7472 - categorical_accuracy: 0.7027 - val_loss: 0.8929 - val_categorical_accuracy: 0.6439\n",
      "Epoch 4/10\n",
      "178/178 [==============================] - 19s 106ms/step - loss: 0.6481 - categorical_accuracy: 0.7491 - val_loss: 0.9279 - val_categorical_accuracy: 0.6439\n",
      "Epoch 5/10\n",
      "178/178 [==============================] - 19s 109ms/step - loss: 0.5646 - categorical_accuracy: 0.7851 - val_loss: 1.0690 - val_categorical_accuracy: 0.6090\n",
      "Epoch 6/10\n",
      "178/178 [==============================] - 19s 109ms/step - loss: 0.5164 - categorical_accuracy: 0.8047 - val_loss: 1.0804 - val_categorical_accuracy: 0.6439\n",
      "Epoch 7/10\n",
      "178/178 [==============================] - 19s 108ms/step - loss: 0.4537 - categorical_accuracy: 0.8321 - val_loss: 1.1339 - val_categorical_accuracy: 0.6439\n",
      "Epoch 8/10\n",
      "178/178 [==============================] - 19s 109ms/step - loss: 0.4020 - categorical_accuracy: 0.8533 - val_loss: 1.2060 - val_categorical_accuracy: 0.6598\n",
      "Epoch 9/10\n",
      "178/178 [==============================] - 18s 103ms/step - loss: 0.3650 - categorical_accuracy: 0.8644 - val_loss: 1.2974 - val_categorical_accuracy: 0.6709\n",
      "Epoch 10/10\n",
      "178/178 [==============================] - 19s 105ms/step - loss: 0.3413 - categorical_accuracy: 0.8806 - val_loss: 1.2394 - val_categorical_accuracy: 0.6527\n"
     ]
    }
   ],
   "source": [
    "history=model.fit(X_train,y_train, epochs=10, callbacks=callbacks_list, batch_size=64, validation_data=(X_val,y_val))"
   ]
  },
  {
   "cell_type": "code",
   "execution_count": 26,
   "metadata": {
    "colab": {
     "base_uri": "https://localhost:8080/",
     "height": 573
    },
    "id": "T-hiZGg2BpAO",
    "outputId": "658e8453-5571-484a-c414-b6edfd9b303f"
   },
   "outputs": [
    {
     "data": {
      "image/png": "[encoded data removed]",
      "text/plain": [
       "<Figure size 432x288 with 1 Axes>"
      ]
     },
     "metadata": {
      "needs_background": "light"
     },
     "output_type": "display_data"
    },
    {
     "data": {
      "image/png": "[encoded data removed]",
      "text/plain": [
       "<Figure size 432x288 with 1 Axes>"
      ]
     },
     "metadata": {
      "needs_background": "light"
     },
     "output_type": "display_data"
    }
   ],
   "source": [
    "acc=history.history['categorical_accuracy']\n",
    "val_acc=history.history['val_categorical_accuracy']\n",
    "loss=history.history['loss']\n",
    "val_loss=history.history['val_loss']\n",
    "epochs=range(1,len(acc)+1)\n",
    "plt.xlabel('Epochs')\n",
    "plt.ylabel('Accuracy')\n",
    "plt.plot(epochs, acc, 'bo', label='Training acc')\n",
    "plt.plot(epochs, val_acc, 'b', label='Validation acc')\n",
    "plt.title('Training and validation accuracy')\n",
    "plt.legend()\n",
    "plt.figure()\n",
    "\n",
    "plt.plot(epochs, loss, 'bo', label='Training loss')\n",
    "plt.plot(epochs, val_loss, 'b', label='Validation loss')\n",
    "plt.title('Training and validation loss')\n",
    "plt.xlabel('Epochs')\n",
    "plt.ylabel('Loss')\n",
    "plt.legend()\n",
    "plt.show()"
   ]
  },
  {
   "cell_type": "code",
   "execution_count": 27,
   "metadata": {
    "id": "TxuUkqx6B3u3"
   },
   "outputs": [],
   "source": [
    "from tensorflow.python.keras.models import load_model\n",
    "\n",
    "best_model = load_model('MovieGenrePredictionUsingPlotSummariesmodel1.h5')"
   ]
  },
  {
   "cell_type": "code",
   "execution_count": 28,
   "metadata": {
    "colab": {
     "base_uri": "https://localhost:8080/"
    },
    "id": "Ks-tcIWqB7A0",
    "outputId": "d068ce85-d72f-49c1-c589-87d4bc42e9e5"
   },
   "outputs": [
    {
     "name": "stdout",
     "output_type": "stream",
     "text": [
      "19/19 [==============================] - 1s 41ms/step - loss: 0.8929 - categorical_accuracy: 0.6439\n",
      "Validation-set accuracy: 64.39%\n"
     ]
    }
   ],
   "source": [
    "batch_size=64\n",
    "steps_test=int(len(X_val)/batch_size)\n",
    "result = best_model.evaluate(X_val, y_val, steps=steps_test,verbose=1)\n",
    "print(\"Validation-set accuracy: {0:.2%}\".format(result[1]))"
   ]
  },
  {
   "cell_type": "code",
   "execution_count": 29,
   "metadata": {
    "colab": {
     "base_uri": "https://localhost:8080/"
    },
    "id": "NY2aEtafB8jY",
    "outputId": "4d45b1e3-a5dc-4094-edce-5e34f368902b"
   },
   "outputs": [
    {
     "name": "stderr",
     "output_type": "stream",
     "text": [
      "WARNING:absl:Found untraced functions such as lstm_cell_1_layer_call_fn, lstm_cell_1_layer_call_and_return_conditional_losses, lstm_cell_1_layer_call_fn, lstm_cell_1_layer_call_and_return_conditional_losses, lstm_cell_1_layer_call_and_return_conditional_losses while saving (showing 5 of 5). These functions will not be directly callable after loading.\n"
     ]
    },
    {
     "name": "stdout",
     "output_type": "stream",
     "text": [
      "INFO:tensorflow:Assets written to: /tmp/tmpfyl4wnpk/assets\n"
     ]
    },
    {
     "name": "stderr",
     "output_type": "stream",
     "text": [
      "INFO:tensorflow:Assets written to: /tmp/tmpfyl4wnpk/assets\n"
     ]
    }
   ],
   "source": [
    "best_model.save('fypmodel{:.2%}.h5'.format(result[1]))\n",
    "name='fypmodel{:.2%}.tflite'.format(result[1])\n",
    "converter = tf.lite.TFLiteConverter.from_keras_model(best_model) # path to the SavedModel directory\n",
    "tflite_model = converter.convert()\n",
    "\n",
    "# Save the model.\n",
    "with open(name, 'wb') as f:\n",
    "    f.write(tflite_model)"
   ]
  },
  {
   "cell_type": "code",
   "execution_count": 30,
   "metadata": {
    "colab": {
     "base_uri": "https://localhost:8080/"
    },
    "id": "RaCOMXHVB_yN",
    "outputId": "7dbf9fcc-0c11-45c1-ffcc-9ffd60e0bd3a"
   },
   "outputs": [
    {
     "name": "stdout",
     "output_type": "stream",
     "text": [
      "10/10 [==============================] - 1s 36ms/step\n",
      "(1261, 1)\n",
      "(1261, 1)\n"
     ]
    }
   ],
   "source": [
    "preds = best_model.predict(X_val, batch_size=128,verbose=1)\n",
    "preds=np.around(preds)\n",
    "\n",
    "orig_val_labels=np.argmax(y_val,axis=1)\n",
    "predicted_labels=np.argmax(preds,axis=1)\n",
    "\n",
    "orig_val_labels=np.reshape(orig_val_labels,(len(X_val),1))\n",
    "predicted_labels=np.reshape(predicted_labels,(len(X_val),1))\n",
    "\n",
    "print(predicted_labels.shape)\n",
    "print(orig_val_labels.shape)"
   ]
  },
  {
   "cell_type": "code",
   "execution_count": 31,
   "metadata": {
    "colab": {
     "base_uri": "https://localhost:8080/",
     "height": 629
    },
    "id": "S_pNwa1oCCAJ",
    "outputId": "8f187102-239e-4547-a7c6-cab27b0722b9"
   },
   "outputs": [
    {
     "data": {
      "text/plain": [
       "<Figure size 432x288 with 0 Axes>"
      ]
     },
     "metadata": {},
     "output_type": "display_data"
    },
    {
     "data": {
      "image/png": "[encoded data removed]",
      "text/plain": [
       "<Figure size 1080x720 with 1 Axes>"
      ]
     },
     "metadata": {
      "needs_background": "light"
     },
     "output_type": "display_data"
    }
   ],
   "source": [
    "%matplotlib inline\n",
    "# Get the confusion matrix\n",
    "from sklearn.metrics import confusion_matrix\n",
    "from mlxtend.plotting import plot_confusion_matrix\n",
    "\n",
    "cm  = confusion_matrix(orig_val_labels, predicted_labels)\n",
    "plt.figure()\n",
    "plot_confusion_matrix(cm,figsize=(15,10), hide_ticks=True,cmap=plt.cm.Blues)\n",
    "plt.xticks(range(4), ['drama','comedy','action','horror'], fontsize=16)\n",
    "plt.yticks(range(4), ['drama','comedy','action','horror'], fontsize=16)\n",
    "plt.show()"
   ]
  },
  {
   "cell_type": "code",
   "execution_count": 32,
   "metadata": {
    "colab": {
     "base_uri": "https://localhost:8080/"
    },
    "id": "Fff7OwkhCEfl",
    "outputId": "d71206d3-b860-492f-f669-d72b2b51451a"
   },
   "outputs": [
    {
     "name": "stdout",
     "output_type": "stream",
     "text": [
      "              precision    recall  f1-score   support\n",
      "\n",
      "       drama       0.61      0.77      0.68       593\n",
      "      comedy       0.64      0.70      0.67       421\n",
      "      action       0.00      0.00      0.00       113\n",
      "      horror       0.90      0.41      0.56       134\n",
      "\n",
      "    accuracy                           0.64      1261\n",
      "   macro avg       0.54      0.47      0.48      1261\n",
      "weighted avg       0.60      0.64      0.61      1261\n",
      "\n"
     ]
    },
    {
     "name": "stderr",
     "output_type": "stream",
     "text": [
      "/usr/local/lib/python3.7/dist-packages/sklearn/metrics/_classification.py:1272: UndefinedMetricWarning: Precision and F-score are ill-defined and being set to 0.0 in labels with no predicted samples. Use `zero_division` parameter to control this behavior.\n",
      "  _warn_prf(average, modifier, msg_start, len(result))\n"
     ]
    }
   ],
   "source": [
    "MainGenres=['drama','comedy','action','horror']\n",
    "print(classification_report(orig_val_labels,predicted_labels,target_names=MainGenres))"
   ]
  },
  {
   "cell_type": "code",
   "execution_count": null,
   "metadata": {
    "id": "sE5zKLikSotT"
   },
   "outputs": [],
   "source": []
  },
  {
   "cell_type": "code",
   "execution_count": null,
   "metadata": {
    "id": "QNeYD5hybnCb"
   },
   "outputs": [],
   "source": []
  }
 ],
 "metadata": {
  "accelerator": "GPU",
  "colab": {
   "collapsed_sections": [],
   "name": "MovieGenrePredictorUsingPlotSummaries(lstm10,2-dense).ipynb",
   "provenance": []
  },
  "kernelspec": {
   "display_name": "Python 3",
   "language": "python",
   "name": "python3"
  },
  "language_info": {
   "codemirror_mode": {
    "name": "ipython",
    "version": 3
   },
   "file_extension": ".py",
   "mimetype": "text/x-python",
   "name": "python",
   "nbconvert_exporter": "python",
   "pygments_lexer": "ipython3",
   "version": "3.8.5"
  }
 },
 "nbformat": 4,
 "nbformat_minor": 1
}
