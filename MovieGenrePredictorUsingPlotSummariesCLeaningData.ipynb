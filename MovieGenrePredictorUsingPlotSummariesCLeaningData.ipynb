{
  "nbformat": 4,
  "nbformat_minor": 0,
  "metadata": {
    "accelerator": "GPU",
    "colab": {
      "name": "MovieGenrePredictorUsingPlotSummariesCLeaningData.ipynb",
      "provenance": [],
      "collapsed_sections": []
    },
    "kernelspec": {
      "display_name": "Python 3",
      "language": "python",
      "name": "python3"
    },
    "language_info": {
      "codemirror_mode": {
        "name": "ipython",
        "version": 3
      },
      "file_extension": ".py",
      "mimetype": "text/x-python",
      "name": "python",
      "nbconvert_exporter": "python",
      "pygments_lexer": "ipython3",
      "version": "3.8.5"
    }
  },
  "cells": [
    {
      "cell_type": "markdown",
      "metadata": {
        "id": "1OMqcbFvM3LN"
      },
      "source": [
        "# Movie Genre Predictor"
      ]
    },
    {
      "cell_type": "markdown",
      "metadata": {
        "id": "6Om_yV9fM3LR"
      },
      "source": [
        "Importing Libraries"
      ]
    },
    {
      "cell_type": "code",
      "metadata": {
        "id": "v_HYqf1QM3LS"
      },
      "source": [
        "import tensorflow as tf\n",
        "import pandas as pd\n",
        "import numpy as np\n",
        "import nltk\n",
        "from nltk.tokenize import word_tokenize \n",
        "from nltk.stem.porter import PorterStemmer\n",
        "from nltk.stem import WordNetLemmatizer\n",
        "from nltk.corpus import stopwords\n",
        "import re\n",
        "import matplotlib.pyplot as plt\n",
        "from sklearn.model_selection import train_test_split\n",
        "from sklearn.metrics import classification_report\n",
        "from tensorflow.keras.preprocessing.text import Tokenizer\n",
        "from tensorflow.keras.preprocessing.sequence import pad_sequences\n",
        "from tensorflow.keras.utils import to_categorical\n",
        "from tensorflow.keras.layers import LSTM,Dropout,Activation,Bidirectional,Embedding,Dense,Flatten,GlobalMaxPooling1D\n",
        "from tensorflow.keras.layers import Conv1D\n",
        "from tensorflow.keras.models import Sequential\n",
        "from tensorflow.keras import optimizers\n",
        "from tensorflow.keras.callbacks import ModelCheckpoint\n",
        "import os\n",
        "from gensim.models import Word2Vec, KeyedVectors\n",
        "import tensorflow_hub as hub\n",
        "from tensorflow.keras.regularizers import l2"
      ],
      "execution_count": null,
      "outputs": []
    },
    {
      "cell_type": "code",
      "metadata": {
        "id": "RoNE5L_Nwf6P"
      },
      "source": [
        "%tensorflow_version 2.x"
      ],
      "execution_count": null,
      "outputs": []
    },
    {
      "cell_type": "markdown",
      "metadata": {
        "id": "OqiJIFlsM3LV"
      },
      "source": [
        "Tensorflow Version is 2.3"
      ]
    },
    {
      "cell_type": "code",
      "metadata": {
        "colab": {
          "base_uri": "https://localhost:8080/",
          "height": 54
        },
        "id": "SL8W81JJM3LW",
        "outputId": "c4faba33-78d3-4667-ec48-c2174c468253"
      },
      "source": [
        "from google.colab import drive\n",
        "drive.mount('/content/gdrive')\n",
        "tf.__version__"
      ],
      "execution_count": null,
      "outputs": [
        {
          "output_type": "stream",
          "text": [
            "Drive already mounted at /content/gdrive; to attempt to forcibly remount, call drive.mount(\"/content/gdrive\", force_remount=True).\n"
          ],
          "name": "stdout"
        },
        {
          "output_type": "execute_result",
          "data": {
            "application/vnd.google.colaboratory.intrinsic+json": {
              "type": "string"
            },
            "text/plain": [
              "'2.6.0'"
            ]
          },
          "metadata": {},
          "execution_count": 5
        }
      ]
    },
    {
      "cell_type": "markdown",
      "metadata": {
        "id": "j1RIpmKDM3Lc"
      },
      "source": [
        "Now Reading the data in CSV format through Pandas"
      ]
    },
    {
      "cell_type": "code",
      "metadata": {
        "colab": {
          "base_uri": "https://localhost:8080/",
          "height": 310
        },
        "id": "RV9J1wBVGWxh",
        "outputId": "d247273e-9c6b-42e2-ff7a-98dc3f195914"
      },
      "source": [
        "movies=pd.read_csv('/content/gdrive/MyDrive/wiki_movie_plots_deduped.csv')\n",
        "# movies=pd.read_csv('wiki_movie_plots_deduped.csv')\n",
        "movies.head()"
      ],
      "execution_count": null,
      "outputs": [
        {
          "output_type": "execute_result",
          "data": {
            "text/html": [
              "<div>\n",
              "<style scoped>\n",
              "    .dataframe tbody tr th:only-of-type {\n",
              "        vertical-align: middle;\n",
              "    }\n",
              "\n",
              "    .dataframe tbody tr th {\n",
              "        vertical-align: top;\n",
              "    }\n",
              "\n",
              "    .dataframe thead th {\n",
              "        text-align: right;\n",
              "    }\n",
              "</style>\n",
              "<table border=\"1\" class=\"dataframe\">\n",
              "  <thead>\n",
              "    <tr style=\"text-align: right;\">\n",
              "      <th></th>\n",
              "      <th>Release Year</th>\n",
              "      <th>Title</th>\n",
              "      <th>Origin/Ethnicity</th>\n",
              "      <th>Director</th>\n",
              "      <th>Cast</th>\n",
              "      <th>Genre</th>\n",
              "      <th>Wiki Page</th>\n",
              "      <th>Plot</th>\n",
              "    </tr>\n",
              "  </thead>\n",
              "  <tbody>\n",
              "    <tr>\n",
              "      <th>0</th>\n",
              "      <td>1901</td>\n",
              "      <td>Kansas Saloon Smashers</td>\n",
              "      <td>American</td>\n",
              "      <td>Unknown</td>\n",
              "      <td>NaN</td>\n",
              "      <td>unknown</td>\n",
              "      <td>https://en.wikipedia.org/wiki/Kansas_Saloon_Sm...</td>\n",
              "      <td>A bartender is working at a saloon, serving dr...</td>\n",
              "    </tr>\n",
              "    <tr>\n",
              "      <th>1</th>\n",
              "      <td>1901</td>\n",
              "      <td>Love by the Light of the Moon</td>\n",
              "      <td>American</td>\n",
              "      <td>Unknown</td>\n",
              "      <td>NaN</td>\n",
              "      <td>unknown</td>\n",
              "      <td>https://en.wikipedia.org/wiki/Love_by_the_Ligh...</td>\n",
              "      <td>The moon, painted with a smiling face hangs ov...</td>\n",
              "    </tr>\n",
              "    <tr>\n",
              "      <th>2</th>\n",
              "      <td>1901</td>\n",
              "      <td>The Martyred Presidents</td>\n",
              "      <td>American</td>\n",
              "      <td>Unknown</td>\n",
              "      <td>NaN</td>\n",
              "      <td>unknown</td>\n",
              "      <td>https://en.wikipedia.org/wiki/The_Martyred_Pre...</td>\n",
              "      <td>The film, just over a minute long, is composed...</td>\n",
              "    </tr>\n",
              "    <tr>\n",
              "      <th>3</th>\n",
              "      <td>1901</td>\n",
              "      <td>Terrible Teddy, the Grizzly King</td>\n",
              "      <td>American</td>\n",
              "      <td>Unknown</td>\n",
              "      <td>NaN</td>\n",
              "      <td>unknown</td>\n",
              "      <td>https://en.wikipedia.org/wiki/Terrible_Teddy,_...</td>\n",
              "      <td>Lasting just 61 seconds and consisting of two ...</td>\n",
              "    </tr>\n",
              "    <tr>\n",
              "      <th>4</th>\n",
              "      <td>1902</td>\n",
              "      <td>Jack and the Beanstalk</td>\n",
              "      <td>American</td>\n",
              "      <td>George S. Fleming, Edwin S. Porter</td>\n",
              "      <td>NaN</td>\n",
              "      <td>unknown</td>\n",
              "      <td>https://en.wikipedia.org/wiki/Jack_and_the_Bea...</td>\n",
              "      <td>The earliest known adaptation of the classic f...</td>\n",
              "    </tr>\n",
              "  </tbody>\n",
              "</table>\n",
              "</div>"
            ],
            "text/plain": [
              "   Release Year  ...                                               Plot\n",
              "0          1901  ...  A bartender is working at a saloon, serving dr...\n",
              "1          1901  ...  The moon, painted with a smiling face hangs ov...\n",
              "2          1901  ...  The film, just over a minute long, is composed...\n",
              "3          1901  ...  Lasting just 61 seconds and consisting of two ...\n",
              "4          1902  ...  The earliest known adaptation of the classic f...\n",
              "\n",
              "[5 rows x 8 columns]"
            ]
          },
          "metadata": {},
          "execution_count": 6
        }
      ]
    },
    {
      "cell_type": "markdown",
      "metadata": {
        "id": "ihNa-0RxM3Le"
      },
      "source": [
        "# Organizing Genre colunm for target Values\n"
      ]
    },
    {
      "cell_type": "markdown",
      "metadata": {
        "id": "Rotrk2FCM3Lj"
      },
      "source": [
        "Now we are only predicting horror,drama,comedy and action so filtering them out"
      ]
    },
    {
      "cell_type": "code",
      "metadata": {
        "colab": {
          "base_uri": "https://localhost:8080/"
        },
        "id": "v45CMYvnM3Lj",
        "outputId": "01bc7401-512c-4dc4-d5c3-ca60dd4002ab"
      },
      "source": [
        "MainGenres=['drama','comedy','action','horror']\n",
        "movies=movies[movies['Genre'].isin(MainGenres)]\n",
        "len(movies)"
      ],
      "execution_count": null,
      "outputs": [
        {
          "output_type": "execute_result",
          "data": {
            "text/plain": [
              "12608"
            ]
          },
          "metadata": {},
          "execution_count": 7
        }
      ]
    },
    {
      "cell_type": "code",
      "metadata": {
        "colab": {
          "base_uri": "https://localhost:8080/",
          "height": 310
        },
        "id": "qSpfQ69AM3Lk",
        "outputId": "0101132b-2112-4f47-9ebb-fbb032fb2eb2"
      },
      "source": [
        "movies=movies.reset_index()\n",
        "movies.head(5)"
      ],
      "execution_count": null,
      "outputs": [
        {
          "output_type": "execute_result",
          "data": {
            "text/html": [
              "<div>\n",
              "<style scoped>\n",
              "    .dataframe tbody tr th:only-of-type {\n",
              "        vertical-align: middle;\n",
              "    }\n",
              "\n",
              "    .dataframe tbody tr th {\n",
              "        vertical-align: top;\n",
              "    }\n",
              "\n",
              "    .dataframe thead th {\n",
              "        text-align: right;\n",
              "    }\n",
              "</style>\n",
              "<table border=\"1\" class=\"dataframe\">\n",
              "  <thead>\n",
              "    <tr style=\"text-align: right;\">\n",
              "      <th></th>\n",
              "      <th>index</th>\n",
              "      <th>Release Year</th>\n",
              "      <th>Title</th>\n",
              "      <th>Origin/Ethnicity</th>\n",
              "      <th>Director</th>\n",
              "      <th>Cast</th>\n",
              "      <th>Genre</th>\n",
              "      <th>Wiki Page</th>\n",
              "      <th>Plot</th>\n",
              "    </tr>\n",
              "  </thead>\n",
              "  <tbody>\n",
              "    <tr>\n",
              "      <th>0</th>\n",
              "      <td>7</td>\n",
              "      <td>1904</td>\n",
              "      <td>The Suburbanite</td>\n",
              "      <td>American</td>\n",
              "      <td>Wallace McCutcheon</td>\n",
              "      <td>NaN</td>\n",
              "      <td>comedy</td>\n",
              "      <td>https://en.wikipedia.org/wiki/The_Suburbanite</td>\n",
              "      <td>The film is about a family who move to the sub...</td>\n",
              "    </tr>\n",
              "    <tr>\n",
              "      <th>1</th>\n",
              "      <td>14</td>\n",
              "      <td>1907</td>\n",
              "      <td>How Brown Saw the Baseball Game</td>\n",
              "      <td>American</td>\n",
              "      <td>Unknown</td>\n",
              "      <td>Unknown</td>\n",
              "      <td>comedy</td>\n",
              "      <td>https://en.wikipedia.org/wiki/How_Brown_Saw_th...</td>\n",
              "      <td>Before heading out to a baseball game at a nea...</td>\n",
              "    </tr>\n",
              "    <tr>\n",
              "      <th>2</th>\n",
              "      <td>15</td>\n",
              "      <td>1907</td>\n",
              "      <td>Laughing Gas</td>\n",
              "      <td>American</td>\n",
              "      <td>Edwin Stanton Porter</td>\n",
              "      <td>Bertha Regustus, Edward Boulden</td>\n",
              "      <td>comedy</td>\n",
              "      <td>https://en.wikipedia.org/wiki/Laughing_Gas_(fi...</td>\n",
              "      <td>The plot is that of a black woman going to the...</td>\n",
              "    </tr>\n",
              "    <tr>\n",
              "      <th>3</th>\n",
              "      <td>16</td>\n",
              "      <td>1908</td>\n",
              "      <td>The Adventures of Dollie</td>\n",
              "      <td>American</td>\n",
              "      <td>D. W. Griffith</td>\n",
              "      <td>Arthur V. Johnson, Linda Arvidson</td>\n",
              "      <td>drama</td>\n",
              "      <td>https://en.wikipedia.org/wiki/The_Adventures_o...</td>\n",
              "      <td>On a beautiful summer day a father and mother ...</td>\n",
              "    </tr>\n",
              "    <tr>\n",
              "      <th>4</th>\n",
              "      <td>17</td>\n",
              "      <td>1908</td>\n",
              "      <td>The Black Viper</td>\n",
              "      <td>American</td>\n",
              "      <td>D. W. Griffith</td>\n",
              "      <td>D. W. Griffith</td>\n",
              "      <td>drama</td>\n",
              "      <td>https://en.wikipedia.org/wiki/The_Black_Viper</td>\n",
              "      <td>A thug accosts a girl as she leaves her workpl...</td>\n",
              "    </tr>\n",
              "  </tbody>\n",
              "</table>\n",
              "</div>"
            ],
            "text/plain": [
              "   index  ...                                               Plot\n",
              "0      7  ...  The film is about a family who move to the sub...\n",
              "1     14  ...  Before heading out to a baseball game at a nea...\n",
              "2     15  ...  The plot is that of a black woman going to the...\n",
              "3     16  ...  On a beautiful summer day a father and mother ...\n",
              "4     17  ...  A thug accosts a girl as she leaves her workpl...\n",
              "\n",
              "[5 rows x 9 columns]"
            ]
          },
          "metadata": {},
          "execution_count": 8
        }
      ]
    },
    {
      "cell_type": "markdown",
      "metadata": {
        "id": "uY_W-8DNM3Lm"
      },
      "source": [
        "Now assigning id's to our genres according to GenreCoreected colunm"
      ]
    },
    {
      "cell_type": "code",
      "metadata": {
        "colab": {
          "base_uri": "https://localhost:8080/",
          "height": 554
        },
        "id": "1VPj2ROGM3Lm",
        "outputId": "4e6238e2-7666-4582-b0e6-6c93df94ed04"
      },
      "source": [
        "movies['GenreID']=movies['Genre'].apply(lambda x:MainGenres.index(x))\n",
        "movies.head(10)"
      ],
      "execution_count": null,
      "outputs": [
        {
          "output_type": "execute_result",
          "data": {
            "text/html": [
              "<div>\n",
              "<style scoped>\n",
              "    .dataframe tbody tr th:only-of-type {\n",
              "        vertical-align: middle;\n",
              "    }\n",
              "\n",
              "    .dataframe tbody tr th {\n",
              "        vertical-align: top;\n",
              "    }\n",
              "\n",
              "    .dataframe thead th {\n",
              "        text-align: right;\n",
              "    }\n",
              "</style>\n",
              "<table border=\"1\" class=\"dataframe\">\n",
              "  <thead>\n",
              "    <tr style=\"text-align: right;\">\n",
              "      <th></th>\n",
              "      <th>index</th>\n",
              "      <th>Release Year</th>\n",
              "      <th>Title</th>\n",
              "      <th>Origin/Ethnicity</th>\n",
              "      <th>Director</th>\n",
              "      <th>Cast</th>\n",
              "      <th>Genre</th>\n",
              "      <th>Wiki Page</th>\n",
              "      <th>Plot</th>\n",
              "      <th>GenreID</th>\n",
              "    </tr>\n",
              "  </thead>\n",
              "  <tbody>\n",
              "    <tr>\n",
              "      <th>0</th>\n",
              "      <td>7</td>\n",
              "      <td>1904</td>\n",
              "      <td>The Suburbanite</td>\n",
              "      <td>American</td>\n",
              "      <td>Wallace McCutcheon</td>\n",
              "      <td>NaN</td>\n",
              "      <td>comedy</td>\n",
              "      <td>https://en.wikipedia.org/wiki/The_Suburbanite</td>\n",
              "      <td>The film is about a family who move to the sub...</td>\n",
              "      <td>1</td>\n",
              "    </tr>\n",
              "    <tr>\n",
              "      <th>1</th>\n",
              "      <td>14</td>\n",
              "      <td>1907</td>\n",
              "      <td>How Brown Saw the Baseball Game</td>\n",
              "      <td>American</td>\n",
              "      <td>Unknown</td>\n",
              "      <td>Unknown</td>\n",
              "      <td>comedy</td>\n",
              "      <td>https://en.wikipedia.org/wiki/How_Brown_Saw_th...</td>\n",
              "      <td>Before heading out to a baseball game at a nea...</td>\n",
              "      <td>1</td>\n",
              "    </tr>\n",
              "    <tr>\n",
              "      <th>2</th>\n",
              "      <td>15</td>\n",
              "      <td>1907</td>\n",
              "      <td>Laughing Gas</td>\n",
              "      <td>American</td>\n",
              "      <td>Edwin Stanton Porter</td>\n",
              "      <td>Bertha Regustus, Edward Boulden</td>\n",
              "      <td>comedy</td>\n",
              "      <td>https://en.wikipedia.org/wiki/Laughing_Gas_(fi...</td>\n",
              "      <td>The plot is that of a black woman going to the...</td>\n",
              "      <td>1</td>\n",
              "    </tr>\n",
              "    <tr>\n",
              "      <th>3</th>\n",
              "      <td>16</td>\n",
              "      <td>1908</td>\n",
              "      <td>The Adventures of Dollie</td>\n",
              "      <td>American</td>\n",
              "      <td>D. W. Griffith</td>\n",
              "      <td>Arthur V. Johnson, Linda Arvidson</td>\n",
              "      <td>drama</td>\n",
              "      <td>https://en.wikipedia.org/wiki/The_Adventures_o...</td>\n",
              "      <td>On a beautiful summer day a father and mother ...</td>\n",
              "      <td>0</td>\n",
              "    </tr>\n",
              "    <tr>\n",
              "      <th>4</th>\n",
              "      <td>17</td>\n",
              "      <td>1908</td>\n",
              "      <td>The Black Viper</td>\n",
              "      <td>American</td>\n",
              "      <td>D. W. Griffith</td>\n",
              "      <td>D. W. Griffith</td>\n",
              "      <td>drama</td>\n",
              "      <td>https://en.wikipedia.org/wiki/The_Black_Viper</td>\n",
              "      <td>A thug accosts a girl as she leaves her workpl...</td>\n",
              "      <td>0</td>\n",
              "    </tr>\n",
              "    <tr>\n",
              "      <th>5</th>\n",
              "      <td>18</td>\n",
              "      <td>1908</td>\n",
              "      <td>A Calamitous Elopement</td>\n",
              "      <td>American</td>\n",
              "      <td>D.W. Griffith</td>\n",
              "      <td>Harry Solter, Linda Arvidson</td>\n",
              "      <td>comedy</td>\n",
              "      <td>https://en.wikipedia.org/wiki/A_Calamitous_Elo...</td>\n",
              "      <td>A young couple decides to elope after being ca...</td>\n",
              "      <td>1</td>\n",
              "    </tr>\n",
              "    <tr>\n",
              "      <th>6</th>\n",
              "      <td>20</td>\n",
              "      <td>1908</td>\n",
              "      <td>A Christmas Carol</td>\n",
              "      <td>American</td>\n",
              "      <td>Unknown</td>\n",
              "      <td>Tom Ricketts</td>\n",
              "      <td>drama</td>\n",
              "      <td>https://en.wikipedia.org/wiki/A_Christmas_Caro...</td>\n",
              "      <td>No prints of the first American film adaptatio...</td>\n",
              "      <td>0</td>\n",
              "    </tr>\n",
              "    <tr>\n",
              "      <th>7</th>\n",
              "      <td>22</td>\n",
              "      <td>1909</td>\n",
              "      <td>At the Altar</td>\n",
              "      <td>American</td>\n",
              "      <td>D. W. Griffith</td>\n",
              "      <td>Marion Leonard</td>\n",
              "      <td>drama</td>\n",
              "      <td>https://en.wikipedia.org/wiki/At_the_Altar</td>\n",
              "      <td>A rejected admirer sets up a trap to kill his ...</td>\n",
              "      <td>0</td>\n",
              "    </tr>\n",
              "    <tr>\n",
              "      <th>8</th>\n",
              "      <td>23</td>\n",
              "      <td>1909</td>\n",
              "      <td>A Drunkard's Reformation</td>\n",
              "      <td>American</td>\n",
              "      <td>D. W. Griffith</td>\n",
              "      <td>Arthur V. Johnson</td>\n",
              "      <td>drama</td>\n",
              "      <td>https://en.wikipedia.org/wiki/A_Drunkard%27s_R...</td>\n",
              "      <td>John Wharton, the husband of a true and trusti...</td>\n",
              "      <td>0</td>\n",
              "    </tr>\n",
              "    <tr>\n",
              "      <th>9</th>\n",
              "      <td>24</td>\n",
              "      <td>1909</td>\n",
              "      <td>The Golden Louis</td>\n",
              "      <td>American</td>\n",
              "      <td>D. W. Griffith</td>\n",
              "      <td>NaN</td>\n",
              "      <td>drama</td>\n",
              "      <td>https://en.wikipedia.org/wiki/The_Golden_Louis</td>\n",
              "      <td>An old woman sends a girl begging in the stree...</td>\n",
              "      <td>0</td>\n",
              "    </tr>\n",
              "  </tbody>\n",
              "</table>\n",
              "</div>"
            ],
            "text/plain": [
              "   index  ...  GenreID\n",
              "0      7  ...        1\n",
              "1     14  ...        1\n",
              "2     15  ...        1\n",
              "3     16  ...        0\n",
              "4     17  ...        0\n",
              "5     18  ...        1\n",
              "6     20  ...        0\n",
              "7     22  ...        0\n",
              "8     23  ...        0\n",
              "9     24  ...        0\n",
              "\n",
              "[10 rows x 10 columns]"
            ]
          },
          "metadata": {},
          "execution_count": 9
        }
      ]
    },
    {
      "cell_type": "markdown",
      "metadata": {
        "id": "oJBErSyVM3Lm"
      },
      "source": [
        "Now Checking Individual Genre Record"
      ]
    },
    {
      "cell_type": "code",
      "metadata": {
        "colab": {
          "base_uri": "https://localhost:8080/"
        },
        "id": "BLf1Bc4yM3Ln",
        "outputId": "98196419-0602-44ff-9436-49094e171b4c"
      },
      "source": [
        "no_drama=movies['Genre'].str.contains('drama').sum()\n",
        "no_comedy=movies['Genre'].str.contains('comedy').sum()\n",
        "no_horror=movies['Genre'].str.contains('horror').sum()\n",
        "no_action=movies['Genre'].str.contains('action').sum()\n",
        "print(\"Number of Drama movies:\",no_drama)\n",
        "print(\"Number of Comedy movies:\",no_comedy)\n",
        "print(\"Number of Horror movies:\",no_horror)\n",
        "print(\"Number of Action movies:\",no_action)"
      ],
      "execution_count": null,
      "outputs": [
        {
          "output_type": "stream",
          "text": [
            "Number of Drama movies: 5964\n",
            "Number of Comedy movies: 4379\n",
            "Number of Horror movies: 1167\n",
            "Number of Action movies: 1098\n"
          ],
          "name": "stdout"
        }
      ]
    },
    {
      "cell_type": "markdown",
      "metadata": {
        "id": "WK_nw9rvM3Lo"
      },
      "source": [
        "Showing Values in Bar chart"
      ]
    },
    {
      "cell_type": "code",
      "metadata": {
        "colab": {
          "base_uri": "https://localhost:8080/",
          "height": 319
        },
        "id": "zAAOs9ZJM3Lp",
        "outputId": "d15f0d76-7888-4eb4-a267-d21c47a071cd"
      },
      "source": [
        "import seaborn as sns\n",
        "sns.set(style='whitegrid')\n",
        "figsize=(18, 6)\n",
        "ax=sns.countplot(x=movies['Genre'], data=movies)\n",
        "ax.set(xlabel='Genre',title=\"Genre Counnt\")"
      ],
      "execution_count": null,
      "outputs": [
        {
          "output_type": "execute_result",
          "data": {
            "text/plain": [
              "[Text(0.5, 0, 'Genre'), Text(0.5, 1.0, 'Genre Counnt')]"
            ]
          },
          "metadata": {},
          "execution_count": 11
        },
        {
          "output_type": "display_data",
          "data": {
            "image/png": "[encoded data removed]",
            "text/plain": [
              "<Figure size 432x288 with 1 Axes>"
            ]
          },
          "metadata": {}
        }
      ]
    },
    {
      "cell_type": "markdown",
      "metadata": {
        "id": "WbdkSb_XM3Lr"
      },
      "source": [
        "# Plot Summaries Pre-Processing"
      ]
    },
    {
      "cell_type": "code",
      "metadata": {
        "colab": {
          "base_uri": "https://localhost:8080/"
        },
        "id": "JGiktVrKM3Ls",
        "outputId": "4c51babf-52a3-4686-886a-caf94a9276d6"
      },
      "source": [
        "import random\n",
        "synNumber=random.randint(1,1000)\n",
        "print(movies['Title'].loc[synNumber])\n",
        "print(movies['Genre'].loc[synNumber])\n",
        "print(movies['Plot'].loc[synNumber])"
      ],
      "execution_count": null,
      "outputs": [
        {
          "output_type": "stream",
          "text": [
            "Enoch Arden\n",
            "drama\n",
            "Based on a summary in a film magazine,[2] Enoch, Annie, and Walter grow up as friends. Later, Annie decides to marry Enoch, but Walter, though bitter about the decision, remains their friend. Enoch and Annie have two children. Then business takes Enoch on a sailing voyage, which he states will take less than one year, and he asks Walter to look over his family while he is gone. Enoch does not return, and Walter dutifully cares after Enoch's wife and children. After ten years word comes of a wreck seen in the Pacific, and everyone believes Enoch has died. Walter and Annie then marry. One night a stranger comes to the house and through a window sees Walter, Annie, and the children happy. The stranger, who is Enoch, finds an old woman who tells him what happened. Enoch tells her to keep his secret, and then leaves. He later dies with a smile on his face.\n"
          ],
          "name": "stdout"
        }
      ]
    },
    {
      "cell_type": "code",
      "metadata": {
        "id": "LkS4l8QKM3Lu"
      },
      "source": [
        "def  clean_text(df, text_field, new_text_field_name):\n",
        "    df[new_text_field_name] = df[text_field].str.lower()\n",
        "    df[new_text_field_name] = df[new_text_field_name].apply(lambda elem: re.sub(r\"(@[A-Za-z0-9]+)|([^0-9A-Za-z \\t])|(\\w+:\\/\\/\\S+)|^rt|http.+?\", \"\", elem))  \n",
        "    # remove numbers\n",
        "    df[new_text_field_name] = df[new_text_field_name].apply(lambda elem: re.sub(r\"\\d+\", \"\", elem))\n",
        "    \n",
        "    return df"
      ],
      "execution_count": null,
      "outputs": []
    },
    {
      "cell_type": "code",
      "metadata": {
        "colab": {
          "base_uri": "https://localhost:8080/",
          "height": 397
        },
        "id": "Jyi0wfuqM3Lu",
        "outputId": "d298177f-f48c-4675-9310-0b6beaa1c228"
      },
      "source": [
        "data_clean = clean_text(movies, 'Plot', 'Plot_clean')\n",
        "data_clean.head()"
      ],
      "execution_count": null,
      "outputs": [
        {
          "output_type": "execute_result",
          "data": {
            "text/html": [
              "<div>\n",
              "<style scoped>\n",
              "    .dataframe tbody tr th:only-of-type {\n",
              "        vertical-align: middle;\n",
              "    }\n",
              "\n",
              "    .dataframe tbody tr th {\n",
              "        vertical-align: top;\n",
              "    }\n",
              "\n",
              "    .dataframe thead th {\n",
              "        text-align: right;\n",
              "    }\n",
              "</style>\n",
              "<table border=\"1\" class=\"dataframe\">\n",
              "  <thead>\n",
              "    <tr style=\"text-align: right;\">\n",
              "      <th></th>\n",
              "      <th>index</th>\n",
              "      <th>Release Year</th>\n",
              "      <th>Title</th>\n",
              "      <th>Origin/Ethnicity</th>\n",
              "      <th>Director</th>\n",
              "      <th>Cast</th>\n",
              "      <th>Genre</th>\n",
              "      <th>Wiki Page</th>\n",
              "      <th>Plot</th>\n",
              "      <th>GenreID</th>\n",
              "      <th>Plot_clean</th>\n",
              "    </tr>\n",
              "  </thead>\n",
              "  <tbody>\n",
              "    <tr>\n",
              "      <th>0</th>\n",
              "      <td>7</td>\n",
              "      <td>1904</td>\n",
              "      <td>The Suburbanite</td>\n",
              "      <td>American</td>\n",
              "      <td>Wallace McCutcheon</td>\n",
              "      <td>NaN</td>\n",
              "      <td>comedy</td>\n",
              "      <td>https://en.wikipedia.org/wiki/The_Suburbanite</td>\n",
              "      <td>The film is about a family who move to the sub...</td>\n",
              "      <td>1</td>\n",
              "      <td>the film is about a family who move to the sub...</td>\n",
              "    </tr>\n",
              "    <tr>\n",
              "      <th>1</th>\n",
              "      <td>14</td>\n",
              "      <td>1907</td>\n",
              "      <td>How Brown Saw the Baseball Game</td>\n",
              "      <td>American</td>\n",
              "      <td>Unknown</td>\n",
              "      <td>Unknown</td>\n",
              "      <td>comedy</td>\n",
              "      <td>https://en.wikipedia.org/wiki/How_Brown_Saw_th...</td>\n",
              "      <td>Before heading out to a baseball game at a nea...</td>\n",
              "      <td>1</td>\n",
              "      <td>before heading out to a baseball game at a nea...</td>\n",
              "    </tr>\n",
              "    <tr>\n",
              "      <th>2</th>\n",
              "      <td>15</td>\n",
              "      <td>1907</td>\n",
              "      <td>Laughing Gas</td>\n",
              "      <td>American</td>\n",
              "      <td>Edwin Stanton Porter</td>\n",
              "      <td>Bertha Regustus, Edward Boulden</td>\n",
              "      <td>comedy</td>\n",
              "      <td>https://en.wikipedia.org/wiki/Laughing_Gas_(fi...</td>\n",
              "      <td>The plot is that of a black woman going to the...</td>\n",
              "      <td>1</td>\n",
              "      <td>the plot is that of a black woman going to the...</td>\n",
              "    </tr>\n",
              "    <tr>\n",
              "      <th>3</th>\n",
              "      <td>16</td>\n",
              "      <td>1908</td>\n",
              "      <td>The Adventures of Dollie</td>\n",
              "      <td>American</td>\n",
              "      <td>D. W. Griffith</td>\n",
              "      <td>Arthur V. Johnson, Linda Arvidson</td>\n",
              "      <td>drama</td>\n",
              "      <td>https://en.wikipedia.org/wiki/The_Adventures_o...</td>\n",
              "      <td>On a beautiful summer day a father and mother ...</td>\n",
              "      <td>0</td>\n",
              "      <td>on a beautiful summer day a father and mother ...</td>\n",
              "    </tr>\n",
              "    <tr>\n",
              "      <th>4</th>\n",
              "      <td>17</td>\n",
              "      <td>1908</td>\n",
              "      <td>The Black Viper</td>\n",
              "      <td>American</td>\n",
              "      <td>D. W. Griffith</td>\n",
              "      <td>D. W. Griffith</td>\n",
              "      <td>drama</td>\n",
              "      <td>https://en.wikipedia.org/wiki/The_Black_Viper</td>\n",
              "      <td>A thug accosts a girl as she leaves her workpl...</td>\n",
              "      <td>0</td>\n",
              "      <td>a thug accosts a girl as she leaves her workpl...</td>\n",
              "    </tr>\n",
              "  </tbody>\n",
              "</table>\n",
              "</div>"
            ],
            "text/plain": [
              "   index  ...                                         Plot_clean\n",
              "0      7  ...  the film is about a family who move to the sub...\n",
              "1     14  ...  before heading out to a baseball game at a nea...\n",
              "2     15  ...  the plot is that of a black woman going to the...\n",
              "3     16  ...  on a beautiful summer day a father and mother ...\n",
              "4     17  ...  a thug accosts a girl as she leaves her workpl...\n",
              "\n",
              "[5 rows x 11 columns]"
            ]
          },
          "metadata": {},
          "execution_count": 14
        }
      ]
    },
    {
      "cell_type": "code",
      "metadata": {
        "colab": {
          "base_uri": "https://localhost:8080/"
        },
        "id": "GSlfHXdEM3Lw",
        "outputId": "fa07ef8e-6c15-4041-c322-fbf35ff4d379"
      },
      "source": [
        "nltk.download('stopwords')\n",
        "nltk.download('punkt')\n",
        "stop = stopwords.words('english')"
      ],
      "execution_count": null,
      "outputs": [
        {
          "output_type": "stream",
          "text": [
            "[nltk_data] Downloading package stopwords to /root/nltk_data...\n",
            "[nltk_data]   Package stopwords is already up-to-date!\n",
            "[nltk_data] Downloading package punkt to /root/nltk_data...\n",
            "[nltk_data]   Package punkt is already up-to-date!\n"
          ],
          "name": "stdout"
        }
      ]
    },
    {
      "cell_type": "code",
      "metadata": {
        "id": "wamsB0WQGWx4"
      },
      "source": [
        "# plots=data_clean['Plot_clean'].values"
      ],
      "execution_count": null,
      "outputs": []
    },
    {
      "cell_type": "code",
      "metadata": {
        "id": "SpyUGhjxM3Lw"
      },
      "source": [
        "# vec=[word_tokenize(plot)for plot in plots]"
      ],
      "execution_count": null,
      "outputs": []
    },
    {
      "cell_type": "code",
      "metadata": {
        "id": "8MqpUN5LGWx5"
      },
      "source": [
        "# modelvec=Word2Vec(vec,min_count=1)"
      ],
      "execution_count": null,
      "outputs": []
    },
    {
      "cell_type": "code",
      "metadata": {
        "id": "w6YOX-CoGWx5"
      },
      "source": [
        "# word_embeddings=KeyedVectors.load_word2vec_format('/content/gdrive/MyDrive/GoogleNews-vectors-negative300.bin',binary=True)"
      ],
      "execution_count": null,
      "outputs": []
    },
    {
      "cell_type": "code",
      "metadata": {
        "id": "JntIbKrZGWx6"
      },
      "source": [
        ""
      ],
      "execution_count": null,
      "outputs": []
    },
    {
      "cell_type": "code",
      "metadata": {
        "id": "MRTwm6olGWx6"
      },
      "source": [
        ""
      ],
      "execution_count": null,
      "outputs": []
    },
    {
      "cell_type": "code",
      "metadata": {
        "id": "p9UztcbbGWx6"
      },
      "source": [
        "data_clean = data_clean.sample(frac=1).reset_index(drop=True)"
      ],
      "execution_count": null,
      "outputs": []
    },
    {
      "cell_type": "code",
      "metadata": {
        "id": "4R2w42MKM3Lx",
        "colab": {
          "base_uri": "https://localhost:8080/",
          "height": 362
        },
        "outputId": "4bc99f09-9b6e-4367-f57d-b72a9ad59154"
      },
      "source": [
        "# stemmer = PorterStemmer()\n",
        "# def stem_words(text):\n",
        "#     return \" \".join([stemmer.stem(word) for word in text.split()])\n",
        "\n",
        "# data_clean[\"Plot_clean\"] = data_clean[\"Plot_clean\"].apply(lambda text: stem_words(text))\n",
        "data_clean.head()"
      ],
      "execution_count": null,
      "outputs": [
        {
          "output_type": "execute_result",
          "data": {
            "text/html": [
              "<div>\n",
              "<style scoped>\n",
              "    .dataframe tbody tr th:only-of-type {\n",
              "        vertical-align: middle;\n",
              "    }\n",
              "\n",
              "    .dataframe tbody tr th {\n",
              "        vertical-align: top;\n",
              "    }\n",
              "\n",
              "    .dataframe thead th {\n",
              "        text-align: right;\n",
              "    }\n",
              "</style>\n",
              "<table border=\"1\" class=\"dataframe\">\n",
              "  <thead>\n",
              "    <tr style=\"text-align: right;\">\n",
              "      <th></th>\n",
              "      <th>index</th>\n",
              "      <th>Release Year</th>\n",
              "      <th>Title</th>\n",
              "      <th>Origin/Ethnicity</th>\n",
              "      <th>Director</th>\n",
              "      <th>Cast</th>\n",
              "      <th>Genre</th>\n",
              "      <th>Wiki Page</th>\n",
              "      <th>Plot</th>\n",
              "      <th>GenreID</th>\n",
              "      <th>Plot_clean</th>\n",
              "    </tr>\n",
              "  </thead>\n",
              "  <tbody>\n",
              "    <tr>\n",
              "      <th>0</th>\n",
              "      <td>32501</td>\n",
              "      <td>2011</td>\n",
              "      <td>Vasthad</td>\n",
              "      <td>Telugu</td>\n",
              "      <td>Rajamithran</td>\n",
              "      <td>Aadhi, Meera Nandan</td>\n",
              "      <td>drama</td>\n",
              "      <td>https://en.wikipedia.org/wiki/Ayyanar_(film)</td>\n",
              "      <td>Prabha (Aadhi Pinisetty) is the eldest son of ...</td>\n",
              "      <td>0</td>\n",
              "      <td>prabha aadhi pinisetty is the eldest son of th...</td>\n",
              "    </tr>\n",
              "    <tr>\n",
              "      <th>1</th>\n",
              "      <td>48</td>\n",
              "      <td>1912</td>\n",
              "      <td>Petticoat Camp</td>\n",
              "      <td>American</td>\n",
              "      <td>Unknown</td>\n",
              "      <td>William Garwood, Florence La Badie</td>\n",
              "      <td>comedy</td>\n",
              "      <td>https://en.wikipedia.org/wiki/Petticoat_Camp</td>\n",
              "      <td>Only lasting 15 minutes, it is a light-hearted...</td>\n",
              "      <td>1</td>\n",
              "      <td>only lasting  minutes it is a lighthearted com...</td>\n",
              "    </tr>\n",
              "    <tr>\n",
              "      <th>2</th>\n",
              "      <td>15091</td>\n",
              "      <td>2006</td>\n",
              "      <td>Talladega Nights: The Ballad of Ricky Bobby</td>\n",
              "      <td>American</td>\n",
              "      <td>Adam McKay</td>\n",
              "      <td>Will Ferrell, John C. Reilly, Sacha Baron Cohen</td>\n",
              "      <td>comedy</td>\n",
              "      <td>https://en.wikipedia.org/wiki/Talladega_Nights...</td>\n",
              "      <td>Ricky Bobby is a man who grew up dreaming of g...</td>\n",
              "      <td>1</td>\n",
              "      <td>ricky bobby is a man who grew up dreaming of g...</td>\n",
              "    </tr>\n",
              "    <tr>\n",
              "      <th>3</th>\n",
              "      <td>12831</td>\n",
              "      <td>1996</td>\n",
              "      <td>Skin &amp; Bone</td>\n",
              "      <td>American</td>\n",
              "      <td>Everett Lewis</td>\n",
              "      <td>J. Wyatt</td>\n",
              "      <td>drama</td>\n",
              "      <td>https://en.wikipedia.org/wiki/Skin_%26_Bone_(f...</td>\n",
              "      <td>Skin &amp; Bone is an episodic account of three Lo...</td>\n",
              "      <td>0</td>\n",
              "      <td>skin  bone is an episodic account of three los...</td>\n",
              "    </tr>\n",
              "    <tr>\n",
              "      <th>4</th>\n",
              "      <td>2870</td>\n",
              "      <td>1940</td>\n",
              "      <td>The Man I Married</td>\n",
              "      <td>American</td>\n",
              "      <td>Irving Pichel</td>\n",
              "      <td>Joan Bennett, Francis Lederer</td>\n",
              "      <td>drama</td>\n",
              "      <td>https://en.wikipedia.org/wiki/The_Man_I_Married</td>\n",
              "      <td>A successful American woman, art critic Carol ...</td>\n",
              "      <td>0</td>\n",
              "      <td>a successful american woman art critic carol c...</td>\n",
              "    </tr>\n",
              "  </tbody>\n",
              "</table>\n",
              "</div>"
            ],
            "text/plain": [
              "   index  ...                                         Plot_clean\n",
              "0  32501  ...  prabha aadhi pinisetty is the eldest son of th...\n",
              "1     48  ...  only lasting  minutes it is a lighthearted com...\n",
              "2  15091  ...  ricky bobby is a man who grew up dreaming of g...\n",
              "3  12831  ...  skin  bone is an episodic account of three los...\n",
              "4   2870  ...  a successful american woman art critic carol c...\n",
              "\n",
              "[5 rows x 11 columns]"
            ]
          },
          "metadata": {},
          "execution_count": 21
        }
      ]
    },
    {
      "cell_type": "code",
      "metadata": {
        "id": "rQZDswVM_VO5"
      },
      "source": [
        "data_clean.to_csv('clean_data.csv')"
      ],
      "execution_count": null,
      "outputs": []
    },
    {
      "cell_type": "code",
      "metadata": {
        "id": "IeCKIZC7jclt"
      },
      "source": [
        "lemmatizer = WordNetLemmatizer()\n",
        "def lemmatize_text(text):\n",
        "    return \" \".join([lemmatizer.lemmatize(w) for w in text.split()])"
      ],
      "execution_count": null,
      "outputs": []
    },
    {
      "cell_type": "code",
      "metadata": {
        "id": "K5HhJtxrjcdZ",
        "colab": {
          "base_uri": "https://localhost:8080/",
          "height": 399
        },
        "outputId": "0f8d3133-591e-4fcf-b2fd-44c6472d0418"
      },
      "source": [
        "nltk.download('wordnet')\n",
        "data_clean[\"Plot_clean\"] = data_clean[\"Plot_clean\"].apply(lambda text: lemmatize_text(text))\n",
        "data_clean.head()"
      ],
      "execution_count": null,
      "outputs": [
        {
          "output_type": "stream",
          "text": [
            "[nltk_data] Downloading package wordnet to /root/nltk_data...\n",
            "[nltk_data]   Package wordnet is already up-to-date!\n"
          ],
          "name": "stdout"
        },
        {
          "output_type": "execute_result",
          "data": {
            "text/html": [
              "<div>\n",
              "<style scoped>\n",
              "    .dataframe tbody tr th:only-of-type {\n",
              "        vertical-align: middle;\n",
              "    }\n",
              "\n",
              "    .dataframe tbody tr th {\n",
              "        vertical-align: top;\n",
              "    }\n",
              "\n",
              "    .dataframe thead th {\n",
              "        text-align: right;\n",
              "    }\n",
              "</style>\n",
              "<table border=\"1\" class=\"dataframe\">\n",
              "  <thead>\n",
              "    <tr style=\"text-align: right;\">\n",
              "      <th></th>\n",
              "      <th>index</th>\n",
              "      <th>Release Year</th>\n",
              "      <th>Title</th>\n",
              "      <th>Origin/Ethnicity</th>\n",
              "      <th>Director</th>\n",
              "      <th>Cast</th>\n",
              "      <th>Genre</th>\n",
              "      <th>Wiki Page</th>\n",
              "      <th>Plot</th>\n",
              "      <th>GenreID</th>\n",
              "      <th>Plot_clean</th>\n",
              "    </tr>\n",
              "  </thead>\n",
              "  <tbody>\n",
              "    <tr>\n",
              "      <th>0</th>\n",
              "      <td>32501</td>\n",
              "      <td>2011</td>\n",
              "      <td>Vasthad</td>\n",
              "      <td>Telugu</td>\n",
              "      <td>Rajamithran</td>\n",
              "      <td>Aadhi, Meera Nandan</td>\n",
              "      <td>drama</td>\n",
              "      <td>https://en.wikipedia.org/wiki/Ayyanar_(film)</td>\n",
              "      <td>Prabha (Aadhi Pinisetty) is the eldest son of ...</td>\n",
              "      <td>0</td>\n",
              "      <td>prabha aadhi pinisetty is the eldest son of th...</td>\n",
              "    </tr>\n",
              "    <tr>\n",
              "      <th>1</th>\n",
              "      <td>48</td>\n",
              "      <td>1912</td>\n",
              "      <td>Petticoat Camp</td>\n",
              "      <td>American</td>\n",
              "      <td>Unknown</td>\n",
              "      <td>William Garwood, Florence La Badie</td>\n",
              "      <td>comedy</td>\n",
              "      <td>https://en.wikipedia.org/wiki/Petticoat_Camp</td>\n",
              "      <td>Only lasting 15 minutes, it is a light-hearted...</td>\n",
              "      <td>1</td>\n",
              "      <td>only lasting minute it is a lighthearted comed...</td>\n",
              "    </tr>\n",
              "    <tr>\n",
              "      <th>2</th>\n",
              "      <td>15091</td>\n",
              "      <td>2006</td>\n",
              "      <td>Talladega Nights: The Ballad of Ricky Bobby</td>\n",
              "      <td>American</td>\n",
              "      <td>Adam McKay</td>\n",
              "      <td>Will Ferrell, John C. Reilly, Sacha Baron Cohen</td>\n",
              "      <td>comedy</td>\n",
              "      <td>https://en.wikipedia.org/wiki/Talladega_Nights...</td>\n",
              "      <td>Ricky Bobby is a man who grew up dreaming of g...</td>\n",
              "      <td>1</td>\n",
              "      <td>ricky bobby is a man who grew up dreaming of g...</td>\n",
              "    </tr>\n",
              "    <tr>\n",
              "      <th>3</th>\n",
              "      <td>12831</td>\n",
              "      <td>1996</td>\n",
              "      <td>Skin &amp; Bone</td>\n",
              "      <td>American</td>\n",
              "      <td>Everett Lewis</td>\n",
              "      <td>J. Wyatt</td>\n",
              "      <td>drama</td>\n",
              "      <td>https://en.wikipedia.org/wiki/Skin_%26_Bone_(f...</td>\n",
              "      <td>Skin &amp; Bone is an episodic account of three Lo...</td>\n",
              "      <td>0</td>\n",
              "      <td>skin bone is an episodic account of three los ...</td>\n",
              "    </tr>\n",
              "    <tr>\n",
              "      <th>4</th>\n",
              "      <td>2870</td>\n",
              "      <td>1940</td>\n",
              "      <td>The Man I Married</td>\n",
              "      <td>American</td>\n",
              "      <td>Irving Pichel</td>\n",
              "      <td>Joan Bennett, Francis Lederer</td>\n",
              "      <td>drama</td>\n",
              "      <td>https://en.wikipedia.org/wiki/The_Man_I_Married</td>\n",
              "      <td>A successful American woman, art critic Carol ...</td>\n",
              "      <td>0</td>\n",
              "      <td>a successful american woman art critic carol c...</td>\n",
              "    </tr>\n",
              "  </tbody>\n",
              "</table>\n",
              "</div>"
            ],
            "text/plain": [
              "   index  ...                                         Plot_clean\n",
              "0  32501  ...  prabha aadhi pinisetty is the eldest son of th...\n",
              "1     48  ...  only lasting minute it is a lighthearted comed...\n",
              "2  15091  ...  ricky bobby is a man who grew up dreaming of g...\n",
              "3  12831  ...  skin bone is an episodic account of three los ...\n",
              "4   2870  ...  a successful american woman art critic carol c...\n",
              "\n",
              "[5 rows x 11 columns]"
            ]
          },
          "metadata": {},
          "execution_count": 25
        }
      ]
    },
    {
      "cell_type": "code",
      "metadata": {
        "id": "13_Iv1AelUev",
        "colab": {
          "base_uri": "https://localhost:8080/",
          "height": 380
        },
        "outputId": "bd294866-1b38-450d-b41d-c286e73a7d4e"
      },
      "source": [
        "data_clean['Plot_clean'] = data_clean['Plot_clean'].apply(lambda x: ' '.join([word for word in x.split() if word not in (stop)]))\n",
        "data_clean.head()"
      ],
      "execution_count": null,
      "outputs": [
        {
          "output_type": "execute_result",
          "data": {
            "text/html": [
              "<div>\n",
              "<style scoped>\n",
              "    .dataframe tbody tr th:only-of-type {\n",
              "        vertical-align: middle;\n",
              "    }\n",
              "\n",
              "    .dataframe tbody tr th {\n",
              "        vertical-align: top;\n",
              "    }\n",
              "\n",
              "    .dataframe thead th {\n",
              "        text-align: right;\n",
              "    }\n",
              "</style>\n",
              "<table border=\"1\" class=\"dataframe\">\n",
              "  <thead>\n",
              "    <tr style=\"text-align: right;\">\n",
              "      <th></th>\n",
              "      <th>index</th>\n",
              "      <th>Release Year</th>\n",
              "      <th>Title</th>\n",
              "      <th>Origin/Ethnicity</th>\n",
              "      <th>Director</th>\n",
              "      <th>Cast</th>\n",
              "      <th>Genre</th>\n",
              "      <th>Wiki Page</th>\n",
              "      <th>Plot</th>\n",
              "      <th>GenreID</th>\n",
              "      <th>Plot_clean</th>\n",
              "    </tr>\n",
              "  </thead>\n",
              "  <tbody>\n",
              "    <tr>\n",
              "      <th>0</th>\n",
              "      <td>32501</td>\n",
              "      <td>2011</td>\n",
              "      <td>Vasthad</td>\n",
              "      <td>Telugu</td>\n",
              "      <td>Rajamithran</td>\n",
              "      <td>Aadhi, Meera Nandan</td>\n",
              "      <td>drama</td>\n",
              "      <td>https://en.wikipedia.org/wiki/Ayyanar_(film)</td>\n",
              "      <td>Prabha (Aadhi Pinisetty) is the eldest son of ...</td>\n",
              "      <td>0</td>\n",
              "      <td>prabha aadhi pinisetty eldest son family doe n...</td>\n",
              "    </tr>\n",
              "    <tr>\n",
              "      <th>1</th>\n",
              "      <td>48</td>\n",
              "      <td>1912</td>\n",
              "      <td>Petticoat Camp</td>\n",
              "      <td>American</td>\n",
              "      <td>Unknown</td>\n",
              "      <td>William Garwood, Florence La Badie</td>\n",
              "      <td>comedy</td>\n",
              "      <td>https://en.wikipedia.org/wiki/Petticoat_Camp</td>\n",
              "      <td>Only lasting 15 minutes, it is a light-hearted...</td>\n",
              "      <td>1</td>\n",
              "      <td>lasting minute lighthearted comedy battle sex ...</td>\n",
              "    </tr>\n",
              "    <tr>\n",
              "      <th>2</th>\n",
              "      <td>15091</td>\n",
              "      <td>2006</td>\n",
              "      <td>Talladega Nights: The Ballad of Ricky Bobby</td>\n",
              "      <td>American</td>\n",
              "      <td>Adam McKay</td>\n",
              "      <td>Will Ferrell, John C. Reilly, Sacha Baron Cohen</td>\n",
              "      <td>comedy</td>\n",
              "      <td>https://en.wikipedia.org/wiki/Talladega_Nights...</td>\n",
              "      <td>Ricky Bobby is a man who grew up dreaming of g...</td>\n",
              "      <td>1</td>\n",
              "      <td>ricky bobby man grew dreaming going fast worki...</td>\n",
              "    </tr>\n",
              "    <tr>\n",
              "      <th>3</th>\n",
              "      <td>12831</td>\n",
              "      <td>1996</td>\n",
              "      <td>Skin &amp; Bone</td>\n",
              "      <td>American</td>\n",
              "      <td>Everett Lewis</td>\n",
              "      <td>J. Wyatt</td>\n",
              "      <td>drama</td>\n",
              "      <td>https://en.wikipedia.org/wiki/Skin_%26_Bone_(f...</td>\n",
              "      <td>Skin &amp; Bone is an episodic account of three Lo...</td>\n",
              "      <td>0</td>\n",
              "      <td>skin bone episodic account three los angelesar...</td>\n",
              "    </tr>\n",
              "    <tr>\n",
              "      <th>4</th>\n",
              "      <td>2870</td>\n",
              "      <td>1940</td>\n",
              "      <td>The Man I Married</td>\n",
              "      <td>American</td>\n",
              "      <td>Irving Pichel</td>\n",
              "      <td>Joan Bennett, Francis Lederer</td>\n",
              "      <td>drama</td>\n",
              "      <td>https://en.wikipedia.org/wiki/The_Man_I_Married</td>\n",
              "      <td>A successful American woman, art critic Carol ...</td>\n",
              "      <td>0</td>\n",
              "      <td>successful american woman art critic carol cab...</td>\n",
              "    </tr>\n",
              "  </tbody>\n",
              "</table>\n",
              "</div>"
            ],
            "text/plain": [
              "   index  ...                                         Plot_clean\n",
              "0  32501  ...  prabha aadhi pinisetty eldest son family doe n...\n",
              "1     48  ...  lasting minute lighthearted comedy battle sex ...\n",
              "2  15091  ...  ricky bobby man grew dreaming going fast worki...\n",
              "3  12831  ...  skin bone episodic account three los angelesar...\n",
              "4   2870  ...  successful american woman art critic carol cab...\n",
              "\n",
              "[5 rows x 11 columns]"
            ]
          },
          "metadata": {},
          "execution_count": 26
        }
      ]
    },
    {
      "cell_type": "markdown",
      "metadata": {
        "id": "qrcaJTfZM3Ly"
      },
      "source": [
        "Tokenizing and creating and padding the sequences"
      ]
    },
    {
      "cell_type": "code",
      "metadata": {
        "id": "GZ23BLXSirVJ"
      },
      "source": [
        ""
      ],
      "execution_count": null,
      "outputs": []
    },
    {
      "cell_type": "code",
      "metadata": {
        "id": "14nf1SHLJg4Z"
      },
      "source": [
        ""
      ],
      "execution_count": null,
      "outputs": []
    },
    {
      "cell_type": "code",
      "metadata": {
        "colab": {
          "base_uri": "https://localhost:8080/"
        },
        "id": "5Hd1XdMxM3Ly",
        "outputId": "fe5901e1-0d03-4bec-e730-be73e5b629d1"
      },
      "source": [
        "tokenizer = Tokenizer()\n",
        "tokenizer.fit_on_texts((list(data_clean['Plot_clean'])))\n",
        "sequences=tokenizer.texts_to_sequences((list(data_clean['Plot_clean'])))\n",
        "word_index=tokenizer.word_index\n",
        "print(\"unique tokens:\",len(word_index))\n",
        "max_len=np.max([len(sequence) for sequence in sequences])\n",
        "print(\"Max length:\",max_len)\n",
        "data = pad_sequences(sequences, maxlen=max_len)\n",
        "print(\"Shape of data tensor:\",data.shape)"
      ],
      "execution_count": null,
      "outputs": [
        {
          "output_type": "stream",
          "text": [
            "unique tokens: 114645\n",
            "Max length: 1488\n",
            "Shape of data tensor: (12608, 1488)\n"
          ],
          "name": "stdout"
        }
      ]
    },
    {
      "cell_type": "markdown",
      "metadata": {
        "id": "nX8F9B0sM3Ly"
      },
      "source": [
        "Making Target labels to Categorical"
      ]
    },
    {
      "cell_type": "code",
      "metadata": {
        "colab": {
          "base_uri": "https://localhost:8080/"
        },
        "id": "vpyQXLRqM3Ly",
        "outputId": "9c10e97d-ec76-4a5c-8a86-d3972c73e386"
      },
      "source": [
        "labels=np.asarray(movies['GenreID'])\n",
        "labels=to_categorical(labels,num_classes=4)\n",
        "print('Label:',labels.shape)\n",
        "labels"
      ],
      "execution_count": null,
      "outputs": [
        {
          "output_type": "stream",
          "text": [
            "Label: (12608, 4)\n"
          ],
          "name": "stdout"
        },
        {
          "output_type": "execute_result",
          "data": {
            "text/plain": [
              "array([[0., 1., 0., 0.],\n",
              "       [0., 1., 0., 0.],\n",
              "       [0., 1., 0., 0.],\n",
              "       ...,\n",
              "       [1., 0., 0., 0.],\n",
              "       [0., 1., 0., 0.],\n",
              "       [0., 1., 0., 0.]], dtype=float32)"
            ]
          },
          "metadata": {},
          "execution_count": 28
        }
      ]
    },
    {
      "cell_type": "code",
      "metadata": {
        "id": "GxixYc4WGWx-"
      },
      "source": [
        "# embedding_dim=300\n",
        "# total_words=len(word_index)+1\n",
        "# skipped_words=0\n",
        "# embedding_vector=None\n",
        "# embedding_matrix=np.zeros((total_words,embedding_dim))\n",
        "# for word,index in tokenizer.word_index.items():\n",
        "#     try:\n",
        "#         embedding_vector=wordembeddings[word]\n",
        "#     except:\n",
        "#         skipped_words-skipped_words+1\n",
        "#         pass\n",
        "#     if embedding_vector is not None:\n",
        "#         embedding_matrix[index]=embedding_vector\n",
        "# print(\"Embeddings Matrix Shape :\",embedding_matrix.shape)"
      ],
      "execution_count": null,
      "outputs": []
    },
    {
      "cell_type": "code",
      "metadata": {
        "id": "frJGoaZjGWx_"
      },
      "source": [
        "# Embedding_layer=Embedding(total_words,embedding_dim,weights=[embedding_matrix],input_length=max_len,trainable=False)"
      ],
      "execution_count": null,
      "outputs": []
    },
    {
      "cell_type": "markdown",
      "metadata": {
        "id": "OmxqG9zQM3Lz"
      },
      "source": [
        "# Creating a Model"
      ]
    },
    {
      "cell_type": "code",
      "metadata": {
        "id": "jCyxYnyWM3Lz"
      },
      "source": [
        "#splitting the data for training testing and validation\n",
        "# training_samples=11000\n",
        "# validation_samples=3000\n",
        "# X_train=data[:training_samples]\n",
        "# y_train=labels[:training_samples]\n",
        "# X_val=data[training_samples:training_samples+validation_samples]\n",
        "# y_val=labels[training_samples:training_samples+validation_samples]\n",
        "X_train,X_val,y_train,y_val=train_test_split(data,labels,test_size=0.15,random_state=42)\n",
        "# shuffle_index=np.random.permutation(len(X_train))\n",
        "# X_train,y_train=X_train[shuffle_index],y_train[shuffle_index]"
      ],
      "execution_count": null,
      "outputs": []
    },
    {
      "cell_type": "code",
      "metadata": {
        "colab": {
          "base_uri": "https://localhost:8080/"
        },
        "id": "c1u3bJjBAplw",
        "outputId": "3adf2f1f-a912-4205-8fe8-8d6c06eaa7b6"
      },
      "source": [
        "embedding_dim=250\n",
        "model=Sequential()\n",
        "model.add(Embedding(input_dim=len(word_index)+1,output_dim=embedding_dim,input_length=max_len))\n",
        "model.add(Dropout(0.2))\n",
        "# model.add(Conv1D(filters=64, kernel_size=3, padding='same', activation='relu'))\n",
        "# model.add(Dropout(0.3))\n",
        "model.add(Bidirectional(LSTM(64,kernel_regularizer=l2(0.0001),return_sequences=True)))\n",
        "model.add(Dropout(0.4))\n",
        "model.add(Flatten())\n",
        "# model.add(LSTM(64,kernel_regularizer=l2(0.0001),return_sequences=True))\n",
        "# model.add(Dropout(0.4))\n",
        "# model.add(Flatten())\n",
        "# model.add(Dense(64, activation='relu'))\n",
        "# model.add(Dropout(0.6))\n",
        "# model.add(Dense(32, activation='relu'))\n",
        "# model.add(Dropout(0.6))\n",
        "model.add(Dense(4, activation='softmax'))\n",
        "model.compile(loss='categorical_crossentropy',optimizer=optimizers.Adam(learning_rate=1e-5),metrics=['categorical_accuracy'])\n",
        "model.summary()\n",
        "# 32,kernel_regularizer=l2(0.001),input_shape=(X_train.shape[1:]),activation='tanh'"
      ],
      "execution_count": null,
      "outputs": [
        {
          "output_type": "stream",
          "text": [
            "Model: \"sequential_13\"\n",
            "_________________________________________________________________\n",
            "Layer (type)                 Output Shape              Param #   \n",
            "=================================================================\n",
            "embedding_13 (Embedding)     (None, 1488, 250)         28661500  \n",
            "_________________________________________________________________\n",
            "dropout_25 (Dropout)         (None, 1488, 250)         0         \n",
            "_________________________________________________________________\n",
            "bidirectional_8 (Bidirection (None, 1488, 128)         161280    \n",
            "_________________________________________________________________\n",
            "dropout_26 (Dropout)         (None, 1488, 128)         0         \n",
            "_________________________________________________________________\n",
            "flatten_10 (Flatten)         (None, 190464)            0         \n",
            "_________________________________________________________________\n",
            "dense_12 (Dense)             (None, 4)                 761860    \n",
            "=================================================================\n",
            "Total params: 29,584,640\n",
            "Trainable params: 29,584,640\n",
            "Non-trainable params: 0\n",
            "_________________________________________________________________\n"
          ],
          "name": "stdout"
        }
      ]
    },
    {
      "cell_type": "code",
      "metadata": {
        "colab": {
          "base_uri": "https://localhost:8080/"
        },
        "id": "86nOqiSFM3L0",
        "outputId": "3c9b52ad-1370-4897-ed0d-617aeb6a7b77"
      },
      "source": [
        "filepath=\"MovieGenrePredictionUsingPlotSummariesmodel1.h5\"\n",
        "checkpoint = ModelCheckpoint(filepath, save_best_only=True)\n",
        "callbacks_list = [checkpoint]\n",
        "len(X_train),len(X_val)"
      ],
      "execution_count": null,
      "outputs": [
        {
          "output_type": "execute_result",
          "data": {
            "text/plain": [
              "(10716, 1892)"
            ]
          },
          "metadata": {},
          "execution_count": 72
        }
      ]
    },
    {
      "cell_type": "code",
      "metadata": {
        "colab": {
          "base_uri": "https://localhost:8080/"
        },
        "id": "reqs5wevM3L0",
        "outputId": "cbd5d130-5a11-4bda-d0cf-86edcd91887a"
      },
      "source": [
        "history=model.fit(X_train,y_train, epochs=3, callbacks=callbacks_list, batch_size=128, validation_data=(X_val,y_val))"
      ],
      "execution_count": null,
      "outputs": [
        {
          "output_type": "stream",
          "text": [
            "Epoch 1/3\n",
            "84/84 [==============================] - 50s 521ms/step - loss: 1.2354 - categorical_accuracy: 0.4651 - val_loss: 1.1789 - val_categorical_accuracy: 0.4794\n",
            "Epoch 2/3\n",
            "84/84 [==============================] - 43s 509ms/step - loss: 1.2106 - categorical_accuracy: 0.4719 - val_loss: 1.1759 - val_categorical_accuracy: 0.4794\n",
            "Epoch 3/3\n",
            "84/84 [==============================] - 43s 509ms/step - loss: 1.2086 - categorical_accuracy: 0.4719 - val_loss: 1.1741 - val_categorical_accuracy: 0.4794\n"
          ],
          "name": "stdout"
        }
      ]
    },
    {
      "cell_type": "code",
      "metadata": {
        "colab": {
          "base_uri": "https://localhost:8080/",
          "height": 585
        },
        "id": "kmel8imKDsHF",
        "outputId": "342093e3-850d-4ca1-d23b-5822d21e8a14"
      },
      "source": [
        "acc=history.history['categorical_accuracy']\n",
        "val_acc=history.history['val_categorical_accuracy']\n",
        "loss=history.history['loss']\n",
        "val_loss=history.history['val_loss']\n",
        "epochs=range(1,len(acc)+1)\n",
        "plt.xlabel('Epochs')\n",
        "plt.ylabel('Accuracy')\n",
        "plt.plot(epochs, acc, 'bo', label='Training acc')\n",
        "plt.plot(epochs, val_acc, 'b', label='Validation acc')\n",
        "plt.title('Training and validation accuracy')\n",
        "plt.legend()\n",
        "plt.figure()\n",
        "\n",
        "plt.plot(epochs, loss, 'bo', label='Training loss')\n",
        "plt.plot(epochs, val_loss, 'b', label='Validation loss')\n",
        "plt.title('Training and validation loss')\n",
        "plt.xlabel('Epochs')\n",
        "plt.ylabel('Loss')\n",
        "plt.legend()\n",
        "plt.show()"
      ],
      "execution_count": null,
      "outputs": [
        {
          "output_type": "display_data",
          "data": {
            "image/png": "[encoded data removed]",
            "text/plain": [
              "<Figure size 432x288 with 1 Axes>"
            ]
          },
          "metadata": {
            "needs_background": "light"
          }
        },
        {
          "output_type": "display_data",
          "data": {
            "image/png": "[encoded data removed]",
            "text/plain": [
              "<Figure size 432x288 with 1 Axes>"
            ]
          },
          "metadata": {
            "needs_background": "light"
          }
        }
      ]
    },
    {
      "cell_type": "code",
      "metadata": {
        "colab": {
          "base_uri": "https://localhost:8080/"
        },
        "id": "1Be85gqtJGr7",
        "outputId": "11fee214-66b3-4b9d-eb0a-b67ee3d87fd6"
      },
      "source": [
        "from sklearn.metrics import accuracy_score\n",
        "\n",
        "pred = model.predict(X_val)\n",
        "predict_classes = np.argmax(pred,axis=1)\n",
        "expected_classes = np.argmax(y_val,axis=1)\n",
        "correct = accuracy_score(expected_classes,predict_classes)\n",
        "print(f\"Accuracy: {correct}\")"
      ],
      "execution_count": null,
      "outputs": [
        {
          "output_type": "stream",
          "text": [
            "Accuracy: 0.6902748414376322\n"
          ],
          "name": "stdout"
        }
      ]
    },
    {
      "cell_type": "code",
      "metadata": {
        "id": "rYhf2MYyGZiR"
      },
      "source": [
        "from tensorflow.python.keras.models import load_model\n",
        "\n",
        "best_model = load_model('MovieGenrePredictionUsingPlotSummariesmodel1.h5')"
      ],
      "execution_count": null,
      "outputs": []
    },
    {
      "cell_type": "code",
      "metadata": {
        "colab": {
          "base_uri": "https://localhost:8080/"
        },
        "id": "lB3Xa5rYGe_I",
        "outputId": "8d07c47c-782b-4c87-c226-d11999a4b327"
      },
      "source": [
        "batch_size=64\n",
        "steps_test=int(len(X_val)/batch_size)\n",
        "result = best_model.evaluate(X_val, y_val, steps=steps_test,verbose=1)\n",
        "print(\"Validation-set accuracy: {0:.2%}\".format(result[1]))"
      ],
      "execution_count": null,
      "outputs": [
        {
          "output_type": "stream",
          "text": [
            "14/14 [==============================] - 3s 160ms/step - loss: 0.7008 - categorical_accuracy: 0.7183\n",
            "Validation-set accuracy: 71.83%\n"
          ],
          "name": "stdout"
        }
      ]
    },
    {
      "cell_type": "code",
      "metadata": {
        "colab": {
          "base_uri": "https://localhost:8080/"
        },
        "id": "y1z-anh4Zw1h",
        "outputId": "a122fc6c-cf2e-4fe5-d63a-1ee7bc2eca7b"
      },
      "source": [
        "best_model.save('fypmodel{:.2%}.h5'.format(result[1]))\n",
        "name='fypmodel{:.2%}.tflite'.format(result[1])\n",
        "converter = tf.lite.TFLiteConverter.from_keras_model(best_model) # path to the SavedModel directory\n",
        "tflite_model = converter.convert()\n",
        "\n",
        "# Save the model.\n",
        "with open(name, 'wb') as f:\n",
        "    f.write(tflite_model)"
      ],
      "execution_count": null,
      "outputs": [
        {
          "output_type": "stream",
          "text": [
            "WARNING:absl:Found untraced functions such as lstm_cell_4_layer_call_fn, lstm_cell_4_layer_call_and_return_conditional_losses, lstm_cell_5_layer_call_fn, lstm_cell_5_layer_call_and_return_conditional_losses, lstm_cell_4_layer_call_fn while saving (showing 5 of 10). These functions will not be directly callable after loading.\n"
          ],
          "name": "stderr"
        },
        {
          "output_type": "stream",
          "text": [
            "INFO:tensorflow:Assets written to: /tmp/tmpa3q20zqb/assets\n"
          ],
          "name": "stdout"
        },
        {
          "output_type": "stream",
          "text": [
            "INFO:tensorflow:Assets written to: /tmp/tmpa3q20zqb/assets\n"
          ],
          "name": "stderr"
        }
      ]
    },
    {
      "cell_type": "code",
      "metadata": {
        "colab": {
          "base_uri": "https://localhost:8080/"
        },
        "id": "RBDQQefxG-Cr",
        "outputId": "b1b72779-21fb-4717-8967-5e604cfefe79"
      },
      "source": [
        "preds = best_model.predict(X_val, batch_size=128,verbose=1)\n",
        "preds=np.around(preds)\n",
        "\n",
        "orig_val_labels=np.argmax(y_val,axis=1)\n",
        "predicted_labels=np.argmax(preds,axis=1)\n",
        "\n",
        "orig_val_labels=np.reshape(orig_val_labels,(len(X_val),1))\n",
        "predicted_labels=np.reshape(predicted_labels,(len(X_val),1))\n",
        "\n",
        "print(predicted_labels.shape)\n",
        "print(orig_val_labels.shape)"
      ],
      "execution_count": null,
      "outputs": [
        {
          "output_type": "stream",
          "text": [
            "15/15 [==============================] - 3s 142ms/step\n",
            "(1892, 1)\n",
            "(1892, 1)\n"
          ],
          "name": "stdout"
        }
      ]
    },
    {
      "cell_type": "code",
      "metadata": {
        "colab": {
          "base_uri": "https://localhost:8080/",
          "height": 634
        },
        "id": "qQzozgcxHN2v",
        "outputId": "9ca5591c-af5a-4a30-b601-73d55dbc4a48"
      },
      "source": [
        "%matplotlib inline\n",
        "# Get the confusion matrix\n",
        "from sklearn.metrics import confusion_matrix\n",
        "from mlxtend.plotting import plot_confusion_matrix\n",
        "\n",
        "cm  = confusion_matrix(orig_val_labels, predicted_labels)\n",
        "plt.figure()\n",
        "plot_confusion_matrix(cm,figsize=(15,10), hide_ticks=True,cmap=plt.cm.Blues)\n",
        "plt.xticks(range(4), ['drama','comedy','action','horror'], fontsize=16)\n",
        "plt.yticks(range(4), ['drama','comedy','action','horror'], fontsize=16)\n",
        "plt.show()"
      ],
      "execution_count": null,
      "outputs": [
        {
          "output_type": "display_data",
          "data": {
            "text/plain": [
              "<Figure size 432x288 with 0 Axes>"
            ]
          },
          "metadata": {}
        },
        {
          "output_type": "display_data",
          "data": {
            "image/png": "[encoded data removed]",
            "text/plain": [
              "<Figure size 1080x720 with 1 Axes>"
            ]
          },
          "metadata": {
            "needs_background": "light"
          }
        }
      ]
    },
    {
      "cell_type": "code",
      "metadata": {
        "id": "4mWJYvkR5fvs",
        "colab": {
          "base_uri": "https://localhost:8080/"
        },
        "outputId": "85ad801c-7f14-44b8-8879-64ce061f6e3e"
      },
      "source": [
        "# calculates precision for 1:100 dataset with 90 tp and 30 fp\n",
        "from sklearn.metrics import precision_score\n",
        "precision = precision_score(orig_val_labels,predicted_labels,average='micro')\n",
        "print('Precision: %.3f' % precision)"
      ],
      "execution_count": null,
      "outputs": [
        {
          "output_type": "stream",
          "text": [
            "Precision: 0.710\n"
          ],
          "name": "stdout"
        }
      ]
    },
    {
      "cell_type": "code",
      "metadata": {
        "colab": {
          "base_uri": "https://localhost:8080/"
        },
        "id": "kTXcin9StBYu",
        "outputId": "2d9d0a64-8b69-4a75-c630-7b728a32e529"
      },
      "source": [
        "print(classification_report(orig_val_labels,predicted_labels,target_names=MainGenres))"
      ],
      "execution_count": null,
      "outputs": [
        {
          "output_type": "stream",
          "text": [
            "              precision    recall  f1-score   support\n",
            "\n",
            "       drama       0.66      0.89      0.76       907\n",
            "      comedy       0.83      0.52      0.64       680\n",
            "      action       0.61      0.52      0.56       142\n",
            "      horror       0.86      0.66      0.74       163\n",
            "\n",
            "    accuracy                           0.71      1892\n",
            "   macro avg       0.74      0.65      0.68      1892\n",
            "weighted avg       0.74      0.71      0.70      1892\n",
            "\n"
          ],
          "name": "stdout"
        }
      ]
    },
    {
      "cell_type": "code",
      "metadata": {
        "id": "duV9-HUYufOg"
      },
      "source": [
        ""
      ],
      "execution_count": null,
      "outputs": []
    }
  ]
}