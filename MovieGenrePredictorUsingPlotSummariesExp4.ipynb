{
  "nbformat": 4,
  "nbformat_minor": 0,
  "metadata": {
    "accelerator": "GPU",
    "colab": {
      "name": "MovieGenrePredictorUsingPlotSummariesExp4.ipynb",
      "provenance": [],
      "collapsed_sections": []
    },
    "kernelspec": {
      "display_name": "Python 3",
      "language": "python",
      "name": "python3"
    },
    "language_info": {
      "codemirror_mode": {
        "name": "ipython",
        "version": 3
      },
      "file_extension": ".py",
      "mimetype": "text/x-python",
      "name": "python",
      "nbconvert_exporter": "python",
      "pygments_lexer": "ipython3",
      "version": "3.8.5"
    }
  },
  "cells": [
    {
      "cell_type": "markdown",
      "metadata": {
        "id": "1OMqcbFvM3LN"
      },
      "source": [
        "# Movie Genre Predictor"
      ]
    },
    {
      "cell_type": "markdown",
      "metadata": {
        "id": "6Om_yV9fM3LR"
      },
      "source": [
        "Importing Libraries"
      ]
    },
    {
      "cell_type": "code",
      "metadata": {
        "id": "v_HYqf1QM3LS"
      },
      "source": [
        "import tensorflow as tf\n",
        "import pandas as pd\n",
        "import numpy as np\n",
        "import nltk\n",
        "from nltk.tokenize import word_tokenize \n",
        "from nltk.stem.porter import PorterStemmer\n",
        "from nltk.stem import WordNetLemmatizer\n",
        "from nltk.corpus import stopwords\n",
        "import re\n",
        "import matplotlib.pyplot as plt\n",
        "from sklearn.model_selection import train_test_split\n",
        "from sklearn.metrics import classification_report\n",
        "from tensorflow.keras.preprocessing.text import Tokenizer\n",
        "from tensorflow.keras.preprocessing.sequence import pad_sequences\n",
        "from tensorflow.keras.utils import to_categorical\n",
        "from tensorflow.keras.layers import LSTM,Dropout,Activation,Bidirectional,Embedding,Dense,Flatten,GlobalMaxPooling1D\n",
        "from tensorflow.keras.models import Sequential\n",
        "from tensorflow.keras import optimizers\n",
        "from tensorflow.keras.callbacks import ModelCheckpoint\n",
        "import os\n",
        "from gensim.models import Word2Vec, KeyedVectors\n",
        "import tensorflow_hub as hub\n",
        "from tensorflow.keras.regularizers import l2"
      ],
      "execution_count": 1,
      "outputs": []
    },
    {
      "cell_type": "markdown",
      "metadata": {
        "id": "OqiJIFlsM3LV"
      },
      "source": [
        "Tensorflow Version is 2.3"
      ]
    },
    {
      "cell_type": "code",
      "metadata": {
        "colab": {
          "base_uri": "https://localhost:8080/",
          "height": 54
        },
        "id": "SL8W81JJM3LW",
        "outputId": "e0de9fab-e42f-4d4b-c127-dfbaacf8b0c6"
      },
      "source": [
        "from google.colab import drive\n",
        "drive.mount('/content/gdrive')\n",
        "tf.__version__"
      ],
      "execution_count": 2,
      "outputs": [
        {
          "output_type": "stream",
          "text": [
            "Mounted at /content/gdrive\n"
          ],
          "name": "stdout"
        },
        {
          "output_type": "execute_result",
          "data": {
            "application/vnd.google.colaboratory.intrinsic+json": {
              "type": "string"
            },
            "text/plain": [
              "'2.6.0'"
            ]
          },
          "metadata": {},
          "execution_count": 2
        }
      ]
    },
    {
      "cell_type": "markdown",
      "metadata": {
        "id": "j1RIpmKDM3Lc"
      },
      "source": [
        "Now Reading the data in CSV format through Pandas"
      ]
    },
    {
      "cell_type": "code",
      "metadata": {
        "colab": {
          "base_uri": "https://localhost:8080/",
          "height": 310
        },
        "id": "RV9J1wBVGWxh",
        "outputId": "7f40a39a-fdd1-4ab0-910d-7d93c8a324e0"
      },
      "source": [
        "movies=pd.read_csv('/content/gdrive/MyDrive/wiki_movie_plots_deduped.csv')\n",
        "# movies=pd.read_csv('wiki_movie_plots_deduped.csv')\n",
        "movies.head()"
      ],
      "execution_count": 3,
      "outputs": [
        {
          "output_type": "execute_result",
          "data": {
            "text/html": [
              "<div>\n",
              "<style scoped>\n",
              "    .dataframe tbody tr th:only-of-type {\n",
              "        vertical-align: middle;\n",
              "    }\n",
              "\n",
              "    .dataframe tbody tr th {\n",
              "        vertical-align: top;\n",
              "    }\n",
              "\n",
              "    .dataframe thead th {\n",
              "        text-align: right;\n",
              "    }\n",
              "</style>\n",
              "<table border=\"1\" class=\"dataframe\">\n",
              "  <thead>\n",
              "    <tr style=\"text-align: right;\">\n",
              "      <th></th>\n",
              "      <th>Release Year</th>\n",
              "      <th>Title</th>\n",
              "      <th>Origin/Ethnicity</th>\n",
              "      <th>Director</th>\n",
              "      <th>Cast</th>\n",
              "      <th>Genre</th>\n",
              "      <th>Wiki Page</th>\n",
              "      <th>Plot</th>\n",
              "    </tr>\n",
              "  </thead>\n",
              "  <tbody>\n",
              "    <tr>\n",
              "      <th>0</th>\n",
              "      <td>1901</td>\n",
              "      <td>Kansas Saloon Smashers</td>\n",
              "      <td>American</td>\n",
              "      <td>Unknown</td>\n",
              "      <td>NaN</td>\n",
              "      <td>unknown</td>\n",
              "      <td>https://en.wikipedia.org/wiki/Kansas_Saloon_Sm...</td>\n",
              "      <td>A bartender is working at a saloon, serving dr...</td>\n",
              "    </tr>\n",
              "    <tr>\n",
              "      <th>1</th>\n",
              "      <td>1901</td>\n",
              "      <td>Love by the Light of the Moon</td>\n",
              "      <td>American</td>\n",
              "      <td>Unknown</td>\n",
              "      <td>NaN</td>\n",
              "      <td>unknown</td>\n",
              "      <td>https://en.wikipedia.org/wiki/Love_by_the_Ligh...</td>\n",
              "      <td>The moon, painted with a smiling face hangs ov...</td>\n",
              "    </tr>\n",
              "    <tr>\n",
              "      <th>2</th>\n",
              "      <td>1901</td>\n",
              "      <td>The Martyred Presidents</td>\n",
              "      <td>American</td>\n",
              "      <td>Unknown</td>\n",
              "      <td>NaN</td>\n",
              "      <td>unknown</td>\n",
              "      <td>https://en.wikipedia.org/wiki/The_Martyred_Pre...</td>\n",
              "      <td>The film, just over a minute long, is composed...</td>\n",
              "    </tr>\n",
              "    <tr>\n",
              "      <th>3</th>\n",
              "      <td>1901</td>\n",
              "      <td>Terrible Teddy, the Grizzly King</td>\n",
              "      <td>American</td>\n",
              "      <td>Unknown</td>\n",
              "      <td>NaN</td>\n",
              "      <td>unknown</td>\n",
              "      <td>https://en.wikipedia.org/wiki/Terrible_Teddy,_...</td>\n",
              "      <td>Lasting just 61 seconds and consisting of two ...</td>\n",
              "    </tr>\n",
              "    <tr>\n",
              "      <th>4</th>\n",
              "      <td>1902</td>\n",
              "      <td>Jack and the Beanstalk</td>\n",
              "      <td>American</td>\n",
              "      <td>George S. Fleming, Edwin S. Porter</td>\n",
              "      <td>NaN</td>\n",
              "      <td>unknown</td>\n",
              "      <td>https://en.wikipedia.org/wiki/Jack_and_the_Bea...</td>\n",
              "      <td>The earliest known adaptation of the classic f...</td>\n",
              "    </tr>\n",
              "  </tbody>\n",
              "</table>\n",
              "</div>"
            ],
            "text/plain": [
              "   Release Year  ...                                               Plot\n",
              "0          1901  ...  A bartender is working at a saloon, serving dr...\n",
              "1          1901  ...  The moon, painted with a smiling face hangs ov...\n",
              "2          1901  ...  The film, just over a minute long, is composed...\n",
              "3          1901  ...  Lasting just 61 seconds and consisting of two ...\n",
              "4          1902  ...  The earliest known adaptation of the classic f...\n",
              "\n",
              "[5 rows x 8 columns]"
            ]
          },
          "metadata": {},
          "execution_count": 3
        }
      ]
    },
    {
      "cell_type": "markdown",
      "metadata": {
        "id": "ihNa-0RxM3Le"
      },
      "source": [
        "# Organizing Genre colunm for target Values\n"
      ]
    },
    {
      "cell_type": "markdown",
      "metadata": {
        "id": "Rotrk2FCM3Lj"
      },
      "source": [
        "Now we are only predicting horror,drama,comedy and action so filtering them out"
      ]
    },
    {
      "cell_type": "code",
      "metadata": {
        "colab": {
          "base_uri": "https://localhost:8080/"
        },
        "id": "v45CMYvnM3Lj",
        "outputId": "e2c58908-c3cc-45ed-bee9-4677dca0ddb6"
      },
      "source": [
        "MainGenres=['drama','comedy','action','horror']\n",
        "movies=movies[movies['Genre'].isin(MainGenres)]\n",
        "len(movies)"
      ],
      "execution_count": 4,
      "outputs": [
        {
          "output_type": "execute_result",
          "data": {
            "text/plain": [
              "12608"
            ]
          },
          "metadata": {},
          "execution_count": 4
        }
      ]
    },
    {
      "cell_type": "code",
      "metadata": {
        "colab": {
          "base_uri": "https://localhost:8080/",
          "height": 397
        },
        "id": "qSpfQ69AM3Lk",
        "outputId": "a3088989-b71a-47fb-db34-5e0562b8a56a"
      },
      "source": [
        "movies=movies.reset_index()\n",
        "movies.head(5)"
      ],
      "execution_count": 5,
      "outputs": [
        {
          "output_type": "execute_result",
          "data": {
            "text/html": [
              "<div>\n",
              "<style scoped>\n",
              "    .dataframe tbody tr th:only-of-type {\n",
              "        vertical-align: middle;\n",
              "    }\n",
              "\n",
              "    .dataframe tbody tr th {\n",
              "        vertical-align: top;\n",
              "    }\n",
              "\n",
              "    .dataframe thead th {\n",
              "        text-align: right;\n",
              "    }\n",
              "</style>\n",
              "<table border=\"1\" class=\"dataframe\">\n",
              "  <thead>\n",
              "    <tr style=\"text-align: right;\">\n",
              "      <th></th>\n",
              "      <th>index</th>\n",
              "      <th>Release Year</th>\n",
              "      <th>Title</th>\n",
              "      <th>Origin/Ethnicity</th>\n",
              "      <th>Director</th>\n",
              "      <th>Cast</th>\n",
              "      <th>Genre</th>\n",
              "      <th>Wiki Page</th>\n",
              "      <th>Plot</th>\n",
              "    </tr>\n",
              "  </thead>\n",
              "  <tbody>\n",
              "    <tr>\n",
              "      <th>0</th>\n",
              "      <td>7</td>\n",
              "      <td>1904</td>\n",
              "      <td>The Suburbanite</td>\n",
              "      <td>American</td>\n",
              "      <td>Wallace McCutcheon</td>\n",
              "      <td>NaN</td>\n",
              "      <td>comedy</td>\n",
              "      <td>https://en.wikipedia.org/wiki/The_Suburbanite</td>\n",
              "      <td>The film is about a family who move to the sub...</td>\n",
              "    </tr>\n",
              "    <tr>\n",
              "      <th>1</th>\n",
              "      <td>14</td>\n",
              "      <td>1907</td>\n",
              "      <td>How Brown Saw the Baseball Game</td>\n",
              "      <td>American</td>\n",
              "      <td>Unknown</td>\n",
              "      <td>Unknown</td>\n",
              "      <td>comedy</td>\n",
              "      <td>https://en.wikipedia.org/wiki/How_Brown_Saw_th...</td>\n",
              "      <td>Before heading out to a baseball game at a nea...</td>\n",
              "    </tr>\n",
              "    <tr>\n",
              "      <th>2</th>\n",
              "      <td>15</td>\n",
              "      <td>1907</td>\n",
              "      <td>Laughing Gas</td>\n",
              "      <td>American</td>\n",
              "      <td>Edwin Stanton Porter</td>\n",
              "      <td>Bertha Regustus, Edward Boulden</td>\n",
              "      <td>comedy</td>\n",
              "      <td>https://en.wikipedia.org/wiki/Laughing_Gas_(fi...</td>\n",
              "      <td>The plot is that of a black woman going to the...</td>\n",
              "    </tr>\n",
              "    <tr>\n",
              "      <th>3</th>\n",
              "      <td>16</td>\n",
              "      <td>1908</td>\n",
              "      <td>The Adventures of Dollie</td>\n",
              "      <td>American</td>\n",
              "      <td>D. W. Griffith</td>\n",
              "      <td>Arthur V. Johnson, Linda Arvidson</td>\n",
              "      <td>drama</td>\n",
              "      <td>https://en.wikipedia.org/wiki/The_Adventures_o...</td>\n",
              "      <td>On a beautiful summer day a father and mother ...</td>\n",
              "    </tr>\n",
              "    <tr>\n",
              "      <th>4</th>\n",
              "      <td>17</td>\n",
              "      <td>1908</td>\n",
              "      <td>The Black Viper</td>\n",
              "      <td>American</td>\n",
              "      <td>D. W. Griffith</td>\n",
              "      <td>D. W. Griffith</td>\n",
              "      <td>drama</td>\n",
              "      <td>https://en.wikipedia.org/wiki/The_Black_Viper</td>\n",
              "      <td>A thug accosts a girl as she leaves her workpl...</td>\n",
              "    </tr>\n",
              "  </tbody>\n",
              "</table>\n",
              "</div>"
            ],
            "text/plain": [
              "   index  ...                                               Plot\n",
              "0      7  ...  The film is about a family who move to the sub...\n",
              "1     14  ...  Before heading out to a baseball game at a nea...\n",
              "2     15  ...  The plot is that of a black woman going to the...\n",
              "3     16  ...  On a beautiful summer day a father and mother ...\n",
              "4     17  ...  A thug accosts a girl as she leaves her workpl...\n",
              "\n",
              "[5 rows x 9 columns]"
            ]
          },
          "metadata": {},
          "execution_count": 5
        }
      ]
    },
    {
      "cell_type": "markdown",
      "metadata": {
        "id": "uY_W-8DNM3Lm"
      },
      "source": [
        "Now assigning id's to our genres according to GenreCoreected colunm"
      ]
    },
    {
      "cell_type": "code",
      "metadata": {
        "colab": {
          "base_uri": "https://localhost:8080/",
          "height": 780
        },
        "id": "1VPj2ROGM3Lm",
        "outputId": "41fc5355-2f96-4adb-c82e-8c9c6ae76da2"
      },
      "source": [
        "movies['GenreID']=movies['Genre'].apply(lambda x:MainGenres.index(x))\n",
        "movies.head(10)"
      ],
      "execution_count": 6,
      "outputs": [
        {
          "output_type": "execute_result",
          "data": {
            "text/html": [
              "<div>\n",
              "<style scoped>\n",
              "    .dataframe tbody tr th:only-of-type {\n",
              "        vertical-align: middle;\n",
              "    }\n",
              "\n",
              "    .dataframe tbody tr th {\n",
              "        vertical-align: top;\n",
              "    }\n",
              "\n",
              "    .dataframe thead th {\n",
              "        text-align: right;\n",
              "    }\n",
              "</style>\n",
              "<table border=\"1\" class=\"dataframe\">\n",
              "  <thead>\n",
              "    <tr style=\"text-align: right;\">\n",
              "      <th></th>\n",
              "      <th>index</th>\n",
              "      <th>Release Year</th>\n",
              "      <th>Title</th>\n",
              "      <th>Origin/Ethnicity</th>\n",
              "      <th>Director</th>\n",
              "      <th>Cast</th>\n",
              "      <th>Genre</th>\n",
              "      <th>Wiki Page</th>\n",
              "      <th>Plot</th>\n",
              "      <th>GenreID</th>\n",
              "    </tr>\n",
              "  </thead>\n",
              "  <tbody>\n",
              "    <tr>\n",
              "      <th>0</th>\n",
              "      <td>7</td>\n",
              "      <td>1904</td>\n",
              "      <td>The Suburbanite</td>\n",
              "      <td>American</td>\n",
              "      <td>Wallace McCutcheon</td>\n",
              "      <td>NaN</td>\n",
              "      <td>comedy</td>\n",
              "      <td>https://en.wikipedia.org/wiki/The_Suburbanite</td>\n",
              "      <td>The film is about a family who move to the sub...</td>\n",
              "      <td>1</td>\n",
              "    </tr>\n",
              "    <tr>\n",
              "      <th>1</th>\n",
              "      <td>14</td>\n",
              "      <td>1907</td>\n",
              "      <td>How Brown Saw the Baseball Game</td>\n",
              "      <td>American</td>\n",
              "      <td>Unknown</td>\n",
              "      <td>Unknown</td>\n",
              "      <td>comedy</td>\n",
              "      <td>https://en.wikipedia.org/wiki/How_Brown_Saw_th...</td>\n",
              "      <td>Before heading out to a baseball game at a nea...</td>\n",
              "      <td>1</td>\n",
              "    </tr>\n",
              "    <tr>\n",
              "      <th>2</th>\n",
              "      <td>15</td>\n",
              "      <td>1907</td>\n",
              "      <td>Laughing Gas</td>\n",
              "      <td>American</td>\n",
              "      <td>Edwin Stanton Porter</td>\n",
              "      <td>Bertha Regustus, Edward Boulden</td>\n",
              "      <td>comedy</td>\n",
              "      <td>https://en.wikipedia.org/wiki/Laughing_Gas_(fi...</td>\n",
              "      <td>The plot is that of a black woman going to the...</td>\n",
              "      <td>1</td>\n",
              "    </tr>\n",
              "    <tr>\n",
              "      <th>3</th>\n",
              "      <td>16</td>\n",
              "      <td>1908</td>\n",
              "      <td>The Adventures of Dollie</td>\n",
              "      <td>American</td>\n",
              "      <td>D. W. Griffith</td>\n",
              "      <td>Arthur V. Johnson, Linda Arvidson</td>\n",
              "      <td>drama</td>\n",
              "      <td>https://en.wikipedia.org/wiki/The_Adventures_o...</td>\n",
              "      <td>On a beautiful summer day a father and mother ...</td>\n",
              "      <td>0</td>\n",
              "    </tr>\n",
              "    <tr>\n",
              "      <th>4</th>\n",
              "      <td>17</td>\n",
              "      <td>1908</td>\n",
              "      <td>The Black Viper</td>\n",
              "      <td>American</td>\n",
              "      <td>D. W. Griffith</td>\n",
              "      <td>D. W. Griffith</td>\n",
              "      <td>drama</td>\n",
              "      <td>https://en.wikipedia.org/wiki/The_Black_Viper</td>\n",
              "      <td>A thug accosts a girl as she leaves her workpl...</td>\n",
              "      <td>0</td>\n",
              "    </tr>\n",
              "    <tr>\n",
              "      <th>5</th>\n",
              "      <td>18</td>\n",
              "      <td>1908</td>\n",
              "      <td>A Calamitous Elopement</td>\n",
              "      <td>American</td>\n",
              "      <td>D.W. Griffith</td>\n",
              "      <td>Harry Solter, Linda Arvidson</td>\n",
              "      <td>comedy</td>\n",
              "      <td>https://en.wikipedia.org/wiki/A_Calamitous_Elo...</td>\n",
              "      <td>A young couple decides to elope after being ca...</td>\n",
              "      <td>1</td>\n",
              "    </tr>\n",
              "    <tr>\n",
              "      <th>6</th>\n",
              "      <td>20</td>\n",
              "      <td>1908</td>\n",
              "      <td>A Christmas Carol</td>\n",
              "      <td>American</td>\n",
              "      <td>Unknown</td>\n",
              "      <td>Tom Ricketts</td>\n",
              "      <td>drama</td>\n",
              "      <td>https://en.wikipedia.org/wiki/A_Christmas_Caro...</td>\n",
              "      <td>No prints of the first American film adaptatio...</td>\n",
              "      <td>0</td>\n",
              "    </tr>\n",
              "    <tr>\n",
              "      <th>7</th>\n",
              "      <td>22</td>\n",
              "      <td>1909</td>\n",
              "      <td>At the Altar</td>\n",
              "      <td>American</td>\n",
              "      <td>D. W. Griffith</td>\n",
              "      <td>Marion Leonard</td>\n",
              "      <td>drama</td>\n",
              "      <td>https://en.wikipedia.org/wiki/At_the_Altar</td>\n",
              "      <td>A rejected admirer sets up a trap to kill his ...</td>\n",
              "      <td>0</td>\n",
              "    </tr>\n",
              "    <tr>\n",
              "      <th>8</th>\n",
              "      <td>23</td>\n",
              "      <td>1909</td>\n",
              "      <td>A Drunkard's Reformation</td>\n",
              "      <td>American</td>\n",
              "      <td>D. W. Griffith</td>\n",
              "      <td>Arthur V. Johnson</td>\n",
              "      <td>drama</td>\n",
              "      <td>https://en.wikipedia.org/wiki/A_Drunkard%27s_R...</td>\n",
              "      <td>John Wharton, the husband of a true and trusti...</td>\n",
              "      <td>0</td>\n",
              "    </tr>\n",
              "    <tr>\n",
              "      <th>9</th>\n",
              "      <td>24</td>\n",
              "      <td>1909</td>\n",
              "      <td>The Golden Louis</td>\n",
              "      <td>American</td>\n",
              "      <td>D. W. Griffith</td>\n",
              "      <td>NaN</td>\n",
              "      <td>drama</td>\n",
              "      <td>https://en.wikipedia.org/wiki/The_Golden_Louis</td>\n",
              "      <td>An old woman sends a girl begging in the stree...</td>\n",
              "      <td>0</td>\n",
              "    </tr>\n",
              "  </tbody>\n",
              "</table>\n",
              "</div>"
            ],
            "text/plain": [
              "   index  ...  GenreID\n",
              "0      7  ...        1\n",
              "1     14  ...        1\n",
              "2     15  ...        1\n",
              "3     16  ...        0\n",
              "4     17  ...        0\n",
              "5     18  ...        1\n",
              "6     20  ...        0\n",
              "7     22  ...        0\n",
              "8     23  ...        0\n",
              "9     24  ...        0\n",
              "\n",
              "[10 rows x 10 columns]"
            ]
          },
          "metadata": {},
          "execution_count": 6
        }
      ]
    },
    {
      "cell_type": "markdown",
      "metadata": {
        "id": "oJBErSyVM3Lm"
      },
      "source": [
        "Now Checking Individual Genre Record"
      ]
    },
    {
      "cell_type": "code",
      "metadata": {
        "colab": {
          "base_uri": "https://localhost:8080/"
        },
        "id": "BLf1Bc4yM3Ln",
        "outputId": "36fa17dd-58ec-47c3-b60e-fc6bb0190a4d"
      },
      "source": [
        "no_drama=movies['Genre'].str.contains('drama').sum()\n",
        "no_comedy=movies['Genre'].str.contains('comedy').sum()\n",
        "no_horror=movies['Genre'].str.contains('horror').sum()\n",
        "no_action=movies['Genre'].str.contains('action').sum()\n",
        "print(\"Number of Drama movies:\",no_drama)\n",
        "print(\"Number of Comedy movies:\",no_comedy)\n",
        "print(\"Number of Horror movies:\",no_horror)\n",
        "print(\"Number of Action movies:\",no_action)"
      ],
      "execution_count": 7,
      "outputs": [
        {
          "output_type": "stream",
          "text": [
            "Number of Drama movies: 5964\n",
            "Number of Comedy movies: 4379\n",
            "Number of Horror movies: 1167\n",
            "Number of Action movies: 1098\n"
          ],
          "name": "stdout"
        }
      ]
    },
    {
      "cell_type": "markdown",
      "metadata": {
        "id": "WK_nw9rvM3Lo"
      },
      "source": [
        "Showing Values in Bar chart"
      ]
    },
    {
      "cell_type": "code",
      "metadata": {
        "colab": {
          "base_uri": "https://localhost:8080/",
          "height": 319
        },
        "id": "zAAOs9ZJM3Lp",
        "outputId": "8fd05bed-1303-4609-85d8-c03a2e5fd7b2"
      },
      "source": [
        "import seaborn as sns\n",
        "sns.set(style='whitegrid')\n",
        "figsize=(18, 6)\n",
        "ax=sns.countplot(x=movies['Genre'], data=movies)\n",
        "ax.set(xlabel='Genre',title=\"Genre Counnt\")"
      ],
      "execution_count": 8,
      "outputs": [
        {
          "output_type": "execute_result",
          "data": {
            "text/plain": [
              "[Text(0.5, 0, 'Genre'), Text(0.5, 1.0, 'Genre Counnt')]"
            ]
          },
          "metadata": {},
          "execution_count": 8
        },
        {
          "output_type": "display_data",
          "data": {
            "image/png": "[encoded data removed]",
            "text/plain": [
              "<Figure size 432x288 with 1 Axes>"
            ]
          },
          "metadata": {}
        }
      ]
    },
    {
      "cell_type": "markdown",
      "metadata": {
        "id": "WbdkSb_XM3Lr"
      },
      "source": [
        "# Plot Summaries Pre-Processing"
      ]
    },
    {
      "cell_type": "code",
      "metadata": {
        "colab": {
          "base_uri": "https://localhost:8080/"
        },
        "id": "JGiktVrKM3Ls",
        "outputId": "cb5e5437-9800-46a7-9f0a-11cec76179ac"
      },
      "source": [
        "import random\n",
        "synNumber=random.randint(1,1000)\n",
        "print(movies['Title'].loc[synNumber])\n",
        "print(movies['Genre'].loc[synNumber])\n",
        "print(movies['Plot'].loc[synNumber])"
      ],
      "execution_count": 9,
      "outputs": [
        {
          "output_type": "stream",
          "text": [
            "Children of the Ritz\n",
            "drama\n",
            "A spoiled rich girl falls for a poor chauffeur. Their situations are changed when her family loses all their money and he wins $50,000 at a racetrack. They get married, but it's not long before she starts spending their money the way she used to spend hers.\n"
          ],
          "name": "stdout"
        }
      ]
    },
    {
      "cell_type": "code",
      "metadata": {
        "id": "LkS4l8QKM3Lu"
      },
      "source": [
        "def  clean_text(df, text_field, new_text_field_name):\n",
        "    df[new_text_field_name] = df[text_field].str.lower()\n",
        "    df[new_text_field_name] = df[new_text_field_name].apply(lambda elem: re.sub(r\"(@[A-Za-z0-9]+)|([^0-9A-Za-z \\t])|(\\w+:\\/\\/\\S+)|^rt|http.+?\", \"\", elem))  \n",
        "    # remove numbers\n",
        "    df[new_text_field_name] = df[new_text_field_name].apply(lambda elem: re.sub(r\"\\d+\", \"\", elem))\n",
        "    \n",
        "    return df"
      ],
      "execution_count": 10,
      "outputs": []
    },
    {
      "cell_type": "code",
      "metadata": {
        "colab": {
          "base_uri": "https://localhost:8080/",
          "height": 623
        },
        "id": "Jyi0wfuqM3Lu",
        "outputId": "db353baa-1ba8-4979-f771-a622fce04e89"
      },
      "source": [
        "data_clean = clean_text(movies, 'Plot', 'Plot_clean')\n",
        "data_clean.head()"
      ],
      "execution_count": 11,
      "outputs": [
        {
          "output_type": "execute_result",
          "data": {
            "text/html": [
              "<div>\n",
              "<style scoped>\n",
              "    .dataframe tbody tr th:only-of-type {\n",
              "        vertical-align: middle;\n",
              "    }\n",
              "\n",
              "    .dataframe tbody tr th {\n",
              "        vertical-align: top;\n",
              "    }\n",
              "\n",
              "    .dataframe thead th {\n",
              "        text-align: right;\n",
              "    }\n",
              "</style>\n",
              "<table border=\"1\" class=\"dataframe\">\n",
              "  <thead>\n",
              "    <tr style=\"text-align: right;\">\n",
              "      <th></th>\n",
              "      <th>index</th>\n",
              "      <th>Release Year</th>\n",
              "      <th>Title</th>\n",
              "      <th>Origin/Ethnicity</th>\n",
              "      <th>Director</th>\n",
              "      <th>Cast</th>\n",
              "      <th>Genre</th>\n",
              "      <th>Wiki Page</th>\n",
              "      <th>Plot</th>\n",
              "      <th>GenreID</th>\n",
              "      <th>Plot_clean</th>\n",
              "    </tr>\n",
              "  </thead>\n",
              "  <tbody>\n",
              "    <tr>\n",
              "      <th>0</th>\n",
              "      <td>7</td>\n",
              "      <td>1904</td>\n",
              "      <td>The Suburbanite</td>\n",
              "      <td>American</td>\n",
              "      <td>Wallace McCutcheon</td>\n",
              "      <td>NaN</td>\n",
              "      <td>comedy</td>\n",
              "      <td>https://en.wikipedia.org/wiki/The_Suburbanite</td>\n",
              "      <td>The film is about a family who move to the sub...</td>\n",
              "      <td>1</td>\n",
              "      <td>the film is about a family who move to the sub...</td>\n",
              "    </tr>\n",
              "    <tr>\n",
              "      <th>1</th>\n",
              "      <td>14</td>\n",
              "      <td>1907</td>\n",
              "      <td>How Brown Saw the Baseball Game</td>\n",
              "      <td>American</td>\n",
              "      <td>Unknown</td>\n",
              "      <td>Unknown</td>\n",
              "      <td>comedy</td>\n",
              "      <td>https://en.wikipedia.org/wiki/How_Brown_Saw_th...</td>\n",
              "      <td>Before heading out to a baseball game at a nea...</td>\n",
              "      <td>1</td>\n",
              "      <td>before heading out to a baseball game at a nea...</td>\n",
              "    </tr>\n",
              "    <tr>\n",
              "      <th>2</th>\n",
              "      <td>15</td>\n",
              "      <td>1907</td>\n",
              "      <td>Laughing Gas</td>\n",
              "      <td>American</td>\n",
              "      <td>Edwin Stanton Porter</td>\n",
              "      <td>Bertha Regustus, Edward Boulden</td>\n",
              "      <td>comedy</td>\n",
              "      <td>https://en.wikipedia.org/wiki/Laughing_Gas_(fi...</td>\n",
              "      <td>The plot is that of a black woman going to the...</td>\n",
              "      <td>1</td>\n",
              "      <td>the plot is that of a black woman going to the...</td>\n",
              "    </tr>\n",
              "    <tr>\n",
              "      <th>3</th>\n",
              "      <td>16</td>\n",
              "      <td>1908</td>\n",
              "      <td>The Adventures of Dollie</td>\n",
              "      <td>American</td>\n",
              "      <td>D. W. Griffith</td>\n",
              "      <td>Arthur V. Johnson, Linda Arvidson</td>\n",
              "      <td>drama</td>\n",
              "      <td>https://en.wikipedia.org/wiki/The_Adventures_o...</td>\n",
              "      <td>On a beautiful summer day a father and mother ...</td>\n",
              "      <td>0</td>\n",
              "      <td>on a beautiful summer day a father and mother ...</td>\n",
              "    </tr>\n",
              "    <tr>\n",
              "      <th>4</th>\n",
              "      <td>17</td>\n",
              "      <td>1908</td>\n",
              "      <td>The Black Viper</td>\n",
              "      <td>American</td>\n",
              "      <td>D. W. Griffith</td>\n",
              "      <td>D. W. Griffith</td>\n",
              "      <td>drama</td>\n",
              "      <td>https://en.wikipedia.org/wiki/The_Black_Viper</td>\n",
              "      <td>A thug accosts a girl as she leaves her workpl...</td>\n",
              "      <td>0</td>\n",
              "      <td>a thug accosts a girl as she leaves her workpl...</td>\n",
              "    </tr>\n",
              "  </tbody>\n",
              "</table>\n",
              "</div>"
            ],
            "text/plain": [
              "   index  ...                                         Plot_clean\n",
              "0      7  ...  the film is about a family who move to the sub...\n",
              "1     14  ...  before heading out to a baseball game at a nea...\n",
              "2     15  ...  the plot is that of a black woman going to the...\n",
              "3     16  ...  on a beautiful summer day a father and mother ...\n",
              "4     17  ...  a thug accosts a girl as she leaves her workpl...\n",
              "\n",
              "[5 rows x 11 columns]"
            ]
          },
          "metadata": {},
          "execution_count": 11
        }
      ]
    },
    {
      "cell_type": "code",
      "metadata": {
        "colab": {
          "base_uri": "https://localhost:8080/"
        },
        "id": "GSlfHXdEM3Lw",
        "outputId": "c5cb8c0b-0995-41cd-dd2d-0bf91aa50984"
      },
      "source": [
        "nltk.download('stopwords')\n",
        "nltk.download('punkt')\n",
        "stop = stopwords.words('english')"
      ],
      "execution_count": 12,
      "outputs": [
        {
          "output_type": "stream",
          "text": [
            "[nltk_data] Downloading package stopwords to /root/nltk_data...\n",
            "[nltk_data]   Unzipping corpora/stopwords.zip.\n",
            "[nltk_data] Downloading package punkt to /root/nltk_data...\n",
            "[nltk_data]   Unzipping tokenizers/punkt.zip.\n"
          ],
          "name": "stdout"
        }
      ]
    },
    {
      "cell_type": "code",
      "metadata": {
        "id": "wamsB0WQGWx4"
      },
      "source": [
        "# plots=data_clean['Plot_clean'].values"
      ],
      "execution_count": 13,
      "outputs": []
    },
    {
      "cell_type": "code",
      "metadata": {
        "id": "SpyUGhjxM3Lw"
      },
      "source": [
        "# vec=[word_tokenize(plot)for plot in plots]"
      ],
      "execution_count": 14,
      "outputs": []
    },
    {
      "cell_type": "code",
      "metadata": {
        "id": "8MqpUN5LGWx5"
      },
      "source": [
        "# modelvec=Word2Vec(vec,min_count=1)"
      ],
      "execution_count": 15,
      "outputs": []
    },
    {
      "cell_type": "code",
      "metadata": {
        "id": "w6YOX-CoGWx5"
      },
      "source": [
        "# word_embeddings=KeyedVectors.load_word2vec_format('/content/gdrive/MyDrive/GoogleNews-vectors-negative300.bin',binary=True)"
      ],
      "execution_count": 16,
      "outputs": []
    },
    {
      "cell_type": "code",
      "metadata": {
        "id": "JntIbKrZGWx6"
      },
      "source": [
        ""
      ],
      "execution_count": 16,
      "outputs": []
    },
    {
      "cell_type": "code",
      "metadata": {
        "id": "MRTwm6olGWx6"
      },
      "source": [
        ""
      ],
      "execution_count": 16,
      "outputs": []
    },
    {
      "cell_type": "code",
      "metadata": {
        "id": "p9UztcbbGWx6"
      },
      "source": [
        ""
      ],
      "execution_count": 16,
      "outputs": []
    },
    {
      "cell_type": "code",
      "metadata": {
        "id": "4R2w42MKM3Lx"
      },
      "source": [
        "# stemmer = PorterStemmer()\n",
        "# def stem_words(text):\n",
        "#     return \" \".join([stemmer.stem(word) for word in text.split()])\n",
        "\n",
        "# data_clean[\"Plot_clean\"] = data_clean[\"Plot_clean\"].apply(lambda text: stem_words(text))\n",
        "# data_clean.head()"
      ],
      "execution_count": 17,
      "outputs": []
    },
    {
      "cell_type": "code",
      "metadata": {
        "id": "IeCKIZC7jclt"
      },
      "source": [
        "lemmatizer = WordNetLemmatizer()\n",
        "def lemmatize_text(text):\n",
        "    return \" \".join([lemmatizer.lemmatize(w) for w in text.split()])"
      ],
      "execution_count": 18,
      "outputs": []
    },
    {
      "cell_type": "code",
      "metadata": {
        "id": "K5HhJtxrjcdZ",
        "colab": {
          "base_uri": "https://localhost:8080/",
          "height": 659
        },
        "outputId": "1cd2d5e6-1569-484e-d4e9-ba0642ef3b4b"
      },
      "source": [
        "nltk.download('wordnet')\n",
        "data_clean[\"Plot_clean\"] = data_clean[\"Plot_clean\"].apply(lambda text: lemmatize_text(text))\n",
        "data_clean.head()"
      ],
      "execution_count": 19,
      "outputs": [
        {
          "output_type": "stream",
          "text": [
            "[nltk_data] Downloading package wordnet to /root/nltk_data...\n",
            "[nltk_data]   Unzipping corpora/wordnet.zip.\n"
          ],
          "name": "stdout"
        },
        {
          "output_type": "execute_result",
          "data": {
            "text/html": [
              "<div>\n",
              "<style scoped>\n",
              "    .dataframe tbody tr th:only-of-type {\n",
              "        vertical-align: middle;\n",
              "    }\n",
              "\n",
              "    .dataframe tbody tr th {\n",
              "        vertical-align: top;\n",
              "    }\n",
              "\n",
              "    .dataframe thead th {\n",
              "        text-align: right;\n",
              "    }\n",
              "</style>\n",
              "<table border=\"1\" class=\"dataframe\">\n",
              "  <thead>\n",
              "    <tr style=\"text-align: right;\">\n",
              "      <th></th>\n",
              "      <th>index</th>\n",
              "      <th>Release Year</th>\n",
              "      <th>Title</th>\n",
              "      <th>Origin/Ethnicity</th>\n",
              "      <th>Director</th>\n",
              "      <th>Cast</th>\n",
              "      <th>Genre</th>\n",
              "      <th>Wiki Page</th>\n",
              "      <th>Plot</th>\n",
              "      <th>GenreID</th>\n",
              "      <th>Plot_clean</th>\n",
              "    </tr>\n",
              "  </thead>\n",
              "  <tbody>\n",
              "    <tr>\n",
              "      <th>0</th>\n",
              "      <td>7</td>\n",
              "      <td>1904</td>\n",
              "      <td>The Suburbanite</td>\n",
              "      <td>American</td>\n",
              "      <td>Wallace McCutcheon</td>\n",
              "      <td>NaN</td>\n",
              "      <td>comedy</td>\n",
              "      <td>https://en.wikipedia.org/wiki/The_Suburbanite</td>\n",
              "      <td>The film is about a family who move to the sub...</td>\n",
              "      <td>1</td>\n",
              "      <td>the film is about a family who move to the sub...</td>\n",
              "    </tr>\n",
              "    <tr>\n",
              "      <th>1</th>\n",
              "      <td>14</td>\n",
              "      <td>1907</td>\n",
              "      <td>How Brown Saw the Baseball Game</td>\n",
              "      <td>American</td>\n",
              "      <td>Unknown</td>\n",
              "      <td>Unknown</td>\n",
              "      <td>comedy</td>\n",
              "      <td>https://en.wikipedia.org/wiki/How_Brown_Saw_th...</td>\n",
              "      <td>Before heading out to a baseball game at a nea...</td>\n",
              "      <td>1</td>\n",
              "      <td>before heading out to a baseball game at a nea...</td>\n",
              "    </tr>\n",
              "    <tr>\n",
              "      <th>2</th>\n",
              "      <td>15</td>\n",
              "      <td>1907</td>\n",
              "      <td>Laughing Gas</td>\n",
              "      <td>American</td>\n",
              "      <td>Edwin Stanton Porter</td>\n",
              "      <td>Bertha Regustus, Edward Boulden</td>\n",
              "      <td>comedy</td>\n",
              "      <td>https://en.wikipedia.org/wiki/Laughing_Gas_(fi...</td>\n",
              "      <td>The plot is that of a black woman going to the...</td>\n",
              "      <td>1</td>\n",
              "      <td>the plot is that of a black woman going to the...</td>\n",
              "    </tr>\n",
              "    <tr>\n",
              "      <th>3</th>\n",
              "      <td>16</td>\n",
              "      <td>1908</td>\n",
              "      <td>The Adventures of Dollie</td>\n",
              "      <td>American</td>\n",
              "      <td>D. W. Griffith</td>\n",
              "      <td>Arthur V. Johnson, Linda Arvidson</td>\n",
              "      <td>drama</td>\n",
              "      <td>https://en.wikipedia.org/wiki/The_Adventures_o...</td>\n",
              "      <td>On a beautiful summer day a father and mother ...</td>\n",
              "      <td>0</td>\n",
              "      <td>on a beautiful summer day a father and mother ...</td>\n",
              "    </tr>\n",
              "    <tr>\n",
              "      <th>4</th>\n",
              "      <td>17</td>\n",
              "      <td>1908</td>\n",
              "      <td>The Black Viper</td>\n",
              "      <td>American</td>\n",
              "      <td>D. W. Griffith</td>\n",
              "      <td>D. W. Griffith</td>\n",
              "      <td>drama</td>\n",
              "      <td>https://en.wikipedia.org/wiki/The_Black_Viper</td>\n",
              "      <td>A thug accosts a girl as she leaves her workpl...</td>\n",
              "      <td>0</td>\n",
              "      <td>a thug accosts a girl a she leaf her workplace...</td>\n",
              "    </tr>\n",
              "  </tbody>\n",
              "</table>\n",
              "</div>"
            ],
            "text/plain": [
              "   index  ...                                         Plot_clean\n",
              "0      7  ...  the film is about a family who move to the sub...\n",
              "1     14  ...  before heading out to a baseball game at a nea...\n",
              "2     15  ...  the plot is that of a black woman going to the...\n",
              "3     16  ...  on a beautiful summer day a father and mother ...\n",
              "4     17  ...  a thug accosts a girl a she leaf her workplace...\n",
              "\n",
              "[5 rows x 11 columns]"
            ]
          },
          "metadata": {},
          "execution_count": 19
        }
      ]
    },
    {
      "cell_type": "code",
      "metadata": {
        "id": "13_Iv1AelUev",
        "colab": {
          "base_uri": "https://localhost:8080/",
          "height": 623
        },
        "outputId": "0c647854-7230-45b4-9973-1694f84c4412"
      },
      "source": [
        "data_clean['Plot_clean'] = data_clean['Plot_clean'].apply(lambda x: ' '.join([word for word in x.split() if word not in (stop)]))\n",
        "data_clean.head()"
      ],
      "execution_count": 20,
      "outputs": [
        {
          "output_type": "execute_result",
          "data": {
            "text/html": [
              "<div>\n",
              "<style scoped>\n",
              "    .dataframe tbody tr th:only-of-type {\n",
              "        vertical-align: middle;\n",
              "    }\n",
              "\n",
              "    .dataframe tbody tr th {\n",
              "        vertical-align: top;\n",
              "    }\n",
              "\n",
              "    .dataframe thead th {\n",
              "        text-align: right;\n",
              "    }\n",
              "</style>\n",
              "<table border=\"1\" class=\"dataframe\">\n",
              "  <thead>\n",
              "    <tr style=\"text-align: right;\">\n",
              "      <th></th>\n",
              "      <th>index</th>\n",
              "      <th>Release Year</th>\n",
              "      <th>Title</th>\n",
              "      <th>Origin/Ethnicity</th>\n",
              "      <th>Director</th>\n",
              "      <th>Cast</th>\n",
              "      <th>Genre</th>\n",
              "      <th>Wiki Page</th>\n",
              "      <th>Plot</th>\n",
              "      <th>GenreID</th>\n",
              "      <th>Plot_clean</th>\n",
              "    </tr>\n",
              "  </thead>\n",
              "  <tbody>\n",
              "    <tr>\n",
              "      <th>0</th>\n",
              "      <td>7</td>\n",
              "      <td>1904</td>\n",
              "      <td>The Suburbanite</td>\n",
              "      <td>American</td>\n",
              "      <td>Wallace McCutcheon</td>\n",
              "      <td>NaN</td>\n",
              "      <td>comedy</td>\n",
              "      <td>https://en.wikipedia.org/wiki/The_Suburbanite</td>\n",
              "      <td>The film is about a family who move to the sub...</td>\n",
              "      <td>1</td>\n",
              "      <td>film family move suburb hoping quiet life thin...</td>\n",
              "    </tr>\n",
              "    <tr>\n",
              "      <th>1</th>\n",
              "      <td>14</td>\n",
              "      <td>1907</td>\n",
              "      <td>How Brown Saw the Baseball Game</td>\n",
              "      <td>American</td>\n",
              "      <td>Unknown</td>\n",
              "      <td>Unknown</td>\n",
              "      <td>comedy</td>\n",
              "      <td>https://en.wikipedia.org/wiki/How_Brown_Saw_th...</td>\n",
              "      <td>Before heading out to a baseball game at a nea...</td>\n",
              "      <td>1</td>\n",
              "      <td>heading baseball game nearby ballpark sport fa...</td>\n",
              "    </tr>\n",
              "    <tr>\n",
              "      <th>2</th>\n",
              "      <td>15</td>\n",
              "      <td>1907</td>\n",
              "      <td>Laughing Gas</td>\n",
              "      <td>American</td>\n",
              "      <td>Edwin Stanton Porter</td>\n",
              "      <td>Bertha Regustus, Edward Boulden</td>\n",
              "      <td>comedy</td>\n",
              "      <td>https://en.wikipedia.org/wiki/Laughing_Gas_(fi...</td>\n",
              "      <td>The plot is that of a black woman going to the...</td>\n",
              "      <td>1</td>\n",
              "      <td>plot black woman going dentist toothache given...</td>\n",
              "    </tr>\n",
              "    <tr>\n",
              "      <th>3</th>\n",
              "      <td>16</td>\n",
              "      <td>1908</td>\n",
              "      <td>The Adventures of Dollie</td>\n",
              "      <td>American</td>\n",
              "      <td>D. W. Griffith</td>\n",
              "      <td>Arthur V. Johnson, Linda Arvidson</td>\n",
              "      <td>drama</td>\n",
              "      <td>https://en.wikipedia.org/wiki/The_Adventures_o...</td>\n",
              "      <td>On a beautiful summer day a father and mother ...</td>\n",
              "      <td>0</td>\n",
              "      <td>beautiful summer day father mother take daught...</td>\n",
              "    </tr>\n",
              "    <tr>\n",
              "      <th>4</th>\n",
              "      <td>17</td>\n",
              "      <td>1908</td>\n",
              "      <td>The Black Viper</td>\n",
              "      <td>American</td>\n",
              "      <td>D. W. Griffith</td>\n",
              "      <td>D. W. Griffith</td>\n",
              "      <td>drama</td>\n",
              "      <td>https://en.wikipedia.org/wiki/The_Black_Viper</td>\n",
              "      <td>A thug accosts a girl as she leaves her workpl...</td>\n",
              "      <td>0</td>\n",
              "      <td>thug accosts girl leaf workplace man rescue th...</td>\n",
              "    </tr>\n",
              "  </tbody>\n",
              "</table>\n",
              "</div>"
            ],
            "text/plain": [
              "   index  ...                                         Plot_clean\n",
              "0      7  ...  film family move suburb hoping quiet life thin...\n",
              "1     14  ...  heading baseball game nearby ballpark sport fa...\n",
              "2     15  ...  plot black woman going dentist toothache given...\n",
              "3     16  ...  beautiful summer day father mother take daught...\n",
              "4     17  ...  thug accosts girl leaf workplace man rescue th...\n",
              "\n",
              "[5 rows x 11 columns]"
            ]
          },
          "metadata": {},
          "execution_count": 20
        }
      ]
    },
    {
      "cell_type": "markdown",
      "metadata": {
        "id": "qrcaJTfZM3Ly"
      },
      "source": [
        "Tokenizing and creating and padding the sequences"
      ]
    },
    {
      "cell_type": "code",
      "metadata": {
        "id": "GZ23BLXSirVJ"
      },
      "source": [
        ""
      ],
      "execution_count": 20,
      "outputs": []
    },
    {
      "cell_type": "code",
      "metadata": {
        "id": "14nf1SHLJg4Z"
      },
      "source": [
        ""
      ],
      "execution_count": 20,
      "outputs": []
    },
    {
      "cell_type": "code",
      "metadata": {
        "colab": {
          "base_uri": "https://localhost:8080/"
        },
        "id": "5Hd1XdMxM3Ly",
        "outputId": "66332576-f85e-4f19-e1e5-a29ffbfc141b"
      },
      "source": [
        "tokenizer = Tokenizer()\n",
        "tokenizer.fit_on_texts((list(data_clean['Plot_clean'])))\n",
        "sequences=tokenizer.texts_to_sequences((list(data_clean['Plot_clean'])))\n",
        "word_index=tokenizer.word_index\n",
        "print(\"unique tokens:\",len(word_index))\n",
        "max_len=np.max([len(sequence) for sequence in sequences])\n",
        "print(\"Max length:\",max_len)\n",
        "data = pad_sequences(sequences, maxlen=max_len)\n",
        "print(\"Shape of data tensor:\",data.shape)"
      ],
      "execution_count": 21,
      "outputs": [
        {
          "output_type": "stream",
          "text": [
            "unique tokens: 114645\n",
            "Max length: 1488\n",
            "Shape of data tensor: (12608, 1488)\n"
          ],
          "name": "stdout"
        }
      ]
    },
    {
      "cell_type": "markdown",
      "metadata": {
        "id": "nX8F9B0sM3Ly"
      },
      "source": [
        "Making Target labels to Categorical"
      ]
    },
    {
      "cell_type": "code",
      "metadata": {
        "colab": {
          "base_uri": "https://localhost:8080/"
        },
        "id": "vpyQXLRqM3Ly",
        "outputId": "9f38460d-a296-458c-d24b-3de6dda7bb06"
      },
      "source": [
        "labels=np.asarray(movies['GenreID'])\n",
        "labels=to_categorical(labels,num_classes=4)\n",
        "print('Label:',labels.shape)\n",
        "labels"
      ],
      "execution_count": 22,
      "outputs": [
        {
          "output_type": "stream",
          "text": [
            "Label: (12608, 4)\n"
          ],
          "name": "stdout"
        },
        {
          "output_type": "execute_result",
          "data": {
            "text/plain": [
              "array([[0., 1., 0., 0.],\n",
              "       [0., 1., 0., 0.],\n",
              "       [0., 1., 0., 0.],\n",
              "       ...,\n",
              "       [1., 0., 0., 0.],\n",
              "       [0., 1., 0., 0.],\n",
              "       [0., 1., 0., 0.]], dtype=float32)"
            ]
          },
          "metadata": {},
          "execution_count": 22
        }
      ]
    },
    {
      "cell_type": "code",
      "metadata": {
        "id": "GxixYc4WGWx-"
      },
      "source": [
        "# embedding_dim=300\n",
        "# total_words=len(word_index)+1\n",
        "# skipped_words=0\n",
        "# embedding_vector=None\n",
        "# embedding_matrix=np.zeros((total_words,embedding_dim))\n",
        "# for word,index in tokenizer.word_index.items():\n",
        "#     try:\n",
        "#         embedding_vector=wordembeddings[word]\n",
        "#     except:\n",
        "#         skipped_words-skipped_words+1\n",
        "#         pass\n",
        "#     if embedding_vector is not None:\n",
        "#         embedding_matrix[index]=embedding_vector\n",
        "# print(\"Embeddings Matrix Shape :\",embedding_matrix.shape)"
      ],
      "execution_count": null,
      "outputs": []
    },
    {
      "cell_type": "code",
      "metadata": {
        "id": "frJGoaZjGWx_"
      },
      "source": [
        "# Embedding_layer=Embedding(total_words,embedding_dim,weights=[embedding_matrix],input_length=max_len,trainable=False)"
      ],
      "execution_count": null,
      "outputs": []
    },
    {
      "cell_type": "markdown",
      "metadata": {
        "id": "OmxqG9zQM3Lz"
      },
      "source": [
        "# Creating a Model"
      ]
    },
    {
      "cell_type": "code",
      "metadata": {
        "id": "jCyxYnyWM3Lz"
      },
      "source": [
        "#splitting the data for training testing and validation\n",
        "# training_samples=11000\n",
        "# validation_samples=3000\n",
        "# X_train=data[:training_samples]\n",
        "# y_train=labels[:training_samples]\n",
        "# X_val=data[training_samples:training_samples+validation_samples]\n",
        "# y_val=labels[training_samples:training_samples+validation_samples]\n",
        "X_train,X_val,y_train,y_val=train_test_split(data,labels,test_size=0.2,random_state=42)\n",
        "shuffle_index=np.random.permutation(10086)\n",
        "X_train,y_train=X_train[shuffle_index],y_train[shuffle_index]"
      ],
      "execution_count": 23,
      "outputs": []
    },
    {
      "cell_type": "code",
      "metadata": {
        "colab": {
          "base_uri": "https://localhost:8080/"
        },
        "id": "c1u3bJjBAplw",
        "outputId": "84d32129-ef01-433d-f94c-51f63a070b6f"
      },
      "source": [
        "embedding_dim=400\n",
        "model=Sequential()\n",
        "model.add(Embedding(input_dim=len(word_index)+1,output_dim=embedding_dim,input_length=max_len))\n",
        "model.add(Dropout(0.2))\n",
        "model.add(LSTM(100,kernel_regularizer=l2(0.0001),return_sequences=True))\n",
        "model.add(Dropout(0.4))\n",
        "# model.add(LSTM(64,kernel_regularizer=l2(0.0001),return_sequences=True))\n",
        "# model.add(Dropout(0.4))\n",
        "model.add(Flatten())\n",
        "# model.add(Dense(64, activation='relu'))\n",
        "# model.add(Dropout(0.2))\n",
        "model.add(Dense(4, activation='softmax'))\n",
        "model.compile(loss='categorical_crossentropy',optimizer=optimizers.Adam(learning_rate=1e-3),metrics=['categorical_accuracy'])\n",
        "model.summary()\n",
        "# 32,kernel_regularizer=l2(0.001),input_shape=(X_train.shape[1:]),activation='tanh'"
      ],
      "execution_count": 39,
      "outputs": [
        {
          "output_type": "stream",
          "text": [
            "Model: \"sequential_5\"\n",
            "_________________________________________________________________\n",
            "Layer (type)                 Output Shape              Param #   \n",
            "=================================================================\n",
            "embedding_5 (Embedding)      (None, 1488, 400)         45858400  \n",
            "_________________________________________________________________\n",
            "dropout_13 (Dropout)         (None, 1488, 400)         0         \n",
            "_________________________________________________________________\n",
            "lstm_8 (LSTM)                (None, 1488, 100)         200400    \n",
            "_________________________________________________________________\n",
            "dropout_14 (Dropout)         (None, 1488, 100)         0         \n",
            "_________________________________________________________________\n",
            "flatten_5 (Flatten)          (None, 148800)            0         \n",
            "_________________________________________________________________\n",
            "dense_5 (Dense)              (None, 4)                 595204    \n",
            "=================================================================\n",
            "Total params: 46,654,004\n",
            "Trainable params: 46,654,004\n",
            "Non-trainable params: 0\n",
            "_________________________________________________________________\n"
          ],
          "name": "stdout"
        }
      ]
    },
    {
      "cell_type": "code",
      "metadata": {
        "colab": {
          "base_uri": "https://localhost:8080/"
        },
        "id": "86nOqiSFM3L0",
        "outputId": "c0200268-550f-42aa-fe30-db08bb0b9d29"
      },
      "source": [
        "filepath=\"MovieGenrePredictionUsingPlotSummariesmodel1.h5\"\n",
        "checkpoint = ModelCheckpoint(filepath, save_best_only=True)\n",
        "callbacks_list = [checkpoint]\n",
        "len(X_train),len(X_val)"
      ],
      "execution_count": 40,
      "outputs": [
        {
          "output_type": "execute_result",
          "data": {
            "text/plain": [
              "(10086, 2522)"
            ]
          },
          "metadata": {},
          "execution_count": 40
        }
      ]
    },
    {
      "cell_type": "code",
      "metadata": {
        "colab": {
          "base_uri": "https://localhost:8080/"
        },
        "id": "reqs5wevM3L0",
        "outputId": "d3b3e2c2-2240-4431-ac52-30f97e4f8f8a"
      },
      "source": [
        "history=model.fit(X_train,y_train, epochs=10, callbacks=callbacks_list, batch_size=128, validation_data=(X_val,y_val))"
      ],
      "execution_count": 41,
      "outputs": [
        {
          "output_type": "stream",
          "text": [
            "Epoch 1/10\n",
            "79/79 [==============================] - 19s 219ms/step - loss: 1.0343 - categorical_accuracy: 0.5562 - val_loss: 0.7299 - val_categorical_accuracy: 0.7153\n",
            "Epoch 2/10\n",
            "79/79 [==============================] - 17s 216ms/step - loss: 0.3628 - categorical_accuracy: 0.8773 - val_loss: 0.7617 - val_categorical_accuracy: 0.7213\n",
            "Epoch 3/10\n",
            "79/79 [==============================] - 17s 216ms/step - loss: 0.1017 - categorical_accuracy: 0.9761 - val_loss: 1.1202 - val_categorical_accuracy: 0.7046\n",
            "Epoch 4/10\n",
            "79/79 [==============================] - 17s 217ms/step - loss: 0.0521 - categorical_accuracy: 0.9919 - val_loss: 1.4670 - val_categorical_accuracy: 0.6907\n",
            "Epoch 5/10\n",
            "79/79 [==============================] - 17s 218ms/step - loss: 0.0374 - categorical_accuracy: 0.9961 - val_loss: 1.5815 - val_categorical_accuracy: 0.6990\n",
            "Epoch 6/10\n",
            "79/79 [==============================] - 17s 218ms/step - loss: 0.0311 - categorical_accuracy: 0.9983 - val_loss: 1.6837 - val_categorical_accuracy: 0.6895\n",
            "Epoch 7/10\n",
            "79/79 [==============================] - 17s 218ms/step - loss: 0.0256 - categorical_accuracy: 0.9984 - val_loss: 1.6567 - val_categorical_accuracy: 0.6848\n",
            "Epoch 8/10\n",
            "79/79 [==============================] - 17s 218ms/step - loss: 0.0250 - categorical_accuracy: 0.9985 - val_loss: 1.7426 - val_categorical_accuracy: 0.6911\n",
            "Epoch 9/10\n",
            "79/79 [==============================] - 17s 218ms/step - loss: 0.0266 - categorical_accuracy: 0.9975 - val_loss: 1.7573 - val_categorical_accuracy: 0.6808\n",
            "Epoch 10/10\n",
            "79/79 [==============================] - 17s 218ms/step - loss: 0.0234 - categorical_accuracy: 0.9987 - val_loss: 1.2957 - val_categorical_accuracy: 0.6772\n"
          ],
          "name": "stdout"
        }
      ]
    },
    {
      "cell_type": "code",
      "metadata": {
        "colab": {
          "base_uri": "https://localhost:8080/",
          "height": 585
        },
        "id": "kmel8imKDsHF",
        "outputId": "df3cc204-38a7-482d-b79a-33975e411bb0"
      },
      "source": [
        " acc=history.history['categorical_accuracy']\n",
        "val_acc=history.history['val_categorical_accuracy']\n",
        "loss=history.history['loss']\n",
        "val_loss=history.history['val_loss']\n",
        "epochs=range(1,len(acc)+1)\n",
        "plt.xlabel('Epochs')\n",
        "plt.ylabel('Accuracy')\n",
        "plt.plot(epochs, acc, 'bo', label='Training acc')\n",
        "plt.plot(epochs, val_acc, 'b', label='Validation acc')\n",
        "plt.title('Training and validation accuracy')\n",
        "plt.legend()\n",
        "plt.figure()\n",
        "\n",
        "plt.plot(epochs, loss, 'bo', label='Training loss')\n",
        "plt.plot(epochs, val_loss, 'b', label='Validation loss')\n",
        "plt.title('Training and validation loss')\n",
        "plt.xlabel('Epochs')\n",
        "plt.ylabel('Loss')\n",
        "plt.legend()\n",
        "plt.show()"
      ],
      "execution_count": 42,
      "outputs": [
        {
          "output_type": "display_data",
          "data": {
            "image/png": "[encoded data removed]",
            "text/plain": [
              "<Figure size 432x288 with 1 Axes>"
            ]
          },
          "metadata": {}
        },
        {
          "output_type": "display_data",
          "data": {
            "image/png": "[encoded data removed]",
            "text/plain": [
              "<Figure size 432x288 with 1 Axes>"
            ]
          },
          "metadata": {}
        }
      ]
    },
    {
      "cell_type": "code",
      "metadata": {
        "colab": {
          "base_uri": "https://localhost:8080/"
        },
        "id": "1Be85gqtJGr7",
        "outputId": "97eadcc4-8b70-47c6-ff6a-b47feb3d934b"
      },
      "source": [
        "from sklearn.metrics import accuracy_score\n",
        "\n",
        "pred = model.predict(X_val)\n",
        "predict_classes = np.argmax(pred,axis=1)\n",
        "expected_classes = np.argmax(y_val,axis=1)\n",
        "correct = accuracy_score(expected_classes,predict_classes)\n",
        "print(f\"Accuracy: {correct}\")"
      ],
      "execution_count": 43,
      "outputs": [
        {
          "output_type": "stream",
          "text": [
            "Accuracy: 0.6772402854877082\n"
          ],
          "name": "stdout"
        }
      ]
    },
    {
      "cell_type": "code",
      "metadata": {
        "id": "rYhf2MYyGZiR"
      },
      "source": [
        "from tensorflow.python.keras.models import load_model\n",
        "\n",
        "best_model = load_model('MovieGenrePredictionUsingPlotSummariesmodel1.h5')"
      ],
      "execution_count": 44,
      "outputs": []
    },
    {
      "cell_type": "code",
      "metadata": {
        "colab": {
          "base_uri": "https://localhost:8080/"
        },
        "id": "lB3Xa5rYGe_I",
        "outputId": "0af7c26c-7610-4245-ae49-34543bbd83c7"
      },
      "source": [
        "batch_size=64\n",
        "steps_test=int(len(X_val)/batch_size)\n",
        "result = best_model.evaluate(X_val, y_val, steps=steps_test,verbose=1)\n",
        "print(\"Validation-set accuracy: {0:.2%}\".format(result[1]))"
      ],
      "execution_count": 45,
      "outputs": [
        {
          "output_type": "stream",
          "text": [
            "39/39 [==============================] - 36s 40ms/step - loss: 0.7299 - categorical_accuracy: 0.7153\n",
            "Validation-set accuracy: 71.53%\n"
          ],
          "name": "stdout"
        }
      ]
    },
    {
      "cell_type": "code",
      "metadata": {
        "colab": {
          "base_uri": "https://localhost:8080/"
        },
        "id": "y1z-anh4Zw1h",
        "outputId": "a3e538b9-f333-4c73-d006-b6b64955a77a"
      },
      "source": [
        "best_model.save('fypmodel{:.2%}.h5'.format(result[1]))\n",
        "name='fypmodel{:.2%}.tflite'.format(result[1])\n",
        "converter = tf.lite.TFLiteConverter.from_keras_model(best_model) # path to the SavedModel directory\n",
        "tflite_model = converter.convert()\n",
        "\n",
        "# Save the model.\n",
        "with open(name, 'wb') as f:\n",
        "    f.write(tflite_model)"
      ],
      "execution_count": 46,
      "outputs": [
        {
          "output_type": "stream",
          "text": [
            "WARNING:absl:Found untraced functions such as lstm_cell_layer_call_and_return_conditional_losses, lstm_cell_layer_call_fn, lstm_cell_layer_call_fn, lstm_cell_layer_call_and_return_conditional_losses, lstm_cell_layer_call_and_return_conditional_losses while saving (showing 5 of 5). These functions will not be directly callable after loading.\n"
          ],
          "name": "stderr"
        },
        {
          "output_type": "stream",
          "text": [
            "INFO:tensorflow:Assets written to: /tmp/tmppqcolvqw/assets\n"
          ],
          "name": "stdout"
        },
        {
          "output_type": "stream",
          "text": [
            "INFO:tensorflow:Assets written to: /tmp/tmppqcolvqw/assets\n"
          ],
          "name": "stderr"
        }
      ]
    },
    {
      "cell_type": "code",
      "metadata": {
        "colab": {
          "base_uri": "https://localhost:8080/"
        },
        "id": "RBDQQefxG-Cr",
        "outputId": "dd353950-fc0b-4a45-a7ff-c5cbc005e5cc"
      },
      "source": [
        "preds = best_model.predict(X_val, batch_size=16,verbose=1)\n",
        "preds=np.around(preds)\n",
        "\n",
        "orig_val_labels=np.argmax(y_val,axis=1)\n",
        "predicted_labels=np.argmax(preds,axis=1)\n",
        "\n",
        "orig_val_labels=np.reshape(orig_val_labels,(2522,1))\n",
        "predicted_labels=np.reshape(predicted_labels,(2522,1))\n",
        "\n",
        "print(predicted_labels.shape)\n",
        "print(orig_val_labels.shape)"
      ],
      "execution_count": 47,
      "outputs": [
        {
          "output_type": "stream",
          "text": [
            "158/158 [==============================] - 4s 23ms/step\n",
            "(2522, 1)\n",
            "(2522, 1)\n"
          ],
          "name": "stdout"
        }
      ]
    },
    {
      "cell_type": "code",
      "metadata": {
        "colab": {
          "base_uri": "https://localhost:8080/",
          "height": 634
        },
        "id": "qQzozgcxHN2v",
        "outputId": "6b30c128-0c7c-44ee-ba34-be0048456bf2"
      },
      "source": [
        "%matplotlib inline\n",
        "# Get the confusion matrix\n",
        "from sklearn.metrics import confusion_matrix\n",
        "from mlxtend.plotting import plot_confusion_matrix\n",
        "\n",
        "cm  = confusion_matrix(orig_val_labels, predicted_labels)\n",
        "plt.figure()\n",
        "plot_confusion_matrix(cm,figsize=(15,10), hide_ticks=True,cmap=plt.cm.Blues)\n",
        "plt.xticks(range(4), ['drama','comedy','action','horror'], fontsize=16)\n",
        "plt.yticks(range(4), ['drama','comedy','action','horror'], fontsize=16)\n",
        "plt.show()"
      ],
      "execution_count": 48,
      "outputs": [
        {
          "output_type": "display_data",
          "data": {
            "text/plain": [
              "<Figure size 432x288 with 0 Axes>"
            ]
          },
          "metadata": {}
        },
        {
          "output_type": "display_data",
          "data": {
            "image/png": "[encoded data removed]",
            "text/plain": [
              "<Figure size 1080x720 with 1 Axes>"
            ]
          },
          "metadata": {
            "needs_background": "light"
          }
        }
      ]
    },
    {
      "cell_type": "code",
      "metadata": {
        "id": "4mWJYvkR5fvs",
        "colab": {
          "base_uri": "https://localhost:8080/"
        },
        "outputId": "b95a92f7-9b02-4ab5-8c22-96c84dc576ce"
      },
      "source": [
        "# calculates precision for 1:100 dataset with 90 tp and 30 fp\n",
        "from sklearn.metrics import precision_score\n",
        "precision = precision_score(orig_val_labels,predicted_labels,average='micro')\n",
        "print('Precision: %.3f' % precision)"
      ],
      "execution_count": 49,
      "outputs": [
        {
          "output_type": "stream",
          "text": [
            "Precision: 0.709\n"
          ],
          "name": "stdout"
        }
      ]
    },
    {
      "cell_type": "code",
      "metadata": {
        "colab": {
          "base_uri": "https://localhost:8080/"
        },
        "id": "kTXcin9StBYu",
        "outputId": "35ac805b-4f50-4e12-a54c-5d4cfe2002fa"
      },
      "source": [
        "print(classification_report(orig_val_labels,predicted_labels,target_names=MainGenres))"
      ],
      "execution_count": 50,
      "outputs": [
        {
          "output_type": "stream",
          "text": [
            "              precision    recall  f1-score   support\n",
            "\n",
            "       drama       0.66      0.87      0.75      1209\n",
            "      comedy       0.78      0.56      0.65       899\n",
            "      action       0.73      0.34      0.47       200\n",
            "      horror       0.83      0.73      0.77       214\n",
            "\n",
            "    accuracy                           0.71      2522\n",
            "   macro avg       0.75      0.63      0.66      2522\n",
            "weighted avg       0.72      0.71      0.70      2522\n",
            "\n"
          ],
          "name": "stdout"
        }
      ]
    },
    {
      "cell_type": "code",
      "metadata": {
        "id": "duV9-HUYufOg"
      },
      "source": [
        ""
      ],
      "execution_count": 50,
      "outputs": []
    }
  ]
}