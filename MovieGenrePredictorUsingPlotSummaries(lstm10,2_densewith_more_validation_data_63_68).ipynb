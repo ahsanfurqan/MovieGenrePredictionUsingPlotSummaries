{
  "nbformat": 4,
  "nbformat_minor": 0,
  "metadata": {
    "colab": {
      "name": "MovieGenrePredictorUsingPlotSummaries(lstm10,2-densewith more validation data 63.68).ipynb",
      "provenance": [],
      "collapsed_sections": []
    },
    "kernelspec": {
      "name": "python3",
      "display_name": "Python 3"
    },
    "language_info": {
      "name": "python"
    },
    "accelerator": "GPU"
  },
  "cells": [
    {
      "cell_type": "code",
      "metadata": {
        "id": "1WQ3WnBE__pe"
      },
      "source": [
        "import tensorflow as tf\n",
        "import pandas as pd\n",
        "import numpy as np\n",
        "import nltk\n",
        "from nltk.tokenize import word_tokenize \n",
        "from nltk.stem.porter import PorterStemmer\n",
        "from nltk.stem import WordNetLemmatizer\n",
        "from nltk.corpus import stopwords\n",
        "import re\n",
        "import matplotlib.pyplot as plt\n",
        "from sklearn.model_selection import train_test_split\n",
        "from sklearn.metrics import classification_report\n",
        "from tensorflow.keras.preprocessing.text import Tokenizer\n",
        "from tensorflow.keras.preprocessing.sequence import pad_sequences\n",
        "from tensorflow.keras.utils import to_categorical\n",
        "from tensorflow.keras.layers import LSTM,Dropout,Activation,Bidirectional,Embedding,Dense,Flatten,GlobalMaxPooling1D,SpatialDropout1D\n",
        "from tensorflow.keras.layers import Conv1D,BatchNormalization\n",
        "from tensorflow.keras.models import Sequential\n",
        "from tensorflow.keras import optimizers\n",
        "from tensorflow.keras.callbacks import ModelCheckpoint\n",
        "import os\n",
        "from gensim.models import Word2Vec, KeyedVectors\n",
        "import tensorflow_hub as hub\n",
        "from tensorflow.keras.regularizers import l2"
      ],
      "execution_count": 1,
      "outputs": []
    },
    {
      "cell_type": "code",
      "metadata": {
        "colab": {
          "base_uri": "https://localhost:8080/",
          "height": 54
        },
        "id": "QzI7XcetAGM7",
        "outputId": "a35929f4-14cb-40d8-9b86-b8a09dac842b"
      },
      "source": [
        "from google.colab import drive\n",
        "drive.mount('/content/gdrive')\n",
        "tf.__version__"
      ],
      "execution_count": 2,
      "outputs": [
        {
          "output_type": "stream",
          "name": "stdout",
          "text": [
            "Mounted at /content/gdrive\n"
          ]
        },
        {
          "output_type": "execute_result",
          "data": {
            "application/vnd.google.colaboratory.intrinsic+json": {
              "type": "string"
            },
            "text/plain": [
              "'2.6.0'"
            ]
          },
          "metadata": {},
          "execution_count": 2
        }
      ]
    },
    {
      "cell_type": "code",
      "metadata": {
        "id": "DvtK5S_lAIZq"
      },
      "source": [
        "data_clean=pd.read_csv('/content/gdrive/MyDrive/clean_data.csv')"
      ],
      "execution_count": 3,
      "outputs": []
    },
    {
      "cell_type": "code",
      "metadata": {
        "id": "pj9ZFjS4AlR9"
      },
      "source": [
        "lemmatizer = WordNetLemmatizer()\n",
        "def lemmatize_text(text):\n",
        "    return \" \".join([lemmatizer.lemmatize(w) for w in text.split()])"
      ],
      "execution_count": 5,
      "outputs": []
    },
    {
      "cell_type": "code",
      "metadata": {
        "colab": {
          "base_uri": "https://localhost:8080/"
        },
        "id": "89A3DmK4Apd9",
        "outputId": "4bb24e41-8897-471f-f362-3e17c2ae0db7"
      },
      "source": [
        "nltk.download('wordnet')\n",
        "data_clean[\"Plot_clean\"] = data_clean[\"Plot_clean\"].apply(lambda text: lemmatize_text(text))\n",
        "data_clean.head()\n",
        "nltk.download('stopwords')\n",
        "nltk.download('punkt')\n",
        "stop = stopwords.words('english')"
      ],
      "execution_count": 6,
      "outputs": [
        {
          "output_type": "stream",
          "name": "stdout",
          "text": [
            "[nltk_data] Downloading package wordnet to /root/nltk_data...\n",
            "[nltk_data]   Package wordnet is already up-to-date!\n",
            "[nltk_data] Downloading package stopwords to /root/nltk_data...\n",
            "[nltk_data]   Unzipping corpora/stopwords.zip.\n",
            "[nltk_data] Downloading package punkt to /root/nltk_data...\n",
            "[nltk_data]   Unzipping tokenizers/punkt.zip.\n"
          ]
        }
      ]
    },
    {
      "cell_type": "code",
      "metadata": {
        "colab": {
          "base_uri": "https://localhost:8080/",
          "height": 658
        },
        "id": "6F1XsNXtAq2K",
        "outputId": "c9ef162e-977e-4ed8-d5ca-18b9f76ddc8e"
      },
      "source": [
        "data_clean['Plot_clean'] = data_clean['Plot_clean'].apply(lambda x: ' '.join([word for word in x.split() if word not in (stop)]))\n",
        "data_clean.head()"
      ],
      "execution_count": 7,
      "outputs": [
        {
          "output_type": "execute_result",
          "data": {
            "text/html": [
              "<div>\n",
              "<style scoped>\n",
              "    .dataframe tbody tr th:only-of-type {\n",
              "        vertical-align: middle;\n",
              "    }\n",
              "\n",
              "    .dataframe tbody tr th {\n",
              "        vertical-align: top;\n",
              "    }\n",
              "\n",
              "    .dataframe thead th {\n",
              "        text-align: right;\n",
              "    }\n",
              "</style>\n",
              "<table border=\"1\" class=\"dataframe\">\n",
              "  <thead>\n",
              "    <tr style=\"text-align: right;\">\n",
              "      <th></th>\n",
              "      <th>Unnamed: 0</th>\n",
              "      <th>index</th>\n",
              "      <th>Release Year</th>\n",
              "      <th>Title</th>\n",
              "      <th>Origin/Ethnicity</th>\n",
              "      <th>Director</th>\n",
              "      <th>Cast</th>\n",
              "      <th>Genre</th>\n",
              "      <th>Wiki Page</th>\n",
              "      <th>Plot</th>\n",
              "      <th>GenreID</th>\n",
              "      <th>Plot_clean</th>\n",
              "    </tr>\n",
              "  </thead>\n",
              "  <tbody>\n",
              "    <tr>\n",
              "      <th>0</th>\n",
              "      <td>0</td>\n",
              "      <td>32501</td>\n",
              "      <td>2011</td>\n",
              "      <td>Vasthad</td>\n",
              "      <td>Telugu</td>\n",
              "      <td>Rajamithran</td>\n",
              "      <td>Aadhi, Meera Nandan</td>\n",
              "      <td>drama</td>\n",
              "      <td>https://en.wikipedia.org/wiki/Ayyanar_(film)</td>\n",
              "      <td>Prabha (Aadhi Pinisetty) is the eldest son of ...</td>\n",
              "      <td>0</td>\n",
              "      <td>prabha aadhi pinisetty eldest son family doe n...</td>\n",
              "    </tr>\n",
              "    <tr>\n",
              "      <th>1</th>\n",
              "      <td>1</td>\n",
              "      <td>48</td>\n",
              "      <td>1912</td>\n",
              "      <td>Petticoat Camp</td>\n",
              "      <td>American</td>\n",
              "      <td>Unknown</td>\n",
              "      <td>William Garwood, Florence La Badie</td>\n",
              "      <td>comedy</td>\n",
              "      <td>https://en.wikipedia.org/wiki/Petticoat_Camp</td>\n",
              "      <td>Only lasting 15 minutes, it is a light-hearted...</td>\n",
              "      <td>1</td>\n",
              "      <td>lasting minute lighthearted comedy battle sex ...</td>\n",
              "    </tr>\n",
              "    <tr>\n",
              "      <th>2</th>\n",
              "      <td>2</td>\n",
              "      <td>15091</td>\n",
              "      <td>2006</td>\n",
              "      <td>Talladega Nights: The Ballad of Ricky Bobby</td>\n",
              "      <td>American</td>\n",
              "      <td>Adam McKay</td>\n",
              "      <td>Will Ferrell, John C. Reilly, Sacha Baron Cohen</td>\n",
              "      <td>comedy</td>\n",
              "      <td>https://en.wikipedia.org/wiki/Talladega_Nights...</td>\n",
              "      <td>Ricky Bobby is a man who grew up dreaming of g...</td>\n",
              "      <td>1</td>\n",
              "      <td>ricky bobby man grew dreaming going fast worki...</td>\n",
              "    </tr>\n",
              "    <tr>\n",
              "      <th>3</th>\n",
              "      <td>3</td>\n",
              "      <td>12831</td>\n",
              "      <td>1996</td>\n",
              "      <td>Skin &amp; Bone</td>\n",
              "      <td>American</td>\n",
              "      <td>Everett Lewis</td>\n",
              "      <td>J. Wyatt</td>\n",
              "      <td>drama</td>\n",
              "      <td>https://en.wikipedia.org/wiki/Skin_%26_Bone_(f...</td>\n",
              "      <td>Skin &amp; Bone is an episodic account of three Lo...</td>\n",
              "      <td>0</td>\n",
              "      <td>skin bone episodic account three los angelesar...</td>\n",
              "    </tr>\n",
              "    <tr>\n",
              "      <th>4</th>\n",
              "      <td>4</td>\n",
              "      <td>2870</td>\n",
              "      <td>1940</td>\n",
              "      <td>The Man I Married</td>\n",
              "      <td>American</td>\n",
              "      <td>Irving Pichel</td>\n",
              "      <td>Joan Bennett, Francis Lederer</td>\n",
              "      <td>drama</td>\n",
              "      <td>https://en.wikipedia.org/wiki/The_Man_I_Married</td>\n",
              "      <td>A successful American woman, art critic Carol ...</td>\n",
              "      <td>0</td>\n",
              "      <td>successful american woman art critic carol cab...</td>\n",
              "    </tr>\n",
              "  </tbody>\n",
              "</table>\n",
              "</div>"
            ],
            "text/plain": [
              "   Unnamed: 0  ...                                         Plot_clean\n",
              "0           0  ...  prabha aadhi pinisetty eldest son family doe n...\n",
              "1           1  ...  lasting minute lighthearted comedy battle sex ...\n",
              "2           2  ...  ricky bobby man grew dreaming going fast worki...\n",
              "3           3  ...  skin bone episodic account three los angelesar...\n",
              "4           4  ...  successful american woman art critic carol cab...\n",
              "\n",
              "[5 rows x 12 columns]"
            ]
          },
          "metadata": {},
          "execution_count": 7
        }
      ]
    },
    {
      "cell_type": "code",
      "metadata": {
        "colab": {
          "base_uri": "https://localhost:8080/"
        },
        "id": "kAFO5JFQAuLQ",
        "outputId": "9a832f67-5185-462f-e1f8-ad278fc139b5"
      },
      "source": [
        "max_num_words=5000\n",
        "max_seq_len=1000\n",
        "tokenizer = Tokenizer(num_words=max_num_words,filters='!\"#$&%()*+-./:;<=>?@[\\]^_`{|}~',lower=True)\n",
        "tokenizer.fit_on_texts((data_clean['Plot_clean'].values))\n",
        "sequences=tokenizer.texts_to_sequences((data_clean['Plot_clean'].values))\n",
        "word_index=tokenizer.word_index\n",
        "print(\"unique tokens:\",len(word_index))\n",
        "# max_len=np.max([len(sequence) for sequence in sequences])\n",
        "print(\"Max length:\",max_seq_len)\n",
        "data = pad_sequences(sequences, maxlen=max_seq_len)\n",
        "print(\"Shape of data tensor:\",data.shape)"
      ],
      "execution_count": 8,
      "outputs": [
        {
          "output_type": "stream",
          "name": "stdout",
          "text": [
            "unique tokens: 114645\n",
            "Max length: 1000\n",
            "Shape of data tensor: (12608, 1000)\n"
          ]
        }
      ]
    },
    {
      "cell_type": "code",
      "metadata": {
        "colab": {
          "base_uri": "https://localhost:8080/"
        },
        "id": "eWa2ayUrkWTT",
        "outputId": "32fc893c-93e4-42c7-cc92-cdf77f47e06d"
      },
      "source": [
        "data[0]"
      ],
      "execution_count": 11,
      "outputs": [
        {
          "output_type": "execute_result",
          "data": {
            "text/plain": [
              "array([   0,    0,    0,    0,    0,    0,    0,    0,    0,    0,    0,\n",
              "          0,    0,    0,    0,    0,    0,    0,    0,    0,    0,    0,\n",
              "          0,    0,    0,    0,    0,    0,    0,    0,    0,    0,    0,\n",
              "          0,    0,    0,    0,    0,    0,    0,    0,    0,    0,    0,\n",
              "          0,    0,    0,    0,    0,    0,    0,    0,    0,    0,    0,\n",
              "          0,    0,    0,    0,    0,    0,    0,    0,    0,    0,    0,\n",
              "          0,    0,    0,    0,    0,    0,    0,    0,    0,    0,    0,\n",
              "          0,    0,    0,    0,    0,    0,    0,    0,    0,    0,    0,\n",
              "          0,    0,    0,    0,    0,    0,    0,    0,    0,    0,    0,\n",
              "          0,    0,    0,    0,    0,    0,    0,    0,    0,    0,    0,\n",
              "          0,    0,    0,    0,    0,    0,    0,    0,    0,    0,    0,\n",
              "          0,    0,    0,    0,    0,    0,    0,    0,    0,    0,    0,\n",
              "          0,    0,    0,    0,    0,    0,    0,    0,    0,    0,    0,\n",
              "          0,    0,    0,    0,    0,    0,    0,    0,    0,    0,    0,\n",
              "          0,    0,    0,    0,    0,    0,    0,    0,    0,    0,    0,\n",
              "          0,    0,    0,    0,    0,    0,    0,    0,    0,    0,    0,\n",
              "          0,    0,    0,    0,    0,    0,    0,    0,    0,    0,    0,\n",
              "          0,    0,    0,    0,    0,    0,    0,    0,    0,    0,    0,\n",
              "          0,    0,    0,    0,    0,    0,    0,    0,    0,    0,    0,\n",
              "          0,    0,    0,    0,    0,    0,    0,    0,    0,    0,    0,\n",
              "          0,    0,    0,    0,    0,    0,    0,    0,    0,    0,    0,\n",
              "          0,    0,    0,    0,    0,    0,    0,    0,    0,    0,    0,\n",
              "          0,    0,    0,    0,    0,    0,    0,    0,    0,    0,    0,\n",
              "          0,    0,    0,    0,    0,    0,    0,    0,    0,    0,    0,\n",
              "          0,    0,    0,    0,    0,    0,    0,    0,    0,    0,    0,\n",
              "          0,    0,    0,    0,    0,    0,    0,    0,    0,    0,    0,\n",
              "          0,    0,    0,    0,    0,    0,    0,    0,    0,    0,    0,\n",
              "          0,    0,    0,    0,    0,    0,    0,    0,    0,    0,    0,\n",
              "          0,    0,    0,    0,    0,    0,    0,    0,    0,    0,    0,\n",
              "          0,    0,    0,    0,    0,    0,    0,    0,    0,    0,    0,\n",
              "          0,    0,    0,    0,    0,    0,    0,    0,    0,    0,    0,\n",
              "          0,    0,    0,    0,    0,    0,    0,    0,    0,    0,    0,\n",
              "          0,    0,    0,    0,    0,    0,    0,    0,    0,    0,    0,\n",
              "          0,    0,    0,    0,    0,    0,    0,    0,    0,    0,    0,\n",
              "          0,    0,    0,    0,    0,    0,    0,    0,    0,    0,    0,\n",
              "          0,    0,    0,    0,    0,    0,    0,    0,    0,    0,    0,\n",
              "          0,    0,    0,    0,    0,    0,    0,    0,    0,    0,    0,\n",
              "          0,    0,    0,    0,    0,    0,    0,    0,    0,    0,    0,\n",
              "          0,    0,    0,    0,    0,    0,    0,    0,    0,    0,    0,\n",
              "          0,    0,    0,    0,    0,    0,    0,    0,    0,    0,    0,\n",
              "          0,    0,    0,    0,    0,    0,    0,    0,    0,    0,    0,\n",
              "          0,    0,    0,    0,    0,    0,    0,    0,    0,    0,    0,\n",
              "          0,    0,    0,    0,    0,    0,    0,    0,    0,    0,    0,\n",
              "          0,    0,    0,    0,    0,    0,    0,    0,    0,    0,    0,\n",
              "          0,    0,    0,    0,    0,    0,    0,    0,    0,    0,    0,\n",
              "          0,    0,    0,    0,    0,    0,    0,    0,    0,    0,    0,\n",
              "          0,    0,    0,    0,    0,    0,    0,    0,    0,    0,    0,\n",
              "          0,    0,    0,    0,    0,    0,    0,    0,    0,    0,    0,\n",
              "          0,    0,    0,    0,    0,    0,    0,    0,    0,    0,    0,\n",
              "          0,    0,    0,    0,    0,    0,    0,    0,    0,    0,    0,\n",
              "          0,    0,    0,    0,    0,    0,    0,    0,    0,    0,    0,\n",
              "          0,    0,    0,    0,    0,    0,    0,    0,    0,    0,    0,\n",
              "          0,    0,    0,    0,    0,    0,    0,    0,    0,    0,    0,\n",
              "          0,    0,    0,    0,    0,    0,    0,    0,    0,    0,    0,\n",
              "          0,    0,    0,    0,    0,    0,    0,    0,    0,    0,    0,\n",
              "          0,    0,    0,    0,    0,    0,    0,    0,    0,    0,    0,\n",
              "          0,    0,    0,    0,    0,    0,    0,    0,    0,    0,    0,\n",
              "          0,    0,    0,    0,    0,    0,    0,    0,    0,    0,    0,\n",
              "          0,    0,    0,    0,    0,    0,    0,    0,    0,    0,    0,\n",
              "          0,    0,    0,    0,    0,    0,    0,    0,    0,    0,    0,\n",
              "          0,    0,    0,    0,    0,    0,    0,    0,    0,    0,    0,\n",
              "          0,    0,    0,    0,    0,    0,    0,    0,    0,    0,    0,\n",
              "          0,    0,    0,    0,    0,    0,    0,    0,    0,    0,    0,\n",
              "          0,    0,    0,    0,    0,    0,    0,    0,    0,    0,    0,\n",
              "          0,    0,    0,    0,    0,    0,    0,    0,    0,    0,    0,\n",
              "          0,    0,    0,    0,    0,    0,    0,    0,    0,    0,    0,\n",
              "          0,    0,    0,    0,    0,    0,    0,    0,    0,    0,    0,\n",
              "          0,    0,    0,    0,    0,    0,    0,    0,    0,    0,    0,\n",
              "          0,    0,    0,    0,    0,    0,    0,    0,    0,    0,    0,\n",
              "          0,    0,    0,    0,    0,    0,    0,    0,    0,    0,    0,\n",
              "          0,    0,    0,    0,    0,    0,    0,    0,    0,    0,    0,\n",
              "          0,    0,    0,    0,    0,    0,    0,    0,    0,    0,    0,\n",
              "          0,    0,    0,    0,    0,    0,    0,    0,    0,    0,    0,\n",
              "          0,    0,    0,    0,    0,    0,    0,    0,    0,    0,    0,\n",
              "          0,    0,    0,    0,    0,    0,    0,    0,    0,    0,    0,\n",
              "          0,    0,    0,    0,    0,    0,    0,    0,    0,    0,    0,\n",
              "          0,    0,    0,    0,    0,    0,    0,    0,    0,    0,    0,\n",
              "          0,    0,    0,    0,    0,    0,    0,    0,    0,    0,    0,\n",
              "          0,    0,    0,    0,    0,    0,    0,    0,    0,    0,    0,\n",
              "          0,    0,    0,    0,    0,    0,    0,    0,    0,    0,    0,\n",
              "          0,    0,    0,    0,    0,    0,    0,    0,    0,    0,    0,\n",
              "          0,    0,    0,    0,    0,    0,    0,    0,    0,    0,    0,\n",
              "          0,    0,    0,    0,    0,    0,    0,    0,    0,    0,    0,\n",
              "          0,    0,    0,    0,    0,    0,    0,    0,    0,    0,    0,\n",
              "          0,    0,    0,    0,    0,    0,    0,    0,    0,    0,    0,\n",
              "          0,    0,    0,    0,    0,    0,    0,    0,    0,    0,    0,\n",
              "          0, 3635,   38,   17,   67,  491, 1441,   22,   12,    9,  631,\n",
              "         26,  295,    2,   81,  982,   36,  475,   62,   45,  841, 3096,\n",
              "       1277,   17, 4573, 2635,  900, 2167,    6,   20,  475,   62,   69,\n",
              "        956,   64,   58,   86,  220,  215,  744, 1832,    5,  176, 4757,\n",
              "        176,    6,    6,  173,   94,  860,  108,  662,   62,   54],\n",
              "      dtype=int32)"
            ]
          },
          "metadata": {},
          "execution_count": 11
        }
      ]
    },
    {
      "cell_type": "code",
      "metadata": {
        "colab": {
          "base_uri": "https://localhost:8080/"
        },
        "id": "kUFdA3iABFts",
        "outputId": "0809e2e2-853d-44c3-81d4-c98e9b6fac77"
      },
      "source": [
        "labels=np.asarray(data_clean['GenreID'])\n",
        "labels=to_categorical(labels,num_classes=4)\n",
        "print('Label:',labels.shape)\n",
        "labels"
      ],
      "execution_count": 9,
      "outputs": [
        {
          "output_type": "stream",
          "name": "stdout",
          "text": [
            "Label: (12608, 4)\n"
          ]
        },
        {
          "output_type": "execute_result",
          "data": {
            "text/plain": [
              "array([[1., 0., 0., 0.],\n",
              "       [0., 1., 0., 0.],\n",
              "       [0., 1., 0., 0.],\n",
              "       ...,\n",
              "       [0., 1., 0., 0.],\n",
              "       [0., 0., 0., 1.],\n",
              "       [0., 1., 0., 0.]], dtype=float32)"
            ]
          },
          "metadata": {},
          "execution_count": 9
        }
      ]
    },
    {
      "cell_type": "code",
      "metadata": {
        "id": "9hsYwDz2BHf2"
      },
      "source": [
        "X_train,X_val,y_train,y_val=train_test_split(data,labels,test_size=0.25,random_state=42)"
      ],
      "execution_count": 39,
      "outputs": []
    },
    {
      "cell_type": "code",
      "metadata": {
        "colab": {
          "base_uri": "https://localhost:8080/"
        },
        "id": "jG3exed3BN26",
        "outputId": "71323f93-9052-4a6e-c69b-7e73a2c85c23"
      },
      "source": [
        "embedding_dim=100\n",
        "model=Sequential()\n",
        "model.add(Embedding(input_dim=max_num_words,output_dim=embedding_dim,input_length=data.shape[1]))\n",
        "model.add(SpatialDropout1D(0.3))\n",
        "# model.add(Conv1D(filters=64, kernel_size=3, padding='same', activation='relu'))\n",
        "# model.add(Dropout(0.3))\n",
        "model.add(LSTM(10))\n",
        "model.add(Dropout(0.5))\n",
        "model.add(BatchNormalization())\n",
        "# model.add(LSTM(64,return_sequences=True))\n",
        "# model.add(Dropout(0.1))\n",
        "# model.add(BatchNormalization())\n",
        "# model.add(LSTM(64,return_sequences=True))\n",
        "# model.add(Dropout(0.2))\n",
        "# model.add(BatchNormalization())\n",
        "# model.add(LSTM(32))\n",
        "# model.add(Dropout(0.2))\n",
        "# model.add(BatchNormalization())\n",
        "# model.add(Dense(64, activation='relu'))\n",
        "# model.add(Dropout(0.2))\n",
        "# model.add(Dense(32, activation='relu'))\n",
        "# model.add(Dropout(0.6))\n",
        "model.add(Dense(16, activation='relu'))\n",
        "model.add(Dropout(0.5))\n",
        "# model.add(Dense(8, activation='relu'))\n",
        "# model.add(Dropout(0.5))\n",
        "model.add(Dense(4, activation='softmax'))\n",
        "model.compile(loss='categorical_crossentropy',optimizer=optimizers.Adam(learning_rate=1e-3,decay=1e-6),metrics=['categorical_accuracy'])\n",
        "model.summary()\n",
        "# 32,kernel_regularizer=l2(0.001),input_shape=(X_train.shape[1:]),activation='tanh'"
      ],
      "execution_count": 55,
      "outputs": [
        {
          "output_type": "stream",
          "name": "stdout",
          "text": [
            "Model: \"sequential_6\"\n",
            "_________________________________________________________________\n",
            "Layer (type)                 Output Shape              Param #   \n",
            "=================================================================\n",
            "embedding_6 (Embedding)      (None, 1000, 100)         500000    \n",
            "_________________________________________________________________\n",
            "spatial_dropout1d_6 (Spatial (None, 1000, 100)         0         \n",
            "_________________________________________________________________\n",
            "lstm_6 (LSTM)                (None, 10)                4440      \n",
            "_________________________________________________________________\n",
            "dropout_10 (Dropout)         (None, 10)                0         \n",
            "_________________________________________________________________\n",
            "batch_normalization_6 (Batch (None, 10)                40        \n",
            "_________________________________________________________________\n",
            "dense_10 (Dense)             (None, 16)                176       \n",
            "_________________________________________________________________\n",
            "dropout_11 (Dropout)         (None, 16)                0         \n",
            "_________________________________________________________________\n",
            "dense_11 (Dense)             (None, 4)                 68        \n",
            "=================================================================\n",
            "Total params: 504,724\n",
            "Trainable params: 504,704\n",
            "Non-trainable params: 20\n",
            "_________________________________________________________________\n"
          ]
        }
      ]
    },
    {
      "cell_type": "code",
      "metadata": {
        "colab": {
          "base_uri": "https://localhost:8080/"
        },
        "id": "ji2g0RrpBkLM",
        "outputId": "5e34a596-ec2a-4dbd-c753-98a18428a52e"
      },
      "source": [
        "filepath=\"MovieGenrePredictionUsingPlotSummariesmodel1.h5\"\n",
        "checkpoint = ModelCheckpoint(filepath, save_best_only=True)\n",
        "callbacks_list = [checkpoint]\n",
        "len(X_train),len(X_val)"
      ],
      "execution_count": 56,
      "outputs": [
        {
          "output_type": "execute_result",
          "data": {
            "text/plain": [
              "(10086, 2522)"
            ]
          },
          "metadata": {},
          "execution_count": 56
        }
      ]
    },
    {
      "cell_type": "code",
      "metadata": {
        "colab": {
          "base_uri": "https://localhost:8080/"
        },
        "id": "TyE29PkVBmmJ",
        "outputId": "27c4b607-4f35-4934-c640-ef25b213fde6"
      },
      "source": [
        "history=model.fit(X_train,y_train, epochs=20, callbacks=callbacks_list, batch_size=32, validation_data=(X_val,y_val))"
      ],
      "execution_count": 57,
      "outputs": [
        {
          "output_type": "stream",
          "name": "stdout",
          "text": [
            "Epoch 1/20\n",
            "316/316 [==============================] - 45s 134ms/step - loss: 1.2526 - categorical_accuracy: 0.4188 - val_loss: 1.1834 - val_categorical_accuracy: 0.4647\n",
            "Epoch 2/20\n",
            "316/316 [==============================] - 42s 132ms/step - loss: 1.0990 - categorical_accuracy: 0.4826 - val_loss: 1.0051 - val_categorical_accuracy: 0.5492\n",
            "Epoch 3/20\n",
            "316/316 [==============================] - 42s 132ms/step - loss: 0.9648 - categorical_accuracy: 0.5467 - val_loss: 0.9112 - val_categorical_accuracy: 0.6253\n",
            "Epoch 4/20\n",
            "316/316 [==============================] - 42s 133ms/step - loss: 0.8399 - categorical_accuracy: 0.6396 - val_loss: 0.8873 - val_categorical_accuracy: 0.6368\n",
            "Epoch 5/20\n",
            "316/316 [==============================] - 42s 133ms/step - loss: 0.7579 - categorical_accuracy: 0.6890 - val_loss: 0.9177 - val_categorical_accuracy: 0.6384\n",
            "Epoch 6/20\n",
            "316/316 [==============================] - 42s 133ms/step - loss: 0.7011 - categorical_accuracy: 0.7093 - val_loss: 0.9336 - val_categorical_accuracy: 0.6376\n",
            "Epoch 7/20\n",
            "316/316 [==============================] - 42s 132ms/step - loss: 0.6569 - categorical_accuracy: 0.7369 - val_loss: 0.9791 - val_categorical_accuracy: 0.6328\n",
            "Epoch 8/20\n",
            "316/316 [==============================] - 42s 132ms/step - loss: 0.6227 - categorical_accuracy: 0.7463 - val_loss: 1.0089 - val_categorical_accuracy: 0.6166\n",
            "Epoch 9/20\n",
            "316/316 [==============================] - 42s 133ms/step - loss: 0.5967 - categorical_accuracy: 0.7592 - val_loss: 1.0312 - val_categorical_accuracy: 0.6075\n",
            "Epoch 10/20\n",
            "316/316 [==============================] - 42s 133ms/step - loss: 0.5728 - categorical_accuracy: 0.7731 - val_loss: 1.1574 - val_categorical_accuracy: 0.6305\n",
            "Epoch 11/20\n",
            "316/316 [==============================] - 42s 133ms/step - loss: 0.5551 - categorical_accuracy: 0.7829 - val_loss: 1.2241 - val_categorical_accuracy: 0.6332\n",
            "Epoch 12/20\n",
            "316/316 [==============================] - 42s 132ms/step - loss: 0.5322 - categorical_accuracy: 0.7896 - val_loss: 1.2414 - val_categorical_accuracy: 0.6297\n",
            "Epoch 13/20\n",
            "316/316 [==============================] - 42s 132ms/step - loss: 0.5208 - categorical_accuracy: 0.7950 - val_loss: 1.3067 - val_categorical_accuracy: 0.6312\n",
            "Epoch 14/20\n",
            "316/316 [==============================] - 42s 132ms/step - loss: 0.4986 - categorical_accuracy: 0.8037 - val_loss: 1.2638 - val_categorical_accuracy: 0.6245\n",
            "Epoch 15/20\n",
            "316/316 [==============================] - 42s 132ms/step - loss: 0.4772 - categorical_accuracy: 0.8131 - val_loss: 1.3715 - val_categorical_accuracy: 0.6316\n",
            "Epoch 16/20\n",
            "316/316 [==============================] - 42s 132ms/step - loss: 0.4578 - categorical_accuracy: 0.8194 - val_loss: 1.4462 - val_categorical_accuracy: 0.6273\n",
            "Epoch 17/20\n",
            "316/316 [==============================] - 42s 132ms/step - loss: 0.4527 - categorical_accuracy: 0.8143 - val_loss: 1.4410 - val_categorical_accuracy: 0.6182\n",
            "Epoch 18/20\n",
            "316/316 [==============================] - 42s 133ms/step - loss: 0.4318 - categorical_accuracy: 0.8194 - val_loss: 1.4630 - val_categorical_accuracy: 0.6217\n",
            "Epoch 19/20\n",
            "316/316 [==============================] - 42s 133ms/step - loss: 0.4398 - categorical_accuracy: 0.8272 - val_loss: 1.4010 - val_categorical_accuracy: 0.6102\n",
            "Epoch 20/20\n",
            "316/316 [==============================] - 42s 132ms/step - loss: 0.4202 - categorical_accuracy: 0.8345 - val_loss: 1.5835 - val_categorical_accuracy: 0.6134\n"
          ]
        }
      ]
    },
    {
      "cell_type": "code",
      "metadata": {
        "colab": {
          "base_uri": "https://localhost:8080/",
          "height": 573
        },
        "id": "T-hiZGg2BpAO",
        "outputId": "224ceb1b-abfd-4158-cfa8-106f9944df9e"
      },
      "source": [
        "acc=history.history['categorical_accuracy']\n",
        "val_acc=history.history['val_categorical_accuracy']\n",
        "loss=history.history['loss']\n",
        "val_loss=history.history['val_loss']\n",
        "epochs=range(1,len(acc)+1)\n",
        "plt.xlabel('Epochs')\n",
        "plt.ylabel('Accuracy')\n",
        "plt.plot(epochs, acc, 'bo', label='Training acc')\n",
        "plt.plot(epochs, val_acc, 'b', label='Validation acc')\n",
        "plt.title('Training and validation accuracy')\n",
        "plt.legend()\n",
        "plt.figure()\n",
        "\n",
        "plt.plot(epochs, loss, 'bo', label='Training loss')\n",
        "plt.plot(epochs, val_loss, 'b', label='Validation loss')\n",
        "plt.title('Training and validation loss')\n",
        "plt.xlabel('Epochs')\n",
        "plt.ylabel('Loss')\n",
        "plt.legend()\n",
        "plt.show()"
      ],
      "execution_count": 58,
      "outputs": [
        {
          "output_type": "display_data",
          "data": {
            "image/png": "[encoded data removed]",
            "text/plain": [
              "<Figure size 432x288 with 1 Axes>"
            ]
          },
          "metadata": {
            "needs_background": "light"
          }
        },
        {
          "output_type": "display_data",
          "data": {
            "image/png": "[encoded data removed]",
            "text/plain": [
              "<Figure size 432x288 with 1 Axes>"
            ]
          },
          "metadata": {
            "needs_background": "light"
          }
        }
      ]
    },
    {
      "cell_type": "code",
      "metadata": {
        "id": "TxuUkqx6B3u3"
      },
      "source": [
        "from tensorflow.python.keras.models import load_model\n",
        "\n",
        "best_model = load_model('MovieGenrePredictionUsingPlotSummariesmodel1.h5')"
      ],
      "execution_count": 59,
      "outputs": []
    },
    {
      "cell_type": "code",
      "metadata": {
        "colab": {
          "base_uri": "https://localhost:8080/"
        },
        "id": "Ks-tcIWqB7A0",
        "outputId": "20883630-e4cf-487f-f1bb-b8338292418d"
      },
      "source": [
        "batch_size=32\n",
        "steps_test=int(len(X_val)/batch_size)\n",
        "result = best_model.evaluate(X_val, y_val, steps=steps_test,verbose=1)\n",
        "print(\"Validation-set accuracy: {0:.2%}\".format(result[1]))"
      ],
      "execution_count": 60,
      "outputs": [
        {
          "output_type": "stream",
          "name": "stdout",
          "text": [
            "76/78 [============================>.] - ETA: 0s - loss: 0.8850 - categorical_accuracy: 0.6388WARNING:tensorflow:Your input ran out of data; interrupting training. Make sure that your dataset or generator can generate at least `steps_per_epoch * epochs` batches (in this case, 78 batches). You may need to use the repeat() function when building your dataset.\n"
          ]
        },
        {
          "output_type": "stream",
          "name": "stderr",
          "text": [
            "WARNING:tensorflow:Your input ran out of data; interrupting training. Make sure that your dataset or generator can generate at least `steps_per_epoch * epochs` batches (in this case, 78 batches). You may need to use the repeat() function when building your dataset.\n"
          ]
        },
        {
          "output_type": "stream",
          "name": "stdout",
          "text": [
            "\b\b\b\b\b\b\b\b\b\b\b\b\b\b\b\b\b\b\b\b\b\b\b\b\b\b\b\b\b\b\b\b\b\b\b\b\b\b\b\b\b\b\b\b\b\b\b\b\b\b\b\b\b\b\b\b\b\b\b\b\b\b\b\b\b\b\b\b\b\b\b\b\b\b\b\b\b\b\b\b\b\b\b\b\b\b\b\b\b\b\b\b\b\b\r78/78 [==============================] - 4s 51ms/step - loss: 0.8873 - categorical_accuracy: 0.6368\n",
            "Validation-set accuracy: 63.68%\n"
          ]
        }
      ]
    },
    {
      "cell_type": "code",
      "metadata": {
        "colab": {
          "base_uri": "https://localhost:8080/"
        },
        "id": "NY2aEtafB8jY",
        "outputId": "0956f7be-a307-4abd-8025-e3dbabbcfe47"
      },
      "source": [
        "best_model.save('fypmodel{:.2%}.h5'.format(result[1]))\n",
        "name='fypmodel{:.2%}.tflite'.format(result[1])\n",
        "converter = tf.lite.TFLiteConverter.from_keras_model(best_model) # path to the SavedModel directory\n",
        "tflite_model = converter.convert()\n",
        "\n",
        "# Save the model.\n",
        "with open(name, 'wb') as f:\n",
        "    f.write(tflite_model)"
      ],
      "execution_count": 61,
      "outputs": [
        {
          "output_type": "stream",
          "name": "stderr",
          "text": [
            "WARNING:absl:Found untraced functions such as lstm_cell_4_layer_call_fn, lstm_cell_4_layer_call_and_return_conditional_losses, lstm_cell_4_layer_call_fn, lstm_cell_4_layer_call_and_return_conditional_losses, lstm_cell_4_layer_call_and_return_conditional_losses while saving (showing 5 of 5). These functions will not be directly callable after loading.\n"
          ]
        },
        {
          "output_type": "stream",
          "name": "stdout",
          "text": [
            "INFO:tensorflow:Assets written to: /tmp/tmpea4pena7/assets\n"
          ]
        },
        {
          "output_type": "stream",
          "name": "stderr",
          "text": [
            "INFO:tensorflow:Assets written to: /tmp/tmpea4pena7/assets\n"
          ]
        }
      ]
    },
    {
      "cell_type": "code",
      "metadata": {
        "colab": {
          "base_uri": "https://localhost:8080/"
        },
        "id": "RaCOMXHVB_yN",
        "outputId": "4247baed-99cc-4c16-a858-42641e9c081d"
      },
      "source": [
        "preds = best_model.predict(X_val, batch_size=128,verbose=1)\n",
        "preds=np.around(preds)\n",
        "\n",
        "orig_val_labels=np.argmax(y_val,axis=1)\n",
        "predicted_labels=np.argmax(preds,axis=1)\n",
        "\n",
        "orig_val_labels=np.reshape(orig_val_labels,(len(X_val),1))\n",
        "predicted_labels=np.reshape(predicted_labels,(len(X_val),1))\n",
        "\n",
        "print(predicted_labels.shape)\n",
        "print(orig_val_labels.shape)"
      ],
      "execution_count": 49,
      "outputs": [
        {
          "output_type": "stream",
          "name": "stdout",
          "text": [
            "20/20 [==============================] - 1s 40ms/step\n",
            "(2522, 1)\n",
            "(2522, 1)\n"
          ]
        }
      ]
    },
    {
      "cell_type": "code",
      "metadata": {
        "colab": {
          "base_uri": "https://localhost:8080/",
          "height": 629
        },
        "id": "S_pNwa1oCCAJ",
        "outputId": "e7042364-d443-446b-e53d-6c0863bec75c"
      },
      "source": [
        "%matplotlib inline\n",
        "# Get the confusion matrix\n",
        "from sklearn.metrics import confusion_matrix\n",
        "from mlxtend.plotting import plot_confusion_matrix\n",
        "\n",
        "cm  = confusion_matrix(orig_val_labels, predicted_labels)\n",
        "plt.figure()\n",
        "plot_confusion_matrix(cm,figsize=(15,10), hide_ticks=True,cmap=plt.cm.Blues)\n",
        "plt.xticks(range(4), ['drama','comedy','action','horror'], fontsize=16)\n",
        "plt.yticks(range(4), ['drama','comedy','action','horror'], fontsize=16)\n",
        "plt.show()"
      ],
      "execution_count": 50,
      "outputs": [
        {
          "output_type": "display_data",
          "data": {
            "text/plain": [
              "<Figure size 432x288 with 0 Axes>"
            ]
          },
          "metadata": {}
        },
        {
          "output_type": "display_data",
          "data": {
            "image/png": "[encoded data removed]",
            "text/plain": [
              "<Figure size 1080x720 with 1 Axes>"
            ]
          },
          "metadata": {
            "needs_background": "light"
          }
        }
      ]
    },
    {
      "cell_type": "code",
      "metadata": {
        "colab": {
          "base_uri": "https://localhost:8080/"
        },
        "id": "Fff7OwkhCEfl",
        "outputId": "af6cd3da-c310-4977-c690-7cb307cf2fe6"
      },
      "source": [
        "MainGenres=['drama','comedy','action','horror']\n",
        "print(classification_report(orig_val_labels,predicted_labels,target_names=MainGenres))"
      ],
      "execution_count": 51,
      "outputs": [
        {
          "output_type": "stream",
          "name": "stdout",
          "text": [
            "              precision    recall  f1-score   support\n",
            "\n",
            "       drama       0.61      0.86      0.71      1173\n",
            "      comedy       0.73      0.53      0.62       878\n",
            "      action       0.00      0.00      0.00       216\n",
            "      horror       0.73      0.62      0.67       255\n",
            "\n",
            "    accuracy                           0.65      2522\n",
            "   macro avg       0.52      0.50      0.50      2522\n",
            "weighted avg       0.61      0.65      0.61      2522\n",
            "\n"
          ]
        },
        {
          "output_type": "stream",
          "name": "stderr",
          "text": [
            "/usr/local/lib/python3.7/dist-packages/sklearn/metrics/_classification.py:1272: UndefinedMetricWarning: Precision and F-score are ill-defined and being set to 0.0 in labels with no predicted samples. Use `zero_division` parameter to control this behavior.\n",
            "  _warn_prf(average, modifier, msg_start, len(result))\n"
          ]
        }
      ]
    },
    {
      "cell_type": "code",
      "metadata": {
        "id": "sE5zKLikSotT"
      },
      "source": [
        ""
      ],
      "execution_count": null,
      "outputs": []
    },
    {
      "cell_type": "code",
      "metadata": {
        "id": "QNeYD5hybnCb"
      },
      "source": [
        ""
      ],
      "execution_count": null,
      "outputs": []
    }
  ]
}