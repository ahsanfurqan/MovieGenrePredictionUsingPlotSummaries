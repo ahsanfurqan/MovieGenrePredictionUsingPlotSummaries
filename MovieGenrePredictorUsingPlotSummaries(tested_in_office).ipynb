{
  "cells": [
    {
      "cell_type": "code",
      "execution_count": 1,
      "metadata": {
        "id": "1WQ3WnBE__pe"
      },
      "outputs": [],
      "source": [
        "import tensorflow as tf\n",
        "import pandas as pd\n",
        "import numpy as np\n",
        "import nltk\n",
        "from nltk.tokenize import word_tokenize \n",
        "from nltk.stem.porter import PorterStemmer\n",
        "from nltk.stem import WordNetLemmatizer\n",
        "from nltk.corpus import stopwords\n",
        "import re\n",
        "import matplotlib.pyplot as plt\n",
        "from sklearn.model_selection import train_test_split\n",
        "from sklearn.metrics import classification_report\n",
        "from tensorflow.keras.preprocessing.text import Tokenizer\n",
        "from tensorflow.keras.preprocessing.sequence import pad_sequences\n",
        "from tensorflow.keras.utils import to_categorical\n",
        "from tensorflow.keras.layers import LSTM,Dropout,Activation,Bidirectional,Embedding,Dense,Flatten,GlobalMaxPooling1D,SpatialDropout1D\n",
        "from tensorflow.keras.layers import Conv1D,BatchNormalization\n",
        "from tensorflow.keras.models import Sequential\n",
        "from tensorflow.keras import optimizers\n",
        "from tensorflow.keras.callbacks import ModelCheckpoint\n",
        "import os\n",
        "from gensim.models import Word2Vec, KeyedVectors\n",
        "import tensorflow_hub as hub\n",
        "from tensorflow.keras.regularizers import l2"
      ]
    },
    {
      "cell_type": "code",
      "execution_count": 2,
      "metadata": {
        "colab": {
          "base_uri": "https://localhost:8080/",
          "height": 53
        },
        "id": "QzI7XcetAGM7",
        "outputId": "19777fbb-e715-42b5-a626-f64ec4c94506"
      },
      "outputs": [
        {
          "output_type": "stream",
          "name": "stdout",
          "text": [
            "Mounted at /content/gdrive\n"
          ]
        },
        {
          "output_type": "execute_result",
          "data": {
            "application/vnd.google.colaboratory.intrinsic+json": {
              "type": "string"
            },
            "text/plain": [
              "'2.7.0'"
            ]
          },
          "metadata": {},
          "execution_count": 2
        }
      ],
      "source": [
        "from google.colab import drive\n",
        "drive.mount('/content/gdrive')\n",
        "tf.__version__"
      ]
    },
    {
      "cell_type": "code",
      "execution_count": 3,
      "metadata": {
        "colab": {
          "base_uri": "https://localhost:8080/",
          "height": 206
        },
        "id": "OufZh0iJG5Wl",
        "outputId": "ded27eaf-45f0-40d6-99ad-aa54b92b3691"
      },
      "outputs": [
        {
          "output_type": "execute_result",
          "data": {
            "text/html": [
              "\n",
              "  <div id=\"df-0ec3e1af-8871-4bb6-908f-fdccf1aeffc4\">\n",
              "    <div class=\"colab-df-container\">\n",
              "      <div>\n",
              "<style scoped>\n",
              "    .dataframe tbody tr th:only-of-type {\n",
              "        vertical-align: middle;\n",
              "    }\n",
              "\n",
              "    .dataframe tbody tr th {\n",
              "        vertical-align: top;\n",
              "    }\n",
              "\n",
              "    .dataframe thead th {\n",
              "        text-align: right;\n",
              "    }\n",
              "</style>\n",
              "<table border=\"1\" class=\"dataframe\">\n",
              "  <thead>\n",
              "    <tr style=\"text-align: right;\">\n",
              "      <th></th>\n",
              "      <th>S.No.</th>\n",
              "      <th>Movie Name</th>\n",
              "      <th>Director Name</th>\n",
              "      <th>Release Year</th>\n",
              "      <th>Genre</th>\n",
              "      <th>Summary</th>\n",
              "    </tr>\n",
              "  </thead>\n",
              "  <tbody>\n",
              "    <tr>\n",
              "      <th>0</th>\n",
              "      <td>1</td>\n",
              "      <td>Dune</td>\n",
              "      <td>Denis Villeneuve</td>\n",
              "      <td>2021</td>\n",
              "      <td>Action</td>\n",
              "      <td>Paul Atreides, a brilliant and gifted young ma...</td>\n",
              "    </tr>\n",
              "    <tr>\n",
              "      <th>1</th>\n",
              "      <td>2</td>\n",
              "      <td>Eternals</td>\n",
              "      <td>Chloé Zhao</td>\n",
              "      <td>2021</td>\n",
              "      <td>Action</td>\n",
              "      <td>The Eternals, a race of immortal beings with s...</td>\n",
              "    </tr>\n",
              "    <tr>\n",
              "      <th>2</th>\n",
              "      <td>3</td>\n",
              "      <td>No Time To Die</td>\n",
              "      <td>Cary Joji Fukunaga</td>\n",
              "      <td>2021</td>\n",
              "      <td>Action</td>\n",
              "      <td>James Bond is enjoying a tranquil life in Jama...</td>\n",
              "    </tr>\n",
              "    <tr>\n",
              "      <th>3</th>\n",
              "      <td>4</td>\n",
              "      <td>Halloween Kills</td>\n",
              "      <td>David Gordon Green</td>\n",
              "      <td>2021</td>\n",
              "      <td>Horror</td>\n",
              "      <td>The nightmare isn't over as unstoppable killer...</td>\n",
              "    </tr>\n",
              "    <tr>\n",
              "      <th>4</th>\n",
              "      <td>5</td>\n",
              "      <td>The French Dispatch</td>\n",
              "      <td>Wes Anderson</td>\n",
              "      <td>2021</td>\n",
              "      <td>Comedy</td>\n",
              "      <td>A love letter to journalists set in an outpost...</td>\n",
              "    </tr>\n",
              "  </tbody>\n",
              "</table>\n",
              "</div>\n",
              "      <button class=\"colab-df-convert\" onclick=\"convertToInteractive('df-0ec3e1af-8871-4bb6-908f-fdccf1aeffc4')\"\n",
              "              title=\"Convert this dataframe to an interactive table.\"\n",
              "              style=\"display:none;\">\n",
              "        \n",
              "  <svg xmlns=\"http://www.w3.org/2000/svg\" height=\"24px\"viewBox=\"0 0 24 24\"\n",
              "       width=\"24px\">\n",
              "    <path d=\"M0 0h24v24H0V0z\" fill=\"none\"/>\n",
              "    <path d=\"M18.56 5.44l.94 2.06.94-2.06 2.06-.94-2.06-.94-.94-2.06-.94 2.06-2.06.94zm-11 1L8.5 8.5l.94-2.06 2.06-.94-2.06-.94L8.5 2.5l-.94 2.06-2.06.94zm10 10l.94 2.06.94-2.06 2.06-.94-2.06-.94-.94-2.06-.94 2.06-2.06.94z\"/><path d=\"M17.41 7.96l-1.37-1.37c-.4-.4-.92-.59-1.43-.59-.52 0-1.04.2-1.43.59L10.3 9.45l-7.72 7.72c-.78.78-.78 2.05 0 2.83L4 21.41c.39.39.9.59 1.41.59.51 0 1.02-.2 1.41-.59l7.78-7.78 2.81-2.81c.8-.78.8-2.07 0-2.86zM5.41 20L4 18.59l7.72-7.72 1.47 1.35L5.41 20z\"/>\n",
              "  </svg>\n",
              "      </button>\n",
              "      \n",
              "  <style>\n",
              "    .colab-df-container {\n",
              "      display:flex;\n",
              "      flex-wrap:wrap;\n",
              "      gap: 12px;\n",
              "    }\n",
              "\n",
              "    .colab-df-convert {\n",
              "      background-color: #E8F0FE;\n",
              "      border: none;\n",
              "      border-radius: 50%;\n",
              "      cursor: pointer;\n",
              "      display: none;\n",
              "      fill: #1967D2;\n",
              "      height: 32px;\n",
              "      padding: 0 0 0 0;\n",
              "      width: 32px;\n",
              "    }\n",
              "\n",
              "    .colab-df-convert:hover {\n",
              "      background-color: #E2EBFA;\n",
              "      box-shadow: 0px 1px 2px rgba(60, 64, 67, 0.3), 0px 1px 3px 1px rgba(60, 64, 67, 0.15);\n",
              "      fill: #174EA6;\n",
              "    }\n",
              "\n",
              "    [theme=dark] .colab-df-convert {\n",
              "      background-color: #3B4455;\n",
              "      fill: #D2E3FC;\n",
              "    }\n",
              "\n",
              "    [theme=dark] .colab-df-convert:hover {\n",
              "      background-color: #434B5C;\n",
              "      box-shadow: 0px 1px 3px 1px rgba(0, 0, 0, 0.15);\n",
              "      filter: drop-shadow(0px 1px 2px rgba(0, 0, 0, 0.3));\n",
              "      fill: #FFFFFF;\n",
              "    }\n",
              "  </style>\n",
              "\n",
              "      <script>\n",
              "        const buttonEl =\n",
              "          document.querySelector('#df-0ec3e1af-8871-4bb6-908f-fdccf1aeffc4 button.colab-df-convert');\n",
              "        buttonEl.style.display =\n",
              "          google.colab.kernel.accessAllowed ? 'block' : 'none';\n",
              "\n",
              "        async function convertToInteractive(key) {\n",
              "          const element = document.querySelector('#df-0ec3e1af-8871-4bb6-908f-fdccf1aeffc4');\n",
              "          const dataTable =\n",
              "            await google.colab.kernel.invokeFunction('convertToInteractive',\n",
              "                                                     [key], {});\n",
              "          if (!dataTable) return;\n",
              "\n",
              "          const docLinkHtml = 'Like what you see? Visit the ' +\n",
              "            '<a target=\"_blank\" href=https://colab.research.google.com/notebooks/data_table.ipynb>data table notebook</a>'\n",
              "            + ' to learn more about interactive tables.';\n",
              "          element.innerHTML = '';\n",
              "          dataTable['output_type'] = 'display_data';\n",
              "          await google.colab.output.renderOutput(dataTable, element);\n",
              "          const docLink = document.createElement('div');\n",
              "          docLink.innerHTML = docLinkHtml;\n",
              "          element.appendChild(docLink);\n",
              "        }\n",
              "      </script>\n",
              "    </div>\n",
              "  </div>\n",
              "  "
            ],
            "text/plain": [
              "   S.No.  ...                                            Summary\n",
              "0      1  ...  Paul Atreides, a brilliant and gifted young ma...\n",
              "1      2  ...  The Eternals, a race of immortal beings with s...\n",
              "2      3  ...  James Bond is enjoying a tranquil life in Jama...\n",
              "3      4  ...  The nightmare isn't over as unstoppable killer...\n",
              "4      5  ...  A love letter to journalists set in an outpost...\n",
              "\n",
              "[5 rows x 6 columns]"
            ]
          },
          "metadata": {},
          "execution_count": 3
        }
      ],
      "source": [
        "movies=pd.read_csv('/content/gdrive/MyDrive/movies_data.csv',encoding= 'unicode_escape')\n",
        "movies.head()"
      ]
    },
    {
      "cell_type": "code",
      "execution_count": 4,
      "metadata": {
        "colab": {
          "base_uri": "https://localhost:8080/"
        },
        "id": "ulNgadZkHBLI",
        "outputId": "648ff4b1-e82e-4c57-e04b-e92af85ebbe7"
      },
      "outputs": [
        {
          "output_type": "execute_result",
          "data": {
            "text/plain": [
              "3584"
            ]
          },
          "metadata": {},
          "execution_count": 4
        }
      ],
      "source": [
        "MainGenres=['Drama','Comedy','Action','Horror']\n",
        "movies=movies[movies['Genre'].isin(MainGenres)]\n",
        "len(movies)"
      ]
    },
    {
      "cell_type": "code",
      "execution_count": null,
      "metadata": {
        "id": "YxhBdIzKJ4KZ"
      },
      "outputs": [],
      "source": [
        ""
      ]
    },
    {
      "cell_type": "code",
      "execution_count": 5,
      "metadata": {
        "colab": {
          "base_uri": "https://localhost:8080/",
          "height": 206
        },
        "id": "DDhI8IxOHEif",
        "outputId": "ed4fef96-4771-411a-cb39-fd6bf1476049"
      },
      "outputs": [
        {
          "output_type": "execute_result",
          "data": {
            "text/html": [
              "\n",
              "  <div id=\"df-50f2c8a3-46d5-4819-b984-b222084be8fd\">\n",
              "    <div class=\"colab-df-container\">\n",
              "      <div>\n",
              "<style scoped>\n",
              "    .dataframe tbody tr th:only-of-type {\n",
              "        vertical-align: middle;\n",
              "    }\n",
              "\n",
              "    .dataframe tbody tr th {\n",
              "        vertical-align: top;\n",
              "    }\n",
              "\n",
              "    .dataframe thead th {\n",
              "        text-align: right;\n",
              "    }\n",
              "</style>\n",
              "<table border=\"1\" class=\"dataframe\">\n",
              "  <thead>\n",
              "    <tr style=\"text-align: right;\">\n",
              "      <th></th>\n",
              "      <th>index</th>\n",
              "      <th>S.No.</th>\n",
              "      <th>Movie Name</th>\n",
              "      <th>Director Name</th>\n",
              "      <th>Release Year</th>\n",
              "      <th>Genre</th>\n",
              "      <th>Summary</th>\n",
              "    </tr>\n",
              "  </thead>\n",
              "  <tbody>\n",
              "    <tr>\n",
              "      <th>0</th>\n",
              "      <td>0</td>\n",
              "      <td>1</td>\n",
              "      <td>Dune</td>\n",
              "      <td>Denis Villeneuve</td>\n",
              "      <td>2021</td>\n",
              "      <td>Action</td>\n",
              "      <td>Paul Atreides, a brilliant and gifted young ma...</td>\n",
              "    </tr>\n",
              "    <tr>\n",
              "      <th>1</th>\n",
              "      <td>1</td>\n",
              "      <td>2</td>\n",
              "      <td>Eternals</td>\n",
              "      <td>Chloé Zhao</td>\n",
              "      <td>2021</td>\n",
              "      <td>Action</td>\n",
              "      <td>The Eternals, a race of immortal beings with s...</td>\n",
              "    </tr>\n",
              "    <tr>\n",
              "      <th>2</th>\n",
              "      <td>2</td>\n",
              "      <td>3</td>\n",
              "      <td>No Time To Die</td>\n",
              "      <td>Cary Joji Fukunaga</td>\n",
              "      <td>2021</td>\n",
              "      <td>Action</td>\n",
              "      <td>James Bond is enjoying a tranquil life in Jama...</td>\n",
              "    </tr>\n",
              "    <tr>\n",
              "      <th>3</th>\n",
              "      <td>3</td>\n",
              "      <td>4</td>\n",
              "      <td>Halloween Kills</td>\n",
              "      <td>David Gordon Green</td>\n",
              "      <td>2021</td>\n",
              "      <td>Horror</td>\n",
              "      <td>The nightmare isn't over as unstoppable killer...</td>\n",
              "    </tr>\n",
              "    <tr>\n",
              "      <th>4</th>\n",
              "      <td>4</td>\n",
              "      <td>5</td>\n",
              "      <td>The French Dispatch</td>\n",
              "      <td>Wes Anderson</td>\n",
              "      <td>2021</td>\n",
              "      <td>Comedy</td>\n",
              "      <td>A love letter to journalists set in an outpost...</td>\n",
              "    </tr>\n",
              "  </tbody>\n",
              "</table>\n",
              "</div>\n",
              "      <button class=\"colab-df-convert\" onclick=\"convertToInteractive('df-50f2c8a3-46d5-4819-b984-b222084be8fd')\"\n",
              "              title=\"Convert this dataframe to an interactive table.\"\n",
              "              style=\"display:none;\">\n",
              "        \n",
              "  <svg xmlns=\"http://www.w3.org/2000/svg\" height=\"24px\"viewBox=\"0 0 24 24\"\n",
              "       width=\"24px\">\n",
              "    <path d=\"M0 0h24v24H0V0z\" fill=\"none\"/>\n",
              "    <path d=\"M18.56 5.44l.94 2.06.94-2.06 2.06-.94-2.06-.94-.94-2.06-.94 2.06-2.06.94zm-11 1L8.5 8.5l.94-2.06 2.06-.94-2.06-.94L8.5 2.5l-.94 2.06-2.06.94zm10 10l.94 2.06.94-2.06 2.06-.94-2.06-.94-.94-2.06-.94 2.06-2.06.94z\"/><path d=\"M17.41 7.96l-1.37-1.37c-.4-.4-.92-.59-1.43-.59-.52 0-1.04.2-1.43.59L10.3 9.45l-7.72 7.72c-.78.78-.78 2.05 0 2.83L4 21.41c.39.39.9.59 1.41.59.51 0 1.02-.2 1.41-.59l7.78-7.78 2.81-2.81c.8-.78.8-2.07 0-2.86zM5.41 20L4 18.59l7.72-7.72 1.47 1.35L5.41 20z\"/>\n",
              "  </svg>\n",
              "      </button>\n",
              "      \n",
              "  <style>\n",
              "    .colab-df-container {\n",
              "      display:flex;\n",
              "      flex-wrap:wrap;\n",
              "      gap: 12px;\n",
              "    }\n",
              "\n",
              "    .colab-df-convert {\n",
              "      background-color: #E8F0FE;\n",
              "      border: none;\n",
              "      border-radius: 50%;\n",
              "      cursor: pointer;\n",
              "      display: none;\n",
              "      fill: #1967D2;\n",
              "      height: 32px;\n",
              "      padding: 0 0 0 0;\n",
              "      width: 32px;\n",
              "    }\n",
              "\n",
              "    .colab-df-convert:hover {\n",
              "      background-color: #E2EBFA;\n",
              "      box-shadow: 0px 1px 2px rgba(60, 64, 67, 0.3), 0px 1px 3px 1px rgba(60, 64, 67, 0.15);\n",
              "      fill: #174EA6;\n",
              "    }\n",
              "\n",
              "    [theme=dark] .colab-df-convert {\n",
              "      background-color: #3B4455;\n",
              "      fill: #D2E3FC;\n",
              "    }\n",
              "\n",
              "    [theme=dark] .colab-df-convert:hover {\n",
              "      background-color: #434B5C;\n",
              "      box-shadow: 0px 1px 3px 1px rgba(0, 0, 0, 0.15);\n",
              "      filter: drop-shadow(0px 1px 2px rgba(0, 0, 0, 0.3));\n",
              "      fill: #FFFFFF;\n",
              "    }\n",
              "  </style>\n",
              "\n",
              "      <script>\n",
              "        const buttonEl =\n",
              "          document.querySelector('#df-50f2c8a3-46d5-4819-b984-b222084be8fd button.colab-df-convert');\n",
              "        buttonEl.style.display =\n",
              "          google.colab.kernel.accessAllowed ? 'block' : 'none';\n",
              "\n",
              "        async function convertToInteractive(key) {\n",
              "          const element = document.querySelector('#df-50f2c8a3-46d5-4819-b984-b222084be8fd');\n",
              "          const dataTable =\n",
              "            await google.colab.kernel.invokeFunction('convertToInteractive',\n",
              "                                                     [key], {});\n",
              "          if (!dataTable) return;\n",
              "\n",
              "          const docLinkHtml = 'Like what you see? Visit the ' +\n",
              "            '<a target=\"_blank\" href=https://colab.research.google.com/notebooks/data_table.ipynb>data table notebook</a>'\n",
              "            + ' to learn more about interactive tables.';\n",
              "          element.innerHTML = '';\n",
              "          dataTable['output_type'] = 'display_data';\n",
              "          await google.colab.output.renderOutput(dataTable, element);\n",
              "          const docLink = document.createElement('div');\n",
              "          docLink.innerHTML = docLinkHtml;\n",
              "          element.appendChild(docLink);\n",
              "        }\n",
              "      </script>\n",
              "    </div>\n",
              "  </div>\n",
              "  "
            ],
            "text/plain": [
              "   index  S.No.  ...   Genre                                            Summary\n",
              "0      0      1  ...  Action  Paul Atreides, a brilliant and gifted young ma...\n",
              "1      1      2  ...  Action  The Eternals, a race of immortal beings with s...\n",
              "2      2      3  ...  Action  James Bond is enjoying a tranquil life in Jama...\n",
              "3      3      4  ...  Horror  The nightmare isn't over as unstoppable killer...\n",
              "4      4      5  ...  Comedy  A love letter to journalists set in an outpost...\n",
              "\n",
              "[5 rows x 7 columns]"
            ]
          },
          "metadata": {},
          "execution_count": 5
        }
      ],
      "source": [
        "movies=movies.reset_index()\n",
        "movies.head(5)"
      ]
    },
    {
      "cell_type": "code",
      "execution_count": 6,
      "metadata": {
        "colab": {
          "base_uri": "https://localhost:8080/",
          "height": 363
        },
        "id": "9CGk8OsvHKpe",
        "outputId": "6434f1b3-6008-4895-cc1d-1fc12b1cf195"
      },
      "outputs": [
        {
          "output_type": "execute_result",
          "data": {
            "text/html": [
              "\n",
              "  <div id=\"df-1a8b1698-f04d-42d1-b37d-877929e59a75\">\n",
              "    <div class=\"colab-df-container\">\n",
              "      <div>\n",
              "<style scoped>\n",
              "    .dataframe tbody tr th:only-of-type {\n",
              "        vertical-align: middle;\n",
              "    }\n",
              "\n",
              "    .dataframe tbody tr th {\n",
              "        vertical-align: top;\n",
              "    }\n",
              "\n",
              "    .dataframe thead th {\n",
              "        text-align: right;\n",
              "    }\n",
              "</style>\n",
              "<table border=\"1\" class=\"dataframe\">\n",
              "  <thead>\n",
              "    <tr style=\"text-align: right;\">\n",
              "      <th></th>\n",
              "      <th>index</th>\n",
              "      <th>S.No.</th>\n",
              "      <th>Movie Name</th>\n",
              "      <th>Director Name</th>\n",
              "      <th>Release Year</th>\n",
              "      <th>Genre</th>\n",
              "      <th>Summary</th>\n",
              "      <th>GenreID</th>\n",
              "    </tr>\n",
              "  </thead>\n",
              "  <tbody>\n",
              "    <tr>\n",
              "      <th>0</th>\n",
              "      <td>0</td>\n",
              "      <td>1</td>\n",
              "      <td>Dune</td>\n",
              "      <td>Denis Villeneuve</td>\n",
              "      <td>2021</td>\n",
              "      <td>Action</td>\n",
              "      <td>Paul Atreides, a brilliant and gifted young ma...</td>\n",
              "      <td>2</td>\n",
              "    </tr>\n",
              "    <tr>\n",
              "      <th>1</th>\n",
              "      <td>1</td>\n",
              "      <td>2</td>\n",
              "      <td>Eternals</td>\n",
              "      <td>Chloé Zhao</td>\n",
              "      <td>2021</td>\n",
              "      <td>Action</td>\n",
              "      <td>The Eternals, a race of immortal beings with s...</td>\n",
              "      <td>2</td>\n",
              "    </tr>\n",
              "    <tr>\n",
              "      <th>2</th>\n",
              "      <td>2</td>\n",
              "      <td>3</td>\n",
              "      <td>No Time To Die</td>\n",
              "      <td>Cary Joji Fukunaga</td>\n",
              "      <td>2021</td>\n",
              "      <td>Action</td>\n",
              "      <td>James Bond is enjoying a tranquil life in Jama...</td>\n",
              "      <td>2</td>\n",
              "    </tr>\n",
              "    <tr>\n",
              "      <th>3</th>\n",
              "      <td>3</td>\n",
              "      <td>4</td>\n",
              "      <td>Halloween Kills</td>\n",
              "      <td>David Gordon Green</td>\n",
              "      <td>2021</td>\n",
              "      <td>Horror</td>\n",
              "      <td>The nightmare isn't over as unstoppable killer...</td>\n",
              "      <td>3</td>\n",
              "    </tr>\n",
              "    <tr>\n",
              "      <th>4</th>\n",
              "      <td>4</td>\n",
              "      <td>5</td>\n",
              "      <td>The French Dispatch</td>\n",
              "      <td>Wes Anderson</td>\n",
              "      <td>2021</td>\n",
              "      <td>Comedy</td>\n",
              "      <td>A love letter to journalists set in an outpost...</td>\n",
              "      <td>1</td>\n",
              "    </tr>\n",
              "    <tr>\n",
              "      <th>5</th>\n",
              "      <td>5</td>\n",
              "      <td>6</td>\n",
              "      <td>Last Night in Soho</td>\n",
              "      <td>Edgar Wright</td>\n",
              "      <td>2021</td>\n",
              "      <td>Horror</td>\n",
              "      <td>An aspiring fashion designer is mysteriously a...</td>\n",
              "      <td>3</td>\n",
              "    </tr>\n",
              "    <tr>\n",
              "      <th>6</th>\n",
              "      <td>6</td>\n",
              "      <td>7</td>\n",
              "      <td>The Last Duel</td>\n",
              "      <td>Ridley Scott</td>\n",
              "      <td>2021</td>\n",
              "      <td>Drama</td>\n",
              "      <td>Jean de Carrouges is a respected knight known ...</td>\n",
              "      <td>0</td>\n",
              "    </tr>\n",
              "    <tr>\n",
              "      <th>7</th>\n",
              "      <td>7</td>\n",
              "      <td>8</td>\n",
              "      <td>Night Teeth</td>\n",
              "      <td>Adam Randall</td>\n",
              "      <td>2021</td>\n",
              "      <td>Action</td>\n",
              "      <td>A college student moonlighting as a chauffeur ...</td>\n",
              "      <td>2</td>\n",
              "    </tr>\n",
              "    <tr>\n",
              "      <th>8</th>\n",
              "      <td>9</td>\n",
              "      <td>10</td>\n",
              "      <td>Venom: Let There Be Carnage</td>\n",
              "      <td>Marco Beltrami</td>\n",
              "      <td>2021</td>\n",
              "      <td>Action</td>\n",
              "      <td>Eddie Brock is still struggling to coexist wit...</td>\n",
              "      <td>2</td>\n",
              "    </tr>\n",
              "    <tr>\n",
              "      <th>9</th>\n",
              "      <td>10</td>\n",
              "      <td>11</td>\n",
              "      <td>Free Guy</td>\n",
              "      <td>Shawn Levy</td>\n",
              "      <td>2021</td>\n",
              "      <td>Action</td>\n",
              "      <td>When a bank teller discovers he's actually a b...</td>\n",
              "      <td>2</td>\n",
              "    </tr>\n",
              "  </tbody>\n",
              "</table>\n",
              "</div>\n",
              "      <button class=\"colab-df-convert\" onclick=\"convertToInteractive('df-1a8b1698-f04d-42d1-b37d-877929e59a75')\"\n",
              "              title=\"Convert this dataframe to an interactive table.\"\n",
              "              style=\"display:none;\">\n",
              "        \n",
              "  <svg xmlns=\"http://www.w3.org/2000/svg\" height=\"24px\"viewBox=\"0 0 24 24\"\n",
              "       width=\"24px\">\n",
              "    <path d=\"M0 0h24v24H0V0z\" fill=\"none\"/>\n",
              "    <path d=\"M18.56 5.44l.94 2.06.94-2.06 2.06-.94-2.06-.94-.94-2.06-.94 2.06-2.06.94zm-11 1L8.5 8.5l.94-2.06 2.06-.94-2.06-.94L8.5 2.5l-.94 2.06-2.06.94zm10 10l.94 2.06.94-2.06 2.06-.94-2.06-.94-.94-2.06-.94 2.06-2.06.94z\"/><path d=\"M17.41 7.96l-1.37-1.37c-.4-.4-.92-.59-1.43-.59-.52 0-1.04.2-1.43.59L10.3 9.45l-7.72 7.72c-.78.78-.78 2.05 0 2.83L4 21.41c.39.39.9.59 1.41.59.51 0 1.02-.2 1.41-.59l7.78-7.78 2.81-2.81c.8-.78.8-2.07 0-2.86zM5.41 20L4 18.59l7.72-7.72 1.47 1.35L5.41 20z\"/>\n",
              "  </svg>\n",
              "      </button>\n",
              "      \n",
              "  <style>\n",
              "    .colab-df-container {\n",
              "      display:flex;\n",
              "      flex-wrap:wrap;\n",
              "      gap: 12px;\n",
              "    }\n",
              "\n",
              "    .colab-df-convert {\n",
              "      background-color: #E8F0FE;\n",
              "      border: none;\n",
              "      border-radius: 50%;\n",
              "      cursor: pointer;\n",
              "      display: none;\n",
              "      fill: #1967D2;\n",
              "      height: 32px;\n",
              "      padding: 0 0 0 0;\n",
              "      width: 32px;\n",
              "    }\n",
              "\n",
              "    .colab-df-convert:hover {\n",
              "      background-color: #E2EBFA;\n",
              "      box-shadow: 0px 1px 2px rgba(60, 64, 67, 0.3), 0px 1px 3px 1px rgba(60, 64, 67, 0.15);\n",
              "      fill: #174EA6;\n",
              "    }\n",
              "\n",
              "    [theme=dark] .colab-df-convert {\n",
              "      background-color: #3B4455;\n",
              "      fill: #D2E3FC;\n",
              "    }\n",
              "\n",
              "    [theme=dark] .colab-df-convert:hover {\n",
              "      background-color: #434B5C;\n",
              "      box-shadow: 0px 1px 3px 1px rgba(0, 0, 0, 0.15);\n",
              "      filter: drop-shadow(0px 1px 2px rgba(0, 0, 0, 0.3));\n",
              "      fill: #FFFFFF;\n",
              "    }\n",
              "  </style>\n",
              "\n",
              "      <script>\n",
              "        const buttonEl =\n",
              "          document.querySelector('#df-1a8b1698-f04d-42d1-b37d-877929e59a75 button.colab-df-convert');\n",
              "        buttonEl.style.display =\n",
              "          google.colab.kernel.accessAllowed ? 'block' : 'none';\n",
              "\n",
              "        async function convertToInteractive(key) {\n",
              "          const element = document.querySelector('#df-1a8b1698-f04d-42d1-b37d-877929e59a75');\n",
              "          const dataTable =\n",
              "            await google.colab.kernel.invokeFunction('convertToInteractive',\n",
              "                                                     [key], {});\n",
              "          if (!dataTable) return;\n",
              "\n",
              "          const docLinkHtml = 'Like what you see? Visit the ' +\n",
              "            '<a target=\"_blank\" href=https://colab.research.google.com/notebooks/data_table.ipynb>data table notebook</a>'\n",
              "            + ' to learn more about interactive tables.';\n",
              "          element.innerHTML = '';\n",
              "          dataTable['output_type'] = 'display_data';\n",
              "          await google.colab.output.renderOutput(dataTable, element);\n",
              "          const docLink = document.createElement('div');\n",
              "          docLink.innerHTML = docLinkHtml;\n",
              "          element.appendChild(docLink);\n",
              "        }\n",
              "      </script>\n",
              "    </div>\n",
              "  </div>\n",
              "  "
            ],
            "text/plain": [
              "   index  S.No.  ...                                            Summary GenreID\n",
              "0      0      1  ...  Paul Atreides, a brilliant and gifted young ma...       2\n",
              "1      1      2  ...  The Eternals, a race of immortal beings with s...       2\n",
              "2      2      3  ...  James Bond is enjoying a tranquil life in Jama...       2\n",
              "3      3      4  ...  The nightmare isn't over as unstoppable killer...       3\n",
              "4      4      5  ...  A love letter to journalists set in an outpost...       1\n",
              "5      5      6  ...  An aspiring fashion designer is mysteriously a...       3\n",
              "6      6      7  ...  Jean de Carrouges is a respected knight known ...       0\n",
              "7      7      8  ...  A college student moonlighting as a chauffeur ...       2\n",
              "8      9     10  ...  Eddie Brock is still struggling to coexist wit...       2\n",
              "9     10     11  ...  When a bank teller discovers he's actually a b...       2\n",
              "\n",
              "[10 rows x 8 columns]"
            ]
          },
          "metadata": {},
          "execution_count": 6
        }
      ],
      "source": [
        "movies['GenreID']=movies['Genre'].apply(lambda x:MainGenres.index(x))\n",
        "movies.head(10)"
      ]
    },
    {
      "cell_type": "code",
      "execution_count": 7,
      "metadata": {
        "colab": {
          "base_uri": "https://localhost:8080/"
        },
        "id": "yRCgMkkYHOqO",
        "outputId": "b3a90b52-5d02-4ce2-aba2-06137c4751e9"
      },
      "outputs": [
        {
          "output_type": "stream",
          "name": "stdout",
          "text": [
            "Number of Drama movies: 1317\n",
            "Number of Comedy movies: 1090\n",
            "Number of Horror movies: 383\n",
            "Number of Action movies: 794\n"
          ]
        }
      ],
      "source": [
        "no_drama=movies['Genre'].str.contains('Drama').sum()\n",
        "no_comedy=movies['Genre'].str.contains('Comedy').sum()\n",
        "no_horror=movies['Genre'].str.contains('Horror').sum()\n",
        "no_action=movies['Genre'].str.contains('Action').sum()\n",
        "print(\"Number of Drama movies:\",no_drama)\n",
        "print(\"Number of Comedy movies:\",no_comedy)\n",
        "print(\"Number of Horror movies:\",no_horror)\n",
        "print(\"Number of Action movies:\",no_action)"
      ]
    },
    {
      "cell_type": "code",
      "execution_count": 8,
      "metadata": {
        "colab": {
          "base_uri": "https://localhost:8080/",
          "height": 318
        },
        "id": "LR6Aq0uQHQ50",
        "outputId": "29ca724c-e908-4131-de35-b44c6ac86b88"
      },
      "outputs": [
        {
          "output_type": "execute_result",
          "data": {
            "text/plain": [
              "[Text(0.5, 0, 'Genre'), Text(0.5, 1.0, 'Genre Counnt')]"
            ]
          },
          "metadata": {},
          "execution_count": 8
        },
        {
          "output_type": "display_data",
          "data": {
            "image/png": "[encoded data removed]",
            "text/plain": [
              "<Figure size 432x288 with 1 Axes>"
            ]
          },
          "metadata": {}
        }
      ],
      "source": [
        "import seaborn as sns\n",
        "sns.set(style='whitegrid')\n",
        "figsize=(18, 6)\n",
        "ax=sns.countplot(x=movies['Genre'], data=movies)\n",
        "ax.set(xlabel='Genre',title=\"Genre Counnt\")"
      ]
    },
    {
      "cell_type": "code",
      "execution_count": 9,
      "metadata": {
        "colab": {
          "base_uri": "https://localhost:8080/"
        },
        "id": "yfAWRo6hHTGt",
        "outputId": "0a8db368-de94-4eb8-dab7-3d79be011954"
      },
      "outputs": [
        {
          "output_type": "stream",
          "name": "stdout",
          "text": [
            "Fjols til Fjells\n",
            "Comedy\n",
            "Everything that can go wrong goes wrong when care free ski bums, frustrated cabin owners, skiing Danes and partying youngsters team up on a Norwegian mountain resort with a very absent hotel manager.\n"
          ]
        }
      ],
      "source": [
        "import random\n",
        "synNumber=random.randint(1,1000)\n",
        "print(movies['Movie Name'].loc[synNumber])\n",
        "print(movies['Genre'].loc[synNumber])\n",
        "print(movies['Summary'].loc[synNumber])"
      ]
    },
    {
      "cell_type": "code",
      "execution_count": null,
      "metadata": {
        "id": "tAn9C44GHW72"
      },
      "outputs": [],
      "source": [
        "# nltk.download('stopwords')\n",
        "# nltk.download('punkt')\n",
        "# stop = stopwords.words('english')"
      ]
    },
    {
      "cell_type": "code",
      "execution_count": 14,
      "metadata": {
        "id": "uo5k6n6IHmt3"
      },
      "outputs": [],
      "source": [
        "data_clean=movies"
      ]
    },
    {
      "cell_type": "code",
      "execution_count": null,
      "metadata": {
        "id": "DvtK5S_lAIZq"
      },
      "outputs": [],
      "source": [
        "# data_clean=pd.read_csv('/content/gdrive/MyDrive/clean_data.csv')"
      ]
    },
    {
      "cell_type": "code",
      "execution_count": 10,
      "metadata": {
        "colab": {
          "base_uri": "https://localhost:8080/",
          "height": 235
        },
        "id": "fhs92ahPlaT7",
        "outputId": "ca77dcbe-5994-45eb-b8c6-8a964b6059dd"
      },
      "outputs": [
        {
          "output_type": "error",
          "ename": "NameError",
          "evalue": "ignored",
          "traceback": [
            "\u001b[0;31m---------------------------------------------------------------------------\u001b[0m",
            "\u001b[0;31mNameError\u001b[0m                                 Traceback (most recent call last)",
            "\u001b[0;32m<ipython-input-10-bfc5b8e09ae9>\u001b[0m in \u001b[0;36m<module>\u001b[0;34m()\u001b[0m\n\u001b[0;32m----> 1\u001b[0;31m \u001b[0mno_drama\u001b[0m\u001b[0;34m=\u001b[0m\u001b[0mdata_clean\u001b[0m\u001b[0;34m[\u001b[0m\u001b[0;34m'Genre'\u001b[0m\u001b[0;34m]\u001b[0m\u001b[0;34m.\u001b[0m\u001b[0mstr\u001b[0m\u001b[0;34m.\u001b[0m\u001b[0mcontains\u001b[0m\u001b[0;34m(\u001b[0m\u001b[0;34m'Drama'\u001b[0m\u001b[0;34m)\u001b[0m\u001b[0;34m.\u001b[0m\u001b[0msum\u001b[0m\u001b[0;34m(\u001b[0m\u001b[0;34m)\u001b[0m\u001b[0;34m\u001b[0m\u001b[0;34m\u001b[0m\u001b[0m\n\u001b[0m\u001b[1;32m      2\u001b[0m \u001b[0mno_comedy\u001b[0m\u001b[0;34m=\u001b[0m\u001b[0mdata_clean\u001b[0m\u001b[0;34m[\u001b[0m\u001b[0;34m'Genre'\u001b[0m\u001b[0;34m]\u001b[0m\u001b[0;34m.\u001b[0m\u001b[0mstr\u001b[0m\u001b[0;34m.\u001b[0m\u001b[0mcontains\u001b[0m\u001b[0;34m(\u001b[0m\u001b[0;34m'Comedy'\u001b[0m\u001b[0;34m)\u001b[0m\u001b[0;34m.\u001b[0m\u001b[0msum\u001b[0m\u001b[0;34m(\u001b[0m\u001b[0;34m)\u001b[0m\u001b[0;34m\u001b[0m\u001b[0;34m\u001b[0m\u001b[0m\n\u001b[1;32m      3\u001b[0m \u001b[0mno_horror\u001b[0m\u001b[0;34m=\u001b[0m\u001b[0mdata_clean\u001b[0m\u001b[0;34m[\u001b[0m\u001b[0;34m'Genre'\u001b[0m\u001b[0;34m]\u001b[0m\u001b[0;34m.\u001b[0m\u001b[0mstr\u001b[0m\u001b[0;34m.\u001b[0m\u001b[0mcontains\u001b[0m\u001b[0;34m(\u001b[0m\u001b[0;34m'Horror'\u001b[0m\u001b[0;34m)\u001b[0m\u001b[0;34m.\u001b[0m\u001b[0msum\u001b[0m\u001b[0;34m(\u001b[0m\u001b[0;34m)\u001b[0m\u001b[0;34m\u001b[0m\u001b[0;34m\u001b[0m\u001b[0m\n\u001b[1;32m      4\u001b[0m \u001b[0mno_action\u001b[0m\u001b[0;34m=\u001b[0m\u001b[0mdata_clean\u001b[0m\u001b[0;34m[\u001b[0m\u001b[0;34m'Genre'\u001b[0m\u001b[0;34m]\u001b[0m\u001b[0;34m.\u001b[0m\u001b[0mstr\u001b[0m\u001b[0;34m.\u001b[0m\u001b[0mcontains\u001b[0m\u001b[0;34m(\u001b[0m\u001b[0;34m'Action'\u001b[0m\u001b[0;34m)\u001b[0m\u001b[0;34m.\u001b[0m\u001b[0msum\u001b[0m\u001b[0;34m(\u001b[0m\u001b[0;34m)\u001b[0m\u001b[0;34m\u001b[0m\u001b[0;34m\u001b[0m\u001b[0m\n\u001b[1;32m      5\u001b[0m \u001b[0mprint\u001b[0m\u001b[0;34m(\u001b[0m\u001b[0;34m\"Number of Drama movies:\"\u001b[0m\u001b[0;34m,\u001b[0m\u001b[0mno_drama\u001b[0m\u001b[0;34m)\u001b[0m\u001b[0;34m\u001b[0m\u001b[0;34m\u001b[0m\u001b[0m\n",
            "\u001b[0;31mNameError\u001b[0m: name 'data_clean' is not defined"
          ]
        }
      ],
      "source": [
        "no_drama=data_clean['Genre'].str.contains('Drama').sum()\n",
        "no_comedy=data_clean['Genre'].str.contains('Comedy').sum()\n",
        "no_horror=data_clean['Genre'].str.contains('Horror').sum()\n",
        "no_action=data_clean['Genre'].str.contains('Action').sum()\n",
        "print(\"Number of Drama movies:\",no_drama)\n",
        "print(\"Number of Comedy movies:\",no_comedy)\n",
        "print(\"Number of Horror movies:\",no_horror)\n",
        "print(\"Number of Action movies:\",no_action)"
      ]
    },
    {
      "cell_type": "code",
      "execution_count": 15,
      "metadata": {
        "id": "pj9ZFjS4AlR9"
      },
      "outputs": [],
      "source": [
        "lemmatizer = WordNetLemmatizer()\n",
        "i=0\n",
        "def lemmatize_text(text):\n",
        "    global i\n",
        "    # print (type(text))\n",
        "    # i=i+1\n",
        "    # print(i)\n",
        "    text=str(text)\n",
        "    return \" \".join([lemmatizer.lemmatize(w) for w in text.split()])"
      ]
    },
    {
      "cell_type": "code",
      "execution_count": 15,
      "metadata": {
        "id": "ODZvv--KlVZC"
      },
      "outputs": [],
      "source": [
        ""
      ]
    },
    {
      "cell_type": "code",
      "execution_count": 16,
      "metadata": {
        "colab": {
          "base_uri": "https://localhost:8080/"
        },
        "id": "89A3DmK4Apd9",
        "outputId": "79c5b281-b4fc-4ac3-dcec-241b0a06703f"
      },
      "outputs": [
        {
          "output_type": "stream",
          "name": "stdout",
          "text": [
            "[nltk_data] Downloading package wordnet to /root/nltk_data...\n",
            "[nltk_data]   Package wordnet is already up-to-date!\n",
            "[nltk_data] Downloading package stopwords to /root/nltk_data...\n",
            "[nltk_data]   Unzipping corpora/stopwords.zip.\n",
            "[nltk_data] Downloading package punkt to /root/nltk_data...\n",
            "[nltk_data]   Unzipping tokenizers/punkt.zip.\n"
          ]
        }
      ],
      "source": [
        "nltk.download('wordnet')\n",
        "data_clean[\"Plot_clean\"] = data_clean[\"Summary\"].apply(lambda text: lemmatize_text(text))\n",
        "data_clean.head()\n",
        "nltk.download('stopwords')\n",
        "nltk.download('punkt')\n",
        "stop = stopwords.words('english')"
      ]
    },
    {
      "cell_type": "code",
      "execution_count": 17,
      "metadata": {
        "colab": {
          "base_uri": "https://localhost:8080/",
          "height": 354
        },
        "id": "6F1XsNXtAq2K",
        "outputId": "b4661551-0d33-40be-936c-c9a0a1e48c61"
      },
      "outputs": [
        {
          "output_type": "execute_result",
          "data": {
            "text/html": [
              "\n",
              "  <div id=\"df-1456574f-8ff9-424a-9a98-87898a70d61d\">\n",
              "    <div class=\"colab-df-container\">\n",
              "      <div>\n",
              "<style scoped>\n",
              "    .dataframe tbody tr th:only-of-type {\n",
              "        vertical-align: middle;\n",
              "    }\n",
              "\n",
              "    .dataframe tbody tr th {\n",
              "        vertical-align: top;\n",
              "    }\n",
              "\n",
              "    .dataframe thead th {\n",
              "        text-align: right;\n",
              "    }\n",
              "</style>\n",
              "<table border=\"1\" class=\"dataframe\">\n",
              "  <thead>\n",
              "    <tr style=\"text-align: right;\">\n",
              "      <th></th>\n",
              "      <th>index</th>\n",
              "      <th>S.No.</th>\n",
              "      <th>Movie Name</th>\n",
              "      <th>Director Name</th>\n",
              "      <th>Release Year</th>\n",
              "      <th>Genre</th>\n",
              "      <th>Summary</th>\n",
              "      <th>GenreID</th>\n",
              "      <th>Plot_clean</th>\n",
              "    </tr>\n",
              "  </thead>\n",
              "  <tbody>\n",
              "    <tr>\n",
              "      <th>0</th>\n",
              "      <td>0</td>\n",
              "      <td>1</td>\n",
              "      <td>Dune</td>\n",
              "      <td>Denis Villeneuve</td>\n",
              "      <td>2021</td>\n",
              "      <td>Action</td>\n",
              "      <td>Paul Atreides, a brilliant and gifted young ma...</td>\n",
              "      <td>2</td>\n",
              "      <td>Paul Atreides, brilliant gifted young man born...</td>\n",
              "    </tr>\n",
              "    <tr>\n",
              "      <th>1</th>\n",
              "      <td>1</td>\n",
              "      <td>2</td>\n",
              "      <td>Eternals</td>\n",
              "      <td>Chloé Zhao</td>\n",
              "      <td>2021</td>\n",
              "      <td>Action</td>\n",
              "      <td>The Eternals, a race of immortal beings with s...</td>\n",
              "      <td>2</td>\n",
              "      <td>The Eternals, race immortal superhuman power s...</td>\n",
              "    </tr>\n",
              "    <tr>\n",
              "      <th>2</th>\n",
              "      <td>2</td>\n",
              "      <td>3</td>\n",
              "      <td>No Time To Die</td>\n",
              "      <td>Cary Joji Fukunaga</td>\n",
              "      <td>2021</td>\n",
              "      <td>Action</td>\n",
              "      <td>James Bond is enjoying a tranquil life in Jama...</td>\n",
              "      <td>2</td>\n",
              "      <td>James Bond enjoying tranquil life Jamaica leav...</td>\n",
              "    </tr>\n",
              "    <tr>\n",
              "      <th>3</th>\n",
              "      <td>3</td>\n",
              "      <td>4</td>\n",
              "      <td>Halloween Kills</td>\n",
              "      <td>David Gordon Green</td>\n",
              "      <td>2021</td>\n",
              "      <td>Horror</td>\n",
              "      <td>The nightmare isn't over as unstoppable killer...</td>\n",
              "      <td>3</td>\n",
              "      <td>The nightmare unstoppable killer Michael Myers...</td>\n",
              "    </tr>\n",
              "    <tr>\n",
              "      <th>4</th>\n",
              "      <td>4</td>\n",
              "      <td>5</td>\n",
              "      <td>The French Dispatch</td>\n",
              "      <td>Wes Anderson</td>\n",
              "      <td>2021</td>\n",
              "      <td>Comedy</td>\n",
              "      <td>A love letter to journalists set in an outpost...</td>\n",
              "      <td>1</td>\n",
              "      <td>A love letter journalist set outpost American ...</td>\n",
              "    </tr>\n",
              "  </tbody>\n",
              "</table>\n",
              "</div>\n",
              "      <button class=\"colab-df-convert\" onclick=\"convertToInteractive('df-1456574f-8ff9-424a-9a98-87898a70d61d')\"\n",
              "              title=\"Convert this dataframe to an interactive table.\"\n",
              "              style=\"display:none;\">\n",
              "        \n",
              "  <svg xmlns=\"http://www.w3.org/2000/svg\" height=\"24px\"viewBox=\"0 0 24 24\"\n",
              "       width=\"24px\">\n",
              "    <path d=\"M0 0h24v24H0V0z\" fill=\"none\"/>\n",
              "    <path d=\"M18.56 5.44l.94 2.06.94-2.06 2.06-.94-2.06-.94-.94-2.06-.94 2.06-2.06.94zm-11 1L8.5 8.5l.94-2.06 2.06-.94-2.06-.94L8.5 2.5l-.94 2.06-2.06.94zm10 10l.94 2.06.94-2.06 2.06-.94-2.06-.94-.94-2.06-.94 2.06-2.06.94z\"/><path d=\"M17.41 7.96l-1.37-1.37c-.4-.4-.92-.59-1.43-.59-.52 0-1.04.2-1.43.59L10.3 9.45l-7.72 7.72c-.78.78-.78 2.05 0 2.83L4 21.41c.39.39.9.59 1.41.59.51 0 1.02-.2 1.41-.59l7.78-7.78 2.81-2.81c.8-.78.8-2.07 0-2.86zM5.41 20L4 18.59l7.72-7.72 1.47 1.35L5.41 20z\"/>\n",
              "  </svg>\n",
              "      </button>\n",
              "      \n",
              "  <style>\n",
              "    .colab-df-container {\n",
              "      display:flex;\n",
              "      flex-wrap:wrap;\n",
              "      gap: 12px;\n",
              "    }\n",
              "\n",
              "    .colab-df-convert {\n",
              "      background-color: #E8F0FE;\n",
              "      border: none;\n",
              "      border-radius: 50%;\n",
              "      cursor: pointer;\n",
              "      display: none;\n",
              "      fill: #1967D2;\n",
              "      height: 32px;\n",
              "      padding: 0 0 0 0;\n",
              "      width: 32px;\n",
              "    }\n",
              "\n",
              "    .colab-df-convert:hover {\n",
              "      background-color: #E2EBFA;\n",
              "      box-shadow: 0px 1px 2px rgba(60, 64, 67, 0.3), 0px 1px 3px 1px rgba(60, 64, 67, 0.15);\n",
              "      fill: #174EA6;\n",
              "    }\n",
              "\n",
              "    [theme=dark] .colab-df-convert {\n",
              "      background-color: #3B4455;\n",
              "      fill: #D2E3FC;\n",
              "    }\n",
              "\n",
              "    [theme=dark] .colab-df-convert:hover {\n",
              "      background-color: #434B5C;\n",
              "      box-shadow: 0px 1px 3px 1px rgba(0, 0, 0, 0.15);\n",
              "      filter: drop-shadow(0px 1px 2px rgba(0, 0, 0, 0.3));\n",
              "      fill: #FFFFFF;\n",
              "    }\n",
              "  </style>\n",
              "\n",
              "      <script>\n",
              "        const buttonEl =\n",
              "          document.querySelector('#df-1456574f-8ff9-424a-9a98-87898a70d61d button.colab-df-convert');\n",
              "        buttonEl.style.display =\n",
              "          google.colab.kernel.accessAllowed ? 'block' : 'none';\n",
              "\n",
              "        async function convertToInteractive(key) {\n",
              "          const element = document.querySelector('#df-1456574f-8ff9-424a-9a98-87898a70d61d');\n",
              "          const dataTable =\n",
              "            await google.colab.kernel.invokeFunction('convertToInteractive',\n",
              "                                                     [key], {});\n",
              "          if (!dataTable) return;\n",
              "\n",
              "          const docLinkHtml = 'Like what you see? Visit the ' +\n",
              "            '<a target=\"_blank\" href=https://colab.research.google.com/notebooks/data_table.ipynb>data table notebook</a>'\n",
              "            + ' to learn more about interactive tables.';\n",
              "          element.innerHTML = '';\n",
              "          dataTable['output_type'] = 'display_data';\n",
              "          await google.colab.output.renderOutput(dataTable, element);\n",
              "          const docLink = document.createElement('div');\n",
              "          docLink.innerHTML = docLinkHtml;\n",
              "          element.appendChild(docLink);\n",
              "        }\n",
              "      </script>\n",
              "    </div>\n",
              "  </div>\n",
              "  "
            ],
            "text/plain": [
              "   index  S.No.  ... GenreID                                         Plot_clean\n",
              "0      0      1  ...       2  Paul Atreides, brilliant gifted young man born...\n",
              "1      1      2  ...       2  The Eternals, race immortal superhuman power s...\n",
              "2      2      3  ...       2  James Bond enjoying tranquil life Jamaica leav...\n",
              "3      3      4  ...       3  The nightmare unstoppable killer Michael Myers...\n",
              "4      4      5  ...       1  A love letter journalist set outpost American ...\n",
              "\n",
              "[5 rows x 9 columns]"
            ]
          },
          "metadata": {},
          "execution_count": 17
        }
      ],
      "source": [
        "data_clean['Plot_clean'] = data_clean['Plot_clean'].apply(lambda x: ' '.join([word for word in x.split() if word not in (stop)]))\n",
        "data_clean.head()"
      ]
    },
    {
      "cell_type": "code",
      "execution_count": null,
      "metadata": {
        "id": "SbatxctmJFYZ"
      },
      "outputs": [],
      "source": [
        ""
      ]
    },
    {
      "cell_type": "code",
      "execution_count": 18,
      "metadata": {
        "colab": {
          "base_uri": "https://localhost:8080/"
        },
        "id": "kAFO5JFQAuLQ",
        "outputId": "60f31961-163f-4bc6-d032-64d23a72b5b6"
      },
      "outputs": [
        {
          "output_type": "stream",
          "name": "stdout",
          "text": [
            "unique tokens: 14152\n",
            "Max length: 300\n",
            "Shape of data tensor: (3584, 300)\n"
          ]
        }
      ],
      "source": [
        "max_num_words=5000\n",
        "max_seq_len=300\n",
        "tokenizer = Tokenizer(num_words=max_num_words,filters='!\"#$&%()*+-./:;<=>?@[\\]^_`{|}~',lower=True)\n",
        "tokenizer.fit_on_texts((data_clean['Plot_clean'].values))\n",
        "sequences=tokenizer.texts_to_sequences((data_clean['Plot_clean'].values))\n",
        "word_index=tokenizer.word_index\n",
        "print(\"unique tokens:\",len(word_index))\n",
        "# max_len=np.max([len(sequence) for sequence in sequences])\n",
        "print(\"Max length:\",max_seq_len)\n",
        "data = pad_sequences(sequences, maxlen=max_seq_len)\n",
        "print(\"Shape of data tensor:\",data.shape)"
      ]
    },
    {
      "cell_type": "code",
      "execution_count": 19,
      "metadata": {
        "colab": {
          "base_uri": "https://localhost:8080/"
        },
        "id": "eWa2ayUrkWTT",
        "outputId": "0ed1d299-9ddc-4205-8d33-5484a562d13d"
      },
      "outputs": [
        {
          "output_type": "execute_result",
          "data": {
            "text/plain": [
              "array([   0,    0,    0,    0,    0,    0,    0,    0,    0,    0,    0,\n",
              "          0,    0,    0,    0,    0,    0,    0,    0,    0,    0,    0,\n",
              "          0,    0,    0,    0,    0,    0,    0,    0,    0,    0,    0,\n",
              "          0,    0,    0,    0,    0,    0,    0,    0,    0,    0,    0,\n",
              "          0,    0,    0,    0,    0,    0,    0,    0,    0,    0,    0,\n",
              "          0,    0,    0,    0,    0,    0,    0,    0,    0,    0,    0,\n",
              "          0,    0,    0,    0,    0,    0,    0,    0,    0,    0,    0,\n",
              "          0,    0,    0,    0,    0,    0,    0,    0,    0,    0,    0,\n",
              "          0,    0,    0,    0,    0,    0,    0,    0,    0,    0,    0,\n",
              "          0,    0,    0,    0,    0,    0,    0,    0,    0,    0,    0,\n",
              "          0,    0,    0,    0,    0,    0,    0,    0,    0,    0,    0,\n",
              "          0,    0,    0,    0,    0,    0,    0,    0,    0,    0,    0,\n",
              "          0,    0,    0,    0,    0,    0,    0,    0,    0,    0,    0,\n",
              "          0,    0,    0,    0,    0,    0,    0,    0,    0,    0,    0,\n",
              "          0,    0,    0,    0,    0,    0,    0,    0,    0,    0,    0,\n",
              "          0,    0,    0,    0,    0,    0,    0,    0,    0,    0,    0,\n",
              "          0,    0,    0,    0,    0,    0,    0,    0,    0,    0,    0,\n",
              "          0,    0,    0,    0,    0,    0,    0,    0,    0,    0,    0,\n",
              "          0,    0,    0,    0,    0,    0,    0,    0,    0,    0,    0,\n",
              "          0,    0,    0,    0,    0,    0,    0,    0,    0,    0,    0,\n",
              "          0,    0,    0,    0,    0,    0,    0,    0,    0,    0,    0,\n",
              "          0,    0,    0,    0,    0,    0,    0,    0,    0,    0,    0,\n",
              "          0,    0,    0,    0,    0,    0,    0,    0,    0,    0,    0,\n",
              "          0,    0,    0,    0,    0,    0,    0,    0,    0,    0,    0,\n",
              "          0,    0,    0,    0,    0,    0,    0,    0,    0,    0,    0,\n",
              "          0,    0,    0,    0,    0,    0,    0,    0,    0,    0,    0,\n",
              "          0,    3,  331, 1408, 3816,  208, 1409,  796,  304,  997,  581,\n",
              "        533,  168,  195], dtype=int32)"
            ]
          },
          "metadata": {},
          "execution_count": 19
        }
      ],
      "source": [
        "data[1]"
      ]
    },
    {
      "cell_type": "code",
      "execution_count": 20,
      "metadata": {
        "colab": {
          "base_uri": "https://localhost:8080/"
        },
        "id": "kUFdA3iABFts",
        "outputId": "d3ffbac4-50cb-4900-c583-8dc86eb55ed7"
      },
      "outputs": [
        {
          "output_type": "stream",
          "name": "stdout",
          "text": [
            "Label: (3584, 4)\n"
          ]
        },
        {
          "output_type": "execute_result",
          "data": {
            "text/plain": [
              "array([0., 0., 0., 1.], dtype=float32)"
            ]
          },
          "metadata": {},
          "execution_count": 20
        }
      ],
      "source": [
        "labels=np.asarray(data_clean['GenreID'].values)\n",
        "labels=to_categorical(labels,num_classes=4)\n",
        "print('Label:',labels.shape)\n",
        "labels[50]"
      ]
    },
    {
      "cell_type": "code",
      "execution_count": 21,
      "metadata": {
        "id": "9hsYwDz2BHf2"
      },
      "outputs": [],
      "source": [
        "X_train,X_val,y_train,y_val=train_test_split(data,labels,test_size=0.10,random_state=42,shuffle=True)"
      ]
    },
    {
      "cell_type": "code",
      "execution_count": 22,
      "metadata": {
        "colab": {
          "base_uri": "https://localhost:8080/"
        },
        "id": "jG3exed3BN26",
        "outputId": "bf71b9c0-93cb-44dc-cfb6-45fa642bc1d9"
      },
      "outputs": [
        {
          "output_type": "stream",
          "name": "stdout",
          "text": [
            "Model: \"sequential\"\n",
            "_________________________________________________________________\n",
            " Layer (type)                Output Shape              Param #   \n",
            "=================================================================\n",
            " embedding (Embedding)       (None, 300, 100)          500000    \n",
            "                                                                 \n",
            " spatial_dropout1d (SpatialD  (None, 300, 100)         0         \n",
            " ropout1D)                                                       \n",
            "                                                                 \n",
            " lstm (LSTM)                 (None, 300, 64)           42240     \n",
            "                                                                 \n",
            " dropout (Dropout)           (None, 300, 64)           0         \n",
            "                                                                 \n",
            " batch_normalization (BatchN  (None, 300, 64)          256       \n",
            " ormalization)                                                   \n",
            "                                                                 \n",
            " lstm_1 (LSTM)               (None, 32)                12416     \n",
            "                                                                 \n",
            " dropout_1 (Dropout)         (None, 32)                0         \n",
            "                                                                 \n",
            " batch_normalization_1 (Batc  (None, 32)               128       \n",
            " hNormalization)                                                 \n",
            "                                                                 \n",
            " dense (Dense)               (None, 64)                2112      \n",
            "                                                                 \n",
            " dropout_2 (Dropout)         (None, 64)                0         \n",
            "                                                                 \n",
            " dense_1 (Dense)             (None, 32)                2080      \n",
            "                                                                 \n",
            " dropout_3 (Dropout)         (None, 32)                0         \n",
            "                                                                 \n",
            " dense_2 (Dense)             (None, 4)                 132       \n",
            "                                                                 \n",
            "=================================================================\n",
            "Total params: 559,364\n",
            "Trainable params: 559,172\n",
            "Non-trainable params: 192\n",
            "_________________________________________________________________\n"
          ]
        }
      ],
      "source": [
        "embedding_dim=100\n",
        "model=Sequential()\n",
        "model.add(Embedding(input_dim=max_num_words,output_dim=embedding_dim,input_length=data.shape[1]))\n",
        "model.add(SpatialDropout1D(0.3))\n",
        "# model.add(Conv1D(filters=64, kernel_size=3, padding='same', activation='relu'))\n",
        "# model.add(Dropout(0.3))\n",
        "model.add(LSTM(64,return_sequences=True))\n",
        "model.add(Dropout(0.3))\n",
        "model.add(BatchNormalization())\n",
        "# model.add(LSTM(8))\n",
        "# model.add(Dropout(0.4))\n",
        "# model.add(BatchNormalization())\n",
        "# model.add(LSTM(64,return_sequences=True))\n",
        "# model.add(Dropout(0.1))\n",
        "# model.add(BatchNormalization())\n",
        "# model.add(LSTM(64,return_sequences=True))\n",
        "# model.add(Dropout(0.2))\n",
        "# model.add(BatchNormalization())\n",
        "model.add(LSTM(32))\n",
        "model.add(Dropout(0.2))\n",
        "model.add(BatchNormalization())\n",
        "model.add(Dense(64, activation='relu'))\n",
        "model.add(Dropout(0.2))\n",
        "model.add(Dense(32, activation='relu'))\n",
        "model.add(Dropout(0.3))\n",
        "# model.add(Dense(8, activation='relu'))\n",
        "# model.add(Dropout(0.5))\n",
        "# model.add(Dense(8, activation='relu'))\n",
        "# model.add(Dropout(0.3))\n",
        "# model.add(BatchNormalization())\n",
        "model.add(Dense(4, activation='softmax'))\n",
        "model.compile(loss='categorical_crossentropy',optimizer=optimizers.Adam(learning_rate=1e-4,decay=1e-6),metrics=['categorical_accuracy'])\n",
        "model.summary()\n",
        "# 32,kernel_regularizer=l2(0.001),input_shape=(X_train.shape[1:]),activation='tanh'"
      ]
    },
    {
      "cell_type": "code",
      "execution_count": 23,
      "metadata": {
        "colab": {
          "base_uri": "https://localhost:8080/"
        },
        "id": "ji2g0RrpBkLM",
        "outputId": "2a559a5b-bc0c-4ad5-9510-6292e86436ab"
      },
      "outputs": [
        {
          "output_type": "execute_result",
          "data": {
            "text/plain": [
              "(3225, 359)"
            ]
          },
          "metadata": {},
          "execution_count": 23
        }
      ],
      "source": [
        "filepath=\"MovieGenrePredictionUsingPlotSummariesmodel1.h5\"\n",
        "checkpoint = ModelCheckpoint(filepath, save_best_only=True)\n",
        "callbacks_list = [checkpoint]\n",
        "len(X_train),len(X_val)"
      ]
    },
    {
      "cell_type": "code",
      "execution_count": 24,
      "metadata": {
        "colab": {
          "base_uri": "https://localhost:8080/"
        },
        "id": "TyE29PkVBmmJ",
        "outputId": "5c302f07-3b05-48a8-8981-bc8d9fcc7b1f"
      },
      "outputs": [
        {
          "output_type": "stream",
          "name": "stdout",
          "text": [
            "Epoch 1/20\n",
            "101/101 [==============================] - 43s 377ms/step - loss: 1.5237 - categorical_accuracy: 0.2437 - val_loss: 1.3703 - val_categorical_accuracy: 0.3454\n",
            "Epoch 2/20\n",
            "101/101 [==============================] - 37s 367ms/step - loss: 1.4381 - categorical_accuracy: 0.2797 - val_loss: 1.3457 - val_categorical_accuracy: 0.3287\n",
            "Epoch 3/20\n",
            "101/101 [==============================] - 37s 369ms/step - loss: 1.3843 - categorical_accuracy: 0.3206 - val_loss: 1.3370 - val_categorical_accuracy: 0.3036\n",
            "Epoch 4/20\n",
            "101/101 [==============================] - 37s 366ms/step - loss: 1.3510 - categorical_accuracy: 0.3355 - val_loss: 1.3320 - val_categorical_accuracy: 0.3120\n",
            "Epoch 5/20\n",
            "101/101 [==============================] - 37s 368ms/step - loss: 1.3437 - categorical_accuracy: 0.3535 - val_loss: 1.3222 - val_categorical_accuracy: 0.3231\n",
            "Epoch 6/20\n",
            "101/101 [==============================] - 37s 366ms/step - loss: 1.3046 - categorical_accuracy: 0.3668 - val_loss: 1.3093 - val_categorical_accuracy: 0.3816\n",
            "Epoch 7/20\n",
            "101/101 [==============================] - 37s 366ms/step - loss: 1.2723 - categorical_accuracy: 0.3919 - val_loss: 1.2890 - val_categorical_accuracy: 0.3816\n",
            "Epoch 8/20\n",
            "101/101 [==============================] - 37s 364ms/step - loss: 1.2552 - categorical_accuracy: 0.3885 - val_loss: 1.2626 - val_categorical_accuracy: 0.4345\n",
            "Epoch 9/20\n",
            "101/101 [==============================] - 37s 370ms/step - loss: 1.2167 - categorical_accuracy: 0.4338 - val_loss: 1.2419 - val_categorical_accuracy: 0.4206\n",
            "Epoch 10/20\n",
            "101/101 [==============================] - 38s 372ms/step - loss: 1.1709 - categorical_accuracy: 0.4592 - val_loss: 1.2268 - val_categorical_accuracy: 0.4373\n",
            "Epoch 11/20\n",
            "101/101 [==============================] - 38s 372ms/step - loss: 1.1348 - categorical_accuracy: 0.4971 - val_loss: 1.2124 - val_categorical_accuracy: 0.4513\n",
            "Epoch 12/20\n",
            "101/101 [==============================] - 37s 368ms/step - loss: 1.0877 - categorical_accuracy: 0.5036 - val_loss: 1.1918 - val_categorical_accuracy: 0.4401\n",
            "Epoch 13/20\n",
            "101/101 [==============================] - 37s 367ms/step - loss: 1.0617 - categorical_accuracy: 0.5240 - val_loss: 1.1903 - val_categorical_accuracy: 0.4345\n",
            "Epoch 14/20\n",
            "101/101 [==============================] - 37s 364ms/step - loss: 1.0052 - categorical_accuracy: 0.5538 - val_loss: 1.1800 - val_categorical_accuracy: 0.4652\n",
            "Epoch 15/20\n",
            "101/101 [==============================] - 37s 364ms/step - loss: 0.9562 - categorical_accuracy: 0.5910 - val_loss: 1.1814 - val_categorical_accuracy: 0.4540\n",
            "Epoch 16/20\n",
            "101/101 [==============================] - 37s 363ms/step - loss: 0.9046 - categorical_accuracy: 0.6078 - val_loss: 1.1855 - val_categorical_accuracy: 0.4457\n",
            "Epoch 17/20\n",
            "101/101 [==============================] - 37s 365ms/step - loss: 0.8472 - categorical_accuracy: 0.6459 - val_loss: 1.2089 - val_categorical_accuracy: 0.4791\n",
            "Epoch 18/20\n",
            "101/101 [==============================] - 37s 364ms/step - loss: 0.7900 - categorical_accuracy: 0.6809 - val_loss: 1.2528 - val_categorical_accuracy: 0.4875\n",
            "Epoch 19/20\n",
            "101/101 [==============================] - 37s 365ms/step - loss: 0.7313 - categorical_accuracy: 0.7119 - val_loss: 1.2818 - val_categorical_accuracy: 0.4652\n",
            "Epoch 20/20\n",
            "101/101 [==============================] - 37s 367ms/step - loss: 0.6657 - categorical_accuracy: 0.7389 - val_loss: 1.3469 - val_categorical_accuracy: 0.4735\n"
          ]
        }
      ],
      "source": [
        "history=model.fit(X_train,y_train, epochs=20, callbacks=callbacks_list, batch_size=32, validation_data=(X_val,y_val))"
      ]
    },
    {
      "cell_type": "code",
      "execution_count": 25,
      "metadata": {
        "colab": {
          "base_uri": "https://localhost:8080/",
          "height": 585
        },
        "id": "T-hiZGg2BpAO",
        "outputId": "69ca7602-b243-4343-de56-48727f80a9a5"
      },
      "outputs": [
        {
          "output_type": "display_data",
          "data": {
            "image/png": "[encoded data removed]",
            "text/plain": [
              "<Figure size 432x288 with 1 Axes>"
            ]
          },
          "metadata": {}
        },
        {
          "output_type": "display_data",
          "data": {
            "image/png": "[encoded data removed]",
            "text/plain": [
              "<Figure size 432x288 with 1 Axes>"
            ]
          },
          "metadata": {}
        }
      ],
      "source": [
        "acc=history.history['categorical_accuracy']\n",
        "val_acc=history.history['val_categorical_accuracy']\n",
        "loss=history.history['loss']\n",
        "val_loss=history.history['val_loss']\n",
        "epochs=range(1,len(acc)+1)\n",
        "plt.xlabel('Epochs')\n",
        "plt.ylabel('Accuracy')\n",
        "plt.plot(epochs, acc, 'bo', label='Training acc')\n",
        "plt.plot(epochs, val_acc, 'b', label='Validation acc')\n",
        "plt.title('Training and validation accuracy')\n",
        "plt.legend()\n",
        "plt.figure()\n",
        "\n",
        "plt.plot(epochs, loss, 'bo', label='Training loss')\n",
        "plt.plot(epochs, val_loss, 'b', label='Validation loss')\n",
        "plt.title('Training and validation loss')\n",
        "plt.xlabel('Epochs')\n",
        "plt.ylabel('Loss')\n",
        "plt.legend()\n",
        "plt.show()"
      ]
    },
    {
      "cell_type": "code",
      "execution_count": 26,
      "metadata": {
        "id": "TxuUkqx6B3u3"
      },
      "outputs": [],
      "source": [
        "from tensorflow.python.keras.models import load_model\n",
        "\n",
        "best_model = load_model('MovieGenrePredictionUsingPlotSummariesmodel1.h5')"
      ]
    },
    {
      "cell_type": "code",
      "execution_count": 27,
      "metadata": {
        "colab": {
          "base_uri": "https://localhost:8080/"
        },
        "id": "Ks-tcIWqB7A0",
        "outputId": "59a9b781-c946-4dce-8564-e13e2a4228ca"
      },
      "outputs": [
        {
          "output_type": "stream",
          "name": "stdout",
          "text": [
            "11/11 [==============================] - 2s 71ms/step - loss: 1.1800 - categorical_accuracy: 0.4652\n",
            "Validation-set accuracy: 46.52%\n"
          ]
        }
      ],
      "source": [
        "batch_size=32\n",
        "steps_test=int(len(X_val)/batch_size)\n",
        "result = best_model.evaluate(X_val, y_val, steps=steps_test,verbose=1)\n",
        "print(\"Validation-set accuracy: {0:.2%}\".format(result[1]))"
      ]
    },
    {
      "cell_type": "code",
      "execution_count": null,
      "metadata": {
        "colab": {
          "base_uri": "https://localhost:8080/"
        },
        "id": "NY2aEtafB8jY",
        "outputId": "b56d7630-6543-4986-dffa-b48fc1ac6365"
      },
      "outputs": [
        {
          "name": "stderr",
          "output_type": "stream",
          "text": [
            "WARNING:absl:Found untraced functions such as lstm_cell_2_layer_call_fn, lstm_cell_2_layer_call_and_return_conditional_losses, lstm_cell_3_layer_call_fn, lstm_cell_3_layer_call_and_return_conditional_losses, lstm_cell_2_layer_call_fn while saving (showing 5 of 10). These functions will not be directly callable after loading.\n"
          ]
        },
        {
          "name": "stdout",
          "output_type": "stream",
          "text": [
            "INFO:tensorflow:Assets written to: /tmp/tmp8s5c8jtj/assets\n"
          ]
        },
        {
          "name": "stderr",
          "output_type": "stream",
          "text": [
            "INFO:tensorflow:Assets written to: /tmp/tmp8s5c8jtj/assets\n"
          ]
        }
      ],
      "source": [
        "best_model.save('fypmodel{:.2%}.h5'.format(result[1]))\n",
        "name='fypmodel{:.2%}.tflite'.format(result[1])\n",
        "converter = tf.lite.TFLiteConverter.from_keras_model(best_model) # path to the SavedModel directory\n",
        "tflite_model = converter.convert()\n",
        "\n",
        "# Save the model.\n",
        "with open(name, 'wb') as f:\n",
        "    f.write(tflite_model)"
      ]
    },
    {
      "cell_type": "code",
      "execution_count": 28,
      "metadata": {
        "colab": {
          "base_uri": "https://localhost:8080/"
        },
        "id": "RaCOMXHVB_yN",
        "outputId": "8d892ce4-e75b-41f3-9bda-d300c89b2c6e"
      },
      "outputs": [
        {
          "output_type": "stream",
          "name": "stdout",
          "text": [
            "3/3 [==============================] - 1s 201ms/step\n",
            "(359, 1)\n",
            "(359, 1)\n"
          ]
        }
      ],
      "source": [
        "preds = best_model.predict(X_val, batch_size=128,verbose=1)\n",
        "preds=np.around(preds)\n",
        "\n",
        "orig_val_labels=np.argmax(y_val,axis=1)\n",
        "predicted_labels=np.argmax(preds,axis=1)\n",
        "\n",
        "orig_val_labels=np.reshape(orig_val_labels,(len(X_val),1))\n",
        "predicted_labels=np.reshape(predicted_labels,(len(X_val),1))\n",
        "\n",
        "print(predicted_labels.shape)\n",
        "print(orig_val_labels.shape)"
      ]
    },
    {
      "cell_type": "code",
      "execution_count": 29,
      "metadata": {
        "colab": {
          "base_uri": "https://localhost:8080/",
          "height": 633
        },
        "id": "S_pNwa1oCCAJ",
        "outputId": "7213ab29-d5f1-4b28-a98f-3dcc53834a5a"
      },
      "outputs": [
        {
          "output_type": "display_data",
          "data": {
            "text/plain": [
              "<Figure size 432x288 with 0 Axes>"
            ]
          },
          "metadata": {}
        },
        {
          "output_type": "display_data",
          "data": {
            "image/png": "[encoded data removed]",
            "text/plain": [
              "<Figure size 720x720 with 1 Axes>"
            ]
          },
          "metadata": {
            "needs_background": "light"
          }
        }
      ],
      "source": [
        "%matplotlib inline\n",
        "# Get the confusion matrix\n",
        "from sklearn.metrics import confusion_matrix\n",
        "from mlxtend.plotting import plot_confusion_matrix\n",
        "\n",
        "cm  = confusion_matrix(orig_val_labels, predicted_labels)\n",
        "plt.figure()\n",
        "plot_confusion_matrix(cm,figsize=(10,10), hide_ticks=True,cmap=plt.cm.Blues)\n",
        "plt.xticks(range(4), ['drama','comedy','action','horror'], fontsize=16)\n",
        "plt.yticks(range(4), ['drama','comedy','action','horror'], fontsize=16)\n",
        "plt.show()"
      ]
    },
    {
      "cell_type": "code",
      "execution_count": 30,
      "metadata": {
        "colab": {
          "base_uri": "https://localhost:8080/"
        },
        "id": "Fff7OwkhCEfl",
        "outputId": "5a59bddf-5d35-42f0-cb34-c02f0e79d5d9"
      },
      "outputs": [
        {
          "output_type": "stream",
          "name": "stdout",
          "text": [
            "              precision    recall  f1-score   support\n",
            "\n",
            "       drama       0.36      0.69      0.47       124\n",
            "      comedy       0.62      0.29      0.40       109\n",
            "      action       0.51      0.40      0.45        82\n",
            "      horror       0.00      0.00      0.00        44\n",
            "\n",
            "    accuracy                           0.42       359\n",
            "   macro avg       0.37      0.35      0.33       359\n",
            "weighted avg       0.43      0.42      0.39       359\n",
            "\n"
          ]
        },
        {
          "output_type": "stream",
          "name": "stderr",
          "text": [
            "/usr/local/lib/python3.7/dist-packages/sklearn/metrics/_classification.py:1308: UndefinedMetricWarning: Precision and F-score are ill-defined and being set to 0.0 in labels with no predicted samples. Use `zero_division` parameter to control this behavior.\n",
            "  _warn_prf(average, modifier, msg_start, len(result))\n",
            "/usr/local/lib/python3.7/dist-packages/sklearn/metrics/_classification.py:1308: UndefinedMetricWarning: Precision and F-score are ill-defined and being set to 0.0 in labels with no predicted samples. Use `zero_division` parameter to control this behavior.\n",
            "  _warn_prf(average, modifier, msg_start, len(result))\n",
            "/usr/local/lib/python3.7/dist-packages/sklearn/metrics/_classification.py:1308: UndefinedMetricWarning: Precision and F-score are ill-defined and being set to 0.0 in labels with no predicted samples. Use `zero_division` parameter to control this behavior.\n",
            "  _warn_prf(average, modifier, msg_start, len(result))\n"
          ]
        }
      ],
      "source": [
        "MainGenres=['drama','comedy','action','horror']\n",
        "print(classification_report(orig_val_labels,predicted_labels,target_names=MainGenres))"
      ]
    },
    {
      "cell_type": "code",
      "execution_count": null,
      "metadata": {
        "id": "sE5zKLikSotT"
      },
      "outputs": [],
      "source": [
        ""
      ]
    },
    {
      "cell_type": "code",
      "execution_count": null,
      "metadata": {
        "id": "QNeYD5hybnCb"
      },
      "outputs": [],
      "source": [
        ""
      ]
    }
  ],
  "metadata": {
    "colab": {
      "collapsed_sections": [],
      "name": "MovieGenrePredictorUsingPlotSummaries(tested in office).ipynb",
      "provenance": []
    },
    "kernelspec": {
      "display_name": "Python 3",
      "name": "python3"
    },
    "language_info": {
      "name": "python"
    }
  },
  "nbformat": 4,
  "nbformat_minor": 0
}